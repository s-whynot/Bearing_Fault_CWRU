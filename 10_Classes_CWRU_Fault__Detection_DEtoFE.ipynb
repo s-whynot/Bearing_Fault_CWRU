{
  "nbformat": 4,
  "nbformat_minor": 0,
  "metadata": {
    "colab": {
      "name": "10_Classes_CWRU_Fault _Detection_DEtoFE.ipynb",
      "provenance": [],
      "collapsed_sections": [],
      "toc_visible": true,
      "authorship_tag": "ABX9TyNt6y5riyFSIaFA3KRjIpfX",
      "include_colab_link": true
    },
    "kernelspec": {
      "name": "python3",
      "display_name": "Python 3"
    },
    "widgets": {
      "application/vnd.jupyter.widget-state+json": {
        "ca213b11cd07420c8ed63a95140f4989": {
          "model_module": "@jupyter-widgets/controls",
          "model_name": "HBoxModel",
          "state": {
            "_view_name": "HBoxView",
            "_dom_classes": [],
            "_model_name": "HBoxModel",
            "_view_module": "@jupyter-widgets/controls",
            "_model_module_version": "1.5.0",
            "_view_count": null,
            "_view_module_version": "1.5.0",
            "box_style": "",
            "layout": "IPY_MODEL_a54e0496395e4b95bbb6760513a414d8",
            "_model_module": "@jupyter-widgets/controls",
            "children": [
              "IPY_MODEL_4486a96b7da5464081c10bad5558cd9e",
              "IPY_MODEL_a027390f083f4dbe8cd012a46b7cd322"
            ]
          }
        },
        "a54e0496395e4b95bbb6760513a414d8": {
          "model_module": "@jupyter-widgets/base",
          "model_name": "LayoutModel",
          "state": {
            "_view_name": "LayoutView",
            "grid_template_rows": null,
            "right": null,
            "justify_content": null,
            "_view_module": "@jupyter-widgets/base",
            "overflow": null,
            "_model_module_version": "1.2.0",
            "_view_count": null,
            "flex_flow": null,
            "width": null,
            "min_width": null,
            "border": null,
            "align_items": null,
            "bottom": null,
            "_model_module": "@jupyter-widgets/base",
            "top": null,
            "grid_column": null,
            "overflow_y": null,
            "overflow_x": null,
            "grid_auto_flow": null,
            "grid_area": null,
            "grid_template_columns": null,
            "flex": null,
            "_model_name": "LayoutModel",
            "justify_items": null,
            "grid_row": null,
            "max_height": null,
            "align_content": null,
            "visibility": null,
            "align_self": null,
            "height": null,
            "min_height": null,
            "padding": null,
            "grid_auto_rows": null,
            "grid_gap": null,
            "max_width": null,
            "order": null,
            "_view_module_version": "1.2.0",
            "grid_template_areas": null,
            "object_position": null,
            "object_fit": null,
            "grid_auto_columns": null,
            "margin": null,
            "display": null,
            "left": null
          }
        },
        "4486a96b7da5464081c10bad5558cd9e": {
          "model_module": "@jupyter-widgets/controls",
          "model_name": "FloatProgressModel",
          "state": {
            "_view_name": "ProgressView",
            "style": "IPY_MODEL_64c82e3968e148e29ff1af003c326e3b",
            "_dom_classes": [],
            "description": "100%",
            "_model_name": "FloatProgressModel",
            "bar_style": "success",
            "max": 1415,
            "_view_module": "@jupyter-widgets/controls",
            "_model_module_version": "1.5.0",
            "value": 1415,
            "_view_count": null,
            "_view_module_version": "1.5.0",
            "orientation": "horizontal",
            "min": 0,
            "description_tooltip": null,
            "_model_module": "@jupyter-widgets/controls",
            "layout": "IPY_MODEL_6cedfa98236d428fa5fa28fe21961b83"
          }
        },
        "a027390f083f4dbe8cd012a46b7cd322": {
          "model_module": "@jupyter-widgets/controls",
          "model_name": "HTMLModel",
          "state": {
            "_view_name": "HTMLView",
            "style": "IPY_MODEL_9c983fa2496443ecac76b6e57bcc8a57",
            "_dom_classes": [],
            "description": "",
            "_model_name": "HTMLModel",
            "placeholder": "​",
            "_view_module": "@jupyter-widgets/controls",
            "_model_module_version": "1.5.0",
            "value": " 1415/1415 [00:15&lt;00:00, 91.67it/s]",
            "_view_count": null,
            "_view_module_version": "1.5.0",
            "description_tooltip": null,
            "_model_module": "@jupyter-widgets/controls",
            "layout": "IPY_MODEL_5f04fb7ee4d44ecf9276eee14050865e"
          }
        },
        "64c82e3968e148e29ff1af003c326e3b": {
          "model_module": "@jupyter-widgets/controls",
          "model_name": "ProgressStyleModel",
          "state": {
            "_view_name": "StyleView",
            "_model_name": "ProgressStyleModel",
            "description_width": "initial",
            "_view_module": "@jupyter-widgets/base",
            "_model_module_version": "1.5.0",
            "_view_count": null,
            "_view_module_version": "1.2.0",
            "bar_color": null,
            "_model_module": "@jupyter-widgets/controls"
          }
        },
        "6cedfa98236d428fa5fa28fe21961b83": {
          "model_module": "@jupyter-widgets/base",
          "model_name": "LayoutModel",
          "state": {
            "_view_name": "LayoutView",
            "grid_template_rows": null,
            "right": null,
            "justify_content": null,
            "_view_module": "@jupyter-widgets/base",
            "overflow": null,
            "_model_module_version": "1.2.0",
            "_view_count": null,
            "flex_flow": null,
            "width": null,
            "min_width": null,
            "border": null,
            "align_items": null,
            "bottom": null,
            "_model_module": "@jupyter-widgets/base",
            "top": null,
            "grid_column": null,
            "overflow_y": null,
            "overflow_x": null,
            "grid_auto_flow": null,
            "grid_area": null,
            "grid_template_columns": null,
            "flex": null,
            "_model_name": "LayoutModel",
            "justify_items": null,
            "grid_row": null,
            "max_height": null,
            "align_content": null,
            "visibility": null,
            "align_self": null,
            "height": null,
            "min_height": null,
            "padding": null,
            "grid_auto_rows": null,
            "grid_gap": null,
            "max_width": null,
            "order": null,
            "_view_module_version": "1.2.0",
            "grid_template_areas": null,
            "object_position": null,
            "object_fit": null,
            "grid_auto_columns": null,
            "margin": null,
            "display": null,
            "left": null
          }
        },
        "9c983fa2496443ecac76b6e57bcc8a57": {
          "model_module": "@jupyter-widgets/controls",
          "model_name": "DescriptionStyleModel",
          "state": {
            "_view_name": "StyleView",
            "_model_name": "DescriptionStyleModel",
            "description_width": "",
            "_view_module": "@jupyter-widgets/base",
            "_model_module_version": "1.5.0",
            "_view_count": null,
            "_view_module_version": "1.2.0",
            "_model_module": "@jupyter-widgets/controls"
          }
        },
        "5f04fb7ee4d44ecf9276eee14050865e": {
          "model_module": "@jupyter-widgets/base",
          "model_name": "LayoutModel",
          "state": {
            "_view_name": "LayoutView",
            "grid_template_rows": null,
            "right": null,
            "justify_content": null,
            "_view_module": "@jupyter-widgets/base",
            "overflow": null,
            "_model_module_version": "1.2.0",
            "_view_count": null,
            "flex_flow": null,
            "width": null,
            "min_width": null,
            "border": null,
            "align_items": null,
            "bottom": null,
            "_model_module": "@jupyter-widgets/base",
            "top": null,
            "grid_column": null,
            "overflow_y": null,
            "overflow_x": null,
            "grid_auto_flow": null,
            "grid_area": null,
            "grid_template_columns": null,
            "flex": null,
            "_model_name": "LayoutModel",
            "justify_items": null,
            "grid_row": null,
            "max_height": null,
            "align_content": null,
            "visibility": null,
            "align_self": null,
            "height": null,
            "min_height": null,
            "padding": null,
            "grid_auto_rows": null,
            "grid_gap": null,
            "max_width": null,
            "order": null,
            "_view_module_version": "1.2.0",
            "grid_template_areas": null,
            "object_position": null,
            "object_fit": null,
            "grid_auto_columns": null,
            "margin": null,
            "display": null,
            "left": null
          }
        },
        "f19f5b5ff9ba40749652ee149245e15d": {
          "model_module": "@jupyter-widgets/controls",
          "model_name": "HBoxModel",
          "state": {
            "_view_name": "HBoxView",
            "_dom_classes": [],
            "_model_name": "HBoxModel",
            "_view_module": "@jupyter-widgets/controls",
            "_model_module_version": "1.5.0",
            "_view_count": null,
            "_view_module_version": "1.5.0",
            "box_style": "",
            "layout": "IPY_MODEL_9d5b3796793245579f9e2abf7722a991",
            "_model_module": "@jupyter-widgets/controls",
            "children": [
              "IPY_MODEL_1f4222702aa04fb4a11ce02e0a962b46",
              "IPY_MODEL_f8c56acdf4e34124834e58b255f4adf6"
            ]
          }
        },
        "9d5b3796793245579f9e2abf7722a991": {
          "model_module": "@jupyter-widgets/base",
          "model_name": "LayoutModel",
          "state": {
            "_view_name": "LayoutView",
            "grid_template_rows": null,
            "right": null,
            "justify_content": null,
            "_view_module": "@jupyter-widgets/base",
            "overflow": null,
            "_model_module_version": "1.2.0",
            "_view_count": null,
            "flex_flow": null,
            "width": null,
            "min_width": null,
            "border": null,
            "align_items": null,
            "bottom": null,
            "_model_module": "@jupyter-widgets/base",
            "top": null,
            "grid_column": null,
            "overflow_y": null,
            "overflow_x": null,
            "grid_auto_flow": null,
            "grid_area": null,
            "grid_template_columns": null,
            "flex": null,
            "_model_name": "LayoutModel",
            "justify_items": null,
            "grid_row": null,
            "max_height": null,
            "align_content": null,
            "visibility": null,
            "align_self": null,
            "height": null,
            "min_height": null,
            "padding": null,
            "grid_auto_rows": null,
            "grid_gap": null,
            "max_width": null,
            "order": null,
            "_view_module_version": "1.2.0",
            "grid_template_areas": null,
            "object_position": null,
            "object_fit": null,
            "grid_auto_columns": null,
            "margin": null,
            "display": null,
            "left": null
          }
        },
        "1f4222702aa04fb4a11ce02e0a962b46": {
          "model_module": "@jupyter-widgets/controls",
          "model_name": "FloatProgressModel",
          "state": {
            "_view_name": "ProgressView",
            "style": "IPY_MODEL_09e5dc572ec94ceb9c4a67adeb092dfe",
            "_dom_classes": [],
            "description": "100%",
            "_model_name": "FloatProgressModel",
            "bar_style": "success",
            "max": 405,
            "_view_module": "@jupyter-widgets/controls",
            "_model_module_version": "1.5.0",
            "value": 405,
            "_view_count": null,
            "_view_module_version": "1.5.0",
            "orientation": "horizontal",
            "min": 0,
            "description_tooltip": null,
            "_model_module": "@jupyter-widgets/controls",
            "layout": "IPY_MODEL_1cabac8e736a4229b8a60d2ce9132c55"
          }
        },
        "f8c56acdf4e34124834e58b255f4adf6": {
          "model_module": "@jupyter-widgets/controls",
          "model_name": "HTMLModel",
          "state": {
            "_view_name": "HTMLView",
            "style": "IPY_MODEL_7828e19b51b24f01ab15ae6b6c74b62c",
            "_dom_classes": [],
            "description": "",
            "_model_name": "HTMLModel",
            "placeholder": "​",
            "_view_module": "@jupyter-widgets/controls",
            "_model_module_version": "1.5.0",
            "value": " 405/405 [00:01&lt;00:00, 203.72it/s]",
            "_view_count": null,
            "_view_module_version": "1.5.0",
            "description_tooltip": null,
            "_model_module": "@jupyter-widgets/controls",
            "layout": "IPY_MODEL_ed9045309e6c4a0389f1acb16801058f"
          }
        },
        "09e5dc572ec94ceb9c4a67adeb092dfe": {
          "model_module": "@jupyter-widgets/controls",
          "model_name": "ProgressStyleModel",
          "state": {
            "_view_name": "StyleView",
            "_model_name": "ProgressStyleModel",
            "description_width": "initial",
            "_view_module": "@jupyter-widgets/base",
            "_model_module_version": "1.5.0",
            "_view_count": null,
            "_view_module_version": "1.2.0",
            "bar_color": null,
            "_model_module": "@jupyter-widgets/controls"
          }
        },
        "1cabac8e736a4229b8a60d2ce9132c55": {
          "model_module": "@jupyter-widgets/base",
          "model_name": "LayoutModel",
          "state": {
            "_view_name": "LayoutView",
            "grid_template_rows": null,
            "right": null,
            "justify_content": null,
            "_view_module": "@jupyter-widgets/base",
            "overflow": null,
            "_model_module_version": "1.2.0",
            "_view_count": null,
            "flex_flow": null,
            "width": null,
            "min_width": null,
            "border": null,
            "align_items": null,
            "bottom": null,
            "_model_module": "@jupyter-widgets/base",
            "top": null,
            "grid_column": null,
            "overflow_y": null,
            "overflow_x": null,
            "grid_auto_flow": null,
            "grid_area": null,
            "grid_template_columns": null,
            "flex": null,
            "_model_name": "LayoutModel",
            "justify_items": null,
            "grid_row": null,
            "max_height": null,
            "align_content": null,
            "visibility": null,
            "align_self": null,
            "height": null,
            "min_height": null,
            "padding": null,
            "grid_auto_rows": null,
            "grid_gap": null,
            "max_width": null,
            "order": null,
            "_view_module_version": "1.2.0",
            "grid_template_areas": null,
            "object_position": null,
            "object_fit": null,
            "grid_auto_columns": null,
            "margin": null,
            "display": null,
            "left": null
          }
        },
        "7828e19b51b24f01ab15ae6b6c74b62c": {
          "model_module": "@jupyter-widgets/controls",
          "model_name": "DescriptionStyleModel",
          "state": {
            "_view_name": "StyleView",
            "_model_name": "DescriptionStyleModel",
            "description_width": "",
            "_view_module": "@jupyter-widgets/base",
            "_model_module_version": "1.5.0",
            "_view_count": null,
            "_view_module_version": "1.2.0",
            "_model_module": "@jupyter-widgets/controls"
          }
        },
        "ed9045309e6c4a0389f1acb16801058f": {
          "model_module": "@jupyter-widgets/base",
          "model_name": "LayoutModel",
          "state": {
            "_view_name": "LayoutView",
            "grid_template_rows": null,
            "right": null,
            "justify_content": null,
            "_view_module": "@jupyter-widgets/base",
            "overflow": null,
            "_model_module_version": "1.2.0",
            "_view_count": null,
            "flex_flow": null,
            "width": null,
            "min_width": null,
            "border": null,
            "align_items": null,
            "bottom": null,
            "_model_module": "@jupyter-widgets/base",
            "top": null,
            "grid_column": null,
            "overflow_y": null,
            "overflow_x": null,
            "grid_auto_flow": null,
            "grid_area": null,
            "grid_template_columns": null,
            "flex": null,
            "_model_name": "LayoutModel",
            "justify_items": null,
            "grid_row": null,
            "max_height": null,
            "align_content": null,
            "visibility": null,
            "align_self": null,
            "height": null,
            "min_height": null,
            "padding": null,
            "grid_auto_rows": null,
            "grid_gap": null,
            "max_width": null,
            "order": null,
            "_view_module_version": "1.2.0",
            "grid_template_areas": null,
            "object_position": null,
            "object_fit": null,
            "grid_auto_columns": null,
            "margin": null,
            "display": null,
            "left": null
          }
        },
        "9c58f60b78704619aff8903030e8fa82": {
          "model_module": "@jupyter-widgets/controls",
          "model_name": "HBoxModel",
          "state": {
            "_view_name": "HBoxView",
            "_dom_classes": [],
            "_model_name": "HBoxModel",
            "_view_module": "@jupyter-widgets/controls",
            "_model_module_version": "1.5.0",
            "_view_count": null,
            "_view_module_version": "1.5.0",
            "box_style": "",
            "layout": "IPY_MODEL_c2f60037984e449fa5c14d32f0d9b542",
            "_model_module": "@jupyter-widgets/controls",
            "children": [
              "IPY_MODEL_d7a7f9718e7b41038202b144a35facbb",
              "IPY_MODEL_37e054ccf5fc463dbf623b2cdffa9048"
            ]
          }
        },
        "c2f60037984e449fa5c14d32f0d9b542": {
          "model_module": "@jupyter-widgets/base",
          "model_name": "LayoutModel",
          "state": {
            "_view_name": "LayoutView",
            "grid_template_rows": null,
            "right": null,
            "justify_content": null,
            "_view_module": "@jupyter-widgets/base",
            "overflow": null,
            "_model_module_version": "1.2.0",
            "_view_count": null,
            "flex_flow": null,
            "width": null,
            "min_width": null,
            "border": null,
            "align_items": null,
            "bottom": null,
            "_model_module": "@jupyter-widgets/base",
            "top": null,
            "grid_column": null,
            "overflow_y": null,
            "overflow_x": null,
            "grid_auto_flow": null,
            "grid_area": null,
            "grid_template_columns": null,
            "flex": null,
            "_model_name": "LayoutModel",
            "justify_items": null,
            "grid_row": null,
            "max_height": null,
            "align_content": null,
            "visibility": null,
            "align_self": null,
            "height": null,
            "min_height": null,
            "padding": null,
            "grid_auto_rows": null,
            "grid_gap": null,
            "max_width": null,
            "order": null,
            "_view_module_version": "1.2.0",
            "grid_template_areas": null,
            "object_position": null,
            "object_fit": null,
            "grid_auto_columns": null,
            "margin": null,
            "display": null,
            "left": null
          }
        },
        "d7a7f9718e7b41038202b144a35facbb": {
          "model_module": "@jupyter-widgets/controls",
          "model_name": "FloatProgressModel",
          "state": {
            "_view_name": "ProgressView",
            "style": "IPY_MODEL_bd64d8bbaf754da58f54a02829947d60",
            "_dom_classes": [],
            "description": "100%",
            "_model_name": "FloatProgressModel",
            "bar_style": "success",
            "max": 406,
            "_view_module": "@jupyter-widgets/controls",
            "_model_module_version": "1.5.0",
            "value": 406,
            "_view_count": null,
            "_view_module_version": "1.5.0",
            "orientation": "horizontal",
            "min": 0,
            "description_tooltip": null,
            "_model_module": "@jupyter-widgets/controls",
            "layout": "IPY_MODEL_895f8624a0a0427cb997307bcf8aca13"
          }
        },
        "37e054ccf5fc463dbf623b2cdffa9048": {
          "model_module": "@jupyter-widgets/controls",
          "model_name": "HTMLModel",
          "state": {
            "_view_name": "HTMLView",
            "style": "IPY_MODEL_4dd62efcae65415084c4e78f02386632",
            "_dom_classes": [],
            "description": "",
            "_model_name": "HTMLModel",
            "placeholder": "​",
            "_view_module": "@jupyter-widgets/controls",
            "_model_module_version": "1.5.0",
            "value": " 406/406 [00:01&lt;00:00, 392.69it/s]",
            "_view_count": null,
            "_view_module_version": "1.5.0",
            "description_tooltip": null,
            "_model_module": "@jupyter-widgets/controls",
            "layout": "IPY_MODEL_816ca4656618446798ca6311b468271b"
          }
        },
        "bd64d8bbaf754da58f54a02829947d60": {
          "model_module": "@jupyter-widgets/controls",
          "model_name": "ProgressStyleModel",
          "state": {
            "_view_name": "StyleView",
            "_model_name": "ProgressStyleModel",
            "description_width": "initial",
            "_view_module": "@jupyter-widgets/base",
            "_model_module_version": "1.5.0",
            "_view_count": null,
            "_view_module_version": "1.2.0",
            "bar_color": null,
            "_model_module": "@jupyter-widgets/controls"
          }
        },
        "895f8624a0a0427cb997307bcf8aca13": {
          "model_module": "@jupyter-widgets/base",
          "model_name": "LayoutModel",
          "state": {
            "_view_name": "LayoutView",
            "grid_template_rows": null,
            "right": null,
            "justify_content": null,
            "_view_module": "@jupyter-widgets/base",
            "overflow": null,
            "_model_module_version": "1.2.0",
            "_view_count": null,
            "flex_flow": null,
            "width": null,
            "min_width": null,
            "border": null,
            "align_items": null,
            "bottom": null,
            "_model_module": "@jupyter-widgets/base",
            "top": null,
            "grid_column": null,
            "overflow_y": null,
            "overflow_x": null,
            "grid_auto_flow": null,
            "grid_area": null,
            "grid_template_columns": null,
            "flex": null,
            "_model_name": "LayoutModel",
            "justify_items": null,
            "grid_row": null,
            "max_height": null,
            "align_content": null,
            "visibility": null,
            "align_self": null,
            "height": null,
            "min_height": null,
            "padding": null,
            "grid_auto_rows": null,
            "grid_gap": null,
            "max_width": null,
            "order": null,
            "_view_module_version": "1.2.0",
            "grid_template_areas": null,
            "object_position": null,
            "object_fit": null,
            "grid_auto_columns": null,
            "margin": null,
            "display": null,
            "left": null
          }
        },
        "4dd62efcae65415084c4e78f02386632": {
          "model_module": "@jupyter-widgets/controls",
          "model_name": "DescriptionStyleModel",
          "state": {
            "_view_name": "StyleView",
            "_model_name": "DescriptionStyleModel",
            "description_width": "",
            "_view_module": "@jupyter-widgets/base",
            "_model_module_version": "1.5.0",
            "_view_count": null,
            "_view_module_version": "1.2.0",
            "_model_module": "@jupyter-widgets/controls"
          }
        },
        "816ca4656618446798ca6311b468271b": {
          "model_module": "@jupyter-widgets/base",
          "model_name": "LayoutModel",
          "state": {
            "_view_name": "LayoutView",
            "grid_template_rows": null,
            "right": null,
            "justify_content": null,
            "_view_module": "@jupyter-widgets/base",
            "overflow": null,
            "_model_module_version": "1.2.0",
            "_view_count": null,
            "flex_flow": null,
            "width": null,
            "min_width": null,
            "border": null,
            "align_items": null,
            "bottom": null,
            "_model_module": "@jupyter-widgets/base",
            "top": null,
            "grid_column": null,
            "overflow_y": null,
            "overflow_x": null,
            "grid_auto_flow": null,
            "grid_area": null,
            "grid_template_columns": null,
            "flex": null,
            "_model_name": "LayoutModel",
            "justify_items": null,
            "grid_row": null,
            "max_height": null,
            "align_content": null,
            "visibility": null,
            "align_self": null,
            "height": null,
            "min_height": null,
            "padding": null,
            "grid_auto_rows": null,
            "grid_gap": null,
            "max_width": null,
            "order": null,
            "_view_module_version": "1.2.0",
            "grid_template_areas": null,
            "object_position": null,
            "object_fit": null,
            "grid_auto_columns": null,
            "margin": null,
            "display": null,
            "left": null
          }
        },
        "0c2cac22e7854af3bbadd9e1d2e270d4": {
          "model_module": "@jupyter-widgets/controls",
          "model_name": "HBoxModel",
          "state": {
            "_view_name": "HBoxView",
            "_dom_classes": [],
            "_model_name": "HBoxModel",
            "_view_module": "@jupyter-widgets/controls",
            "_model_module_version": "1.5.0",
            "_view_count": null,
            "_view_module_version": "1.5.0",
            "box_style": "",
            "layout": "IPY_MODEL_a88be111b2dc4cd099ad4dcd7ce124e8",
            "_model_module": "@jupyter-widgets/controls",
            "children": [
              "IPY_MODEL_b6870b97e1e546228806a31d4d066fac",
              "IPY_MODEL_c05b1b308055481ca94258ae0733d796"
            ]
          }
        },
        "a88be111b2dc4cd099ad4dcd7ce124e8": {
          "model_module": "@jupyter-widgets/base",
          "model_name": "LayoutModel",
          "state": {
            "_view_name": "LayoutView",
            "grid_template_rows": null,
            "right": null,
            "justify_content": null,
            "_view_module": "@jupyter-widgets/base",
            "overflow": null,
            "_model_module_version": "1.2.0",
            "_view_count": null,
            "flex_flow": null,
            "width": null,
            "min_width": null,
            "border": null,
            "align_items": null,
            "bottom": null,
            "_model_module": "@jupyter-widgets/base",
            "top": null,
            "grid_column": null,
            "overflow_y": null,
            "overflow_x": null,
            "grid_auto_flow": null,
            "grid_area": null,
            "grid_template_columns": null,
            "flex": null,
            "_model_name": "LayoutModel",
            "justify_items": null,
            "grid_row": null,
            "max_height": null,
            "align_content": null,
            "visibility": null,
            "align_self": null,
            "height": null,
            "min_height": null,
            "padding": null,
            "grid_auto_rows": null,
            "grid_gap": null,
            "max_width": null,
            "order": null,
            "_view_module_version": "1.2.0",
            "grid_template_areas": null,
            "object_position": null,
            "object_fit": null,
            "grid_auto_columns": null,
            "margin": null,
            "display": null,
            "left": null
          }
        },
        "b6870b97e1e546228806a31d4d066fac": {
          "model_module": "@jupyter-widgets/controls",
          "model_name": "FloatProgressModel",
          "state": {
            "_view_name": "ProgressView",
            "style": "IPY_MODEL_959fa9263063416eb7478126f7576e93",
            "_dom_classes": [],
            "description": "100%",
            "_model_name": "FloatProgressModel",
            "bar_style": "success",
            "max": 406,
            "_view_module": "@jupyter-widgets/controls",
            "_model_module_version": "1.5.0",
            "value": 406,
            "_view_count": null,
            "_view_module_version": "1.5.0",
            "orientation": "horizontal",
            "min": 0,
            "description_tooltip": null,
            "_model_module": "@jupyter-widgets/controls",
            "layout": "IPY_MODEL_44f6fab7221a4c7db3fb6f86d8026f40"
          }
        },
        "c05b1b308055481ca94258ae0733d796": {
          "model_module": "@jupyter-widgets/controls",
          "model_name": "HTMLModel",
          "state": {
            "_view_name": "HTMLView",
            "style": "IPY_MODEL_da8747d42bda4d679c50852f8561d578",
            "_dom_classes": [],
            "description": "",
            "_model_name": "HTMLModel",
            "placeholder": "​",
            "_view_module": "@jupyter-widgets/controls",
            "_model_module_version": "1.5.0",
            "value": " 406/406 [00:10&lt;00:00, 39.12it/s]",
            "_view_count": null,
            "_view_module_version": "1.5.0",
            "description_tooltip": null,
            "_model_module": "@jupyter-widgets/controls",
            "layout": "IPY_MODEL_31c5ad54e01049a39ee8eb1b8e50fef4"
          }
        },
        "959fa9263063416eb7478126f7576e93": {
          "model_module": "@jupyter-widgets/controls",
          "model_name": "ProgressStyleModel",
          "state": {
            "_view_name": "StyleView",
            "_model_name": "ProgressStyleModel",
            "description_width": "initial",
            "_view_module": "@jupyter-widgets/base",
            "_model_module_version": "1.5.0",
            "_view_count": null,
            "_view_module_version": "1.2.0",
            "bar_color": null,
            "_model_module": "@jupyter-widgets/controls"
          }
        },
        "44f6fab7221a4c7db3fb6f86d8026f40": {
          "model_module": "@jupyter-widgets/base",
          "model_name": "LayoutModel",
          "state": {
            "_view_name": "LayoutView",
            "grid_template_rows": null,
            "right": null,
            "justify_content": null,
            "_view_module": "@jupyter-widgets/base",
            "overflow": null,
            "_model_module_version": "1.2.0",
            "_view_count": null,
            "flex_flow": null,
            "width": null,
            "min_width": null,
            "border": null,
            "align_items": null,
            "bottom": null,
            "_model_module": "@jupyter-widgets/base",
            "top": null,
            "grid_column": null,
            "overflow_y": null,
            "overflow_x": null,
            "grid_auto_flow": null,
            "grid_area": null,
            "grid_template_columns": null,
            "flex": null,
            "_model_name": "LayoutModel",
            "justify_items": null,
            "grid_row": null,
            "max_height": null,
            "align_content": null,
            "visibility": null,
            "align_self": null,
            "height": null,
            "min_height": null,
            "padding": null,
            "grid_auto_rows": null,
            "grid_gap": null,
            "max_width": null,
            "order": null,
            "_view_module_version": "1.2.0",
            "grid_template_areas": null,
            "object_position": null,
            "object_fit": null,
            "grid_auto_columns": null,
            "margin": null,
            "display": null,
            "left": null
          }
        },
        "da8747d42bda4d679c50852f8561d578": {
          "model_module": "@jupyter-widgets/controls",
          "model_name": "DescriptionStyleModel",
          "state": {
            "_view_name": "StyleView",
            "_model_name": "DescriptionStyleModel",
            "description_width": "",
            "_view_module": "@jupyter-widgets/base",
            "_model_module_version": "1.5.0",
            "_view_count": null,
            "_view_module_version": "1.2.0",
            "_model_module": "@jupyter-widgets/controls"
          }
        },
        "31c5ad54e01049a39ee8eb1b8e50fef4": {
          "model_module": "@jupyter-widgets/base",
          "model_name": "LayoutModel",
          "state": {
            "_view_name": "LayoutView",
            "grid_template_rows": null,
            "right": null,
            "justify_content": null,
            "_view_module": "@jupyter-widgets/base",
            "overflow": null,
            "_model_module_version": "1.2.0",
            "_view_count": null,
            "flex_flow": null,
            "width": null,
            "min_width": null,
            "border": null,
            "align_items": null,
            "bottom": null,
            "_model_module": "@jupyter-widgets/base",
            "top": null,
            "grid_column": null,
            "overflow_y": null,
            "overflow_x": null,
            "grid_auto_flow": null,
            "grid_area": null,
            "grid_template_columns": null,
            "flex": null,
            "_model_name": "LayoutModel",
            "justify_items": null,
            "grid_row": null,
            "max_height": null,
            "align_content": null,
            "visibility": null,
            "align_self": null,
            "height": null,
            "min_height": null,
            "padding": null,
            "grid_auto_rows": null,
            "grid_gap": null,
            "max_width": null,
            "order": null,
            "_view_module_version": "1.2.0",
            "grid_template_areas": null,
            "object_position": null,
            "object_fit": null,
            "grid_auto_columns": null,
            "margin": null,
            "display": null,
            "left": null
          }
        },
        "425a344ee0d943609e9c3c1e86a8a934": {
          "model_module": "@jupyter-widgets/controls",
          "model_name": "HBoxModel",
          "state": {
            "_view_name": "HBoxView",
            "_dom_classes": [],
            "_model_name": "HBoxModel",
            "_view_module": "@jupyter-widgets/controls",
            "_model_module_version": "1.5.0",
            "_view_count": null,
            "_view_module_version": "1.5.0",
            "box_style": "",
            "layout": "IPY_MODEL_1f787a8e4a7f4c998f23aaa69ea67344",
            "_model_module": "@jupyter-widgets/controls",
            "children": [
              "IPY_MODEL_d243eca70c314e6e954d8b564f751dda",
              "IPY_MODEL_25340bacacf042ce9e172fd703749e3f"
            ]
          }
        },
        "1f787a8e4a7f4c998f23aaa69ea67344": {
          "model_module": "@jupyter-widgets/base",
          "model_name": "LayoutModel",
          "state": {
            "_view_name": "LayoutView",
            "grid_template_rows": null,
            "right": null,
            "justify_content": null,
            "_view_module": "@jupyter-widgets/base",
            "overflow": null,
            "_model_module_version": "1.2.0",
            "_view_count": null,
            "flex_flow": null,
            "width": null,
            "min_width": null,
            "border": null,
            "align_items": null,
            "bottom": null,
            "_model_module": "@jupyter-widgets/base",
            "top": null,
            "grid_column": null,
            "overflow_y": null,
            "overflow_x": null,
            "grid_auto_flow": null,
            "grid_area": null,
            "grid_template_columns": null,
            "flex": null,
            "_model_name": "LayoutModel",
            "justify_items": null,
            "grid_row": null,
            "max_height": null,
            "align_content": null,
            "visibility": null,
            "align_self": null,
            "height": null,
            "min_height": null,
            "padding": null,
            "grid_auto_rows": null,
            "grid_gap": null,
            "max_width": null,
            "order": null,
            "_view_module_version": "1.2.0",
            "grid_template_areas": null,
            "object_position": null,
            "object_fit": null,
            "grid_auto_columns": null,
            "margin": null,
            "display": null,
            "left": null
          }
        },
        "d243eca70c314e6e954d8b564f751dda": {
          "model_module": "@jupyter-widgets/controls",
          "model_name": "FloatProgressModel",
          "state": {
            "_view_name": "ProgressView",
            "style": "IPY_MODEL_769f426649df4fabba3878f278279ccb",
            "_dom_classes": [],
            "description": "100%",
            "_model_name": "FloatProgressModel",
            "bar_style": "success",
            "max": 406,
            "_view_module": "@jupyter-widgets/controls",
            "_model_module_version": "1.5.0",
            "value": 406,
            "_view_count": null,
            "_view_module_version": "1.5.0",
            "orientation": "horizontal",
            "min": 0,
            "description_tooltip": null,
            "_model_module": "@jupyter-widgets/controls",
            "layout": "IPY_MODEL_68c9126bd6ce448bb3cd443144fc7880"
          }
        },
        "25340bacacf042ce9e172fd703749e3f": {
          "model_module": "@jupyter-widgets/controls",
          "model_name": "HTMLModel",
          "state": {
            "_view_name": "HTMLView",
            "style": "IPY_MODEL_bf7531c6fd524787b2d62b97a1c6ec72",
            "_dom_classes": [],
            "description": "",
            "_model_name": "HTMLModel",
            "placeholder": "​",
            "_view_module": "@jupyter-widgets/controls",
            "_model_module_version": "1.5.0",
            "value": " 406/406 [00:02&lt;00:00, 136.34it/s]",
            "_view_count": null,
            "_view_module_version": "1.5.0",
            "description_tooltip": null,
            "_model_module": "@jupyter-widgets/controls",
            "layout": "IPY_MODEL_c7ea4bd03c344d2687d153830033c713"
          }
        },
        "769f426649df4fabba3878f278279ccb": {
          "model_module": "@jupyter-widgets/controls",
          "model_name": "ProgressStyleModel",
          "state": {
            "_view_name": "StyleView",
            "_model_name": "ProgressStyleModel",
            "description_width": "initial",
            "_view_module": "@jupyter-widgets/base",
            "_model_module_version": "1.5.0",
            "_view_count": null,
            "_view_module_version": "1.2.0",
            "bar_color": null,
            "_model_module": "@jupyter-widgets/controls"
          }
        },
        "68c9126bd6ce448bb3cd443144fc7880": {
          "model_module": "@jupyter-widgets/base",
          "model_name": "LayoutModel",
          "state": {
            "_view_name": "LayoutView",
            "grid_template_rows": null,
            "right": null,
            "justify_content": null,
            "_view_module": "@jupyter-widgets/base",
            "overflow": null,
            "_model_module_version": "1.2.0",
            "_view_count": null,
            "flex_flow": null,
            "width": null,
            "min_width": null,
            "border": null,
            "align_items": null,
            "bottom": null,
            "_model_module": "@jupyter-widgets/base",
            "top": null,
            "grid_column": null,
            "overflow_y": null,
            "overflow_x": null,
            "grid_auto_flow": null,
            "grid_area": null,
            "grid_template_columns": null,
            "flex": null,
            "_model_name": "LayoutModel",
            "justify_items": null,
            "grid_row": null,
            "max_height": null,
            "align_content": null,
            "visibility": null,
            "align_self": null,
            "height": null,
            "min_height": null,
            "padding": null,
            "grid_auto_rows": null,
            "grid_gap": null,
            "max_width": null,
            "order": null,
            "_view_module_version": "1.2.0",
            "grid_template_areas": null,
            "object_position": null,
            "object_fit": null,
            "grid_auto_columns": null,
            "margin": null,
            "display": null,
            "left": null
          }
        },
        "bf7531c6fd524787b2d62b97a1c6ec72": {
          "model_module": "@jupyter-widgets/controls",
          "model_name": "DescriptionStyleModel",
          "state": {
            "_view_name": "StyleView",
            "_model_name": "DescriptionStyleModel",
            "description_width": "",
            "_view_module": "@jupyter-widgets/base",
            "_model_module_version": "1.5.0",
            "_view_count": null,
            "_view_module_version": "1.2.0",
            "_model_module": "@jupyter-widgets/controls"
          }
        },
        "c7ea4bd03c344d2687d153830033c713": {
          "model_module": "@jupyter-widgets/base",
          "model_name": "LayoutModel",
          "state": {
            "_view_name": "LayoutView",
            "grid_template_rows": null,
            "right": null,
            "justify_content": null,
            "_view_module": "@jupyter-widgets/base",
            "overflow": null,
            "_model_module_version": "1.2.0",
            "_view_count": null,
            "flex_flow": null,
            "width": null,
            "min_width": null,
            "border": null,
            "align_items": null,
            "bottom": null,
            "_model_module": "@jupyter-widgets/base",
            "top": null,
            "grid_column": null,
            "overflow_y": null,
            "overflow_x": null,
            "grid_auto_flow": null,
            "grid_area": null,
            "grid_template_columns": null,
            "flex": null,
            "_model_name": "LayoutModel",
            "justify_items": null,
            "grid_row": null,
            "max_height": null,
            "align_content": null,
            "visibility": null,
            "align_self": null,
            "height": null,
            "min_height": null,
            "padding": null,
            "grid_auto_rows": null,
            "grid_gap": null,
            "max_width": null,
            "order": null,
            "_view_module_version": "1.2.0",
            "grid_template_areas": null,
            "object_position": null,
            "object_fit": null,
            "grid_auto_columns": null,
            "margin": null,
            "display": null,
            "left": null
          }
        },
        "1f7f839a15b34421a214c26dda258116": {
          "model_module": "@jupyter-widgets/controls",
          "model_name": "HBoxModel",
          "state": {
            "_view_name": "HBoxView",
            "_dom_classes": [],
            "_model_name": "HBoxModel",
            "_view_module": "@jupyter-widgets/controls",
            "_model_module_version": "1.5.0",
            "_view_count": null,
            "_view_module_version": "1.5.0",
            "box_style": "",
            "layout": "IPY_MODEL_5dd92a8af34c4dedab2295ec79dbd060",
            "_model_module": "@jupyter-widgets/controls",
            "children": [
              "IPY_MODEL_f91a8976d27d4718bbb760a1d1675081",
              "IPY_MODEL_3ba2a2b8feb243bea57a2b1f8de987de"
            ]
          }
        },
        "5dd92a8af34c4dedab2295ec79dbd060": {
          "model_module": "@jupyter-widgets/base",
          "model_name": "LayoutModel",
          "state": {
            "_view_name": "LayoutView",
            "grid_template_rows": null,
            "right": null,
            "justify_content": null,
            "_view_module": "@jupyter-widgets/base",
            "overflow": null,
            "_model_module_version": "1.2.0",
            "_view_count": null,
            "flex_flow": null,
            "width": null,
            "min_width": null,
            "border": null,
            "align_items": null,
            "bottom": null,
            "_model_module": "@jupyter-widgets/base",
            "top": null,
            "grid_column": null,
            "overflow_y": null,
            "overflow_x": null,
            "grid_auto_flow": null,
            "grid_area": null,
            "grid_template_columns": null,
            "flex": null,
            "_model_name": "LayoutModel",
            "justify_items": null,
            "grid_row": null,
            "max_height": null,
            "align_content": null,
            "visibility": null,
            "align_self": null,
            "height": null,
            "min_height": null,
            "padding": null,
            "grid_auto_rows": null,
            "grid_gap": null,
            "max_width": null,
            "order": null,
            "_view_module_version": "1.2.0",
            "grid_template_areas": null,
            "object_position": null,
            "object_fit": null,
            "grid_auto_columns": null,
            "margin": null,
            "display": null,
            "left": null
          }
        },
        "f91a8976d27d4718bbb760a1d1675081": {
          "model_module": "@jupyter-widgets/controls",
          "model_name": "FloatProgressModel",
          "state": {
            "_view_name": "ProgressView",
            "style": "IPY_MODEL_1d342762eee745818b001b2ba671ade2",
            "_dom_classes": [],
            "description": "100%",
            "_model_name": "FloatProgressModel",
            "bar_style": "success",
            "max": 406,
            "_view_module": "@jupyter-widgets/controls",
            "_model_module_version": "1.5.0",
            "value": 406,
            "_view_count": null,
            "_view_module_version": "1.5.0",
            "orientation": "horizontal",
            "min": 0,
            "description_tooltip": null,
            "_model_module": "@jupyter-widgets/controls",
            "layout": "IPY_MODEL_233bb8e55afc42a19daf3361ecc5f3ea"
          }
        },
        "3ba2a2b8feb243bea57a2b1f8de987de": {
          "model_module": "@jupyter-widgets/controls",
          "model_name": "HTMLModel",
          "state": {
            "_view_name": "HTMLView",
            "style": "IPY_MODEL_a975385408cb424c97e45cbac4d9f44b",
            "_dom_classes": [],
            "description": "",
            "_model_name": "HTMLModel",
            "placeholder": "​",
            "_view_module": "@jupyter-widgets/controls",
            "_model_module_version": "1.5.0",
            "value": " 406/406 [00:01&lt;00:00, 203.29it/s]",
            "_view_count": null,
            "_view_module_version": "1.5.0",
            "description_tooltip": null,
            "_model_module": "@jupyter-widgets/controls",
            "layout": "IPY_MODEL_1f437474e90646d7a8bf64d349c943d1"
          }
        },
        "1d342762eee745818b001b2ba671ade2": {
          "model_module": "@jupyter-widgets/controls",
          "model_name": "ProgressStyleModel",
          "state": {
            "_view_name": "StyleView",
            "_model_name": "ProgressStyleModel",
            "description_width": "initial",
            "_view_module": "@jupyter-widgets/base",
            "_model_module_version": "1.5.0",
            "_view_count": null,
            "_view_module_version": "1.2.0",
            "bar_color": null,
            "_model_module": "@jupyter-widgets/controls"
          }
        },
        "233bb8e55afc42a19daf3361ecc5f3ea": {
          "model_module": "@jupyter-widgets/base",
          "model_name": "LayoutModel",
          "state": {
            "_view_name": "LayoutView",
            "grid_template_rows": null,
            "right": null,
            "justify_content": null,
            "_view_module": "@jupyter-widgets/base",
            "overflow": null,
            "_model_module_version": "1.2.0",
            "_view_count": null,
            "flex_flow": null,
            "width": null,
            "min_width": null,
            "border": null,
            "align_items": null,
            "bottom": null,
            "_model_module": "@jupyter-widgets/base",
            "top": null,
            "grid_column": null,
            "overflow_y": null,
            "overflow_x": null,
            "grid_auto_flow": null,
            "grid_area": null,
            "grid_template_columns": null,
            "flex": null,
            "_model_name": "LayoutModel",
            "justify_items": null,
            "grid_row": null,
            "max_height": null,
            "align_content": null,
            "visibility": null,
            "align_self": null,
            "height": null,
            "min_height": null,
            "padding": null,
            "grid_auto_rows": null,
            "grid_gap": null,
            "max_width": null,
            "order": null,
            "_view_module_version": "1.2.0",
            "grid_template_areas": null,
            "object_position": null,
            "object_fit": null,
            "grid_auto_columns": null,
            "margin": null,
            "display": null,
            "left": null
          }
        },
        "a975385408cb424c97e45cbac4d9f44b": {
          "model_module": "@jupyter-widgets/controls",
          "model_name": "DescriptionStyleModel",
          "state": {
            "_view_name": "StyleView",
            "_model_name": "DescriptionStyleModel",
            "description_width": "",
            "_view_module": "@jupyter-widgets/base",
            "_model_module_version": "1.5.0",
            "_view_count": null,
            "_view_module_version": "1.2.0",
            "_model_module": "@jupyter-widgets/controls"
          }
        },
        "1f437474e90646d7a8bf64d349c943d1": {
          "model_module": "@jupyter-widgets/base",
          "model_name": "LayoutModel",
          "state": {
            "_view_name": "LayoutView",
            "grid_template_rows": null,
            "right": null,
            "justify_content": null,
            "_view_module": "@jupyter-widgets/base",
            "overflow": null,
            "_model_module_version": "1.2.0",
            "_view_count": null,
            "flex_flow": null,
            "width": null,
            "min_width": null,
            "border": null,
            "align_items": null,
            "bottom": null,
            "_model_module": "@jupyter-widgets/base",
            "top": null,
            "grid_column": null,
            "overflow_y": null,
            "overflow_x": null,
            "grid_auto_flow": null,
            "grid_area": null,
            "grid_template_columns": null,
            "flex": null,
            "_model_name": "LayoutModel",
            "justify_items": null,
            "grid_row": null,
            "max_height": null,
            "align_content": null,
            "visibility": null,
            "align_self": null,
            "height": null,
            "min_height": null,
            "padding": null,
            "grid_auto_rows": null,
            "grid_gap": null,
            "max_width": null,
            "order": null,
            "_view_module_version": "1.2.0",
            "grid_template_areas": null,
            "object_position": null,
            "object_fit": null,
            "grid_auto_columns": null,
            "margin": null,
            "display": null,
            "left": null
          }
        },
        "dd9f68502ab94a3d96076ebb8b5def3c": {
          "model_module": "@jupyter-widgets/controls",
          "model_name": "HBoxModel",
          "state": {
            "_view_name": "HBoxView",
            "_dom_classes": [],
            "_model_name": "HBoxModel",
            "_view_module": "@jupyter-widgets/controls",
            "_model_module_version": "1.5.0",
            "_view_count": null,
            "_view_module_version": "1.5.0",
            "box_style": "",
            "layout": "IPY_MODEL_5d816d0f5099402f8033fc2ddb10a332",
            "_model_module": "@jupyter-widgets/controls",
            "children": [
              "IPY_MODEL_1da7896cbfdd44598ecab9258b964b3c",
              "IPY_MODEL_7c4581b51059408d9cf90bc4fcfbcc2d"
            ]
          }
        },
        "5d816d0f5099402f8033fc2ddb10a332": {
          "model_module": "@jupyter-widgets/base",
          "model_name": "LayoutModel",
          "state": {
            "_view_name": "LayoutView",
            "grid_template_rows": null,
            "right": null,
            "justify_content": null,
            "_view_module": "@jupyter-widgets/base",
            "overflow": null,
            "_model_module_version": "1.2.0",
            "_view_count": null,
            "flex_flow": null,
            "width": null,
            "min_width": null,
            "border": null,
            "align_items": null,
            "bottom": null,
            "_model_module": "@jupyter-widgets/base",
            "top": null,
            "grid_column": null,
            "overflow_y": null,
            "overflow_x": null,
            "grid_auto_flow": null,
            "grid_area": null,
            "grid_template_columns": null,
            "flex": null,
            "_model_name": "LayoutModel",
            "justify_items": null,
            "grid_row": null,
            "max_height": null,
            "align_content": null,
            "visibility": null,
            "align_self": null,
            "height": null,
            "min_height": null,
            "padding": null,
            "grid_auto_rows": null,
            "grid_gap": null,
            "max_width": null,
            "order": null,
            "_view_module_version": "1.2.0",
            "grid_template_areas": null,
            "object_position": null,
            "object_fit": null,
            "grid_auto_columns": null,
            "margin": null,
            "display": null,
            "left": null
          }
        },
        "1da7896cbfdd44598ecab9258b964b3c": {
          "model_module": "@jupyter-widgets/controls",
          "model_name": "FloatProgressModel",
          "state": {
            "_view_name": "ProgressView",
            "style": "IPY_MODEL_7cda3bb248894e1db7a432bbca2e4468",
            "_dom_classes": [],
            "description": "100%",
            "_model_name": "FloatProgressModel",
            "bar_style": "success",
            "max": 406,
            "_view_module": "@jupyter-widgets/controls",
            "_model_module_version": "1.5.0",
            "value": 406,
            "_view_count": null,
            "_view_module_version": "1.5.0",
            "orientation": "horizontal",
            "min": 0,
            "description_tooltip": null,
            "_model_module": "@jupyter-widgets/controls",
            "layout": "IPY_MODEL_76756bd82f2e4bce8ab8e5ac267f3c01"
          }
        },
        "7c4581b51059408d9cf90bc4fcfbcc2d": {
          "model_module": "@jupyter-widgets/controls",
          "model_name": "HTMLModel",
          "state": {
            "_view_name": "HTMLView",
            "style": "IPY_MODEL_c8d4aea55b61476a8188ebc4a89c98cf",
            "_dom_classes": [],
            "description": "",
            "_model_name": "HTMLModel",
            "placeholder": "​",
            "_view_module": "@jupyter-widgets/controls",
            "_model_module_version": "1.5.0",
            "value": " 406/406 [00:01&lt;00:00, 394.08it/s]",
            "_view_count": null,
            "_view_module_version": "1.5.0",
            "description_tooltip": null,
            "_model_module": "@jupyter-widgets/controls",
            "layout": "IPY_MODEL_2bc71878145b40a1968b7f6bbd161e91"
          }
        },
        "7cda3bb248894e1db7a432bbca2e4468": {
          "model_module": "@jupyter-widgets/controls",
          "model_name": "ProgressStyleModel",
          "state": {
            "_view_name": "StyleView",
            "_model_name": "ProgressStyleModel",
            "description_width": "initial",
            "_view_module": "@jupyter-widgets/base",
            "_model_module_version": "1.5.0",
            "_view_count": null,
            "_view_module_version": "1.2.0",
            "bar_color": null,
            "_model_module": "@jupyter-widgets/controls"
          }
        },
        "76756bd82f2e4bce8ab8e5ac267f3c01": {
          "model_module": "@jupyter-widgets/base",
          "model_name": "LayoutModel",
          "state": {
            "_view_name": "LayoutView",
            "grid_template_rows": null,
            "right": null,
            "justify_content": null,
            "_view_module": "@jupyter-widgets/base",
            "overflow": null,
            "_model_module_version": "1.2.0",
            "_view_count": null,
            "flex_flow": null,
            "width": null,
            "min_width": null,
            "border": null,
            "align_items": null,
            "bottom": null,
            "_model_module": "@jupyter-widgets/base",
            "top": null,
            "grid_column": null,
            "overflow_y": null,
            "overflow_x": null,
            "grid_auto_flow": null,
            "grid_area": null,
            "grid_template_columns": null,
            "flex": null,
            "_model_name": "LayoutModel",
            "justify_items": null,
            "grid_row": null,
            "max_height": null,
            "align_content": null,
            "visibility": null,
            "align_self": null,
            "height": null,
            "min_height": null,
            "padding": null,
            "grid_auto_rows": null,
            "grid_gap": null,
            "max_width": null,
            "order": null,
            "_view_module_version": "1.2.0",
            "grid_template_areas": null,
            "object_position": null,
            "object_fit": null,
            "grid_auto_columns": null,
            "margin": null,
            "display": null,
            "left": null
          }
        },
        "c8d4aea55b61476a8188ebc4a89c98cf": {
          "model_module": "@jupyter-widgets/controls",
          "model_name": "DescriptionStyleModel",
          "state": {
            "_view_name": "StyleView",
            "_model_name": "DescriptionStyleModel",
            "description_width": "",
            "_view_module": "@jupyter-widgets/base",
            "_model_module_version": "1.5.0",
            "_view_count": null,
            "_view_module_version": "1.2.0",
            "_model_module": "@jupyter-widgets/controls"
          }
        },
        "2bc71878145b40a1968b7f6bbd161e91": {
          "model_module": "@jupyter-widgets/base",
          "model_name": "LayoutModel",
          "state": {
            "_view_name": "LayoutView",
            "grid_template_rows": null,
            "right": null,
            "justify_content": null,
            "_view_module": "@jupyter-widgets/base",
            "overflow": null,
            "_model_module_version": "1.2.0",
            "_view_count": null,
            "flex_flow": null,
            "width": null,
            "min_width": null,
            "border": null,
            "align_items": null,
            "bottom": null,
            "_model_module": "@jupyter-widgets/base",
            "top": null,
            "grid_column": null,
            "overflow_y": null,
            "overflow_x": null,
            "grid_auto_flow": null,
            "grid_area": null,
            "grid_template_columns": null,
            "flex": null,
            "_model_name": "LayoutModel",
            "justify_items": null,
            "grid_row": null,
            "max_height": null,
            "align_content": null,
            "visibility": null,
            "align_self": null,
            "height": null,
            "min_height": null,
            "padding": null,
            "grid_auto_rows": null,
            "grid_gap": null,
            "max_width": null,
            "order": null,
            "_view_module_version": "1.2.0",
            "grid_template_areas": null,
            "object_position": null,
            "object_fit": null,
            "grid_auto_columns": null,
            "margin": null,
            "display": null,
            "left": null
          }
        },
        "82fd189e20a14aedb45640ecc5a54cd3": {
          "model_module": "@jupyter-widgets/controls",
          "model_name": "HBoxModel",
          "state": {
            "_view_name": "HBoxView",
            "_dom_classes": [],
            "_model_name": "HBoxModel",
            "_view_module": "@jupyter-widgets/controls",
            "_model_module_version": "1.5.0",
            "_view_count": null,
            "_view_module_version": "1.5.0",
            "box_style": "",
            "layout": "IPY_MODEL_47a0877c64944005b1fa32234fb56f07",
            "_model_module": "@jupyter-widgets/controls",
            "children": [
              "IPY_MODEL_6a470b68d31a42c9a9784fec1b7a1b1f",
              "IPY_MODEL_ec5a1e75a0424affbdf8384ec0de727b"
            ]
          }
        },
        "47a0877c64944005b1fa32234fb56f07": {
          "model_module": "@jupyter-widgets/base",
          "model_name": "LayoutModel",
          "state": {
            "_view_name": "LayoutView",
            "grid_template_rows": null,
            "right": null,
            "justify_content": null,
            "_view_module": "@jupyter-widgets/base",
            "overflow": null,
            "_model_module_version": "1.2.0",
            "_view_count": null,
            "flex_flow": null,
            "width": null,
            "min_width": null,
            "border": null,
            "align_items": null,
            "bottom": null,
            "_model_module": "@jupyter-widgets/base",
            "top": null,
            "grid_column": null,
            "overflow_y": null,
            "overflow_x": null,
            "grid_auto_flow": null,
            "grid_area": null,
            "grid_template_columns": null,
            "flex": null,
            "_model_name": "LayoutModel",
            "justify_items": null,
            "grid_row": null,
            "max_height": null,
            "align_content": null,
            "visibility": null,
            "align_self": null,
            "height": null,
            "min_height": null,
            "padding": null,
            "grid_auto_rows": null,
            "grid_gap": null,
            "max_width": null,
            "order": null,
            "_view_module_version": "1.2.0",
            "grid_template_areas": null,
            "object_position": null,
            "object_fit": null,
            "grid_auto_columns": null,
            "margin": null,
            "display": null,
            "left": null
          }
        },
        "6a470b68d31a42c9a9784fec1b7a1b1f": {
          "model_module": "@jupyter-widgets/controls",
          "model_name": "FloatProgressModel",
          "state": {
            "_view_name": "ProgressView",
            "style": "IPY_MODEL_eaa14ef7e5e942d983e57e724611bbb2",
            "_dom_classes": [],
            "description": "100%",
            "_model_name": "FloatProgressModel",
            "bar_style": "success",
            "max": 1220,
            "_view_module": "@jupyter-widgets/controls",
            "_model_module_version": "1.5.0",
            "value": 1220,
            "_view_count": null,
            "_view_module_version": "1.5.0",
            "orientation": "horizontal",
            "min": 0,
            "description_tooltip": null,
            "_model_module": "@jupyter-widgets/controls",
            "layout": "IPY_MODEL_7e781ec5aeb447e8a93e9081a92635f9"
          }
        },
        "ec5a1e75a0424affbdf8384ec0de727b": {
          "model_module": "@jupyter-widgets/controls",
          "model_name": "HTMLModel",
          "state": {
            "_view_name": "HTMLView",
            "style": "IPY_MODEL_0913a5d343b74fbab7533eab7099f5df",
            "_dom_classes": [],
            "description": "",
            "_model_name": "HTMLModel",
            "placeholder": "​",
            "_view_module": "@jupyter-widgets/controls",
            "_model_module_version": "1.5.0",
            "value": " 1220/1220 [00:06&lt;00:00, 188.40it/s]",
            "_view_count": null,
            "_view_module_version": "1.5.0",
            "description_tooltip": null,
            "_model_module": "@jupyter-widgets/controls",
            "layout": "IPY_MODEL_6e49fb9274924084a2c00768827021fc"
          }
        },
        "eaa14ef7e5e942d983e57e724611bbb2": {
          "model_module": "@jupyter-widgets/controls",
          "model_name": "ProgressStyleModel",
          "state": {
            "_view_name": "StyleView",
            "_model_name": "ProgressStyleModel",
            "description_width": "initial",
            "_view_module": "@jupyter-widgets/base",
            "_model_module_version": "1.5.0",
            "_view_count": null,
            "_view_module_version": "1.2.0",
            "bar_color": null,
            "_model_module": "@jupyter-widgets/controls"
          }
        },
        "7e781ec5aeb447e8a93e9081a92635f9": {
          "model_module": "@jupyter-widgets/base",
          "model_name": "LayoutModel",
          "state": {
            "_view_name": "LayoutView",
            "grid_template_rows": null,
            "right": null,
            "justify_content": null,
            "_view_module": "@jupyter-widgets/base",
            "overflow": null,
            "_model_module_version": "1.2.0",
            "_view_count": null,
            "flex_flow": null,
            "width": null,
            "min_width": null,
            "border": null,
            "align_items": null,
            "bottom": null,
            "_model_module": "@jupyter-widgets/base",
            "top": null,
            "grid_column": null,
            "overflow_y": null,
            "overflow_x": null,
            "grid_auto_flow": null,
            "grid_area": null,
            "grid_template_columns": null,
            "flex": null,
            "_model_name": "LayoutModel",
            "justify_items": null,
            "grid_row": null,
            "max_height": null,
            "align_content": null,
            "visibility": null,
            "align_self": null,
            "height": null,
            "min_height": null,
            "padding": null,
            "grid_auto_rows": null,
            "grid_gap": null,
            "max_width": null,
            "order": null,
            "_view_module_version": "1.2.0",
            "grid_template_areas": null,
            "object_position": null,
            "object_fit": null,
            "grid_auto_columns": null,
            "margin": null,
            "display": null,
            "left": null
          }
        },
        "0913a5d343b74fbab7533eab7099f5df": {
          "model_module": "@jupyter-widgets/controls",
          "model_name": "DescriptionStyleModel",
          "state": {
            "_view_name": "StyleView",
            "_model_name": "DescriptionStyleModel",
            "description_width": "",
            "_view_module": "@jupyter-widgets/base",
            "_model_module_version": "1.5.0",
            "_view_count": null,
            "_view_module_version": "1.2.0",
            "_model_module": "@jupyter-widgets/controls"
          }
        },
        "6e49fb9274924084a2c00768827021fc": {
          "model_module": "@jupyter-widgets/base",
          "model_name": "LayoutModel",
          "state": {
            "_view_name": "LayoutView",
            "grid_template_rows": null,
            "right": null,
            "justify_content": null,
            "_view_module": "@jupyter-widgets/base",
            "overflow": null,
            "_model_module_version": "1.2.0",
            "_view_count": null,
            "flex_flow": null,
            "width": null,
            "min_width": null,
            "border": null,
            "align_items": null,
            "bottom": null,
            "_model_module": "@jupyter-widgets/base",
            "top": null,
            "grid_column": null,
            "overflow_y": null,
            "overflow_x": null,
            "grid_auto_flow": null,
            "grid_area": null,
            "grid_template_columns": null,
            "flex": null,
            "_model_name": "LayoutModel",
            "justify_items": null,
            "grid_row": null,
            "max_height": null,
            "align_content": null,
            "visibility": null,
            "align_self": null,
            "height": null,
            "min_height": null,
            "padding": null,
            "grid_auto_rows": null,
            "grid_gap": null,
            "max_width": null,
            "order": null,
            "_view_module_version": "1.2.0",
            "grid_template_areas": null,
            "object_position": null,
            "object_fit": null,
            "grid_auto_columns": null,
            "margin": null,
            "display": null,
            "left": null
          }
        },
        "c670fa7d0a774e7e9331a117d87f85fb": {
          "model_module": "@jupyter-widgets/controls",
          "model_name": "HBoxModel",
          "state": {
            "_view_name": "HBoxView",
            "_dom_classes": [],
            "_model_name": "HBoxModel",
            "_view_module": "@jupyter-widgets/controls",
            "_model_module_version": "1.5.0",
            "_view_count": null,
            "_view_module_version": "1.5.0",
            "box_style": "",
            "layout": "IPY_MODEL_50c064cd288b4c4a8a65fbab041bdc45",
            "_model_module": "@jupyter-widgets/controls",
            "children": [
              "IPY_MODEL_d74858d8e9f24ba1823e2f78df9d8722",
              "IPY_MODEL_afc17b1f8c8c4f91b2aec5e58e365964"
            ]
          }
        },
        "50c064cd288b4c4a8a65fbab041bdc45": {
          "model_module": "@jupyter-widgets/base",
          "model_name": "LayoutModel",
          "state": {
            "_view_name": "LayoutView",
            "grid_template_rows": null,
            "right": null,
            "justify_content": null,
            "_view_module": "@jupyter-widgets/base",
            "overflow": null,
            "_model_module_version": "1.2.0",
            "_view_count": null,
            "flex_flow": null,
            "width": null,
            "min_width": null,
            "border": null,
            "align_items": null,
            "bottom": null,
            "_model_module": "@jupyter-widgets/base",
            "top": null,
            "grid_column": null,
            "overflow_y": null,
            "overflow_x": null,
            "grid_auto_flow": null,
            "grid_area": null,
            "grid_template_columns": null,
            "flex": null,
            "_model_name": "LayoutModel",
            "justify_items": null,
            "grid_row": null,
            "max_height": null,
            "align_content": null,
            "visibility": null,
            "align_self": null,
            "height": null,
            "min_height": null,
            "padding": null,
            "grid_auto_rows": null,
            "grid_gap": null,
            "max_width": null,
            "order": null,
            "_view_module_version": "1.2.0",
            "grid_template_areas": null,
            "object_position": null,
            "object_fit": null,
            "grid_auto_columns": null,
            "margin": null,
            "display": null,
            "left": null
          }
        },
        "d74858d8e9f24ba1823e2f78df9d8722": {
          "model_module": "@jupyter-widgets/controls",
          "model_name": "FloatProgressModel",
          "state": {
            "_view_name": "ProgressView",
            "style": "IPY_MODEL_809b76ddbbbe42c8869be752ae0a9dcc",
            "_dom_classes": [],
            "description": "100%",
            "_model_name": "FloatProgressModel",
            "bar_style": "success",
            "max": 406,
            "_view_module": "@jupyter-widgets/controls",
            "_model_module_version": "1.5.0",
            "value": 406,
            "_view_count": null,
            "_view_module_version": "1.5.0",
            "orientation": "horizontal",
            "min": 0,
            "description_tooltip": null,
            "_model_module": "@jupyter-widgets/controls",
            "layout": "IPY_MODEL_4a5e05620a124331b33f71b304252fe5"
          }
        },
        "afc17b1f8c8c4f91b2aec5e58e365964": {
          "model_module": "@jupyter-widgets/controls",
          "model_name": "HTMLModel",
          "state": {
            "_view_name": "HTMLView",
            "style": "IPY_MODEL_8dbb49eb7a974b858f2796c318de4200",
            "_dom_classes": [],
            "description": "",
            "_model_name": "HTMLModel",
            "placeholder": "​",
            "_view_module": "@jupyter-widgets/controls",
            "_model_module_version": "1.5.0",
            "value": " 406/406 [00:03&lt;00:00, 110.07it/s]",
            "_view_count": null,
            "_view_module_version": "1.5.0",
            "description_tooltip": null,
            "_model_module": "@jupyter-widgets/controls",
            "layout": "IPY_MODEL_c6953cb4176c4ee7a068f197f453ad24"
          }
        },
        "809b76ddbbbe42c8869be752ae0a9dcc": {
          "model_module": "@jupyter-widgets/controls",
          "model_name": "ProgressStyleModel",
          "state": {
            "_view_name": "StyleView",
            "_model_name": "ProgressStyleModel",
            "description_width": "initial",
            "_view_module": "@jupyter-widgets/base",
            "_model_module_version": "1.5.0",
            "_view_count": null,
            "_view_module_version": "1.2.0",
            "bar_color": null,
            "_model_module": "@jupyter-widgets/controls"
          }
        },
        "4a5e05620a124331b33f71b304252fe5": {
          "model_module": "@jupyter-widgets/base",
          "model_name": "LayoutModel",
          "state": {
            "_view_name": "LayoutView",
            "grid_template_rows": null,
            "right": null,
            "justify_content": null,
            "_view_module": "@jupyter-widgets/base",
            "overflow": null,
            "_model_module_version": "1.2.0",
            "_view_count": null,
            "flex_flow": null,
            "width": null,
            "min_width": null,
            "border": null,
            "align_items": null,
            "bottom": null,
            "_model_module": "@jupyter-widgets/base",
            "top": null,
            "grid_column": null,
            "overflow_y": null,
            "overflow_x": null,
            "grid_auto_flow": null,
            "grid_area": null,
            "grid_template_columns": null,
            "flex": null,
            "_model_name": "LayoutModel",
            "justify_items": null,
            "grid_row": null,
            "max_height": null,
            "align_content": null,
            "visibility": null,
            "align_self": null,
            "height": null,
            "min_height": null,
            "padding": null,
            "grid_auto_rows": null,
            "grid_gap": null,
            "max_width": null,
            "order": null,
            "_view_module_version": "1.2.0",
            "grid_template_areas": null,
            "object_position": null,
            "object_fit": null,
            "grid_auto_columns": null,
            "margin": null,
            "display": null,
            "left": null
          }
        },
        "8dbb49eb7a974b858f2796c318de4200": {
          "model_module": "@jupyter-widgets/controls",
          "model_name": "DescriptionStyleModel",
          "state": {
            "_view_name": "StyleView",
            "_model_name": "DescriptionStyleModel",
            "description_width": "",
            "_view_module": "@jupyter-widgets/base",
            "_model_module_version": "1.5.0",
            "_view_count": null,
            "_view_module_version": "1.2.0",
            "_model_module": "@jupyter-widgets/controls"
          }
        },
        "c6953cb4176c4ee7a068f197f453ad24": {
          "model_module": "@jupyter-widgets/base",
          "model_name": "LayoutModel",
          "state": {
            "_view_name": "LayoutView",
            "grid_template_rows": null,
            "right": null,
            "justify_content": null,
            "_view_module": "@jupyter-widgets/base",
            "overflow": null,
            "_model_module_version": "1.2.0",
            "_view_count": null,
            "flex_flow": null,
            "width": null,
            "min_width": null,
            "border": null,
            "align_items": null,
            "bottom": null,
            "_model_module": "@jupyter-widgets/base",
            "top": null,
            "grid_column": null,
            "overflow_y": null,
            "overflow_x": null,
            "grid_auto_flow": null,
            "grid_area": null,
            "grid_template_columns": null,
            "flex": null,
            "_model_name": "LayoutModel",
            "justify_items": null,
            "grid_row": null,
            "max_height": null,
            "align_content": null,
            "visibility": null,
            "align_self": null,
            "height": null,
            "min_height": null,
            "padding": null,
            "grid_auto_rows": null,
            "grid_gap": null,
            "max_width": null,
            "order": null,
            "_view_module_version": "1.2.0",
            "grid_template_areas": null,
            "object_position": null,
            "object_fit": null,
            "grid_auto_columns": null,
            "margin": null,
            "display": null,
            "left": null
          }
        },
        "83df10c555994588ab8a22288bfa6d44": {
          "model_module": "@jupyter-widgets/controls",
          "model_name": "HBoxModel",
          "state": {
            "_view_name": "HBoxView",
            "_dom_classes": [],
            "_model_name": "HBoxModel",
            "_view_module": "@jupyter-widgets/controls",
            "_model_module_version": "1.5.0",
            "_view_count": null,
            "_view_module_version": "1.5.0",
            "box_style": "",
            "layout": "IPY_MODEL_51b3c18e91714b61bb9e5b5cb40964ba",
            "_model_module": "@jupyter-widgets/controls",
            "children": [
              "IPY_MODEL_f855d7ae872048419f72e8369f43978f",
              "IPY_MODEL_f7a1f89001304e40b9a877940b625297"
            ]
          }
        },
        "51b3c18e91714b61bb9e5b5cb40964ba": {
          "model_module": "@jupyter-widgets/base",
          "model_name": "LayoutModel",
          "state": {
            "_view_name": "LayoutView",
            "grid_template_rows": null,
            "right": null,
            "justify_content": null,
            "_view_module": "@jupyter-widgets/base",
            "overflow": null,
            "_model_module_version": "1.2.0",
            "_view_count": null,
            "flex_flow": null,
            "width": null,
            "min_width": null,
            "border": null,
            "align_items": null,
            "bottom": null,
            "_model_module": "@jupyter-widgets/base",
            "top": null,
            "grid_column": null,
            "overflow_y": null,
            "overflow_x": null,
            "grid_auto_flow": null,
            "grid_area": null,
            "grid_template_columns": null,
            "flex": null,
            "_model_name": "LayoutModel",
            "justify_items": null,
            "grid_row": null,
            "max_height": null,
            "align_content": null,
            "visibility": null,
            "align_self": null,
            "height": null,
            "min_height": null,
            "padding": null,
            "grid_auto_rows": null,
            "grid_gap": null,
            "max_width": null,
            "order": null,
            "_view_module_version": "1.2.0",
            "grid_template_areas": null,
            "object_position": null,
            "object_fit": null,
            "grid_auto_columns": null,
            "margin": null,
            "display": null,
            "left": null
          }
        },
        "f855d7ae872048419f72e8369f43978f": {
          "model_module": "@jupyter-widgets/controls",
          "model_name": "FloatProgressModel",
          "state": {
            "_view_name": "ProgressView",
            "style": "IPY_MODEL_1581b49f4d3c4075a8049a1aef5691be",
            "_dom_classes": [],
            "description": "100%",
            "_model_name": "FloatProgressModel",
            "bar_style": "success",
            "max": 1221,
            "_view_module": "@jupyter-widgets/controls",
            "_model_module_version": "1.5.0",
            "value": 1221,
            "_view_count": null,
            "_view_module_version": "1.5.0",
            "orientation": "horizontal",
            "min": 0,
            "description_tooltip": null,
            "_model_module": "@jupyter-widgets/controls",
            "layout": "IPY_MODEL_a7aeaaaaa94a456eb588f680e50a8519"
          }
        },
        "f7a1f89001304e40b9a877940b625297": {
          "model_module": "@jupyter-widgets/controls",
          "model_name": "HTMLModel",
          "state": {
            "_view_name": "HTMLView",
            "style": "IPY_MODEL_e18db09326b24d4eba6a155ee7ca15d9",
            "_dom_classes": [],
            "description": "",
            "_model_name": "HTMLModel",
            "placeholder": "​",
            "_view_module": "@jupyter-widgets/controls",
            "_model_module_version": "1.5.0",
            "value": " 1221/1221 [00:02&lt;00:00, 444.74it/s]",
            "_view_count": null,
            "_view_module_version": "1.5.0",
            "description_tooltip": null,
            "_model_module": "@jupyter-widgets/controls",
            "layout": "IPY_MODEL_c5d3d1ef64e44595af76c89cd69a3e63"
          }
        },
        "1581b49f4d3c4075a8049a1aef5691be": {
          "model_module": "@jupyter-widgets/controls",
          "model_name": "ProgressStyleModel",
          "state": {
            "_view_name": "StyleView",
            "_model_name": "ProgressStyleModel",
            "description_width": "initial",
            "_view_module": "@jupyter-widgets/base",
            "_model_module_version": "1.5.0",
            "_view_count": null,
            "_view_module_version": "1.2.0",
            "bar_color": null,
            "_model_module": "@jupyter-widgets/controls"
          }
        },
        "a7aeaaaaa94a456eb588f680e50a8519": {
          "model_module": "@jupyter-widgets/base",
          "model_name": "LayoutModel",
          "state": {
            "_view_name": "LayoutView",
            "grid_template_rows": null,
            "right": null,
            "justify_content": null,
            "_view_module": "@jupyter-widgets/base",
            "overflow": null,
            "_model_module_version": "1.2.0",
            "_view_count": null,
            "flex_flow": null,
            "width": null,
            "min_width": null,
            "border": null,
            "align_items": null,
            "bottom": null,
            "_model_module": "@jupyter-widgets/base",
            "top": null,
            "grid_column": null,
            "overflow_y": null,
            "overflow_x": null,
            "grid_auto_flow": null,
            "grid_area": null,
            "grid_template_columns": null,
            "flex": null,
            "_model_name": "LayoutModel",
            "justify_items": null,
            "grid_row": null,
            "max_height": null,
            "align_content": null,
            "visibility": null,
            "align_self": null,
            "height": null,
            "min_height": null,
            "padding": null,
            "grid_auto_rows": null,
            "grid_gap": null,
            "max_width": null,
            "order": null,
            "_view_module_version": "1.2.0",
            "grid_template_areas": null,
            "object_position": null,
            "object_fit": null,
            "grid_auto_columns": null,
            "margin": null,
            "display": null,
            "left": null
          }
        },
        "e18db09326b24d4eba6a155ee7ca15d9": {
          "model_module": "@jupyter-widgets/controls",
          "model_name": "DescriptionStyleModel",
          "state": {
            "_view_name": "StyleView",
            "_model_name": "DescriptionStyleModel",
            "description_width": "",
            "_view_module": "@jupyter-widgets/base",
            "_model_module_version": "1.5.0",
            "_view_count": null,
            "_view_module_version": "1.2.0",
            "_model_module": "@jupyter-widgets/controls"
          }
        },
        "c5d3d1ef64e44595af76c89cd69a3e63": {
          "model_module": "@jupyter-widgets/base",
          "model_name": "LayoutModel",
          "state": {
            "_view_name": "LayoutView",
            "grid_template_rows": null,
            "right": null,
            "justify_content": null,
            "_view_module": "@jupyter-widgets/base",
            "overflow": null,
            "_model_module_version": "1.2.0",
            "_view_count": null,
            "flex_flow": null,
            "width": null,
            "min_width": null,
            "border": null,
            "align_items": null,
            "bottom": null,
            "_model_module": "@jupyter-widgets/base",
            "top": null,
            "grid_column": null,
            "overflow_y": null,
            "overflow_x": null,
            "grid_auto_flow": null,
            "grid_area": null,
            "grid_template_columns": null,
            "flex": null,
            "_model_name": "LayoutModel",
            "justify_items": null,
            "grid_row": null,
            "max_height": null,
            "align_content": null,
            "visibility": null,
            "align_self": null,
            "height": null,
            "min_height": null,
            "padding": null,
            "grid_auto_rows": null,
            "grid_gap": null,
            "max_width": null,
            "order": null,
            "_view_module_version": "1.2.0",
            "grid_template_areas": null,
            "object_position": null,
            "object_fit": null,
            "grid_auto_columns": null,
            "margin": null,
            "display": null,
            "left": null
          }
        },
        "b9219a93af964d47b0f63852220f6c78": {
          "model_module": "@jupyter-widgets/controls",
          "model_name": "HBoxModel",
          "state": {
            "_view_name": "HBoxView",
            "_dom_classes": [],
            "_model_name": "HBoxModel",
            "_view_module": "@jupyter-widgets/controls",
            "_model_module_version": "1.5.0",
            "_view_count": null,
            "_view_module_version": "1.5.0",
            "box_style": "",
            "layout": "IPY_MODEL_2c12914bf5c54f6c9aef459cd006b065",
            "_model_module": "@jupyter-widgets/controls",
            "children": [
              "IPY_MODEL_3b20c5ef24764aacbd1cc7978e960876",
              "IPY_MODEL_4a1ee8c5830348618431857826d6e442"
            ]
          }
        },
        "2c12914bf5c54f6c9aef459cd006b065": {
          "model_module": "@jupyter-widgets/base",
          "model_name": "LayoutModel",
          "state": {
            "_view_name": "LayoutView",
            "grid_template_rows": null,
            "right": null,
            "justify_content": null,
            "_view_module": "@jupyter-widgets/base",
            "overflow": null,
            "_model_module_version": "1.2.0",
            "_view_count": null,
            "flex_flow": null,
            "width": null,
            "min_width": null,
            "border": null,
            "align_items": null,
            "bottom": null,
            "_model_module": "@jupyter-widgets/base",
            "top": null,
            "grid_column": null,
            "overflow_y": null,
            "overflow_x": null,
            "grid_auto_flow": null,
            "grid_area": null,
            "grid_template_columns": null,
            "flex": null,
            "_model_name": "LayoutModel",
            "justify_items": null,
            "grid_row": null,
            "max_height": null,
            "align_content": null,
            "visibility": null,
            "align_self": null,
            "height": null,
            "min_height": null,
            "padding": null,
            "grid_auto_rows": null,
            "grid_gap": null,
            "max_width": null,
            "order": null,
            "_view_module_version": "1.2.0",
            "grid_template_areas": null,
            "object_position": null,
            "object_fit": null,
            "grid_auto_columns": null,
            "margin": null,
            "display": null,
            "left": null
          }
        },
        "3b20c5ef24764aacbd1cc7978e960876": {
          "model_module": "@jupyter-widgets/controls",
          "model_name": "FloatProgressModel",
          "state": {
            "_view_name": "ProgressView",
            "style": "IPY_MODEL_93813f5711264e369e7056e246569bc7",
            "_dom_classes": [],
            "description": "100%",
            "_model_name": "FloatProgressModel",
            "bar_style": "success",
            "max": 1273,
            "_view_module": "@jupyter-widgets/controls",
            "_model_module_version": "1.5.0",
            "value": 1273,
            "_view_count": null,
            "_view_module_version": "1.5.0",
            "orientation": "horizontal",
            "min": 0,
            "description_tooltip": null,
            "_model_module": "@jupyter-widgets/controls",
            "layout": "IPY_MODEL_c084a9e57e614536bdcbfa31a43fad5c"
          }
        },
        "4a1ee8c5830348618431857826d6e442": {
          "model_module": "@jupyter-widgets/controls",
          "model_name": "HTMLModel",
          "state": {
            "_view_name": "HTMLView",
            "style": "IPY_MODEL_7099a0e050b24e9c9aa6e621bd6fa4d0",
            "_dom_classes": [],
            "description": "",
            "_model_name": "HTMLModel",
            "placeholder": "​",
            "_view_module": "@jupyter-widgets/controls",
            "_model_module_version": "1.5.0",
            "value": " 1273/1273 [00:03&lt;00:00, 341.79it/s]",
            "_view_count": null,
            "_view_module_version": "1.5.0",
            "description_tooltip": null,
            "_model_module": "@jupyter-widgets/controls",
            "layout": "IPY_MODEL_ced0e9a07836410ead27829cf31af553"
          }
        },
        "93813f5711264e369e7056e246569bc7": {
          "model_module": "@jupyter-widgets/controls",
          "model_name": "ProgressStyleModel",
          "state": {
            "_view_name": "StyleView",
            "_model_name": "ProgressStyleModel",
            "description_width": "initial",
            "_view_module": "@jupyter-widgets/base",
            "_model_module_version": "1.5.0",
            "_view_count": null,
            "_view_module_version": "1.2.0",
            "bar_color": null,
            "_model_module": "@jupyter-widgets/controls"
          }
        },
        "c084a9e57e614536bdcbfa31a43fad5c": {
          "model_module": "@jupyter-widgets/base",
          "model_name": "LayoutModel",
          "state": {
            "_view_name": "LayoutView",
            "grid_template_rows": null,
            "right": null,
            "justify_content": null,
            "_view_module": "@jupyter-widgets/base",
            "overflow": null,
            "_model_module_version": "1.2.0",
            "_view_count": null,
            "flex_flow": null,
            "width": null,
            "min_width": null,
            "border": null,
            "align_items": null,
            "bottom": null,
            "_model_module": "@jupyter-widgets/base",
            "top": null,
            "grid_column": null,
            "overflow_y": null,
            "overflow_x": null,
            "grid_auto_flow": null,
            "grid_area": null,
            "grid_template_columns": null,
            "flex": null,
            "_model_name": "LayoutModel",
            "justify_items": null,
            "grid_row": null,
            "max_height": null,
            "align_content": null,
            "visibility": null,
            "align_self": null,
            "height": null,
            "min_height": null,
            "padding": null,
            "grid_auto_rows": null,
            "grid_gap": null,
            "max_width": null,
            "order": null,
            "_view_module_version": "1.2.0",
            "grid_template_areas": null,
            "object_position": null,
            "object_fit": null,
            "grid_auto_columns": null,
            "margin": null,
            "display": null,
            "left": null
          }
        },
        "7099a0e050b24e9c9aa6e621bd6fa4d0": {
          "model_module": "@jupyter-widgets/controls",
          "model_name": "DescriptionStyleModel",
          "state": {
            "_view_name": "StyleView",
            "_model_name": "DescriptionStyleModel",
            "description_width": "",
            "_view_module": "@jupyter-widgets/base",
            "_model_module_version": "1.5.0",
            "_view_count": null,
            "_view_module_version": "1.2.0",
            "_model_module": "@jupyter-widgets/controls"
          }
        },
        "ced0e9a07836410ead27829cf31af553": {
          "model_module": "@jupyter-widgets/base",
          "model_name": "LayoutModel",
          "state": {
            "_view_name": "LayoutView",
            "grid_template_rows": null,
            "right": null,
            "justify_content": null,
            "_view_module": "@jupyter-widgets/base",
            "overflow": null,
            "_model_module_version": "1.2.0",
            "_view_count": null,
            "flex_flow": null,
            "width": null,
            "min_width": null,
            "border": null,
            "align_items": null,
            "bottom": null,
            "_model_module": "@jupyter-widgets/base",
            "top": null,
            "grid_column": null,
            "overflow_y": null,
            "overflow_x": null,
            "grid_auto_flow": null,
            "grid_area": null,
            "grid_template_columns": null,
            "flex": null,
            "_model_name": "LayoutModel",
            "justify_items": null,
            "grid_row": null,
            "max_height": null,
            "align_content": null,
            "visibility": null,
            "align_self": null,
            "height": null,
            "min_height": null,
            "padding": null,
            "grid_auto_rows": null,
            "grid_gap": null,
            "max_width": null,
            "order": null,
            "_view_module_version": "1.2.0",
            "grid_template_areas": null,
            "object_position": null,
            "object_fit": null,
            "grid_auto_columns": null,
            "margin": null,
            "display": null,
            "left": null
          }
        },
        "1eba0ed6ea2642cfad887327d8659077": {
          "model_module": "@jupyter-widgets/controls",
          "model_name": "HBoxModel",
          "state": {
            "_view_name": "HBoxView",
            "_dom_classes": [],
            "_model_name": "HBoxModel",
            "_view_module": "@jupyter-widgets/controls",
            "_model_module_version": "1.5.0",
            "_view_count": null,
            "_view_module_version": "1.5.0",
            "box_style": "",
            "layout": "IPY_MODEL_d30d44f04a7c408485d3a8dab99a342c",
            "_model_module": "@jupyter-widgets/controls",
            "children": [
              "IPY_MODEL_c955aa4d0a1d49c88274a44dc39c9288",
              "IPY_MODEL_d91c51629eaf4f71b6e4d9eb12e25ef5"
            ]
          }
        },
        "d30d44f04a7c408485d3a8dab99a342c": {
          "model_module": "@jupyter-widgets/base",
          "model_name": "LayoutModel",
          "state": {
            "_view_name": "LayoutView",
            "grid_template_rows": null,
            "right": null,
            "justify_content": null,
            "_view_module": "@jupyter-widgets/base",
            "overflow": null,
            "_model_module_version": "1.2.0",
            "_view_count": null,
            "flex_flow": null,
            "width": null,
            "min_width": null,
            "border": null,
            "align_items": null,
            "bottom": null,
            "_model_module": "@jupyter-widgets/base",
            "top": null,
            "grid_column": null,
            "overflow_y": null,
            "overflow_x": null,
            "grid_auto_flow": null,
            "grid_area": null,
            "grid_template_columns": null,
            "flex": null,
            "_model_name": "LayoutModel",
            "justify_items": null,
            "grid_row": null,
            "max_height": null,
            "align_content": null,
            "visibility": null,
            "align_self": null,
            "height": null,
            "min_height": null,
            "padding": null,
            "grid_auto_rows": null,
            "grid_gap": null,
            "max_width": null,
            "order": null,
            "_view_module_version": "1.2.0",
            "grid_template_areas": null,
            "object_position": null,
            "object_fit": null,
            "grid_auto_columns": null,
            "margin": null,
            "display": null,
            "left": null
          }
        },
        "c955aa4d0a1d49c88274a44dc39c9288": {
          "model_module": "@jupyter-widgets/controls",
          "model_name": "FloatProgressModel",
          "state": {
            "_view_name": "ProgressView",
            "style": "IPY_MODEL_a566ff51808b4634a27ba9703214142e",
            "_dom_classes": [],
            "description": "100%",
            "_model_name": "FloatProgressModel",
            "bar_style": "success",
            "max": 363,
            "_view_module": "@jupyter-widgets/controls",
            "_model_module_version": "1.5.0",
            "value": 363,
            "_view_count": null,
            "_view_module_version": "1.5.0",
            "orientation": "horizontal",
            "min": 0,
            "description_tooltip": null,
            "_model_module": "@jupyter-widgets/controls",
            "layout": "IPY_MODEL_1fc00184d6a34cd1a20f831d04784909"
          }
        },
        "d91c51629eaf4f71b6e4d9eb12e25ef5": {
          "model_module": "@jupyter-widgets/controls",
          "model_name": "HTMLModel",
          "state": {
            "_view_name": "HTMLView",
            "style": "IPY_MODEL_7fafe3e2d4bb4841bddb88e293d908ee",
            "_dom_classes": [],
            "description": "",
            "_model_name": "HTMLModel",
            "placeholder": "​",
            "_view_module": "@jupyter-widgets/controls",
            "_model_module_version": "1.5.0",
            "value": " 363/363 [00:00&lt;00:00, 404.20it/s]",
            "_view_count": null,
            "_view_module_version": "1.5.0",
            "description_tooltip": null,
            "_model_module": "@jupyter-widgets/controls",
            "layout": "IPY_MODEL_bfd96fa79a79403d9a6cfcd80ee4ee56"
          }
        },
        "a566ff51808b4634a27ba9703214142e": {
          "model_module": "@jupyter-widgets/controls",
          "model_name": "ProgressStyleModel",
          "state": {
            "_view_name": "StyleView",
            "_model_name": "ProgressStyleModel",
            "description_width": "initial",
            "_view_module": "@jupyter-widgets/base",
            "_model_module_version": "1.5.0",
            "_view_count": null,
            "_view_module_version": "1.2.0",
            "bar_color": null,
            "_model_module": "@jupyter-widgets/controls"
          }
        },
        "1fc00184d6a34cd1a20f831d04784909": {
          "model_module": "@jupyter-widgets/base",
          "model_name": "LayoutModel",
          "state": {
            "_view_name": "LayoutView",
            "grid_template_rows": null,
            "right": null,
            "justify_content": null,
            "_view_module": "@jupyter-widgets/base",
            "overflow": null,
            "_model_module_version": "1.2.0",
            "_view_count": null,
            "flex_flow": null,
            "width": null,
            "min_width": null,
            "border": null,
            "align_items": null,
            "bottom": null,
            "_model_module": "@jupyter-widgets/base",
            "top": null,
            "grid_column": null,
            "overflow_y": null,
            "overflow_x": null,
            "grid_auto_flow": null,
            "grid_area": null,
            "grid_template_columns": null,
            "flex": null,
            "_model_name": "LayoutModel",
            "justify_items": null,
            "grid_row": null,
            "max_height": null,
            "align_content": null,
            "visibility": null,
            "align_self": null,
            "height": null,
            "min_height": null,
            "padding": null,
            "grid_auto_rows": null,
            "grid_gap": null,
            "max_width": null,
            "order": null,
            "_view_module_version": "1.2.0",
            "grid_template_areas": null,
            "object_position": null,
            "object_fit": null,
            "grid_auto_columns": null,
            "margin": null,
            "display": null,
            "left": null
          }
        },
        "7fafe3e2d4bb4841bddb88e293d908ee": {
          "model_module": "@jupyter-widgets/controls",
          "model_name": "DescriptionStyleModel",
          "state": {
            "_view_name": "StyleView",
            "_model_name": "DescriptionStyleModel",
            "description_width": "",
            "_view_module": "@jupyter-widgets/base",
            "_model_module_version": "1.5.0",
            "_view_count": null,
            "_view_module_version": "1.2.0",
            "_model_module": "@jupyter-widgets/controls"
          }
        },
        "bfd96fa79a79403d9a6cfcd80ee4ee56": {
          "model_module": "@jupyter-widgets/base",
          "model_name": "LayoutModel",
          "state": {
            "_view_name": "LayoutView",
            "grid_template_rows": null,
            "right": null,
            "justify_content": null,
            "_view_module": "@jupyter-widgets/base",
            "overflow": null,
            "_model_module_version": "1.2.0",
            "_view_count": null,
            "flex_flow": null,
            "width": null,
            "min_width": null,
            "border": null,
            "align_items": null,
            "bottom": null,
            "_model_module": "@jupyter-widgets/base",
            "top": null,
            "grid_column": null,
            "overflow_y": null,
            "overflow_x": null,
            "grid_auto_flow": null,
            "grid_area": null,
            "grid_template_columns": null,
            "flex": null,
            "_model_name": "LayoutModel",
            "justify_items": null,
            "grid_row": null,
            "max_height": null,
            "align_content": null,
            "visibility": null,
            "align_self": null,
            "height": null,
            "min_height": null,
            "padding": null,
            "grid_auto_rows": null,
            "grid_gap": null,
            "max_width": null,
            "order": null,
            "_view_module_version": "1.2.0",
            "grid_template_areas": null,
            "object_position": null,
            "object_fit": null,
            "grid_auto_columns": null,
            "margin": null,
            "display": null,
            "left": null
          }
        },
        "83d1058c04d748f9a53b11800993e54e": {
          "model_module": "@jupyter-widgets/controls",
          "model_name": "HBoxModel",
          "state": {
            "_view_name": "HBoxView",
            "_dom_classes": [],
            "_model_name": "HBoxModel",
            "_view_module": "@jupyter-widgets/controls",
            "_model_module_version": "1.5.0",
            "_view_count": null,
            "_view_module_version": "1.5.0",
            "box_style": "",
            "layout": "IPY_MODEL_c92c2e09579441a1847ab7b66aa20901",
            "_model_module": "@jupyter-widgets/controls",
            "children": [
              "IPY_MODEL_bb02ae0a86f141b09e418137c6fcda88",
              "IPY_MODEL_4537a35adce84938a9c2e0c041c33866"
            ]
          }
        },
        "c92c2e09579441a1847ab7b66aa20901": {
          "model_module": "@jupyter-widgets/base",
          "model_name": "LayoutModel",
          "state": {
            "_view_name": "LayoutView",
            "grid_template_rows": null,
            "right": null,
            "justify_content": null,
            "_view_module": "@jupyter-widgets/base",
            "overflow": null,
            "_model_module_version": "1.2.0",
            "_view_count": null,
            "flex_flow": null,
            "width": null,
            "min_width": null,
            "border": null,
            "align_items": null,
            "bottom": null,
            "_model_module": "@jupyter-widgets/base",
            "top": null,
            "grid_column": null,
            "overflow_y": null,
            "overflow_x": null,
            "grid_auto_flow": null,
            "grid_area": null,
            "grid_template_columns": null,
            "flex": null,
            "_model_name": "LayoutModel",
            "justify_items": null,
            "grid_row": null,
            "max_height": null,
            "align_content": null,
            "visibility": null,
            "align_self": null,
            "height": null,
            "min_height": null,
            "padding": null,
            "grid_auto_rows": null,
            "grid_gap": null,
            "max_width": null,
            "order": null,
            "_view_module_version": "1.2.0",
            "grid_template_areas": null,
            "object_position": null,
            "object_fit": null,
            "grid_auto_columns": null,
            "margin": null,
            "display": null,
            "left": null
          }
        },
        "bb02ae0a86f141b09e418137c6fcda88": {
          "model_module": "@jupyter-widgets/controls",
          "model_name": "FloatProgressModel",
          "state": {
            "_view_name": "ProgressView",
            "style": "IPY_MODEL_f7aec54ac73048469571c76494dea329",
            "_dom_classes": [],
            "description": "100%",
            "_model_name": "FloatProgressModel",
            "bar_style": "success",
            "max": 365,
            "_view_module": "@jupyter-widgets/controls",
            "_model_module_version": "1.5.0",
            "value": 365,
            "_view_count": null,
            "_view_module_version": "1.5.0",
            "orientation": "horizontal",
            "min": 0,
            "description_tooltip": null,
            "_model_module": "@jupyter-widgets/controls",
            "layout": "IPY_MODEL_3ea26230a2f647ada828f4f4eb4d04ef"
          }
        },
        "4537a35adce84938a9c2e0c041c33866": {
          "model_module": "@jupyter-widgets/controls",
          "model_name": "HTMLModel",
          "state": {
            "_view_name": "HTMLView",
            "style": "IPY_MODEL_d49ffe862f074456a45fd0ca3ebc5d82",
            "_dom_classes": [],
            "description": "",
            "_model_name": "HTMLModel",
            "placeholder": "​",
            "_view_module": "@jupyter-widgets/controls",
            "_model_module_version": "1.5.0",
            "value": " 365/365 [00:08&lt;00:00, 41.65it/s]",
            "_view_count": null,
            "_view_module_version": "1.5.0",
            "description_tooltip": null,
            "_model_module": "@jupyter-widgets/controls",
            "layout": "IPY_MODEL_9f83005dd65745c395dfaf972b6e124c"
          }
        },
        "f7aec54ac73048469571c76494dea329": {
          "model_module": "@jupyter-widgets/controls",
          "model_name": "ProgressStyleModel",
          "state": {
            "_view_name": "StyleView",
            "_model_name": "ProgressStyleModel",
            "description_width": "initial",
            "_view_module": "@jupyter-widgets/base",
            "_model_module_version": "1.5.0",
            "_view_count": null,
            "_view_module_version": "1.2.0",
            "bar_color": null,
            "_model_module": "@jupyter-widgets/controls"
          }
        },
        "3ea26230a2f647ada828f4f4eb4d04ef": {
          "model_module": "@jupyter-widgets/base",
          "model_name": "LayoutModel",
          "state": {
            "_view_name": "LayoutView",
            "grid_template_rows": null,
            "right": null,
            "justify_content": null,
            "_view_module": "@jupyter-widgets/base",
            "overflow": null,
            "_model_module_version": "1.2.0",
            "_view_count": null,
            "flex_flow": null,
            "width": null,
            "min_width": null,
            "border": null,
            "align_items": null,
            "bottom": null,
            "_model_module": "@jupyter-widgets/base",
            "top": null,
            "grid_column": null,
            "overflow_y": null,
            "overflow_x": null,
            "grid_auto_flow": null,
            "grid_area": null,
            "grid_template_columns": null,
            "flex": null,
            "_model_name": "LayoutModel",
            "justify_items": null,
            "grid_row": null,
            "max_height": null,
            "align_content": null,
            "visibility": null,
            "align_self": null,
            "height": null,
            "min_height": null,
            "padding": null,
            "grid_auto_rows": null,
            "grid_gap": null,
            "max_width": null,
            "order": null,
            "_view_module_version": "1.2.0",
            "grid_template_areas": null,
            "object_position": null,
            "object_fit": null,
            "grid_auto_columns": null,
            "margin": null,
            "display": null,
            "left": null
          }
        },
        "d49ffe862f074456a45fd0ca3ebc5d82": {
          "model_module": "@jupyter-widgets/controls",
          "model_name": "DescriptionStyleModel",
          "state": {
            "_view_name": "StyleView",
            "_model_name": "DescriptionStyleModel",
            "description_width": "",
            "_view_module": "@jupyter-widgets/base",
            "_model_module_version": "1.5.0",
            "_view_count": null,
            "_view_module_version": "1.2.0",
            "_model_module": "@jupyter-widgets/controls"
          }
        },
        "9f83005dd65745c395dfaf972b6e124c": {
          "model_module": "@jupyter-widgets/base",
          "model_name": "LayoutModel",
          "state": {
            "_view_name": "LayoutView",
            "grid_template_rows": null,
            "right": null,
            "justify_content": null,
            "_view_module": "@jupyter-widgets/base",
            "overflow": null,
            "_model_module_version": "1.2.0",
            "_view_count": null,
            "flex_flow": null,
            "width": null,
            "min_width": null,
            "border": null,
            "align_items": null,
            "bottom": null,
            "_model_module": "@jupyter-widgets/base",
            "top": null,
            "grid_column": null,
            "overflow_y": null,
            "overflow_x": null,
            "grid_auto_flow": null,
            "grid_area": null,
            "grid_template_columns": null,
            "flex": null,
            "_model_name": "LayoutModel",
            "justify_items": null,
            "grid_row": null,
            "max_height": null,
            "align_content": null,
            "visibility": null,
            "align_self": null,
            "height": null,
            "min_height": null,
            "padding": null,
            "grid_auto_rows": null,
            "grid_gap": null,
            "max_width": null,
            "order": null,
            "_view_module_version": "1.2.0",
            "grid_template_areas": null,
            "object_position": null,
            "object_fit": null,
            "grid_auto_columns": null,
            "margin": null,
            "display": null,
            "left": null
          }
        },
        "40b0bb0d2e404c258d75a4992a9c9f8f": {
          "model_module": "@jupyter-widgets/controls",
          "model_name": "HBoxModel",
          "state": {
            "_view_name": "HBoxView",
            "_dom_classes": [],
            "_model_name": "HBoxModel",
            "_view_module": "@jupyter-widgets/controls",
            "_model_module_version": "1.5.0",
            "_view_count": null,
            "_view_module_version": "1.5.0",
            "box_style": "",
            "layout": "IPY_MODEL_53a0ed4904f149188ab26ce81df61b0d",
            "_model_module": "@jupyter-widgets/controls",
            "children": [
              "IPY_MODEL_68f516b3b58d43939135f01849c7c580",
              "IPY_MODEL_e2d4c8d651754ffba4ad1580fbf0f142"
            ]
          }
        },
        "53a0ed4904f149188ab26ce81df61b0d": {
          "model_module": "@jupyter-widgets/base",
          "model_name": "LayoutModel",
          "state": {
            "_view_name": "LayoutView",
            "grid_template_rows": null,
            "right": null,
            "justify_content": null,
            "_view_module": "@jupyter-widgets/base",
            "overflow": null,
            "_model_module_version": "1.2.0",
            "_view_count": null,
            "flex_flow": null,
            "width": null,
            "min_width": null,
            "border": null,
            "align_items": null,
            "bottom": null,
            "_model_module": "@jupyter-widgets/base",
            "top": null,
            "grid_column": null,
            "overflow_y": null,
            "overflow_x": null,
            "grid_auto_flow": null,
            "grid_area": null,
            "grid_template_columns": null,
            "flex": null,
            "_model_name": "LayoutModel",
            "justify_items": null,
            "grid_row": null,
            "max_height": null,
            "align_content": null,
            "visibility": null,
            "align_self": null,
            "height": null,
            "min_height": null,
            "padding": null,
            "grid_auto_rows": null,
            "grid_gap": null,
            "max_width": null,
            "order": null,
            "_view_module_version": "1.2.0",
            "grid_template_areas": null,
            "object_position": null,
            "object_fit": null,
            "grid_auto_columns": null,
            "margin": null,
            "display": null,
            "left": null
          }
        },
        "68f516b3b58d43939135f01849c7c580": {
          "model_module": "@jupyter-widgets/controls",
          "model_name": "FloatProgressModel",
          "state": {
            "_view_name": "ProgressView",
            "style": "IPY_MODEL_df31e20918194fa58621cd981903f68d",
            "_dom_classes": [],
            "description": "100%",
            "_model_name": "FloatProgressModel",
            "bar_style": "success",
            "max": 363,
            "_view_module": "@jupyter-widgets/controls",
            "_model_module_version": "1.5.0",
            "value": 363,
            "_view_count": null,
            "_view_module_version": "1.5.0",
            "orientation": "horizontal",
            "min": 0,
            "description_tooltip": null,
            "_model_module": "@jupyter-widgets/controls",
            "layout": "IPY_MODEL_3e32ac9f7e1f41e8badcfbca1827a6b7"
          }
        },
        "e2d4c8d651754ffba4ad1580fbf0f142": {
          "model_module": "@jupyter-widgets/controls",
          "model_name": "HTMLModel",
          "state": {
            "_view_name": "HTMLView",
            "style": "IPY_MODEL_d7c6e16a6d1142df8261b83752f9aee5",
            "_dom_classes": [],
            "description": "",
            "_model_name": "HTMLModel",
            "placeholder": "​",
            "_view_module": "@jupyter-widgets/controls",
            "_model_module_version": "1.5.0",
            "value": " 363/363 [00:02&lt;00:00, 138.42it/s]",
            "_view_count": null,
            "_view_module_version": "1.5.0",
            "description_tooltip": null,
            "_model_module": "@jupyter-widgets/controls",
            "layout": "IPY_MODEL_e0399097445142d3b080304b8d1b3e72"
          }
        },
        "df31e20918194fa58621cd981903f68d": {
          "model_module": "@jupyter-widgets/controls",
          "model_name": "ProgressStyleModel",
          "state": {
            "_view_name": "StyleView",
            "_model_name": "ProgressStyleModel",
            "description_width": "initial",
            "_view_module": "@jupyter-widgets/base",
            "_model_module_version": "1.5.0",
            "_view_count": null,
            "_view_module_version": "1.2.0",
            "bar_color": null,
            "_model_module": "@jupyter-widgets/controls"
          }
        },
        "3e32ac9f7e1f41e8badcfbca1827a6b7": {
          "model_module": "@jupyter-widgets/base",
          "model_name": "LayoutModel",
          "state": {
            "_view_name": "LayoutView",
            "grid_template_rows": null,
            "right": null,
            "justify_content": null,
            "_view_module": "@jupyter-widgets/base",
            "overflow": null,
            "_model_module_version": "1.2.0",
            "_view_count": null,
            "flex_flow": null,
            "width": null,
            "min_width": null,
            "border": null,
            "align_items": null,
            "bottom": null,
            "_model_module": "@jupyter-widgets/base",
            "top": null,
            "grid_column": null,
            "overflow_y": null,
            "overflow_x": null,
            "grid_auto_flow": null,
            "grid_area": null,
            "grid_template_columns": null,
            "flex": null,
            "_model_name": "LayoutModel",
            "justify_items": null,
            "grid_row": null,
            "max_height": null,
            "align_content": null,
            "visibility": null,
            "align_self": null,
            "height": null,
            "min_height": null,
            "padding": null,
            "grid_auto_rows": null,
            "grid_gap": null,
            "max_width": null,
            "order": null,
            "_view_module_version": "1.2.0",
            "grid_template_areas": null,
            "object_position": null,
            "object_fit": null,
            "grid_auto_columns": null,
            "margin": null,
            "display": null,
            "left": null
          }
        },
        "d7c6e16a6d1142df8261b83752f9aee5": {
          "model_module": "@jupyter-widgets/controls",
          "model_name": "DescriptionStyleModel",
          "state": {
            "_view_name": "StyleView",
            "_model_name": "DescriptionStyleModel",
            "description_width": "",
            "_view_module": "@jupyter-widgets/base",
            "_model_module_version": "1.5.0",
            "_view_count": null,
            "_view_module_version": "1.2.0",
            "_model_module": "@jupyter-widgets/controls"
          }
        },
        "e0399097445142d3b080304b8d1b3e72": {
          "model_module": "@jupyter-widgets/base",
          "model_name": "LayoutModel",
          "state": {
            "_view_name": "LayoutView",
            "grid_template_rows": null,
            "right": null,
            "justify_content": null,
            "_view_module": "@jupyter-widgets/base",
            "overflow": null,
            "_model_module_version": "1.2.0",
            "_view_count": null,
            "flex_flow": null,
            "width": null,
            "min_width": null,
            "border": null,
            "align_items": null,
            "bottom": null,
            "_model_module": "@jupyter-widgets/base",
            "top": null,
            "grid_column": null,
            "overflow_y": null,
            "overflow_x": null,
            "grid_auto_flow": null,
            "grid_area": null,
            "grid_template_columns": null,
            "flex": null,
            "_model_name": "LayoutModel",
            "justify_items": null,
            "grid_row": null,
            "max_height": null,
            "align_content": null,
            "visibility": null,
            "align_self": null,
            "height": null,
            "min_height": null,
            "padding": null,
            "grid_auto_rows": null,
            "grid_gap": null,
            "max_width": null,
            "order": null,
            "_view_module_version": "1.2.0",
            "grid_template_areas": null,
            "object_position": null,
            "object_fit": null,
            "grid_auto_columns": null,
            "margin": null,
            "display": null,
            "left": null
          }
        },
        "b2ce6c8128074832af3dba9f15556d1c": {
          "model_module": "@jupyter-widgets/controls",
          "model_name": "HBoxModel",
          "state": {
            "_view_name": "HBoxView",
            "_dom_classes": [],
            "_model_name": "HBoxModel",
            "_view_module": "@jupyter-widgets/controls",
            "_model_module_version": "1.5.0",
            "_view_count": null,
            "_view_module_version": "1.5.0",
            "box_style": "",
            "layout": "IPY_MODEL_3cebf59731104673ba54a871b20315af",
            "_model_module": "@jupyter-widgets/controls",
            "children": [
              "IPY_MODEL_01726b5cc47540f3acdc741b114dcd5a",
              "IPY_MODEL_ec838f3bcb6f44089e72071aec16f625"
            ]
          }
        },
        "3cebf59731104673ba54a871b20315af": {
          "model_module": "@jupyter-widgets/base",
          "model_name": "LayoutModel",
          "state": {
            "_view_name": "LayoutView",
            "grid_template_rows": null,
            "right": null,
            "justify_content": null,
            "_view_module": "@jupyter-widgets/base",
            "overflow": null,
            "_model_module_version": "1.2.0",
            "_view_count": null,
            "flex_flow": null,
            "width": null,
            "min_width": null,
            "border": null,
            "align_items": null,
            "bottom": null,
            "_model_module": "@jupyter-widgets/base",
            "top": null,
            "grid_column": null,
            "overflow_y": null,
            "overflow_x": null,
            "grid_auto_flow": null,
            "grid_area": null,
            "grid_template_columns": null,
            "flex": null,
            "_model_name": "LayoutModel",
            "justify_items": null,
            "grid_row": null,
            "max_height": null,
            "align_content": null,
            "visibility": null,
            "align_self": null,
            "height": null,
            "min_height": null,
            "padding": null,
            "grid_auto_rows": null,
            "grid_gap": null,
            "max_width": null,
            "order": null,
            "_view_module_version": "1.2.0",
            "grid_template_areas": null,
            "object_position": null,
            "object_fit": null,
            "grid_auto_columns": null,
            "margin": null,
            "display": null,
            "left": null
          }
        },
        "01726b5cc47540f3acdc741b114dcd5a": {
          "model_module": "@jupyter-widgets/controls",
          "model_name": "FloatProgressModel",
          "state": {
            "_view_name": "ProgressView",
            "style": "IPY_MODEL_2aace97afd9a4e93bb3ccdff4843f338",
            "_dom_classes": [],
            "description": "100%",
            "_model_name": "FloatProgressModel",
            "bar_style": "success",
            "max": 364,
            "_view_module": "@jupyter-widgets/controls",
            "_model_module_version": "1.5.0",
            "value": 364,
            "_view_count": null,
            "_view_module_version": "1.5.0",
            "orientation": "horizontal",
            "min": 0,
            "description_tooltip": null,
            "_model_module": "@jupyter-widgets/controls",
            "layout": "IPY_MODEL_c4bb6ff9bd8e4e38aefdee0d86c682e7"
          }
        },
        "ec838f3bcb6f44089e72071aec16f625": {
          "model_module": "@jupyter-widgets/controls",
          "model_name": "HTMLModel",
          "state": {
            "_view_name": "HTMLView",
            "style": "IPY_MODEL_dc4d8c2d9895472dab40c2df4eba88a1",
            "_dom_classes": [],
            "description": "",
            "_model_name": "HTMLModel",
            "placeholder": "​",
            "_view_module": "@jupyter-widgets/controls",
            "_model_module_version": "1.5.0",
            "value": " 364/364 [00:01&lt;00:00, 206.32it/s]",
            "_view_count": null,
            "_view_module_version": "1.5.0",
            "description_tooltip": null,
            "_model_module": "@jupyter-widgets/controls",
            "layout": "IPY_MODEL_b22668d4fe7249b5893fa74273ca944f"
          }
        },
        "2aace97afd9a4e93bb3ccdff4843f338": {
          "model_module": "@jupyter-widgets/controls",
          "model_name": "ProgressStyleModel",
          "state": {
            "_view_name": "StyleView",
            "_model_name": "ProgressStyleModel",
            "description_width": "initial",
            "_view_module": "@jupyter-widgets/base",
            "_model_module_version": "1.5.0",
            "_view_count": null,
            "_view_module_version": "1.2.0",
            "bar_color": null,
            "_model_module": "@jupyter-widgets/controls"
          }
        },
        "c4bb6ff9bd8e4e38aefdee0d86c682e7": {
          "model_module": "@jupyter-widgets/base",
          "model_name": "LayoutModel",
          "state": {
            "_view_name": "LayoutView",
            "grid_template_rows": null,
            "right": null,
            "justify_content": null,
            "_view_module": "@jupyter-widgets/base",
            "overflow": null,
            "_model_module_version": "1.2.0",
            "_view_count": null,
            "flex_flow": null,
            "width": null,
            "min_width": null,
            "border": null,
            "align_items": null,
            "bottom": null,
            "_model_module": "@jupyter-widgets/base",
            "top": null,
            "grid_column": null,
            "overflow_y": null,
            "overflow_x": null,
            "grid_auto_flow": null,
            "grid_area": null,
            "grid_template_columns": null,
            "flex": null,
            "_model_name": "LayoutModel",
            "justify_items": null,
            "grid_row": null,
            "max_height": null,
            "align_content": null,
            "visibility": null,
            "align_self": null,
            "height": null,
            "min_height": null,
            "padding": null,
            "grid_auto_rows": null,
            "grid_gap": null,
            "max_width": null,
            "order": null,
            "_view_module_version": "1.2.0",
            "grid_template_areas": null,
            "object_position": null,
            "object_fit": null,
            "grid_auto_columns": null,
            "margin": null,
            "display": null,
            "left": null
          }
        },
        "dc4d8c2d9895472dab40c2df4eba88a1": {
          "model_module": "@jupyter-widgets/controls",
          "model_name": "DescriptionStyleModel",
          "state": {
            "_view_name": "StyleView",
            "_model_name": "DescriptionStyleModel",
            "description_width": "",
            "_view_module": "@jupyter-widgets/base",
            "_model_module_version": "1.5.0",
            "_view_count": null,
            "_view_module_version": "1.2.0",
            "_model_module": "@jupyter-widgets/controls"
          }
        },
        "b22668d4fe7249b5893fa74273ca944f": {
          "model_module": "@jupyter-widgets/base",
          "model_name": "LayoutModel",
          "state": {
            "_view_name": "LayoutView",
            "grid_template_rows": null,
            "right": null,
            "justify_content": null,
            "_view_module": "@jupyter-widgets/base",
            "overflow": null,
            "_model_module_version": "1.2.0",
            "_view_count": null,
            "flex_flow": null,
            "width": null,
            "min_width": null,
            "border": null,
            "align_items": null,
            "bottom": null,
            "_model_module": "@jupyter-widgets/base",
            "top": null,
            "grid_column": null,
            "overflow_y": null,
            "overflow_x": null,
            "grid_auto_flow": null,
            "grid_area": null,
            "grid_template_columns": null,
            "flex": null,
            "_model_name": "LayoutModel",
            "justify_items": null,
            "grid_row": null,
            "max_height": null,
            "align_content": null,
            "visibility": null,
            "align_self": null,
            "height": null,
            "min_height": null,
            "padding": null,
            "grid_auto_rows": null,
            "grid_gap": null,
            "max_width": null,
            "order": null,
            "_view_module_version": "1.2.0",
            "grid_template_areas": null,
            "object_position": null,
            "object_fit": null,
            "grid_auto_columns": null,
            "margin": null,
            "display": null,
            "left": null
          }
        },
        "99fddd665fc54a199d74181d7ed7f412": {
          "model_module": "@jupyter-widgets/controls",
          "model_name": "HBoxModel",
          "state": {
            "_view_name": "HBoxView",
            "_dom_classes": [],
            "_model_name": "HBoxModel",
            "_view_module": "@jupyter-widgets/controls",
            "_model_module_version": "1.5.0",
            "_view_count": null,
            "_view_module_version": "1.5.0",
            "box_style": "",
            "layout": "IPY_MODEL_10f7522625c9458fb60798a759ce0192",
            "_model_module": "@jupyter-widgets/controls",
            "children": [
              "IPY_MODEL_566624bafa6645db9766572ffdc262c9",
              "IPY_MODEL_42090d6b4cb94fcc879614c18b320698"
            ]
          }
        },
        "10f7522625c9458fb60798a759ce0192": {
          "model_module": "@jupyter-widgets/base",
          "model_name": "LayoutModel",
          "state": {
            "_view_name": "LayoutView",
            "grid_template_rows": null,
            "right": null,
            "justify_content": null,
            "_view_module": "@jupyter-widgets/base",
            "overflow": null,
            "_model_module_version": "1.2.0",
            "_view_count": null,
            "flex_flow": null,
            "width": null,
            "min_width": null,
            "border": null,
            "align_items": null,
            "bottom": null,
            "_model_module": "@jupyter-widgets/base",
            "top": null,
            "grid_column": null,
            "overflow_y": null,
            "overflow_x": null,
            "grid_auto_flow": null,
            "grid_area": null,
            "grid_template_columns": null,
            "flex": null,
            "_model_name": "LayoutModel",
            "justify_items": null,
            "grid_row": null,
            "max_height": null,
            "align_content": null,
            "visibility": null,
            "align_self": null,
            "height": null,
            "min_height": null,
            "padding": null,
            "grid_auto_rows": null,
            "grid_gap": null,
            "max_width": null,
            "order": null,
            "_view_module_version": "1.2.0",
            "grid_template_areas": null,
            "object_position": null,
            "object_fit": null,
            "grid_auto_columns": null,
            "margin": null,
            "display": null,
            "left": null
          }
        },
        "566624bafa6645db9766572ffdc262c9": {
          "model_module": "@jupyter-widgets/controls",
          "model_name": "FloatProgressModel",
          "state": {
            "_view_name": "ProgressView",
            "style": "IPY_MODEL_2a5ae511bc9c4cd09ccbc2065b8cc7b5",
            "_dom_classes": [],
            "description": "100%",
            "_model_name": "FloatProgressModel",
            "bar_style": "success",
            "max": 363,
            "_view_module": "@jupyter-widgets/controls",
            "_model_module_version": "1.5.0",
            "value": 363,
            "_view_count": null,
            "_view_module_version": "1.5.0",
            "orientation": "horizontal",
            "min": 0,
            "description_tooltip": null,
            "_model_module": "@jupyter-widgets/controls",
            "layout": "IPY_MODEL_38d3806ee5fe43d386d330444bc12e42"
          }
        },
        "42090d6b4cb94fcc879614c18b320698": {
          "model_module": "@jupyter-widgets/controls",
          "model_name": "HTMLModel",
          "state": {
            "_view_name": "HTMLView",
            "style": "IPY_MODEL_86df53db419049e0a552bface97487dd",
            "_dom_classes": [],
            "description": "",
            "_model_name": "HTMLModel",
            "placeholder": "​",
            "_view_module": "@jupyter-widgets/controls",
            "_model_module_version": "1.5.0",
            "value": " 363/363 [00:00&lt;00:00, 399.92it/s]",
            "_view_count": null,
            "_view_module_version": "1.5.0",
            "description_tooltip": null,
            "_model_module": "@jupyter-widgets/controls",
            "layout": "IPY_MODEL_9a4965a0ee37463eab73a1c889bcc351"
          }
        },
        "2a5ae511bc9c4cd09ccbc2065b8cc7b5": {
          "model_module": "@jupyter-widgets/controls",
          "model_name": "ProgressStyleModel",
          "state": {
            "_view_name": "StyleView",
            "_model_name": "ProgressStyleModel",
            "description_width": "initial",
            "_view_module": "@jupyter-widgets/base",
            "_model_module_version": "1.5.0",
            "_view_count": null,
            "_view_module_version": "1.2.0",
            "bar_color": null,
            "_model_module": "@jupyter-widgets/controls"
          }
        },
        "38d3806ee5fe43d386d330444bc12e42": {
          "model_module": "@jupyter-widgets/base",
          "model_name": "LayoutModel",
          "state": {
            "_view_name": "LayoutView",
            "grid_template_rows": null,
            "right": null,
            "justify_content": null,
            "_view_module": "@jupyter-widgets/base",
            "overflow": null,
            "_model_module_version": "1.2.0",
            "_view_count": null,
            "flex_flow": null,
            "width": null,
            "min_width": null,
            "border": null,
            "align_items": null,
            "bottom": null,
            "_model_module": "@jupyter-widgets/base",
            "top": null,
            "grid_column": null,
            "overflow_y": null,
            "overflow_x": null,
            "grid_auto_flow": null,
            "grid_area": null,
            "grid_template_columns": null,
            "flex": null,
            "_model_name": "LayoutModel",
            "justify_items": null,
            "grid_row": null,
            "max_height": null,
            "align_content": null,
            "visibility": null,
            "align_self": null,
            "height": null,
            "min_height": null,
            "padding": null,
            "grid_auto_rows": null,
            "grid_gap": null,
            "max_width": null,
            "order": null,
            "_view_module_version": "1.2.0",
            "grid_template_areas": null,
            "object_position": null,
            "object_fit": null,
            "grid_auto_columns": null,
            "margin": null,
            "display": null,
            "left": null
          }
        },
        "86df53db419049e0a552bface97487dd": {
          "model_module": "@jupyter-widgets/controls",
          "model_name": "DescriptionStyleModel",
          "state": {
            "_view_name": "StyleView",
            "_model_name": "DescriptionStyleModel",
            "description_width": "",
            "_view_module": "@jupyter-widgets/base",
            "_model_module_version": "1.5.0",
            "_view_count": null,
            "_view_module_version": "1.2.0",
            "_model_module": "@jupyter-widgets/controls"
          }
        },
        "9a4965a0ee37463eab73a1c889bcc351": {
          "model_module": "@jupyter-widgets/base",
          "model_name": "LayoutModel",
          "state": {
            "_view_name": "LayoutView",
            "grid_template_rows": null,
            "right": null,
            "justify_content": null,
            "_view_module": "@jupyter-widgets/base",
            "overflow": null,
            "_model_module_version": "1.2.0",
            "_view_count": null,
            "flex_flow": null,
            "width": null,
            "min_width": null,
            "border": null,
            "align_items": null,
            "bottom": null,
            "_model_module": "@jupyter-widgets/base",
            "top": null,
            "grid_column": null,
            "overflow_y": null,
            "overflow_x": null,
            "grid_auto_flow": null,
            "grid_area": null,
            "grid_template_columns": null,
            "flex": null,
            "_model_name": "LayoutModel",
            "justify_items": null,
            "grid_row": null,
            "max_height": null,
            "align_content": null,
            "visibility": null,
            "align_self": null,
            "height": null,
            "min_height": null,
            "padding": null,
            "grid_auto_rows": null,
            "grid_gap": null,
            "max_width": null,
            "order": null,
            "_view_module_version": "1.2.0",
            "grid_template_areas": null,
            "object_position": null,
            "object_fit": null,
            "grid_auto_columns": null,
            "margin": null,
            "display": null,
            "left": null
          }
        },
        "631ee0fd37bd4fde813b2f26762db7ef": {
          "model_module": "@jupyter-widgets/controls",
          "model_name": "HBoxModel",
          "state": {
            "_view_name": "HBoxView",
            "_dom_classes": [],
            "_model_name": "HBoxModel",
            "_view_module": "@jupyter-widgets/controls",
            "_model_module_version": "1.5.0",
            "_view_count": null,
            "_view_module_version": "1.5.0",
            "box_style": "",
            "layout": "IPY_MODEL_09cb6a72ff7f408cbb6455f1df0ea82c",
            "_model_module": "@jupyter-widgets/controls",
            "children": [
              "IPY_MODEL_93ad547484da43479cb44f7f03dd3eba",
              "IPY_MODEL_8a71445ee8254f0f98910c11aa640755"
            ]
          }
        },
        "09cb6a72ff7f408cbb6455f1df0ea82c": {
          "model_module": "@jupyter-widgets/base",
          "model_name": "LayoutModel",
          "state": {
            "_view_name": "LayoutView",
            "grid_template_rows": null,
            "right": null,
            "justify_content": null,
            "_view_module": "@jupyter-widgets/base",
            "overflow": null,
            "_model_module_version": "1.2.0",
            "_view_count": null,
            "flex_flow": null,
            "width": null,
            "min_width": null,
            "border": null,
            "align_items": null,
            "bottom": null,
            "_model_module": "@jupyter-widgets/base",
            "top": null,
            "grid_column": null,
            "overflow_y": null,
            "overflow_x": null,
            "grid_auto_flow": null,
            "grid_area": null,
            "grid_template_columns": null,
            "flex": null,
            "_model_name": "LayoutModel",
            "justify_items": null,
            "grid_row": null,
            "max_height": null,
            "align_content": null,
            "visibility": null,
            "align_self": null,
            "height": null,
            "min_height": null,
            "padding": null,
            "grid_auto_rows": null,
            "grid_gap": null,
            "max_width": null,
            "order": null,
            "_view_module_version": "1.2.0",
            "grid_template_areas": null,
            "object_position": null,
            "object_fit": null,
            "grid_auto_columns": null,
            "margin": null,
            "display": null,
            "left": null
          }
        },
        "93ad547484da43479cb44f7f03dd3eba": {
          "model_module": "@jupyter-widgets/controls",
          "model_name": "FloatProgressModel",
          "state": {
            "_view_name": "ProgressView",
            "style": "IPY_MODEL_93cafb80d4e440b9a5d78fd0b9974f11",
            "_dom_classes": [],
            "description": "100%",
            "_model_name": "FloatProgressModel",
            "bar_style": "success",
            "max": 363,
            "_view_module": "@jupyter-widgets/controls",
            "_model_module_version": "1.5.0",
            "value": 363,
            "_view_count": null,
            "_view_module_version": "1.5.0",
            "orientation": "horizontal",
            "min": 0,
            "description_tooltip": null,
            "_model_module": "@jupyter-widgets/controls",
            "layout": "IPY_MODEL_2201ed5dc39e4d59ad3e74c9d2cf0153"
          }
        },
        "8a71445ee8254f0f98910c11aa640755": {
          "model_module": "@jupyter-widgets/controls",
          "model_name": "HTMLModel",
          "state": {
            "_view_name": "HTMLView",
            "style": "IPY_MODEL_c58356791efd4fa5b11f2b73c15af473",
            "_dom_classes": [],
            "description": "",
            "_model_name": "HTMLModel",
            "placeholder": "​",
            "_view_module": "@jupyter-widgets/controls",
            "_model_module_version": "1.5.0",
            "value": " 363/363 [00:05&lt;00:00, 68.17it/s]",
            "_view_count": null,
            "_view_module_version": "1.5.0",
            "description_tooltip": null,
            "_model_module": "@jupyter-widgets/controls",
            "layout": "IPY_MODEL_a26f3e908d2645df9707dee601554b65"
          }
        },
        "93cafb80d4e440b9a5d78fd0b9974f11": {
          "model_module": "@jupyter-widgets/controls",
          "model_name": "ProgressStyleModel",
          "state": {
            "_view_name": "StyleView",
            "_model_name": "ProgressStyleModel",
            "description_width": "initial",
            "_view_module": "@jupyter-widgets/base",
            "_model_module_version": "1.5.0",
            "_view_count": null,
            "_view_module_version": "1.2.0",
            "bar_color": null,
            "_model_module": "@jupyter-widgets/controls"
          }
        },
        "2201ed5dc39e4d59ad3e74c9d2cf0153": {
          "model_module": "@jupyter-widgets/base",
          "model_name": "LayoutModel",
          "state": {
            "_view_name": "LayoutView",
            "grid_template_rows": null,
            "right": null,
            "justify_content": null,
            "_view_module": "@jupyter-widgets/base",
            "overflow": null,
            "_model_module_version": "1.2.0",
            "_view_count": null,
            "flex_flow": null,
            "width": null,
            "min_width": null,
            "border": null,
            "align_items": null,
            "bottom": null,
            "_model_module": "@jupyter-widgets/base",
            "top": null,
            "grid_column": null,
            "overflow_y": null,
            "overflow_x": null,
            "grid_auto_flow": null,
            "grid_area": null,
            "grid_template_columns": null,
            "flex": null,
            "_model_name": "LayoutModel",
            "justify_items": null,
            "grid_row": null,
            "max_height": null,
            "align_content": null,
            "visibility": null,
            "align_self": null,
            "height": null,
            "min_height": null,
            "padding": null,
            "grid_auto_rows": null,
            "grid_gap": null,
            "max_width": null,
            "order": null,
            "_view_module_version": "1.2.0",
            "grid_template_areas": null,
            "object_position": null,
            "object_fit": null,
            "grid_auto_columns": null,
            "margin": null,
            "display": null,
            "left": null
          }
        },
        "c58356791efd4fa5b11f2b73c15af473": {
          "model_module": "@jupyter-widgets/controls",
          "model_name": "DescriptionStyleModel",
          "state": {
            "_view_name": "StyleView",
            "_model_name": "DescriptionStyleModel",
            "description_width": "",
            "_view_module": "@jupyter-widgets/base",
            "_model_module_version": "1.5.0",
            "_view_count": null,
            "_view_module_version": "1.2.0",
            "_model_module": "@jupyter-widgets/controls"
          }
        },
        "a26f3e908d2645df9707dee601554b65": {
          "model_module": "@jupyter-widgets/base",
          "model_name": "LayoutModel",
          "state": {
            "_view_name": "LayoutView",
            "grid_template_rows": null,
            "right": null,
            "justify_content": null,
            "_view_module": "@jupyter-widgets/base",
            "overflow": null,
            "_model_module_version": "1.2.0",
            "_view_count": null,
            "flex_flow": null,
            "width": null,
            "min_width": null,
            "border": null,
            "align_items": null,
            "bottom": null,
            "_model_module": "@jupyter-widgets/base",
            "top": null,
            "grid_column": null,
            "overflow_y": null,
            "overflow_x": null,
            "grid_auto_flow": null,
            "grid_area": null,
            "grid_template_columns": null,
            "flex": null,
            "_model_name": "LayoutModel",
            "justify_items": null,
            "grid_row": null,
            "max_height": null,
            "align_content": null,
            "visibility": null,
            "align_self": null,
            "height": null,
            "min_height": null,
            "padding": null,
            "grid_auto_rows": null,
            "grid_gap": null,
            "max_width": null,
            "order": null,
            "_view_module_version": "1.2.0",
            "grid_template_areas": null,
            "object_position": null,
            "object_fit": null,
            "grid_auto_columns": null,
            "margin": null,
            "display": null,
            "left": null
          }
        },
        "b17780d822cc4f2ab70874362125f35d": {
          "model_module": "@jupyter-widgets/controls",
          "model_name": "HBoxModel",
          "state": {
            "_view_name": "HBoxView",
            "_dom_classes": [],
            "_model_name": "HBoxModel",
            "_view_module": "@jupyter-widgets/controls",
            "_model_module_version": "1.5.0",
            "_view_count": null,
            "_view_module_version": "1.5.0",
            "box_style": "",
            "layout": "IPY_MODEL_200185fab29548718fc7ca1c6eb380f6",
            "_model_module": "@jupyter-widgets/controls",
            "children": [
              "IPY_MODEL_fe45b2a8e3a14a458a91c7c24e17756f",
              "IPY_MODEL_2a72d2bddbb049a8a2d80f4fdefb020b"
            ]
          }
        },
        "200185fab29548718fc7ca1c6eb380f6": {
          "model_module": "@jupyter-widgets/base",
          "model_name": "LayoutModel",
          "state": {
            "_view_name": "LayoutView",
            "grid_template_rows": null,
            "right": null,
            "justify_content": null,
            "_view_module": "@jupyter-widgets/base",
            "overflow": null,
            "_model_module_version": "1.2.0",
            "_view_count": null,
            "flex_flow": null,
            "width": null,
            "min_width": null,
            "border": null,
            "align_items": null,
            "bottom": null,
            "_model_module": "@jupyter-widgets/base",
            "top": null,
            "grid_column": null,
            "overflow_y": null,
            "overflow_x": null,
            "grid_auto_flow": null,
            "grid_area": null,
            "grid_template_columns": null,
            "flex": null,
            "_model_name": "LayoutModel",
            "justify_items": null,
            "grid_row": null,
            "max_height": null,
            "align_content": null,
            "visibility": null,
            "align_self": null,
            "height": null,
            "min_height": null,
            "padding": null,
            "grid_auto_rows": null,
            "grid_gap": null,
            "max_width": null,
            "order": null,
            "_view_module_version": "1.2.0",
            "grid_template_areas": null,
            "object_position": null,
            "object_fit": null,
            "grid_auto_columns": null,
            "margin": null,
            "display": null,
            "left": null
          }
        },
        "fe45b2a8e3a14a458a91c7c24e17756f": {
          "model_module": "@jupyter-widgets/controls",
          "model_name": "FloatProgressModel",
          "state": {
            "_view_name": "ProgressView",
            "style": "IPY_MODEL_1dbb102e85694e9083497e043ff2c6e0",
            "_dom_classes": [],
            "description": "100%",
            "_model_name": "FloatProgressModel",
            "bar_style": "success",
            "max": 1092,
            "_view_module": "@jupyter-widgets/controls",
            "_model_module_version": "1.5.0",
            "value": 1092,
            "_view_count": null,
            "_view_module_version": "1.5.0",
            "orientation": "horizontal",
            "min": 0,
            "description_tooltip": null,
            "_model_module": "@jupyter-widgets/controls",
            "layout": "IPY_MODEL_2606d7b7423348049bc4a6c510924d3d"
          }
        },
        "2a72d2bddbb049a8a2d80f4fdefb020b": {
          "model_module": "@jupyter-widgets/controls",
          "model_name": "HTMLModel",
          "state": {
            "_view_name": "HTMLView",
            "style": "IPY_MODEL_aecc96aa7da34bc4bec78a39029cac68",
            "_dom_classes": [],
            "description": "",
            "_model_name": "HTMLModel",
            "placeholder": "​",
            "_view_module": "@jupyter-widgets/controls",
            "_model_module_version": "1.5.0",
            "value": " 1092/1092 [00:04&lt;00:00, 244.41it/s]",
            "_view_count": null,
            "_view_module_version": "1.5.0",
            "description_tooltip": null,
            "_model_module": "@jupyter-widgets/controls",
            "layout": "IPY_MODEL_953806a1f40d4575b55fbab9f28578fb"
          }
        },
        "1dbb102e85694e9083497e043ff2c6e0": {
          "model_module": "@jupyter-widgets/controls",
          "model_name": "ProgressStyleModel",
          "state": {
            "_view_name": "StyleView",
            "_model_name": "ProgressStyleModel",
            "description_width": "initial",
            "_view_module": "@jupyter-widgets/base",
            "_model_module_version": "1.5.0",
            "_view_count": null,
            "_view_module_version": "1.2.0",
            "bar_color": null,
            "_model_module": "@jupyter-widgets/controls"
          }
        },
        "2606d7b7423348049bc4a6c510924d3d": {
          "model_module": "@jupyter-widgets/base",
          "model_name": "LayoutModel",
          "state": {
            "_view_name": "LayoutView",
            "grid_template_rows": null,
            "right": null,
            "justify_content": null,
            "_view_module": "@jupyter-widgets/base",
            "overflow": null,
            "_model_module_version": "1.2.0",
            "_view_count": null,
            "flex_flow": null,
            "width": null,
            "min_width": null,
            "border": null,
            "align_items": null,
            "bottom": null,
            "_model_module": "@jupyter-widgets/base",
            "top": null,
            "grid_column": null,
            "overflow_y": null,
            "overflow_x": null,
            "grid_auto_flow": null,
            "grid_area": null,
            "grid_template_columns": null,
            "flex": null,
            "_model_name": "LayoutModel",
            "justify_items": null,
            "grid_row": null,
            "max_height": null,
            "align_content": null,
            "visibility": null,
            "align_self": null,
            "height": null,
            "min_height": null,
            "padding": null,
            "grid_auto_rows": null,
            "grid_gap": null,
            "max_width": null,
            "order": null,
            "_view_module_version": "1.2.0",
            "grid_template_areas": null,
            "object_position": null,
            "object_fit": null,
            "grid_auto_columns": null,
            "margin": null,
            "display": null,
            "left": null
          }
        },
        "aecc96aa7da34bc4bec78a39029cac68": {
          "model_module": "@jupyter-widgets/controls",
          "model_name": "DescriptionStyleModel",
          "state": {
            "_view_name": "StyleView",
            "_model_name": "DescriptionStyleModel",
            "description_width": "",
            "_view_module": "@jupyter-widgets/base",
            "_model_module_version": "1.5.0",
            "_view_count": null,
            "_view_module_version": "1.2.0",
            "_model_module": "@jupyter-widgets/controls"
          }
        },
        "953806a1f40d4575b55fbab9f28578fb": {
          "model_module": "@jupyter-widgets/base",
          "model_name": "LayoutModel",
          "state": {
            "_view_name": "LayoutView",
            "grid_template_rows": null,
            "right": null,
            "justify_content": null,
            "_view_module": "@jupyter-widgets/base",
            "overflow": null,
            "_model_module_version": "1.2.0",
            "_view_count": null,
            "flex_flow": null,
            "width": null,
            "min_width": null,
            "border": null,
            "align_items": null,
            "bottom": null,
            "_model_module": "@jupyter-widgets/base",
            "top": null,
            "grid_column": null,
            "overflow_y": null,
            "overflow_x": null,
            "grid_auto_flow": null,
            "grid_area": null,
            "grid_template_columns": null,
            "flex": null,
            "_model_name": "LayoutModel",
            "justify_items": null,
            "grid_row": null,
            "max_height": null,
            "align_content": null,
            "visibility": null,
            "align_self": null,
            "height": null,
            "min_height": null,
            "padding": null,
            "grid_auto_rows": null,
            "grid_gap": null,
            "max_width": null,
            "order": null,
            "_view_module_version": "1.2.0",
            "grid_template_areas": null,
            "object_position": null,
            "object_fit": null,
            "grid_auto_columns": null,
            "margin": null,
            "display": null,
            "left": null
          }
        },
        "2150b045feb24411aa9f8f5244f6a191": {
          "model_module": "@jupyter-widgets/controls",
          "model_name": "HBoxModel",
          "state": {
            "_view_name": "HBoxView",
            "_dom_classes": [],
            "_model_name": "HBoxModel",
            "_view_module": "@jupyter-widgets/controls",
            "_model_module_version": "1.5.0",
            "_view_count": null,
            "_view_module_version": "1.5.0",
            "box_style": "",
            "layout": "IPY_MODEL_41b3481ceb39452296321d5b23213c97",
            "_model_module": "@jupyter-widgets/controls",
            "children": [
              "IPY_MODEL_f82172419e0a4f52ab1df1d4355dee78",
              "IPY_MODEL_4c3f357bc0ac4be1a714eff257fd4530"
            ]
          }
        },
        "41b3481ceb39452296321d5b23213c97": {
          "model_module": "@jupyter-widgets/base",
          "model_name": "LayoutModel",
          "state": {
            "_view_name": "LayoutView",
            "grid_template_rows": null,
            "right": null,
            "justify_content": null,
            "_view_module": "@jupyter-widgets/base",
            "overflow": null,
            "_model_module_version": "1.2.0",
            "_view_count": null,
            "flex_flow": null,
            "width": null,
            "min_width": null,
            "border": null,
            "align_items": null,
            "bottom": null,
            "_model_module": "@jupyter-widgets/base",
            "top": null,
            "grid_column": null,
            "overflow_y": null,
            "overflow_x": null,
            "grid_auto_flow": null,
            "grid_area": null,
            "grid_template_columns": null,
            "flex": null,
            "_model_name": "LayoutModel",
            "justify_items": null,
            "grid_row": null,
            "max_height": null,
            "align_content": null,
            "visibility": null,
            "align_self": null,
            "height": null,
            "min_height": null,
            "padding": null,
            "grid_auto_rows": null,
            "grid_gap": null,
            "max_width": null,
            "order": null,
            "_view_module_version": "1.2.0",
            "grid_template_areas": null,
            "object_position": null,
            "object_fit": null,
            "grid_auto_columns": null,
            "margin": null,
            "display": null,
            "left": null
          }
        },
        "f82172419e0a4f52ab1df1d4355dee78": {
          "model_module": "@jupyter-widgets/controls",
          "model_name": "FloatProgressModel",
          "state": {
            "_view_name": "ProgressView",
            "style": "IPY_MODEL_e6a72cd098d74d83b3f8ed2e14ac7815",
            "_dom_classes": [],
            "description": "100%",
            "_model_name": "FloatProgressModel",
            "bar_style": "success",
            "max": 454,
            "_view_module": "@jupyter-widgets/controls",
            "_model_module_version": "1.5.0",
            "value": 454,
            "_view_count": null,
            "_view_module_version": "1.5.0",
            "orientation": "horizontal",
            "min": 0,
            "description_tooltip": null,
            "_model_module": "@jupyter-widgets/controls",
            "layout": "IPY_MODEL_a7b32ef5d9154a109b0441c271c08d1a"
          }
        },
        "4c3f357bc0ac4be1a714eff257fd4530": {
          "model_module": "@jupyter-widgets/controls",
          "model_name": "HTMLModel",
          "state": {
            "_view_name": "HTMLView",
            "style": "IPY_MODEL_14e7ede9ca414290a914e9b44cb18f48",
            "_dom_classes": [],
            "description": "",
            "_model_name": "HTMLModel",
            "placeholder": "​",
            "_view_module": "@jupyter-widgets/controls",
            "_model_module_version": "1.5.0",
            "value": " 454/454 [00:02&lt;00:00, 223.30it/s]",
            "_view_count": null,
            "_view_module_version": "1.5.0",
            "description_tooltip": null,
            "_model_module": "@jupyter-widgets/controls",
            "layout": "IPY_MODEL_c1cdfe6526eb4767bab0284a10c2f240"
          }
        },
        "e6a72cd098d74d83b3f8ed2e14ac7815": {
          "model_module": "@jupyter-widgets/controls",
          "model_name": "ProgressStyleModel",
          "state": {
            "_view_name": "StyleView",
            "_model_name": "ProgressStyleModel",
            "description_width": "initial",
            "_view_module": "@jupyter-widgets/base",
            "_model_module_version": "1.5.0",
            "_view_count": null,
            "_view_module_version": "1.2.0",
            "bar_color": null,
            "_model_module": "@jupyter-widgets/controls"
          }
        },
        "a7b32ef5d9154a109b0441c271c08d1a": {
          "model_module": "@jupyter-widgets/base",
          "model_name": "LayoutModel",
          "state": {
            "_view_name": "LayoutView",
            "grid_template_rows": null,
            "right": null,
            "justify_content": null,
            "_view_module": "@jupyter-widgets/base",
            "overflow": null,
            "_model_module_version": "1.2.0",
            "_view_count": null,
            "flex_flow": null,
            "width": null,
            "min_width": null,
            "border": null,
            "align_items": null,
            "bottom": null,
            "_model_module": "@jupyter-widgets/base",
            "top": null,
            "grid_column": null,
            "overflow_y": null,
            "overflow_x": null,
            "grid_auto_flow": null,
            "grid_area": null,
            "grid_template_columns": null,
            "flex": null,
            "_model_name": "LayoutModel",
            "justify_items": null,
            "grid_row": null,
            "max_height": null,
            "align_content": null,
            "visibility": null,
            "align_self": null,
            "height": null,
            "min_height": null,
            "padding": null,
            "grid_auto_rows": null,
            "grid_gap": null,
            "max_width": null,
            "order": null,
            "_view_module_version": "1.2.0",
            "grid_template_areas": null,
            "object_position": null,
            "object_fit": null,
            "grid_auto_columns": null,
            "margin": null,
            "display": null,
            "left": null
          }
        },
        "14e7ede9ca414290a914e9b44cb18f48": {
          "model_module": "@jupyter-widgets/controls",
          "model_name": "DescriptionStyleModel",
          "state": {
            "_view_name": "StyleView",
            "_model_name": "DescriptionStyleModel",
            "description_width": "",
            "_view_module": "@jupyter-widgets/base",
            "_model_module_version": "1.5.0",
            "_view_count": null,
            "_view_module_version": "1.2.0",
            "_model_module": "@jupyter-widgets/controls"
          }
        },
        "c1cdfe6526eb4767bab0284a10c2f240": {
          "model_module": "@jupyter-widgets/base",
          "model_name": "LayoutModel",
          "state": {
            "_view_name": "LayoutView",
            "grid_template_rows": null,
            "right": null,
            "justify_content": null,
            "_view_module": "@jupyter-widgets/base",
            "overflow": null,
            "_model_module_version": "1.2.0",
            "_view_count": null,
            "flex_flow": null,
            "width": null,
            "min_width": null,
            "border": null,
            "align_items": null,
            "bottom": null,
            "_model_module": "@jupyter-widgets/base",
            "top": null,
            "grid_column": null,
            "overflow_y": null,
            "overflow_x": null,
            "grid_auto_flow": null,
            "grid_area": null,
            "grid_template_columns": null,
            "flex": null,
            "_model_name": "LayoutModel",
            "justify_items": null,
            "grid_row": null,
            "max_height": null,
            "align_content": null,
            "visibility": null,
            "align_self": null,
            "height": null,
            "min_height": null,
            "padding": null,
            "grid_auto_rows": null,
            "grid_gap": null,
            "max_width": null,
            "order": null,
            "_view_module_version": "1.2.0",
            "grid_template_areas": null,
            "object_position": null,
            "object_fit": null,
            "grid_auto_columns": null,
            "margin": null,
            "display": null,
            "left": null
          }
        },
        "5726e9ce63ea4648b485e1d36df0ec55": {
          "model_module": "@jupyter-widgets/controls",
          "model_name": "HBoxModel",
          "state": {
            "_view_name": "HBoxView",
            "_dom_classes": [],
            "_model_name": "HBoxModel",
            "_view_module": "@jupyter-widgets/controls",
            "_model_module_version": "1.5.0",
            "_view_count": null,
            "_view_module_version": "1.5.0",
            "box_style": "",
            "layout": "IPY_MODEL_3dfe4cfaf74347feb28ad6c3b3f4c9f7",
            "_model_module": "@jupyter-widgets/controls",
            "children": [
              "IPY_MODEL_70c244e343c742bf93382a409ab0c870",
              "IPY_MODEL_84660e7d784645e790c6aea3ba752072"
            ]
          }
        },
        "3dfe4cfaf74347feb28ad6c3b3f4c9f7": {
          "model_module": "@jupyter-widgets/base",
          "model_name": "LayoutModel",
          "state": {
            "_view_name": "LayoutView",
            "grid_template_rows": null,
            "right": null,
            "justify_content": null,
            "_view_module": "@jupyter-widgets/base",
            "overflow": null,
            "_model_module_version": "1.2.0",
            "_view_count": null,
            "flex_flow": null,
            "width": null,
            "min_width": null,
            "border": null,
            "align_items": null,
            "bottom": null,
            "_model_module": "@jupyter-widgets/base",
            "top": null,
            "grid_column": null,
            "overflow_y": null,
            "overflow_x": null,
            "grid_auto_flow": null,
            "grid_area": null,
            "grid_template_columns": null,
            "flex": null,
            "_model_name": "LayoutModel",
            "justify_items": null,
            "grid_row": null,
            "max_height": null,
            "align_content": null,
            "visibility": null,
            "align_self": null,
            "height": null,
            "min_height": null,
            "padding": null,
            "grid_auto_rows": null,
            "grid_gap": null,
            "max_width": null,
            "order": null,
            "_view_module_version": "1.2.0",
            "grid_template_areas": null,
            "object_position": null,
            "object_fit": null,
            "grid_auto_columns": null,
            "margin": null,
            "display": null,
            "left": null
          }
        },
        "70c244e343c742bf93382a409ab0c870": {
          "model_module": "@jupyter-widgets/controls",
          "model_name": "FloatProgressModel",
          "state": {
            "_view_name": "ProgressView",
            "style": "IPY_MODEL_df1d5f6c5a5b4cf78fd14efd03454407",
            "_dom_classes": [],
            "description": "100%",
            "_model_name": "FloatProgressModel",
            "bar_style": "success",
            "max": 362,
            "_view_module": "@jupyter-widgets/controls",
            "_model_module_version": "1.5.0",
            "value": 362,
            "_view_count": null,
            "_view_module_version": "1.5.0",
            "orientation": "horizontal",
            "min": 0,
            "description_tooltip": null,
            "_model_module": "@jupyter-widgets/controls",
            "layout": "IPY_MODEL_f2371a19a50244b68d2beea61dddaece"
          }
        },
        "84660e7d784645e790c6aea3ba752072": {
          "model_module": "@jupyter-widgets/controls",
          "model_name": "HTMLModel",
          "state": {
            "_view_name": "HTMLView",
            "style": "IPY_MODEL_98e7f8e9eab041e391c42656362c5153",
            "_dom_classes": [],
            "description": "",
            "_model_name": "HTMLModel",
            "placeholder": "​",
            "_view_module": "@jupyter-widgets/controls",
            "_model_module_version": "1.5.0",
            "value": " 362/362 [00:00&lt;00:00, 383.69it/s]",
            "_view_count": null,
            "_view_module_version": "1.5.0",
            "description_tooltip": null,
            "_model_module": "@jupyter-widgets/controls",
            "layout": "IPY_MODEL_4a362ad15bec4b81b6a3f05157ad258b"
          }
        },
        "df1d5f6c5a5b4cf78fd14efd03454407": {
          "model_module": "@jupyter-widgets/controls",
          "model_name": "ProgressStyleModel",
          "state": {
            "_view_name": "StyleView",
            "_model_name": "ProgressStyleModel",
            "description_width": "initial",
            "_view_module": "@jupyter-widgets/base",
            "_model_module_version": "1.5.0",
            "_view_count": null,
            "_view_module_version": "1.2.0",
            "bar_color": null,
            "_model_module": "@jupyter-widgets/controls"
          }
        },
        "f2371a19a50244b68d2beea61dddaece": {
          "model_module": "@jupyter-widgets/base",
          "model_name": "LayoutModel",
          "state": {
            "_view_name": "LayoutView",
            "grid_template_rows": null,
            "right": null,
            "justify_content": null,
            "_view_module": "@jupyter-widgets/base",
            "overflow": null,
            "_model_module_version": "1.2.0",
            "_view_count": null,
            "flex_flow": null,
            "width": null,
            "min_width": null,
            "border": null,
            "align_items": null,
            "bottom": null,
            "_model_module": "@jupyter-widgets/base",
            "top": null,
            "grid_column": null,
            "overflow_y": null,
            "overflow_x": null,
            "grid_auto_flow": null,
            "grid_area": null,
            "grid_template_columns": null,
            "flex": null,
            "_model_name": "LayoutModel",
            "justify_items": null,
            "grid_row": null,
            "max_height": null,
            "align_content": null,
            "visibility": null,
            "align_self": null,
            "height": null,
            "min_height": null,
            "padding": null,
            "grid_auto_rows": null,
            "grid_gap": null,
            "max_width": null,
            "order": null,
            "_view_module_version": "1.2.0",
            "grid_template_areas": null,
            "object_position": null,
            "object_fit": null,
            "grid_auto_columns": null,
            "margin": null,
            "display": null,
            "left": null
          }
        },
        "98e7f8e9eab041e391c42656362c5153": {
          "model_module": "@jupyter-widgets/controls",
          "model_name": "DescriptionStyleModel",
          "state": {
            "_view_name": "StyleView",
            "_model_name": "DescriptionStyleModel",
            "description_width": "",
            "_view_module": "@jupyter-widgets/base",
            "_model_module_version": "1.5.0",
            "_view_count": null,
            "_view_module_version": "1.2.0",
            "_model_module": "@jupyter-widgets/controls"
          }
        },
        "4a362ad15bec4b81b6a3f05157ad258b": {
          "model_module": "@jupyter-widgets/base",
          "model_name": "LayoutModel",
          "state": {
            "_view_name": "LayoutView",
            "grid_template_rows": null,
            "right": null,
            "justify_content": null,
            "_view_module": "@jupyter-widgets/base",
            "overflow": null,
            "_model_module_version": "1.2.0",
            "_view_count": null,
            "flex_flow": null,
            "width": null,
            "min_width": null,
            "border": null,
            "align_items": null,
            "bottom": null,
            "_model_module": "@jupyter-widgets/base",
            "top": null,
            "grid_column": null,
            "overflow_y": null,
            "overflow_x": null,
            "grid_auto_flow": null,
            "grid_area": null,
            "grid_template_columns": null,
            "flex": null,
            "_model_name": "LayoutModel",
            "justify_items": null,
            "grid_row": null,
            "max_height": null,
            "align_content": null,
            "visibility": null,
            "align_self": null,
            "height": null,
            "min_height": null,
            "padding": null,
            "grid_auto_rows": null,
            "grid_gap": null,
            "max_width": null,
            "order": null,
            "_view_module_version": "1.2.0",
            "grid_template_areas": null,
            "object_position": null,
            "object_fit": null,
            "grid_auto_columns": null,
            "margin": null,
            "display": null,
            "left": null
          }
        }
      }
    },
    "accelerator": "GPU"
  },
  "cells": [
    {
      "cell_type": "markdown",
      "metadata": {
        "id": "view-in-github",
        "colab_type": "text"
      },
      "source": [
        "<a href=\"https://colab.research.google.com/github/s-whynot/Bearing_Fault_CWRU/blob/main/10_Classes_CWRU_Fault__Detection_DEtoFE.ipynb\" target=\"_parent\"><img src=\"https://colab.research.google.com/assets/colab-badge.svg\" alt=\"Open In Colab\"/></a>"
      ]
    },
    {
      "cell_type": "markdown",
      "metadata": {
        "id": "O5MkT5LEqBKt"
      },
      "source": [
        "#Fault detection for rolling element bearings with Keras and Tensorflow"
      ]
    },
    {
      "cell_type": "markdown",
      "metadata": {
        "id": "RM9GLtdcVog4"
      },
      "source": [
        "# 1.Introduction \n",
        "The original dataset is from the [Case Western Reserve University](http://csegroups.case.edu/bearingdatacenter/home). This is where the fault data comes from, which is used to classify faults using a CNN (Convolutional Neural Network). \n",
        "I have uploaded this data to [Github](https://github.com/s-whynot/CWRU-dataset). With this, I downloaded my own, verified true CWRU bearing data. "
      ]
    },
    {
      "cell_type": "code",
      "metadata": {
        "id": "ZXD1ypuN5s_1"
      },
      "source": [
        "import errno, os\n",
        "import requests\n",
        "import scipy.io as sio\n",
        "import numpy as np\n",
        "\n",
        "from os import listdir\n",
        "from os.path import isfile, join\n",
        "from zipfile import ZipFile "
      ],
      "execution_count": 1,
      "outputs": []
    },
    {
      "cell_type": "markdown",
      "metadata": {
        "id": "wJzazXJmXQ3z"
      },
      "source": [
        "# 2.Download the dataset\n",
        "\n",
        "The dataset is downloaded from the [Github](https://github.com/s-whynot/CWRU-dataset) repository.  The dataset has several matlab files where the name is just a number (such as \"118.mat\"). It has information such as\n",
        "1. **State** -\n",
        "     - `N` for normal state, not damaged\n",
        "     - `B` for ball damaged\n",
        "     - `IR` for inner raceway damage\n",
        "     - `OR` for outer raceway damage\n",
        "2. **Fault Diameter** -\n",
        "    - `007` for 0.007 inch or 7 mils damage\n",
        "    - `014` for 0.014 inch damage \n",
        "    - `021` for 0.021 inch damage\n",
        "    - `028` for 0.028 inch damage  \n",
        "    the unit 'mils' is 1/1000th of an inch\n",
        "3. **Position of the sensor** \n",
        "    - *3*, *6*, *12* for **OUTER RACEWAY** faults located at 3 o’clock, at 6 o’clock and at 12 o’clock respectively of the load zone\n",
        "4. **Load** can be:\n",
        "    - *0*, *1*, *2*, *3* for different motor load conditions in Horsepower (HP)"
      ]
    },
    {
      "cell_type": "code",
      "metadata": {
        "id": "KuA4dWmp6N4n",
        "colab": {
          "base_uri": "https://localhost:8080/"
        },
        "outputId": "30e94d76-7178-4902-c816-488ac29ce6b8"
      },
      "source": [
        "filename = os.path.join(os.getcwd(), 'repo.zip')\n",
        "url = 'https://github.com/s-whynot/CWRU-dataset/archive/main.zip'\n",
        "\n",
        "r = requests.get(url)\n",
        "print(filename)\n",
        "with open(filename, 'wb') as f:\n",
        "    f.write(r.content)\n",
        "    #f.close() \n",
        "\n",
        "file_name = \"/content/repo.zip\"\n",
        "with ZipFile(file_name, 'r') as zip: \n",
        "    # printing all the contents of the zip file \n",
        "    #zip.printdir() \n",
        "  \n",
        "    # extracting all the files \n",
        "    print('Extracting all the files now...') \n",
        "    zip.extractall() \n",
        "    print('Finished Extracting!') "
      ],
      "execution_count": 2,
      "outputs": [
        {
          "output_type": "stream",
          "text": [
            "/content/repo.zip\n",
            "Extracting all the files now...\n",
            "Finished Extracting!\n"
          ],
          "name": "stdout"
        }
      ]
    },
    {
      "cell_type": "markdown",
      "metadata": {
        "id": "mWEq59kCw9Ki"
      },
      "source": [
        "# 3.Edit the downloaded data"
      ]
    },
    {
      "cell_type": "markdown",
      "metadata": {
        "id": "h8p5pgN8VohS"
      },
      "source": [
        "Using the data collected at the *Drive End* or *Fan End*, which is labelled with the code `FE` or `DE`. This function picks up the time signal from a file. For the given code, a regex is made on the dictionary keys, looking for the the code and ignoring the rest of the suffix. \r\n",
        "\r\n",
        "The function also converts the unit to SI."
      ]
    },
    {
      "cell_type": "markdown",
      "metadata": {
        "id": "72uM_Tr31jjs"
      },
      "source": [
        "## 3.1 Functions used"
      ]
    },
    {
      "cell_type": "code",
      "metadata": {
        "id": "vaG19HlFVohS"
      },
      "source": [
        "def acceleration_time_signal(dict_1, code):\n",
        "    \"\"\"\n",
        "    load the time series in the file and convert units in SI\n",
        "    file= 'filename' from the ./dataset/ folder\n",
        "    code= ' DE' or 'FE', other code will give error\n",
        "    \"\"\"\n",
        "    import re\n",
        "    try:\n",
        "        for key in dict_1:\n",
        "            if re.findall(rf\"({code})\", key):\n",
        "                dict_code = key\n",
        "        #inches to meter\n",
        "        unit_conv = 0.0254\n",
        "        x = dict_1[dict_code] * unit_conv\n",
        "        return x\n",
        "    except:\n",
        "        print('File does not exist or code wrong. Code must be either \"DE or \"FE\" ')"
      ],
      "execution_count": 3,
      "outputs": []
    },
    {
      "cell_type": "markdown",
      "metadata": {
        "id": "G1mPd_tYK9pg"
      },
      "source": [
        "- 3 different functions are necessary to process the files and the data.\n",
        "- All subfolders are recursively scanned with the function `fast_scandir`."
      ]
    },
    {
      "cell_type": "code",
      "metadata": {
        "id": "j_GQ5mQnu8RO"
      },
      "source": [
        "def Read_MAT_files_from_folders(file_path, files_list, code):\n",
        "  G_data = []\n",
        "  for i in range(len(files_list)):\n",
        "    data = sio.loadmat(os.path.join(file_path, files_list[i]))\n",
        "    print(file_path, files_list[i])\n",
        "    sig = acceleration_time_signal(data, code)\n",
        "    G_data.append(sig)\n",
        "  \n",
        "  G_data = np.vstack(G_data).flatten()\n",
        "  #display(G_data.shape)\n",
        "  return G_data \n",
        "\n",
        "def Percent_data_split(array_1, array_2, percent_1 = 10, index_1 = False):\n",
        "  if index_1 == False:\n",
        "    #splitting FE data by percent \n",
        "    len_n = array_1.shape[0]\n",
        "    percent_true = percent_1/100\n",
        "    x = int(percent_true*len_n) #% split\n",
        "    data_percent, data_rest = np.split(array_1, [x])\n",
        "  else:\n",
        "    #splitting FE data by percent of DE data\n",
        "    len_n = array_2.shape[0]\n",
        "    percent_true = percent_1/100\n",
        "    x = int(percent_true*len_n) #% split\n",
        "    data_percent, data_rest = np.split(array_1, [x])\n",
        "\n",
        "  return data_percent, data_rest\n",
        "\n",
        "def fast_scandir(dirname):\n",
        "    subfolders= [f.path for f in os.scandir(dirname) if f.is_dir()]\n",
        "    for dirname in list(subfolders):\n",
        "        subfolders.extend(fast_scandir(dirname))\n",
        "    return subfolders "
      ],
      "execution_count": 4,
      "outputs": []
    },
    {
      "cell_type": "markdown",
      "metadata": {
        "id": "gkJvPvWecQLq"
      },
      "source": [
        "##3.2 Normal Acceleration data\r\n",
        "DE and FE"
      ]
    },
    {
      "cell_type": "code",
      "metadata": {
        "id": "DDqDg66vQvHc",
        "colab": {
          "base_uri": "https://localhost:8080/",
          "height": 201
        },
        "outputId": "8787ac4d-10b3-4afa-ade7-229baac80bfb"
      },
      "source": [
        "#12k Normal Signal for FE & DE\n",
        "file_path_1 = '/content/CWRU-dataset-main/Normal/'\n",
        "onlyfiles_1 = [f for f in listdir(file_path_1) if isfile(join(file_path_1, f))]\n",
        "#print(onlyfiles_1)\n",
        "\n",
        "G_data_N_DE = Read_MAT_files_from_folders(file_path_1, onlyfiles_1, \"DE\")\n",
        "G_data_N_FE = Read_MAT_files_from_folders(file_path_1, onlyfiles_1, \"FE\")\n",
        "display(G_data_N_DE.shape)\n",
        "display(G_data_N_FE.shape)"
      ],
      "execution_count": 5,
      "outputs": [
        {
          "output_type": "stream",
          "text": [
            "/content/CWRU-dataset-main/Normal/ 98_Normal_1.mat\n",
            "/content/CWRU-dataset-main/Normal/ 97_Normal_0.mat\n",
            "/content/CWRU-dataset-main/Normal/ 99_Normal_2.mat\n",
            "/content/CWRU-dataset-main/Normal/ 100_Normal_3.mat\n",
            "/content/CWRU-dataset-main/Normal/ 98_Normal_1.mat\n",
            "/content/CWRU-dataset-main/Normal/ 97_Normal_0.mat\n",
            "/content/CWRU-dataset-main/Normal/ 99_Normal_2.mat\n",
            "/content/CWRU-dataset-main/Normal/ 100_Normal_3.mat\n"
          ],
          "name": "stdout"
        },
        {
          "output_type": "display_data",
          "data": {
            "text/plain": [
              "(1698547,)"
            ]
          },
          "metadata": {
            "tags": []
          }
        },
        {
          "output_type": "display_data",
          "data": {
            "text/plain": [
              "(1698547,)"
            ]
          },
          "metadata": {
            "tags": []
          }
        }
      ]
    },
    {
      "cell_type": "markdown",
      "metadata": {
        "id": "9RSryqfWuDzd"
      },
      "source": [
        "##3.3 12000 Hz DE data \n",
        "for faults -\n",
        "1. B, \n",
        "2. IR, \n",
        "3. OR"
      ]
    },
    {
      "cell_type": "code",
      "metadata": {
        "id": "V_Pb4_0Izqwc",
        "colab": {
          "base_uri": "https://localhost:8080/"
        },
        "outputId": "094d9a37-153c-4f3d-96d6-322bf75d0c60"
      },
      "source": [
        "#12k DE data load\n",
        "file_path_2 = '/content/CWRU-dataset-main/12k_Drive_End_Bearing_Fault_Data/'\n",
        "subfolder_path = fast_scandir(file_path_2)\n",
        "\n",
        "G_data_OR_007_DE = []\n",
        "G_data_OR_021_DE = []\n",
        "\n",
        "for i in range(3, len(subfolder_path), 1):\n",
        "  dir_1 = subfolder_path[i]\n",
        "  #B\n",
        "  if 'B/' in dir_1:\n",
        "    onlyfiles_2_1 = [f for f in listdir(dir_1) if isfile(join(dir_1, f))]\n",
        "    #print(dir_1, onlyfiles_2_1)\n",
        "\n",
        "    if '007' in dir_1:\n",
        "    #007\n",
        "      G_data_B_007_DE = Read_MAT_files_from_folders(dir_1, onlyfiles_2_1, \"DE\")\n",
        "    elif '014' in dir_1:\n",
        "    #014\n",
        "      G_data_B_014_DE = Read_MAT_files_from_folders(dir_1, onlyfiles_2_1, \"DE\")\n",
        "    elif '021' in dir_1:\n",
        "    #021\n",
        "      G_data_B_021_DE = Read_MAT_files_from_folders(dir_1, onlyfiles_2_1, \"DE\")\n",
        "    else:\n",
        "    #028\n",
        "      G_data_B_028_DE = Read_MAT_files_from_folders(dir_1, onlyfiles_2_1, \"DE\")\n",
        "  #B\n",
        "  #IR\n",
        "  elif 'IR/' in dir_1:\n",
        "    onlyfiles_2_2 = [f for f in listdir(dir_1) if isfile(join(dir_1, f))]\n",
        "    #print(dir_1, onlyfiles_2_2)\n",
        "\n",
        "    if '007' in dir_1:\n",
        "    #007\n",
        "      G_data_IR_007_DE = Read_MAT_files_from_folders(dir_1, onlyfiles_2_2, \"DE\")\n",
        "    elif '014' in dir_1:\n",
        "    #014\n",
        "      G_data_IR_014_DE = Read_MAT_files_from_folders(dir_1, onlyfiles_2_2, \"DE\")\n",
        "    elif '021' in dir_1:\n",
        "    #021\n",
        "      G_data_IR_021_DE = Read_MAT_files_from_folders(dir_1, onlyfiles_2_2, \"DE\")\n",
        "    else:\n",
        "    #028\n",
        "      G_data_IR_028_DE = Read_MAT_files_from_folders(dir_1, onlyfiles_2_2, \"DE\")\n",
        "  #IR\n",
        "  #OR\n",
        "  elif 'OR/' in dir_1:\n",
        "    onlyfiles_2_3 = [f for f in listdir(dir_1) if isfile(join(dir_1, f))]\n",
        "    #print(dir_1, onlyfiles_2_3)\n",
        "    if '007' in dir_1:\n",
        "      #007\n",
        "      for i in range(len(onlyfiles_2_3)):\n",
        "        data_OR_007 = sio.loadmat(os.path.join(dir_1, onlyfiles_2_3[i]))\n",
        "        #print(dir_1, onlyfiles_2_3[i])\n",
        "        or_sig_007 = acceleration_time_signal(data_OR_007, code='DE')\n",
        "        G_data_OR_007_DE.append(or_sig_007)\n",
        "    elif '014' in dir_1:\n",
        "      #014\n",
        "      #print(dir_1)\n",
        "      G_data_OR_014_DE = Read_MAT_files_from_folders(dir_1, onlyfiles_2_3, \"DE\")\n",
        "    else:\n",
        "      #021\n",
        "      for i in range(len(onlyfiles_2_3)):\n",
        "        #print(dir_1, onlyfiles_2_3[i])\n",
        "        data_OR_021 = sio.loadmat(os.path.join(dir_1, onlyfiles_2_3[i]))\n",
        "        or_sig_021 = acceleration_time_signal(data_OR_021, code='DE')\n",
        "        G_data_OR_021_DE.append(or_sig_021)\n",
        "  #OR \n",
        "print(\"G_data_B_007_DE\", G_data_B_007_DE.shape)\n",
        "print(\"G_data_B_014_DE\", G_data_B_014_DE.shape)\n",
        "print(\"G_data_B_021_DE\", G_data_B_021_DE.shape)\n",
        "print(\"G_data_B_028_DE\", G_data_B_028_DE.shape)\n",
        "\n",
        "print(\"G_data_IR_007_DE\", G_data_IR_007_DE.shape)\n",
        "print(\"G_data_IR_014_DE\", G_data_IR_014_DE.shape)\n",
        "print(\"G_data_IR_021_DE\", G_data_IR_021_DE.shape)\n",
        "print(\"G_data_IR_028_DE\", G_data_IR_028_DE.shape)\n",
        "\n",
        "G_data_OR_007_DE = np.vstack(G_data_OR_007_DE).flatten()\n",
        "print(\"G_data_OR_007_DE\", G_data_OR_007_DE.shape)\n",
        "G_data_OR_014_DE = np.vstack(G_data_OR_014_DE).flatten()\n",
        "print(\"G_data_OR_014_DE\", np.shape(G_data_OR_014_DE))\n",
        "G_data_OR_021_DE = np.vstack(G_data_OR_021_DE).flatten()\n",
        "print(\"G_data_OR_021_DE\", G_data_OR_021_DE.shape)     "
      ],
      "execution_count": 6,
      "outputs": [
        {
          "output_type": "stream",
          "text": [
            "/content/CWRU-dataset-main/12k_Drive_End_Bearing_Fault_Data/OR/014 199@6_2.mat\n",
            "/content/CWRU-dataset-main/12k_Drive_End_Bearing_Fault_Data/OR/014 200@6_3.mat\n",
            "/content/CWRU-dataset-main/12k_Drive_End_Bearing_Fault_Data/OR/014 198@6_1.mat\n",
            "/content/CWRU-dataset-main/12k_Drive_End_Bearing_Fault_Data/OR/014 197@6_0.mat\n",
            "/content/CWRU-dataset-main/12k_Drive_End_Bearing_Fault_Data/IR/021 212_3.mat\n",
            "/content/CWRU-dataset-main/12k_Drive_End_Bearing_Fault_Data/IR/021 211_2.mat\n",
            "/content/CWRU-dataset-main/12k_Drive_End_Bearing_Fault_Data/IR/021 209_0.mat\n",
            "/content/CWRU-dataset-main/12k_Drive_End_Bearing_Fault_Data/IR/021 210_1.mat\n",
            "/content/CWRU-dataset-main/12k_Drive_End_Bearing_Fault_Data/IR/028 3001_0.mat\n",
            "/content/CWRU-dataset-main/12k_Drive_End_Bearing_Fault_Data/IR/028 3003_2.mat\n",
            "/content/CWRU-dataset-main/12k_Drive_End_Bearing_Fault_Data/IR/028 3002_1.mat\n",
            "/content/CWRU-dataset-main/12k_Drive_End_Bearing_Fault_Data/IR/028 3004_3.mat\n",
            "/content/CWRU-dataset-main/12k_Drive_End_Bearing_Fault_Data/IR/007 106_1.mat\n",
            "/content/CWRU-dataset-main/12k_Drive_End_Bearing_Fault_Data/IR/007 105_0.mat\n",
            "/content/CWRU-dataset-main/12k_Drive_End_Bearing_Fault_Data/IR/007 108_3.mat\n",
            "/content/CWRU-dataset-main/12k_Drive_End_Bearing_Fault_Data/IR/007 107_2.mat\n",
            "/content/CWRU-dataset-main/12k_Drive_End_Bearing_Fault_Data/IR/014 170_1.mat\n",
            "/content/CWRU-dataset-main/12k_Drive_End_Bearing_Fault_Data/IR/014 172_3.mat\n",
            "/content/CWRU-dataset-main/12k_Drive_End_Bearing_Fault_Data/IR/014 169_0.mat\n",
            "/content/CWRU-dataset-main/12k_Drive_End_Bearing_Fault_Data/IR/014 171_2.mat\n",
            "/content/CWRU-dataset-main/12k_Drive_End_Bearing_Fault_Data/B/021 222_0.mat\n",
            "/content/CWRU-dataset-main/12k_Drive_End_Bearing_Fault_Data/B/021 225_3.mat\n",
            "/content/CWRU-dataset-main/12k_Drive_End_Bearing_Fault_Data/B/021 223_1.mat\n",
            "/content/CWRU-dataset-main/12k_Drive_End_Bearing_Fault_Data/B/021 224_2.mat\n",
            "/content/CWRU-dataset-main/12k_Drive_End_Bearing_Fault_Data/B/028 3005_0.mat\n",
            "/content/CWRU-dataset-main/12k_Drive_End_Bearing_Fault_Data/B/028 3006_1.mat\n",
            "/content/CWRU-dataset-main/12k_Drive_End_Bearing_Fault_Data/B/028 3007_2.mat\n",
            "/content/CWRU-dataset-main/12k_Drive_End_Bearing_Fault_Data/B/028 3008_3.mat\n",
            "/content/CWRU-dataset-main/12k_Drive_End_Bearing_Fault_Data/B/007 120_2.mat\n",
            "/content/CWRU-dataset-main/12k_Drive_End_Bearing_Fault_Data/B/007 118_0.mat\n",
            "/content/CWRU-dataset-main/12k_Drive_End_Bearing_Fault_Data/B/007 121_3.mat\n",
            "/content/CWRU-dataset-main/12k_Drive_End_Bearing_Fault_Data/B/007 119_1.mat\n",
            "/content/CWRU-dataset-main/12k_Drive_End_Bearing_Fault_Data/B/014 188_3.mat\n",
            "/content/CWRU-dataset-main/12k_Drive_End_Bearing_Fault_Data/B/014 187_2.mat\n",
            "/content/CWRU-dataset-main/12k_Drive_End_Bearing_Fault_Data/B/014 185_0.mat\n",
            "/content/CWRU-dataset-main/12k_Drive_End_Bearing_Fault_Data/B/014 186_1.mat\n",
            "G_data_B_007_DE (487093,)\n",
            "G_data_B_014_DE (488109,)\n",
            "G_data_B_021_DE (487964,)\n",
            "G_data_B_028_DE (484120,)\n",
            "G_data_IR_007_DE (488309,)\n",
            "G_data_IR_014_DE (487239,)\n",
            "G_data_IR_021_DE (487529,)\n",
            "G_data_IR_028_DE (485038,)\n",
            "G_data_OR_007_DE (1465051,)\n",
            "G_data_OR_014_DE (487819,)\n",
            "G_data_OR_021_DE (1465487,)\n"
          ],
          "name": "stdout"
        }
      ]
    },
    {
      "cell_type": "markdown",
      "metadata": {
        "id": "6EZV8XbjueL9"
      },
      "source": [
        "##3.4 12000 Hz FE data \n",
        "for faults -\n",
        "1. B, \n",
        "2. IR, \n",
        "3. OR"
      ]
    },
    {
      "cell_type": "code",
      "metadata": {
        "id": "o5LH-twXM2DW",
        "colab": {
          "base_uri": "https://localhost:8080/"
        },
        "outputId": "f7aa8299-08d0-47f1-de23-705ea0eebb36"
      },
      "source": [
        "#12k FE data load\n",
        "file_path_3 = '/content/CWRU-dataset-main/12k_Fan_End_Bearing_Fault_Data/'\n",
        "subfolder_path_3 = fast_scandir(file_path_3)\n",
        "#print(subfolder_path_3)\n",
        "\n",
        "G_data_OR_007_FE = []\n",
        "G_data_OR_014_FE = []\n",
        "G_data_OR_021_FE = []\n",
        "\n",
        "for i in range(3, len(subfolder_path_3), 1):\n",
        "  dir_2 = subfolder_path_3[i]\n",
        "  #B\n",
        "  if 'B/' in dir_2:\n",
        "    onlyfiles_3 = [f for f in listdir(dir_2) if isfile(join(dir_2, f))]\n",
        "    #print(dir_2, onlyfiles_3)\n",
        "    if '007' in dir_2:\n",
        "      #007\n",
        "      G_data_B_007_FE = Read_MAT_files_from_folders(dir_2, onlyfiles_3, \"FE\")\n",
        "    elif '014' in dir_2:\n",
        "      #014\n",
        "      G_data_B_014_FE = Read_MAT_files_from_folders(dir_2, onlyfiles_3, \"FE\")\n",
        "    else:\n",
        "      #021\n",
        "      G_data_B_021_FE = Read_MAT_files_from_folders(dir_2, onlyfiles_3, \"FE\")\n",
        "  #B\n",
        "  #IR\n",
        "  elif 'IR/' in dir_2:\n",
        "    onlyfiles_3_2 = [f for f in listdir(dir_2) if isfile(join(dir_2, f))]\n",
        "    #print(dir_2, onlyfiles_3_2)\n",
        "    if '007' in dir_2:\n",
        "      #007\n",
        "      G_data_IR_007_FE = Read_MAT_files_from_folders(dir_2, onlyfiles_3_2, \"FE\")\n",
        "    elif '014' in dir_2:\n",
        "      #014\n",
        "      G_data_IR_014_FE = Read_MAT_files_from_folders(dir_2, onlyfiles_3_2, \"FE\")\n",
        "    else:\n",
        "      #021\n",
        "      G_data_IR_021_FE = Read_MAT_files_from_folders(dir_2, onlyfiles_3_2, \"FE\")\n",
        "  #IR\n",
        "  #OR\n",
        "  elif 'OR/' in dir_2:\n",
        "    onlyfiles_3_3 = [f for f in listdir(dir_2) if isfile(join(dir_2, f))]\n",
        "    #print(dir_2, onlyfiles_3_3)\n",
        "    if '007' in dir_2:\n",
        "    #007\n",
        "      for i in range(len(onlyfiles_3_3)):\n",
        "        data_OR_007 = sio.loadmat(os.path.join(dir_2, onlyfiles_3_3[i]))\n",
        "        #print(dir_2, onlyfiles_3_3[i])\n",
        "        or_sig_007 = acceleration_time_signal(data_OR_007, code='FE')\n",
        "        G_data_OR_007_FE.append(or_sig_007)\n",
        "    elif '014' in dir_2:\n",
        "    #014\n",
        "      for i in range(len(onlyfiles_3_3)):\n",
        "        data_OR_014 = sio.loadmat(os.path.join(dir_2, onlyfiles_3_3[i]))\n",
        "        #print(dir_2, onlyfiles_3_3[i])\n",
        "        or_sig_014 = acceleration_time_signal(data_OR_014, code='FE')\n",
        "        G_data_OR_014_FE.append(or_sig_014)\n",
        "    else:\n",
        "    #021\n",
        "      for i in range(len(onlyfiles_3_3)):\n",
        "        data_OR_021 = sio.loadmat(os.path.join(dir_2, onlyfiles_3_3[i]))\n",
        "        #print(dir_2, onlyfiles_3_3[i])\n",
        "        or_sig_021 = acceleration_time_signal(data_OR_021, code='FE')\n",
        "        G_data_OR_021_FE.append(or_sig_021)\n",
        "  #OR\n",
        "\n",
        "print(\"G_data_B_007_FE\", G_data_B_007_FE.shape)\n",
        "print(\"G_data_B_014_FE\", G_data_B_014_FE.shape)\n",
        "print(\"G_data_B_021_FE\", G_data_B_021_FE.shape)\n",
        "\n",
        "print(\"G_data_IR_007_FE\", G_data_IR_007_FE.shape)\n",
        "print(\"G_data_IR_014_FE\", G_data_IR_014_FE.shape)\n",
        "print(\"G_data_IR_021_FE\", G_data_IR_021_FE.shape)\n",
        "\n",
        "G_data_OR_007_FE = np.vstack(G_data_OR_007_FE).flatten()\n",
        "print(\"G_data_OR_007_FE\", G_data_OR_007_FE.shape)\n",
        "G_data_OR_014_FE = np.vstack(G_data_OR_014_FE).flatten()\n",
        "print(\"G_data_OR_014_FE\", G_data_OR_014_FE.shape)\n",
        "G_data_OR_021_FE = np.vstack(G_data_OR_021_FE).flatten()\n",
        "print(\"G_data_OR_021_FE\", G_data_OR_021_FE.shape)"
      ],
      "execution_count": 7,
      "outputs": [
        {
          "output_type": "stream",
          "text": [
            "/content/CWRU-dataset-main/12k_Fan_End_Bearing_Fault_Data/IR/021 273_3.mat\n",
            "/content/CWRU-dataset-main/12k_Fan_End_Bearing_Fault_Data/IR/021 272_2.mat\n",
            "/content/CWRU-dataset-main/12k_Fan_End_Bearing_Fault_Data/IR/021 271_1.mat\n",
            "/content/CWRU-dataset-main/12k_Fan_End_Bearing_Fault_Data/IR/021 270_0.mat\n",
            "/content/CWRU-dataset-main/12k_Fan_End_Bearing_Fault_Data/IR/007 281_3.mat\n",
            "/content/CWRU-dataset-main/12k_Fan_End_Bearing_Fault_Data/IR/007 279_1.mat\n",
            "/content/CWRU-dataset-main/12k_Fan_End_Bearing_Fault_Data/IR/007 280_2.mat\n",
            "/content/CWRU-dataset-main/12k_Fan_End_Bearing_Fault_Data/IR/007 278_0.mat\n",
            "/content/CWRU-dataset-main/12k_Fan_End_Bearing_Fault_Data/IR/014 276_2.mat\n",
            "/content/CWRU-dataset-main/12k_Fan_End_Bearing_Fault_Data/IR/014 277_3.mat\n",
            "/content/CWRU-dataset-main/12k_Fan_End_Bearing_Fault_Data/IR/014 274_0.mat\n",
            "/content/CWRU-dataset-main/12k_Fan_End_Bearing_Fault_Data/IR/014 275_1.mat\n",
            "/content/CWRU-dataset-main/12k_Fan_End_Bearing_Fault_Data/B/021 292_2.mat\n",
            "/content/CWRU-dataset-main/12k_Fan_End_Bearing_Fault_Data/B/021 293_3.mat\n",
            "/content/CWRU-dataset-main/12k_Fan_End_Bearing_Fault_Data/B/021 290_0.mat\n",
            "/content/CWRU-dataset-main/12k_Fan_End_Bearing_Fault_Data/B/021 291_1.mat\n",
            "/content/CWRU-dataset-main/12k_Fan_End_Bearing_Fault_Data/B/007 284_2.mat\n",
            "/content/CWRU-dataset-main/12k_Fan_End_Bearing_Fault_Data/B/007 285_3.mat\n",
            "/content/CWRU-dataset-main/12k_Fan_End_Bearing_Fault_Data/B/007 283_1.mat\n",
            "/content/CWRU-dataset-main/12k_Fan_End_Bearing_Fault_Data/B/007 282_0.mat\n",
            "/content/CWRU-dataset-main/12k_Fan_End_Bearing_Fault_Data/B/014 286_0.mat\n",
            "/content/CWRU-dataset-main/12k_Fan_End_Bearing_Fault_Data/B/014 287_1.mat\n",
            "/content/CWRU-dataset-main/12k_Fan_End_Bearing_Fault_Data/B/014 289_3.mat\n",
            "/content/CWRU-dataset-main/12k_Fan_End_Bearing_Fault_Data/B/014 288_2.mat\n",
            "G_data_B_007_FE (484856,)\n",
            "G_data_B_014_FE (487242,)\n",
            "G_data_B_021_FE (485038,)\n",
            "G_data_IR_007_FE (485772,)\n",
            "G_data_IR_014_FE (485221,)\n",
            "G_data_IR_021_FE (484488,)\n",
            "G_data_OR_007_FE (1456585,)\n",
            "G_data_OR_014_FE (605655,)\n",
            "G_data_OR_021_FE (483202,)\n"
          ],
          "name": "stdout"
        }
      ]
    },
    {
      "cell_type": "markdown",
      "metadata": {
        "id": "7SgjDRgzkTEO"
      },
      "source": [
        "### 3.4.1 Target Domain split\n",
        "Separating 90% for the Test\n",
        "1. B, \n",
        "2. IR, \n",
        "3. OR\n",
        "\n",
        "10% split is done for Transfer Learning. The 12k FE data is the *Target Domain* from which 90% is taken for Test and Validation.\n"
      ]
    },
    {
      "cell_type": "code",
      "metadata": {
        "id": "YhYe7tDa8lAD",
        "colab": {
          "base_uri": "https://localhost:8080/"
        },
        "outputId": "57a20c06-100a-4e3d-c5ab-27452221d8fe"
      },
      "source": [
        "G_data_N_FE_train, G_data_N_FE_test_1 = Percent_data_split(G_data_N_FE, False) \n",
        "print(\"G_data_N_FE_train\", G_data_N_FE_train.shape)\n",
        "print(\"G_data_N_FE_test 1\", G_data_N_FE_test_1.shape)\n",
        "\n",
        "G_data_B_007_FE_train, G_data_B_007_FE_test_1 = Percent_data_split(G_data_B_007_FE, False) \n",
        "print(\"G_data_B_007_FE_train\", G_data_B_007_FE_train.shape)\n",
        "print(\"G_data_B_007_FE_test 1\", G_data_B_007_FE_test_1.shape)\n",
        "G_data_B_014_FE_train, G_data_B_014_FE_test_1 = Percent_data_split(G_data_B_014_FE, False) \n",
        "print(\"G_data_B_014_FE_train\", G_data_B_014_FE_train.shape)\n",
        "print(\"G_data_B_014_FE_test 1\", G_data_B_014_FE_test_1.shape)\n",
        "G_data_B_021_FE_train, G_data_B_021_FE_test_1 = Percent_data_split(G_data_B_021_FE, False) \n",
        "print(\"G_data_B_021_FE_train\", G_data_B_021_FE_train.shape)\n",
        "print(\"G_data_B_021_FE_test 1\", G_data_B_021_FE_test_1.shape)\n",
        "\n",
        "G_data_IR_007_FE_train, G_data_IR_007_FE_test_1 = Percent_data_split(G_data_IR_007_FE, False) \n",
        "print(\"G_data_IR_007_FE_train\", G_data_IR_007_FE_train.shape)\n",
        "print(\"G_data_IR_007_FE_test 1\", G_data_IR_007_FE_test_1.shape)\n",
        "G_data_IR_014_FE_train, G_data_IR_014_FE_test_1 = Percent_data_split(G_data_IR_014_FE, False) \n",
        "print(\"G_data_IR_014_FE_train\", G_data_IR_014_FE_train.shape)\n",
        "print(\"G_data_IR_014_FE_test 1\", G_data_IR_014_FE_test_1.shape)\n",
        "G_data_IR_021_FE_train, G_data_IR_021_FE_test_1 = Percent_data_split(G_data_IR_021_FE, False) \n",
        "print(\"G_data_IR_021_FE_train\", G_data_IR_021_FE_train.shape)\n",
        "print(\"G_data_IR_021_FE_test 1\", G_data_IR_021_FE_test_1.shape)\n",
        "\n",
        "G_data_OR_007_FE_train, G_data_OR_007_FE_test_1 = Percent_data_split(G_data_OR_007_FE, False) \n",
        "print(\"G_data_OR_007_FE_train\", G_data_OR_007_FE_train.shape)\n",
        "print(\"G_data_OR_007_FE_test 1\", G_data_OR_007_FE_test_1.shape)\n",
        "G_data_OR_014_FE_train, G_data_OR_014_FE_test_1 = Percent_data_split(G_data_OR_014_FE, False) \n",
        "print(\"G_data_OR_014_FE_train\", G_data_OR_014_FE_train.shape)\n",
        "print(\"G_data_OR_014_FE_test 1\", G_data_OR_014_FE_test_1.shape)\n",
        "G_data_OR_021_FE_train, G_data_OR_021_FE_test_1 = Percent_data_split(G_data_OR_021_FE, G_data_OR_021_FE, 9.9, False) \n",
        "print(\"G_data_OR_021_FE_train\", G_data_OR_021_FE_train.shape)\n",
        "print(\"G_data_OR_021_FE_test 1\", G_data_OR_021_FE_test_1.shape)"
      ],
      "execution_count": 8,
      "outputs": [
        {
          "output_type": "stream",
          "text": [
            "G_data_N_FE_train (169854,)\n",
            "G_data_N_FE_test 1 (1528693,)\n",
            "G_data_B_007_FE_train (48485,)\n",
            "G_data_B_007_FE_test 1 (436371,)\n",
            "G_data_B_014_FE_train (48724,)\n",
            "G_data_B_014_FE_test 1 (438518,)\n",
            "G_data_B_021_FE_train (48503,)\n",
            "G_data_B_021_FE_test 1 (436535,)\n",
            "G_data_IR_007_FE_train (48577,)\n",
            "G_data_IR_007_FE_test 1 (437195,)\n",
            "G_data_IR_014_FE_train (48522,)\n",
            "G_data_IR_014_FE_test 1 (436699,)\n",
            "G_data_IR_021_FE_train (48448,)\n",
            "G_data_IR_021_FE_test 1 (436040,)\n",
            "G_data_OR_007_FE_train (145658,)\n",
            "G_data_OR_007_FE_test 1 (1310927,)\n",
            "G_data_OR_014_FE_train (60565,)\n",
            "G_data_OR_014_FE_test 1 (545090,)\n",
            "G_data_OR_021_FE_train (47836,)\n",
            "G_data_OR_021_FE_test 1 (435366,)\n"
          ],
          "name": "stdout"
        }
      ]
    },
    {
      "cell_type": "markdown",
      "metadata": {
        "id": "xhTzx_FbzTVN"
      },
      "source": [
        "##**3.5** G data for a single file IR DE data\n",
        "\n",
        "It is a python dictionary with keys where\n",
        "* `code` is the sensor position and can be:\n",
        "    - `DE` if the data comes from the sensor at the *Drive End* of the motor\n",
        "    - `FE` if the data comes from the sensor at the *Fan End* of the engine\n",
        "    "
      ]
    },
    {
      "cell_type": "code",
      "metadata": {
        "id": "Mj9iXn43b_Sy",
        "colab": {
          "base_uri": "https://localhost:8080/"
        },
        "outputId": "463b9ce6-ce7f-42c7-ab10-e6b8db1c5e2d"
      },
      "source": [
        "for i in range(3, len(subfolder_path), 1):\n",
        "  dir_1 = subfolder_path[i]\n",
        "  if 'IR/' in dir_1:\n",
        "    onlyfiles = [f for f in listdir(dir_1) if isfile(join(dir_1, f))]\n",
        "    if '007' in dir_1:\n",
        "    #007\n",
        "      #print(dir_1, onlyfiles)\n",
        "      #G_data_IR_007 = Read_MAT_files_from_folders(dir_1, onlyfiles, \"DE\")\n",
        "      data = sio.loadmat(os.path.join(dir_1, onlyfiles[0]))\n",
        "      print(dir_1, onlyfiles[0])\n",
        "      print(\"MAT File content: \", data)\n",
        "      G_data = acceleration_time_signal(data, code='FE')\n",
        "      print(\"Just the G data: \", G_data) "
      ],
      "execution_count": 10,
      "outputs": [
        {
          "output_type": "stream",
          "text": [
            "/content/CWRU-dataset-main/12k_Drive_End_Bearing_Fault_Data/IR/007 106_1.mat\n",
            "MAT File content:  {'__header__': b'MATLAB 5.0 MAT-file, Platform: PCWIN, Created on: Mon Jan 31 13:50:54 2000', '__version__': '1.0', '__globals__': [], 'X106_DE_time': array([[-0.27760164],\n",
            "       [-0.04434479],\n",
            "       [ 0.11760303],\n",
            "       ...,\n",
            "       [ 0.17234367],\n",
            "       [ 0.12263852],\n",
            "       [ 0.01884248]]), 'X106_FE_time': array([[ 0.04088545],\n",
            "       [ 0.06985455],\n",
            "       [ 0.33776727],\n",
            "       ...,\n",
            "       [-0.08423636],\n",
            "       [-0.05608909],\n",
            "       [-0.24531273]]), 'X106_BA_time': array([[ 0.07922742],\n",
            "       [ 0.00716226],\n",
            "       [-0.04023739],\n",
            "       ...,\n",
            "       [ 0.01854944],\n",
            "       [ 0.02913187],\n",
            "       [ 0.09306908]]), 'X106RPM': array([[1772]], dtype=uint16)}\n",
            "Just the G data:  [[ 0.00103849]\n",
            " [ 0.00177431]\n",
            " [ 0.00857929]\n",
            " ...\n",
            " [-0.0021396 ]\n",
            " [-0.00142466]\n",
            " [-0.00623094]]\n"
          ],
          "name": "stdout"
        }
      ]
    },
    {
      "cell_type": "markdown",
      "metadata": {
        "id": "jBUXZkV3vDea"
      },
      "source": [
        "##**3.6** Plot\n",
        "Some signals are plotted for the position code = `FE`of the train data. The data is sampled at 12kHz, that is 12000 data points per second. Plot is done for 1/10 or 10% of 1 second: "
      ]
    },
    {
      "cell_type": "code",
      "metadata": {
        "id": "U5XADMXGVohV",
        "colab": {
          "base_uri": "https://localhost:8080/",
          "height": 457
        },
        "outputId": "45a7a87a-175b-47a9-8f5e-e12db42de3e6"
      },
      "source": [
        "%matplotlib inline\n",
        "import matplotlib.pyplot as plt\n",
        "\n",
        "range_of_samples = range(0,1200)\n",
        "\n",
        "# plotting\n",
        "fig, axs = plt.subplots(2, 2, sharey=True, figsize=(10, 6), constrained_layout=True)\n",
        "fig.suptitle('Acceleration data from the Fan End')\n",
        "\n",
        "axs[0, 0].plot(G_data_N_FE_train[range_of_samples])\n",
        "axs[0, 0].set_title('Normal state')\n",
        "\n",
        "axs[0, 1].plot(G_data_B_007_FE_train[range_of_samples])\n",
        "axs[0, 1].set_title('Ball fault (diameter 0.007 inch)')\n",
        "\n",
        "axs[1, 0].plot(G_data_IR_007_FE_train[range_of_samples])\n",
        "axs[1, 0].set_title('Inner Race fault (diameter 0.007 inch)')\n",
        "\n",
        "axs[1, 1].plot(G_data_OR_007_FE_train[range_of_samples])\n",
        "axs[1, 1].set_title('Outer Race fault (diameter 0.007 inch)')\n",
        "\n",
        "for ax in axs.flat:\n",
        "    ax.set(xlabel='time $(s)$', ylabel='acceleration $(m/s^2)$')\n"
      ],
      "execution_count": 11,
      "outputs": [
        {
          "output_type": "display_data",
          "data": {
            "image/png": "[encoded data removed]",
            "text/plain": [
              "<Figure size 720x432 with 4 Axes>"
            ]
          },
          "metadata": {
            "tags": [],
            "needs_background": "light"
          }
        }
      ]
    },
    {
      "cell_type": "markdown",
      "metadata": {
        "id": "PeQsL9BTzo1-"
      },
      "source": [
        "# 4.Preprocessing and the architecture of the CNN\n"
      ]
    },
    {
      "cell_type": "markdown",
      "metadata": {
        "id": "0bmlIlBczrcm"
      },
      "source": [
        "This has been accomplished with the help of [this Github rep](https://github.com/dimitardi/deep-predict). \n",
        "\n",
        "The different preprocessing phases are - \n",
        "\n",
        "1. Data in chunks\n",
        "2. Feature engineering\n",
        "3. Image creating\n",
        "4. Image loading\n",
        "5. Data shuffling\n",
        "6. Convolutional Neural Network (CNN)"
      ]
    },
    {
      "cell_type": "markdown",
      "metadata": {
        "id": "PijvViP1zv_9"
      },
      "source": [
        "## 4.1 Data in chunks\n",
        "\n",
        "1. Acceleration data or signal is divided in chunks of size `chunk_size` and a subset `number_of_chunks` from all of it that is available for training and testing the CNN. \n",
        "\n",
        "2. A chunk is simply a sequential subset of the time series data with a fixed length - the `chunk_size`. \n",
        "\n",
        "3. Every chunk is distinct - no overlapping samples in different chunks. \n",
        "\n",
        "4. This method is _tumbling time windowing_, more information in [blog post](https://blog.codecentric.de/en/2018/10/window-functions-in-stream-analytics/). \n",
        "\n",
        "5. Each time series is an array, with small length differences. For a fixed chunk size to divide the file, a function needs to split the data exaclty in `number_of_chunks` of `chunk_size` and **ignore** the remaining part. \n",
        "\n",
        "6. A function for that - `split_exact`, takes the array for splitting, the number of chunks and the array axis to be split into. \n",
        "\n",
        "7. Whole dataset remains but the vector has been divided into column chunks to build a matrix. It makes passing the *whole dataset* through easier and takes *less time* for the data to load in general."
      ]
    },
    {
      "cell_type": "code",
      "metadata": {
        "id": "iYuODwPnVohZ"
      },
      "source": [
        "def split_exact(x, n_chunks=2, axis=1):\n",
        "    import numpy as np\n",
        "    l = np.shape(x)[axis]\n",
        "    x_split = x\n",
        "    if l > n_chunks > 1:\n",
        "        n = n_chunks\n",
        "        if axis == 0:\n",
        "            x_split = np.split(x[:-(l % n)], n, axis=axis)\n",
        "        elif axis == 1:\n",
        "            x_split = np.split(x[:, :-(l % n)], n, axis=axis)\n",
        "    return x_split"
      ],
      "execution_count": 12,
      "outputs": []
    },
    {
      "cell_type": "markdown",
      "metadata": {
        "id": "jQ4qpoWbz1tE"
      },
      "source": [
        "The data went through some operations. Ignoring the 0.028 inch fault diameter from `IR` and `B`, only considering the rest:\n",
        "\n",
        "* the **normal** data labelled as `N`\n",
        "* the **inner raceway** data labelled as `IR`\n",
        "      1.for 0.007 inch fault diameter\n",
        "      2.for 0.014 inch fault diameter\n",
        "      3.for 0.021 inch fault diameter\n",
        "* the **ball** damage data labelled as `B`\n",
        "      1.for 0.007 inch fault diameter\n",
        "      2.for 0.014 inch fault diameter\n",
        "      3.for 0.021 inch fault diameter\n",
        "* the **outer raceway** data labelled as `OR`\n",
        "      1.for 0.007 inch fault diameter\n",
        "      2.for 0.014 inch fault diameter\n",
        "      3.for 0.021 inch fault diameter\n",
        "\n",
        "For every load, data is joined from `0...3` HP load, normalizing it with respect to the *standard deviation*. This is because the load is not considered in *Classification*. \n",
        "\n",
        "Several functions needed, such as; `load_raw_matlab_data` which returns several multidimensional arrays for `N`, `IR`, `B` and `OR` data with dimension of the maximum `number_of_chunks` obtainable from the data, by `chunk_size`. "
      ]
    },
    {
      "cell_type": "code",
      "metadata": {
        "id": "gfZqfVmdLLqr"
      },
      "source": [
        "import numpy as np\n",
        "\n",
        "def g_data_chunkSplit(gdata, chunk_size=128):\n",
        "    \"\"\"\n",
        "    Change loaded mat files and splits it in chunks of size chunk_size\n",
        "    \"\"\"\n",
        "    y_n: ndarray = np.array([])\n",
        "    # signal\n",
        "    x = gdata\n",
        "    x = x / np.std(x)\n",
        "    y_n = np.append(y_n, x)\n",
        "    n_splits = len(y_n) // chunk_size\n",
        "    y_n = split_exact(y_n, n_chunks=n_splits, axis=0)\n",
        "    \n",
        "    return y_n"
      ],
      "execution_count": 13,
      "outputs": []
    },
    {
      "cell_type": "markdown",
      "metadata": {
        "id": "Oo6MUEi7Vohe"
      },
      "source": [
        "Initializing the data using the latter function."
      ]
    },
    {
      "cell_type": "code",
      "metadata": {
        "id": "C__k3hDEVohe",
        "colab": {
          "base_uri": "https://localhost:8080/",
          "height": 623
        },
        "outputId": "33f98afe-3c7a-4020-dd2e-38d06179fd10"
      },
      "source": [
        "chunk_size = 1200\n",
        "number_of_chunks = 1400\n",
        "\n",
        "#FE data \n",
        "normal_data_chunk_FE_train = g_data_chunkSplit(G_data_N_FE_train, chunk_size=chunk_size)\n",
        "print(\"normal_data_chunk_FE_train\", np.shape(normal_data_chunk_FE_train))\n",
        "normal_data_chunk_FE_test = g_data_chunkSplit(G_data_N_FE_test_1, chunk_size=chunk_size)\n",
        "print(\"normal_data_chunk_FE_test\", np.shape(normal_data_chunk_FE_test))\n",
        "\n",
        "b_data_chunk_007_FE_train = g_data_chunkSplit(G_data_B_007_FE_train, chunk_size=chunk_size)\n",
        "print(\"b_data_chunk_007_FE_train\", np.shape(b_data_chunk_007_FE_train))\n",
        "b_data_chunk_007_FE_test = g_data_chunkSplit(G_data_B_007_FE_test_1, chunk_size=chunk_size)\n",
        "print(\"b_data_chunk_007_FE_test\", np.shape(b_data_chunk_007_FE_test))\n",
        "b_data_chunk_014_FE_train = g_data_chunkSplit(G_data_B_014_FE_train, chunk_size=chunk_size)\n",
        "print(\"b_data_chunk_014_FE_train\", np.shape(b_data_chunk_014_FE_train))\n",
        "b_data_chunk_014_FE_test = g_data_chunkSplit(G_data_B_014_FE_test_1, chunk_size=chunk_size)\n",
        "print(\"b_data_chunk_014_FE_test\", np.shape(b_data_chunk_014_FE_test))\n",
        "b_data_chunk_021_FE_train = g_data_chunkSplit(G_data_B_021_FE_train, chunk_size=chunk_size)\n",
        "print(\"b_data_chunk_021_FE_train\", np.shape(b_data_chunk_021_FE_train))\n",
        "b_data_chunk_021_FE_test = g_data_chunkSplit(G_data_B_021_FE_test_1, chunk_size=chunk_size)\n",
        "print(\"b_data_chunk_021_FE_test\", np.shape(b_data_chunk_021_FE_test))  \n",
        "\n",
        "ir_data_chunk_007_FE_train = g_data_chunkSplit(G_data_IR_007_FE_train, chunk_size=chunk_size)\n",
        "print(\"ir_data_chunk_007_FE_train\", np.shape(ir_data_chunk_007_FE_train))\n",
        "ir_data_chunk_007_FE_test = g_data_chunkSplit(G_data_IR_007_FE_test_1, chunk_size=chunk_size)\n",
        "print(\"ir_data_chunk_007_FE_test\", np.shape(ir_data_chunk_007_FE_test))\n",
        "ir_data_chunk_014_FE_train = g_data_chunkSplit(G_data_IR_014_FE_train, chunk_size=chunk_size)\n",
        "print(\"ir_data_chunk_014_FE_train\", np.shape(ir_data_chunk_014_FE_train))\n",
        "ir_data_chunk_014_FE_test = g_data_chunkSplit(G_data_IR_014_FE_test_1, chunk_size=chunk_size)\n",
        "print(\"ir_data_chunk_014_FE_test\", np.shape(ir_data_chunk_014_FE_test))\n",
        "ir_data_chunk_021_FE_train = g_data_chunkSplit(G_data_IR_021_FE_train, chunk_size=chunk_size)\n",
        "print(\"ir_data_chunk_021_FE_train\", np.shape(ir_data_chunk_021_FE_train))\n",
        "ir_data_chunk_021_FE_test = g_data_chunkSplit(G_data_IR_021_FE_test_1, chunk_size=chunk_size)\n",
        "print(\"ir_data_chunk_021_FE_test\", np.shape(ir_data_chunk_021_FE_test))\n",
        "\n",
        "or_data_chunk_007_FE_train = g_data_chunkSplit(G_data_OR_007_FE_train, chunk_size=chunk_size)\n",
        "print(\"or_data_chunk_007_FE_train\", np.shape(or_data_chunk_007_FE_train))\n",
        "or_data_chunk_007_FE_test = g_data_chunkSplit(G_data_OR_007_FE_test_1, chunk_size=chunk_size)\n",
        "print(\"or_data_chunk_007_FE_test\", np.shape(or_data_chunk_007_FE_test))  \n",
        "or_data_chunk_014_FE_train = g_data_chunkSplit(G_data_OR_014_FE_train, chunk_size=chunk_size)\n",
        "print(\"or_data_chunk_014_FE_train\", np.shape(or_data_chunk_014_FE_train))\n",
        "or_data_chunk_014_FE_test = g_data_chunkSplit(G_data_OR_014_FE_test_1, chunk_size=chunk_size)\n",
        "print(\"or_data_chunk_014_FE_test\", np.shape(or_data_chunk_014_FE_test))  \n",
        "or_data_chunk_021_FE_train = g_data_chunkSplit(G_data_OR_021_FE_train, chunk_size=chunk_size)\n",
        "print(\"or_data_chunk_021_FE_train\", np.shape(or_data_chunk_021_FE_train))\n",
        "or_data_chunk_021_FE_test = g_data_chunkSplit(G_data_OR_021_FE_test_1, chunk_size=chunk_size)\n",
        "print(\"or_data_chunk_021_FE_test\", np.shape(or_data_chunk_021_FE_test))  \n",
        "\n",
        "\n",
        "#DE data\n",
        "normal_data_chunk_DE = g_data_chunkSplit(G_data_N_DE, chunk_size=chunk_size)\n",
        "display(\"DE\")\n",
        "print(\"normal_data_chunk_DE\", np.shape(normal_data_chunk_DE)) \n",
        "ir_data_chunk_007_DE = g_data_chunkSplit(G_data_IR_007_DE, chunk_size=chunk_size)\n",
        "print(\"ir_data_chunk_007_DE\", np.shape(ir_data_chunk_007_DE))\n",
        "ir_data_chunk_014_DE = g_data_chunkSplit(G_data_IR_014_DE, chunk_size=chunk_size)\n",
        "print(\"ir_data_chunk_014_DE\", np.shape(ir_data_chunk_014_DE))\n",
        "ir_data_chunk_021_DE = g_data_chunkSplit(G_data_IR_021_DE, chunk_size=chunk_size)\n",
        "print(\"ir_data_chunk_021_DE\", np.shape(ir_data_chunk_021_DE))\n",
        "ir_data_chunk_028_DE = g_data_chunkSplit(G_data_IR_028_DE, chunk_size=chunk_size)\n",
        "print(\"ir_data_chunk_028_DE\", np.shape(ir_data_chunk_028_DE))\n",
        "b_data_chunk_007_DE = g_data_chunkSplit(G_data_B_007_DE, chunk_size=chunk_size)\n",
        "print(\"b_data_chunk_007_DE\", np.shape(b_data_chunk_007_DE))\n",
        "b_data_chunk_014_DE = g_data_chunkSplit(G_data_B_014_DE, chunk_size=chunk_size)\n",
        "print(\"b_data_chunk_014_DE\", np.shape(b_data_chunk_014_DE))\n",
        "b_data_chunk_021_DE = g_data_chunkSplit(G_data_B_021_DE, chunk_size=chunk_size)\n",
        "print(\"b_data_chunk_021_DE\", np.shape(b_data_chunk_021_DE))\n",
        "b_data_chunk_028_DE = g_data_chunkSplit(G_data_B_028_DE, chunk_size=chunk_size)\n",
        "print(\"b_data_chunk_028_DE\", np.shape(b_data_chunk_028_DE)) \n",
        "or_data_chunk_007_DE = g_data_chunkSplit(G_data_OR_007_DE, chunk_size=chunk_size)\n",
        "print(\"or_data_chunk_007_DE\", np.shape(or_data_chunk_007_DE))  \n",
        "or_data_chunk_014_DE = g_data_chunkSplit(G_data_OR_014_DE, chunk_size=chunk_size)\n",
        "print(\"or_data_chunk_014_DE\", np.shape(or_data_chunk_014_DE)) \n",
        "or_data_chunk_021_DE = g_data_chunkSplit(G_data_OR_021_DE, chunk_size=chunk_size)\n",
        "print(\"or_data_chunk_021_DE\", np.shape(or_data_chunk_021_DE)) "
      ],
      "execution_count": 16,
      "outputs": [
        {
          "output_type": "stream",
          "text": [
            "normal_data_chunk_FE_train (141, 1204)\n",
            "normal_data_chunk_FE_test (1273, 1200)\n",
            "b_data_chunk_007_FE_train (40, 1212)\n",
            "b_data_chunk_007_FE_test (363, 1202)\n",
            "b_data_chunk_014_FE_train (40, 1218)\n",
            "b_data_chunk_014_FE_test (365, 1201)\n",
            "b_data_chunk_021_FE_train (40, 1212)\n",
            "b_data_chunk_021_FE_test (363, 1202)\n",
            "ir_data_chunk_007_FE_train (40, 1214)\n",
            "ir_data_chunk_007_FE_test (364, 1201)\n",
            "ir_data_chunk_014_FE_train (40, 1213)\n",
            "ir_data_chunk_014_FE_test (363, 1203)\n",
            "ir_data_chunk_021_FE_train (40, 1211)\n",
            "ir_data_chunk_021_FE_test (363, 1201)\n",
            "or_data_chunk_007_FE_train (121, 1203)\n",
            "or_data_chunk_007_FE_test (1092, 1200)\n",
            "or_data_chunk_014_FE_train (50, 1211)\n",
            "or_data_chunk_014_FE_test (454, 1200)\n",
            "or_data_chunk_021_FE_train (39, 1226)\n",
            "or_data_chunk_021_FE_test (362, 1202)\n"
          ],
          "name": "stdout"
        },
        {
          "output_type": "display_data",
          "data": {
            "application/vnd.google.colaboratory.intrinsic+json": {
              "type": "string"
            },
            "text/plain": [
              "'DE'"
            ]
          },
          "metadata": {
            "tags": []
          }
        },
        {
          "output_type": "stream",
          "text": [
            "normal_data_chunk_DE (1415, 1200)\n",
            "ir_data_chunk_007_DE (406, 1202)\n",
            "ir_data_chunk_014_DE (406, 1200)\n",
            "ir_data_chunk_021_DE (406, 1200)\n",
            "ir_data_chunk_028_DE (404, 1200)\n",
            "b_data_chunk_007_DE (405, 1202)\n",
            "b_data_chunk_014_DE (406, 1202)\n",
            "b_data_chunk_021_DE (406, 1201)\n",
            "b_data_chunk_028_DE (403, 1201)\n",
            "or_data_chunk_007_DE (1220, 1200)\n",
            "or_data_chunk_014_DE (406, 1201)\n",
            "or_data_chunk_021_DE (1221, 1200)\n"
          ],
          "name": "stdout"
        }
      ]
    },
    {
      "cell_type": "markdown",
      "metadata": {
        "id": "Ff7h1J5SVohh"
      },
      "source": [
        "## 4.2 Feature engineering"
      ]
    },
    {
      "cell_type": "markdown",
      "metadata": {
        "id": "t4eubtG90bgH"
      },
      "source": [
        "Each chunk of data is preprocessed. A time/fequency image is extracted from each chunk with preprocessing techniques. For all the images, a min max normalization was used, to have mapping only in the range `[0,1]`."
      ]
    },
    {
      "cell_type": "code",
      "metadata": {
        "id": "psNVZuL1Vohi"
      },
      "source": [
        "def min_max_norm(ary):\n",
        "    ary = (ary - ary.min()) / np.abs(ary.max() - ary.min())\n",
        "    return ary"
      ],
      "execution_count": 15,
      "outputs": []
    },
    {
      "cell_type": "markdown",
      "metadata": {
        "id": "t3fqTBtq0kvh"
      },
      "source": [
        "### 4.2.1 Short Time Fourier Transform\n",
        "The function `generate_spectrogram_image(data_y_vector, image_shape)` takes a *time series* as input and the *resolution* of the image that it will generate. It then returns the **Short time Fourier Transform Spectrogram** which is then normalized in the range `[0,1]`."
      ]
    },
    {
      "cell_type": "code",
      "metadata": {
        "id": "OKw_rCcVVohl"
      },
      "source": [
        "from scipy import signal\n",
        "from skimage.transform import resize\n",
        "\n",
        "def generate_spectrogram_image(data_y_vector, image_shape):\n",
        "    \"\"\"\n",
        "    Calculate the spectrogram of an array data_y_vector and resize it in \n",
        "    the image_shape resolution\n",
        "    \"\"\"\n",
        "    fs = 12000\n",
        "    data_y_vector_len = np.shape(data_y_vector)[0]\n",
        "\n",
        "    f, t, sxx = signal.spectrogram(\n",
        "        data_y_vector,\n",
        "        fs)\n",
        "\n",
        "    sxx = min_max_norm(sxx)\n",
        "    sxx = resize(sxx, image_shape, mode='constant', anti_aliasing=True)\n",
        "\n",
        "    return sxx"
      ],
      "execution_count": 17,
      "outputs": []
    },
    {
      "cell_type": "markdown",
      "metadata": {
        "id": "emWy_8JJ0pxA"
      },
      "source": [
        "A look at the Short Time Fourier Transform of one chunk of the data `N`, `IR`, `B` and `OR`:"
      ]
    },
    {
      "cell_type": "code",
      "metadata": {
        "scrolled": true,
        "id": "b26b3JJkVohp",
        "colab": {
          "base_uri": "https://localhost:8080/",
          "height": 241
        },
        "outputId": "e51c438e-8de6-4e1f-ce83-7e61c623fbdc"
      },
      "source": [
        "import matplotlib.pyplot as plt\n",
        "fig, (plt1, plt2, plt3, plt4) = plt.subplots(1, 4, sharey = True, figsize=(12,3), constrained_layout=True)\n",
        "\n",
        "plt1.set_xlabel(\"time\")\n",
        "plt1.set_ylabel(\"frequency\")\n",
        "plt1.set_title('Normal state')\n",
        "plt1.imshow(generate_spectrogram_image(normal_data_chunk_FE_train[3], (96,96)))\n",
        "\n",
        "plt2.set_xlabel(\"time\")\n",
        "plt2.set_ylabel(\"frequency\")\n",
        "plt2.set_title('Inner Race fault')\n",
        "plt2.imshow(generate_spectrogram_image(ir_data_chunk_007_FE_train[3], (96,96)))\n",
        "\n",
        "plt3.set_xlabel(\"time\")\n",
        "plt3.set_ylabel(\"frequency\")\n",
        "plt3.set_title('Ball fault')\n",
        "plt3.imshow(generate_spectrogram_image(b_data_chunk_007_FE_train[3], (96,96)))\n",
        "\n",
        "plt4.set_xlabel(\"time\")\n",
        "plt4.set_ylabel(\"frequency\")\n",
        "plt4.set_title('Outer Race fault')\n",
        "plt4.imshow(generate_spectrogram_image(or_data_chunk_007_FE_train[3], (96,96)))\n",
        "\n",
        "fig.suptitle('STFT - 0.007 inches fault diameter Fan End')\n",
        "fig.show()"
      ],
      "execution_count": 18,
      "outputs": [
        {
          "output_type": "display_data",
          "data": {
            "image/png": "[encoded data removed]",
            "text/plain": [
              "<Figure size 864x216 with 4 Axes>"
            ]
          },
          "metadata": {
            "tags": [],
            "needs_background": "light"
          }
        }
      ]
    },
    {
      "cell_type": "markdown",
      "metadata": {
        "id": "pRR1wujON6T7"
      },
      "source": [
        "## 4.3 Image creating and Data shuffling"
      ]
    },
    {
      "cell_type": "markdown",
      "metadata": {
        "id": "lLG9oRAEN-Dv"
      },
      "source": [
        "Several images are created that are going to be used to train the CNN. Some functions are needed to help in creating the folders in which the images will be stored and to label correctly the files generated, depending on the parameters chosen, such as `position`, `image_type`, `image_shape`, etc. \r\n",
        "\r\n",
        "A random shuffling is done between the chunks at this stage, so the CNN does not get trained on images that are of adjacent time windows."
      ]
    },
    {
      "cell_type": "markdown",
      "metadata": {
        "id": "BZG6Yqfm4-G1"
      },
      "source": [
        "Creating directory for putting the created images. These images will also be loaded from here."
      ]
    },
    {
      "cell_type": "code",
      "metadata": {
        "id": "7trHSIv-VXiV"
      },
      "source": [
        "def try_make_directories():     \n",
        "    data_directories = [\"dataset\", \"npy_dataset\"]\n",
        "    for directory in data_directories:\n",
        "        try:\n",
        "            os.makedirs(f'./{directory}')\n",
        "        except OSError as e:\n",
        "            if e.errno != errno.EEXIST:\n",
        "                raise"
      ],
      "execution_count": 19,
      "outputs": []
    },
    {
      "cell_type": "code",
      "metadata": {
        "id": "vWOS0m3GgwZm"
      },
      "source": [
        "from tqdm.notebook import tqdm\n",
        "from enum import Enum\n",
        "#\n",
        "def create_image_by_label_database(\n",
        "        position,\n",
        "        image_types,\n",
        "        image_shape,\n",
        "        noise_scale = 0.0,\n",
        "        shuffle_across_time=True,\n",
        "        overwrite_existing_file=False):\n",
        "\n",
        "    try_make_directories()\n",
        "\n",
        "    filename_for_images_by_labels = npy_dataset_filename(\n",
        "        position,\n",
        "        image_types,\n",
        "        image_shape,\n",
        "        noise_scale, \n",
        "        shuffle_across_time\n",
        "    )\n",
        "\n",
        "    if overwrite_existing_file is False:\n",
        "        import os\n",
        "        if os.path.isfile(filename_for_images_by_labels):\n",
        "            print(\n",
        "                \"File already exists. Use 'overwrite_existing_file' if you wish to regenerate and overwrite it. Bye.\")\n",
        "            return\n",
        "#   \n",
        "    if position == \"FE_train\":\n",
        "      len_n = np.shape(normal_data_chunk_FE_train)[0]\n",
        "      len_b_007 = np.shape(b_data_chunk_007_FE_train)[0]\n",
        "      len_b_014 = np.shape(b_data_chunk_014_FE_train)[0]\n",
        "      len_b_021 = np.shape(b_data_chunk_021_FE_train)[0]\n",
        "      len_ir_007 = np.shape(ir_data_chunk_007_FE_train)[0]\n",
        "      len_ir_014 = np.shape(ir_data_chunk_014_FE_train)[0]\n",
        "      len_ir_021 = np.shape(ir_data_chunk_021_FE_train)[0]\n",
        "      len_or_007 = np.shape(or_data_chunk_007_FE_train)[0]\n",
        "      len_or_014 = np.shape(or_data_chunk_014_FE_train)[0]\n",
        "      len_or_021 = np.shape(or_data_chunk_021_FE_train)[0]\n",
        "      \n",
        "      len_data = min(len_n, len_b_007, len_b_014, len_b_021, len_ir_007, len_ir_014, len_ir_021, len_or_007, len_or_014, len_or_021, number_of_chunks)\n",
        "      #display(len_n, len_or, len_ir)\n",
        "     \n",
        "      normal_data = normal_data_chunk_FE_train\n",
        "      b_data_007 = b_data_chunk_007_FE_train\n",
        "      b_data_014 = b_data_chunk_014_FE_train \n",
        "      b_data_021 = b_data_chunk_021_FE_train\n",
        "      ir_data_007 = ir_data_chunk_007_FE_train\n",
        "      ir_data_014 = ir_data_chunk_014_FE_train\n",
        "      ir_data_021 = ir_data_chunk_021_FE_train\n",
        "      or_data_007 = or_data_chunk_007_FE_train\n",
        "      or_data_014 = or_data_chunk_014_FE_train\n",
        "      or_data_021 = or_data_chunk_021_FE_train\n",
        "\n",
        "    elif position == \"FE_test\":\n",
        "      len_n = np.shape(normal_data_chunk_FE_test)[0]\n",
        "      len_b_007 = np.shape(b_data_chunk_007_FE_test)[0]\n",
        "      len_b_014 = np.shape(b_data_chunk_014_FE_test)[0]\n",
        "      len_b_021 = np.shape(b_data_chunk_021_FE_test)[0]\n",
        "      len_ir_007 = np.shape(ir_data_chunk_007_FE_test)[0]\n",
        "      len_ir_014 = np.shape(ir_data_chunk_014_FE_test)[0]\n",
        "      len_ir_021 = np.shape(ir_data_chunk_021_FE_test)[0]\n",
        "      len_or_007 = np.shape(or_data_chunk_007_FE_test)[0]\n",
        "      len_or_014 = np.shape(or_data_chunk_014_FE_test)[0]\n",
        "      len_or_021 = np.shape(or_data_chunk_021_FE_test)[0]\n",
        "      \n",
        "      len_data = min(len_n, len_b_007, len_b_014, len_b_021, len_ir_007, len_ir_014, len_ir_021, len_or_007, len_or_014, len_or_021, number_of_chunks)\n",
        "      #display(len_n, len_or, len_ir)\n",
        "      \n",
        "      normal_data = normal_data_chunk_FE_test\n",
        "      b_data_007 = b_data_chunk_007_FE_test\n",
        "      b_data_014 = b_data_chunk_014_FE_test \n",
        "      b_data_021 = b_data_chunk_021_FE_test\n",
        "      ir_data_007 = ir_data_chunk_007_FE_test\n",
        "      ir_data_014 = ir_data_chunk_014_FE_test\n",
        "      ir_data_021 = ir_data_chunk_021_FE_test\n",
        "      or_data_007 = or_data_chunk_007_FE_test\n",
        "      or_data_014 = or_data_chunk_014_FE_test\n",
        "      or_data_021 = or_data_chunk_021_FE_test\n",
        "\n",
        "    elif position == \"DE\":\n",
        "      len_n = np.shape(normal_data_chunk_DE)[0]\n",
        "      len_b_007 = np.shape(b_data_chunk_007_DE)[0]\n",
        "      len_b_014 = np.shape(b_data_chunk_014_DE)[0]\n",
        "      len_b_021 = np.shape(b_data_chunk_021_DE)[0]\n",
        "      len_ir_007 = np.shape(ir_data_chunk_007_DE)[0]\n",
        "      len_ir_014 = np.shape(ir_data_chunk_014_DE)[0]\n",
        "      len_ir_021 = np.shape(ir_data_chunk_021_DE)[0]\n",
        "      len_or_007 = np.shape(or_data_chunk_007_DE)[0]\n",
        "      len_or_014 = np.shape(or_data_chunk_014_DE)[0]\n",
        "      len_or_021 = np.shape(or_data_chunk_021_DE)[0]\n",
        "      len_data = min(len_n, len_b_007, len_b_014, len_b_021, len_ir_007, len_ir_014, len_ir_021, len_or_007, len_or_014, len_or_021, number_of_chunks)\n",
        "      #display(len_n, len_or, len_ir)\n",
        "     \n",
        "      normal_data = normal_data_chunk_DE\n",
        "      b_data_007 = b_data_chunk_007_DE\n",
        "      b_data_014 = b_data_chunk_014_DE \n",
        "      b_data_021 = b_data_chunk_021_DE\n",
        "      ir_data_007 = ir_data_chunk_007_DE\n",
        "      ir_data_014 = ir_data_chunk_014_DE\n",
        "      ir_data_021 = ir_data_chunk_021_DE\n",
        "      or_data_007 = or_data_chunk_007_DE\n",
        "      or_data_014 = or_data_chunk_014_DE\n",
        "      or_data_021 = or_data_chunk_021_DE\n",
        "      #display(np.shape(nominal_data))\n",
        "\n",
        "    if shuffle_across_time:\n",
        "        # so the first N chunks will be taken at random time from the whole time window\n",
        "        np.random.shuffle(normal_data)\n",
        "        np.random.shuffle(b_data_007)\n",
        "        np.random.shuffle(b_data_014)\n",
        "        np.random.shuffle(b_data_021)\n",
        "        np.random.shuffle(ir_data_007)\n",
        "        np.random.shuffle(ir_data_014)\n",
        "        np.random.shuffle(ir_data_021)\n",
        "        np.random.shuffle(or_data_007)\n",
        "        np.random.shuffle(or_data_014)\n",
        "        np.random.shuffle(or_data_021)      \n",
        "        \n",
        "    images_by_labels = {'n': [], 'b_0.007inch': [], 'b_0.014inch': [], 'b_0.021inch': [], 'ir_0.007inch': [], 'ir_0.014inch': [], 'ir_0.021inch': [], 'or_0.007inch': [], 'or_0.014inch': [], 'or_0.021inch': []}\n",
        "    #display(int(len_data))\n",
        "    #1\n",
        "    for i in tqdm(range(int(len_n))):\n",
        "        n_images = generate_rgba_images_from_data(normal_data[i], image_shape, image_types)\n",
        "\n",
        "        images_by_labels['n'].extend(n_images)\n",
        "    #2\n",
        "    for i in tqdm(np.arange(len_b_007)):    \n",
        "        b_images_007 = generate_rgba_images_from_data(b_data_007[i], image_shape, image_types)\n",
        "        \n",
        "        images_by_labels['b_0.007inch'].extend(b_images_007)\n",
        "    #3\n",
        "    for i in tqdm(np.arange(len_b_014)):    \n",
        "        b_images_014 = generate_rgba_images_from_data(b_data_014[i], image_shape, image_types)\n",
        "        \n",
        "        images_by_labels['b_0.014inch'].extend(b_images_014)\n",
        "    #4\n",
        "    for i in tqdm(np.arange(len_b_021)):    \n",
        "        b_images_021 = generate_rgba_images_from_data(b_data_021[i], image_shape, image_types)\n",
        "        \n",
        "        images_by_labels['b_0.021inch'].extend(b_images_021)\n",
        "    #5\n",
        "    for i in tqdm(np.arange(len_ir_007)):\n",
        "        ir_images_007 = generate_rgba_images_from_data(ir_data_007[i], image_shape, image_types)\n",
        "        \n",
        "        images_by_labels['ir_0.007inch'].extend(ir_images_007)\n",
        "    #6\n",
        "    for i in tqdm(np.arange(len_ir_014)):\n",
        "        ir_images_014 = generate_rgba_images_from_data(ir_data_014[i], image_shape, image_types)\n",
        "        \n",
        "        images_by_labels['ir_0.014inch'].extend(ir_images_014)\n",
        "    #7\n",
        "    for i in tqdm(np.arange(len_ir_021)):    \n",
        "        ir_images_021 = generate_rgba_images_from_data(ir_data_021[i], image_shape, image_types)\n",
        "          \n",
        "        images_by_labels['ir_0.021inch'].extend(ir_images_021)\n",
        "    #8\n",
        "    for i in tqdm(np.arange(len_or_007)):    \n",
        "        or_images_007 = generate_rgba_images_from_data(or_data_007[i], image_shape, image_types)\n",
        "        \n",
        "        images_by_labels['or_0.007inch'].extend(or_images_007)\n",
        "    #9\n",
        "    for i in tqdm(np.arange(len_or_014)):    \n",
        "        or_images_014 = generate_rgba_images_from_data(or_data_014[i], image_shape, image_types)\n",
        "        \n",
        "        images_by_labels['or_0.014inch'].extend(or_images_014)\n",
        "    #10\n",
        "    for i in tqdm(np.arange(len_or_021)):    \n",
        "        or_images_021 = generate_rgba_images_from_data(or_data_021[i], image_shape, image_types)\n",
        "        \n",
        "        images_by_labels['or_0.021inch'].extend(or_images_021)\n",
        "\n",
        "    print(f'Saving {filename_for_images_by_labels}')\n",
        "    np.save(f'{filename_for_images_by_labels}', images_by_labels)\n",
        "        \n",
        "#\n",
        "def npy_dataset_filename(\n",
        "        position,\n",
        "        image_types,\n",
        "        image_shape,\n",
        "        noise_scale,\n",
        "        shuffled_across_time):\n",
        "    filename_suffix = \\\n",
        "        (f'_Position_{position}') + \\\n",
        "        f'_types{\"-\".join([str(t)[10:12] for t in image_types])}' + \\\n",
        "        (f'_noise{noise_scale}' if noise_scale > 0 else '') + \\\n",
        "        (f'_timeshuffled' if shuffled_across_time else '') + \\\n",
        "        f'_shape{image_shape[0]}-{image_shape[1]}'\n",
        "    filename = f'./npy_dataset/images_by_labels_for_cnn{filename_suffix}.npy'\n",
        "    return filename\n",
        "#\n",
        "#\n",
        "def generate_rgba_images_from_data(\n",
        "        vector_y_data,\n",
        "        image_shape,\n",
        "        image_types):\n",
        "    images = []\n",
        "    if ImageType.SPECTROGRAM in image_types:\n",
        "        images.append(generate_spectrogram_image(vector_y_data, image_shape))\n",
        "\n",
        "    images_rgba = ary_to_rgba(images)\n",
        "\n",
        "    return images_rgba\n",
        "#\n",
        "#\n",
        "def ary_to_rgba(ary, nchannels=1):\n",
        "    from matplotlib import cm\n",
        "\n",
        "    ary_dim = (np.shape(ary))\n",
        "\n",
        "    im = np.empty(shape=(ary_dim[0], ary_dim[1], ary_dim[2], nchannels)).astype('uint8')\n",
        "    for i in np.arange(0, len(ary)):\n",
        "        im[i, :] = np.log(ary[i] + 1e-6).reshape(ary_dim[0], ary_dim[1], ary_dim[2], nchannels)\n",
        "    return im\n",
        "#\n",
        "\n",
        "class ImageType(Enum):\n",
        "    SCALOGRAM = 1\n",
        "    SPECTROGRAM = 2\n",
        "    QTRANSFORM = 3"
      ],
      "execution_count": 20,
      "outputs": []
    },
    {
      "cell_type": "markdown",
      "metadata": {
        "id": "e75rQTjcH58V"
      },
      "source": [
        "### 4.3.1 Image creating\n",
        "The parameters of the preprocessing are: "
      ]
    },
    {
      "cell_type": "markdown",
      "metadata": {
        "id": "DwI64wNXwlM4"
      },
      "source": [
        "Transfer Learning \r\n",
        "- Source Domain = 12k DE data for train"
      ]
    },
    {
      "cell_type": "code",
      "metadata": {
        "id": "KqndGemfunpf",
        "colab": {
          "base_uri": "https://localhost:8080/",
          "height": 539,
          "referenced_widgets": [
            "ca213b11cd07420c8ed63a95140f4989",
            "a54e0496395e4b95bbb6760513a414d8",
            "4486a96b7da5464081c10bad5558cd9e",
            "a027390f083f4dbe8cd012a46b7cd322",
            "64c82e3968e148e29ff1af003c326e3b",
            "6cedfa98236d428fa5fa28fe21961b83",
            "9c983fa2496443ecac76b6e57bcc8a57",
            "5f04fb7ee4d44ecf9276eee14050865e",
            "f19f5b5ff9ba40749652ee149245e15d",
            "9d5b3796793245579f9e2abf7722a991",
            "1f4222702aa04fb4a11ce02e0a962b46",
            "f8c56acdf4e34124834e58b255f4adf6",
            "09e5dc572ec94ceb9c4a67adeb092dfe",
            "1cabac8e736a4229b8a60d2ce9132c55",
            "7828e19b51b24f01ab15ae6b6c74b62c",
            "ed9045309e6c4a0389f1acb16801058f",
            "9c58f60b78704619aff8903030e8fa82",
            "c2f60037984e449fa5c14d32f0d9b542",
            "d7a7f9718e7b41038202b144a35facbb",
            "37e054ccf5fc463dbf623b2cdffa9048",
            "bd64d8bbaf754da58f54a02829947d60",
            "895f8624a0a0427cb997307bcf8aca13",
            "4dd62efcae65415084c4e78f02386632",
            "816ca4656618446798ca6311b468271b",
            "0c2cac22e7854af3bbadd9e1d2e270d4",
            "a88be111b2dc4cd099ad4dcd7ce124e8",
            "b6870b97e1e546228806a31d4d066fac",
            "c05b1b308055481ca94258ae0733d796",
            "959fa9263063416eb7478126f7576e93",
            "44f6fab7221a4c7db3fb6f86d8026f40",
            "da8747d42bda4d679c50852f8561d578",
            "31c5ad54e01049a39ee8eb1b8e50fef4",
            "425a344ee0d943609e9c3c1e86a8a934",
            "1f787a8e4a7f4c998f23aaa69ea67344",
            "d243eca70c314e6e954d8b564f751dda",
            "25340bacacf042ce9e172fd703749e3f",
            "769f426649df4fabba3878f278279ccb",
            "68c9126bd6ce448bb3cd443144fc7880",
            "bf7531c6fd524787b2d62b97a1c6ec72",
            "c7ea4bd03c344d2687d153830033c713",
            "1f7f839a15b34421a214c26dda258116",
            "5dd92a8af34c4dedab2295ec79dbd060",
            "f91a8976d27d4718bbb760a1d1675081",
            "3ba2a2b8feb243bea57a2b1f8de987de",
            "1d342762eee745818b001b2ba671ade2",
            "233bb8e55afc42a19daf3361ecc5f3ea",
            "a975385408cb424c97e45cbac4d9f44b",
            "1f437474e90646d7a8bf64d349c943d1",
            "dd9f68502ab94a3d96076ebb8b5def3c",
            "5d816d0f5099402f8033fc2ddb10a332",
            "1da7896cbfdd44598ecab9258b964b3c",
            "7c4581b51059408d9cf90bc4fcfbcc2d",
            "7cda3bb248894e1db7a432bbca2e4468",
            "76756bd82f2e4bce8ab8e5ac267f3c01",
            "c8d4aea55b61476a8188ebc4a89c98cf",
            "2bc71878145b40a1968b7f6bbd161e91",
            "82fd189e20a14aedb45640ecc5a54cd3",
            "47a0877c64944005b1fa32234fb56f07",
            "6a470b68d31a42c9a9784fec1b7a1b1f",
            "ec5a1e75a0424affbdf8384ec0de727b",
            "eaa14ef7e5e942d983e57e724611bbb2",
            "7e781ec5aeb447e8a93e9081a92635f9",
            "0913a5d343b74fbab7533eab7099f5df",
            "6e49fb9274924084a2c00768827021fc",
            "c670fa7d0a774e7e9331a117d87f85fb",
            "50c064cd288b4c4a8a65fbab041bdc45",
            "d74858d8e9f24ba1823e2f78df9d8722",
            "afc17b1f8c8c4f91b2aec5e58e365964",
            "809b76ddbbbe42c8869be752ae0a9dcc",
            "4a5e05620a124331b33f71b304252fe5",
            "8dbb49eb7a974b858f2796c318de4200",
            "c6953cb4176c4ee7a068f197f453ad24",
            "83df10c555994588ab8a22288bfa6d44",
            "51b3c18e91714b61bb9e5b5cb40964ba",
            "f855d7ae872048419f72e8369f43978f",
            "f7a1f89001304e40b9a877940b625297",
            "1581b49f4d3c4075a8049a1aef5691be",
            "a7aeaaaaa94a456eb588f680e50a8519",
            "e18db09326b24d4eba6a155ee7ca15d9",
            "c5d3d1ef64e44595af76c89cd69a3e63"
          ]
        },
        "outputId": "44cd066d-fc92-4fe7-d59f-afe72d4d1397"
      },
      "source": [
        "create_image_by_label_database(\n",
        "    position=\"DE\", \n",
        "    image_types=[ImageType.SPECTROGRAM], \n",
        "    image_shape=(96, 96), \n",
        "    shuffle_across_time=True,\n",
        "    overwrite_existing_file=True)"
      ],
      "execution_count": 21,
      "outputs": [
        {
          "output_type": "display_data",
          "data": {
            "application/vnd.jupyter.widget-view+json": {
              "model_id": "ca213b11cd07420c8ed63a95140f4989",
              "version_minor": 0,
              "version_major": 2
            },
            "text/plain": [
              "HBox(children=(FloatProgress(value=0.0, max=1415.0), HTML(value='')))"
            ]
          },
          "metadata": {
            "tags": []
          }
        },
        {
          "output_type": "stream",
          "text": [
            "\n"
          ],
          "name": "stdout"
        },
        {
          "output_type": "display_data",
          "data": {
            "application/vnd.jupyter.widget-view+json": {
              "model_id": "f19f5b5ff9ba40749652ee149245e15d",
              "version_minor": 0,
              "version_major": 2
            },
            "text/plain": [
              "HBox(children=(FloatProgress(value=0.0, max=405.0), HTML(value='')))"
            ]
          },
          "metadata": {
            "tags": []
          }
        },
        {
          "output_type": "stream",
          "text": [
            "\n"
          ],
          "name": "stdout"
        },
        {
          "output_type": "display_data",
          "data": {
            "application/vnd.jupyter.widget-view+json": {
              "model_id": "9c58f60b78704619aff8903030e8fa82",
              "version_minor": 0,
              "version_major": 2
            },
            "text/plain": [
              "HBox(children=(FloatProgress(value=0.0, max=406.0), HTML(value='')))"
            ]
          },
          "metadata": {
            "tags": []
          }
        },
        {
          "output_type": "stream",
          "text": [
            "\n"
          ],
          "name": "stdout"
        },
        {
          "output_type": "display_data",
          "data": {
            "application/vnd.jupyter.widget-view+json": {
              "model_id": "0c2cac22e7854af3bbadd9e1d2e270d4",
              "version_minor": 0,
              "version_major": 2
            },
            "text/plain": [
              "HBox(children=(FloatProgress(value=0.0, max=406.0), HTML(value='')))"
            ]
          },
          "metadata": {
            "tags": []
          }
        },
        {
          "output_type": "stream",
          "text": [
            "\n"
          ],
          "name": "stdout"
        },
        {
          "output_type": "display_data",
          "data": {
            "application/vnd.jupyter.widget-view+json": {
              "model_id": "425a344ee0d943609e9c3c1e86a8a934",
              "version_minor": 0,
              "version_major": 2
            },
            "text/plain": [
              "HBox(children=(FloatProgress(value=0.0, max=406.0), HTML(value='')))"
            ]
          },
          "metadata": {
            "tags": []
          }
        },
        {
          "output_type": "stream",
          "text": [
            "\n"
          ],
          "name": "stdout"
        },
        {
          "output_type": "display_data",
          "data": {
            "application/vnd.jupyter.widget-view+json": {
              "model_id": "1f7f839a15b34421a214c26dda258116",
              "version_minor": 0,
              "version_major": 2
            },
            "text/plain": [
              "HBox(children=(FloatProgress(value=0.0, max=406.0), HTML(value='')))"
            ]
          },
          "metadata": {
            "tags": []
          }
        },
        {
          "output_type": "stream",
          "text": [
            "\n"
          ],
          "name": "stdout"
        },
        {
          "output_type": "display_data",
          "data": {
            "application/vnd.jupyter.widget-view+json": {
              "model_id": "dd9f68502ab94a3d96076ebb8b5def3c",
              "version_minor": 0,
              "version_major": 2
            },
            "text/plain": [
              "HBox(children=(FloatProgress(value=0.0, max=406.0), HTML(value='')))"
            ]
          },
          "metadata": {
            "tags": []
          }
        },
        {
          "output_type": "stream",
          "text": [
            "\n"
          ],
          "name": "stdout"
        },
        {
          "output_type": "display_data",
          "data": {
            "application/vnd.jupyter.widget-view+json": {
              "model_id": "82fd189e20a14aedb45640ecc5a54cd3",
              "version_minor": 0,
              "version_major": 2
            },
            "text/plain": [
              "HBox(children=(FloatProgress(value=0.0, max=1220.0), HTML(value='')))"
            ]
          },
          "metadata": {
            "tags": []
          }
        },
        {
          "output_type": "stream",
          "text": [
            "\n"
          ],
          "name": "stdout"
        },
        {
          "output_type": "display_data",
          "data": {
            "application/vnd.jupyter.widget-view+json": {
              "model_id": "c670fa7d0a774e7e9331a117d87f85fb",
              "version_minor": 0,
              "version_major": 2
            },
            "text/plain": [
              "HBox(children=(FloatProgress(value=0.0, max=406.0), HTML(value='')))"
            ]
          },
          "metadata": {
            "tags": []
          }
        },
        {
          "output_type": "stream",
          "text": [
            "\n"
          ],
          "name": "stdout"
        },
        {
          "output_type": "display_data",
          "data": {
            "application/vnd.jupyter.widget-view+json": {
              "model_id": "83df10c555994588ab8a22288bfa6d44",
              "version_minor": 0,
              "version_major": 2
            },
            "text/plain": [
              "HBox(children=(FloatProgress(value=0.0, max=1221.0), HTML(value='')))"
            ]
          },
          "metadata": {
            "tags": []
          }
        },
        {
          "output_type": "stream",
          "text": [
            "\n",
            "Saving ./npy_dataset/images_by_labels_for_cnn_Position_DE_typesSP_timeshuffled_shape96-96.npy\n"
          ],
          "name": "stdout"
        }
      ]
    },
    {
      "cell_type": "markdown",
      "metadata": {
        "id": "pgXDNJnGwidq"
      },
      "source": [
        "Transfer Learning \r\n",
        "- Target Domain = 90% 12k FE data for Test"
      ]
    },
    {
      "cell_type": "code",
      "metadata": {
        "id": "P1Cy2P24sKbA",
        "colab": {
          "base_uri": "https://localhost:8080/",
          "height": 539,
          "referenced_widgets": [
            "b9219a93af964d47b0f63852220f6c78",
            "2c12914bf5c54f6c9aef459cd006b065",
            "3b20c5ef24764aacbd1cc7978e960876",
            "4a1ee8c5830348618431857826d6e442",
            "93813f5711264e369e7056e246569bc7",
            "c084a9e57e614536bdcbfa31a43fad5c",
            "7099a0e050b24e9c9aa6e621bd6fa4d0",
            "ced0e9a07836410ead27829cf31af553",
            "1eba0ed6ea2642cfad887327d8659077",
            "d30d44f04a7c408485d3a8dab99a342c",
            "c955aa4d0a1d49c88274a44dc39c9288",
            "d91c51629eaf4f71b6e4d9eb12e25ef5",
            "a566ff51808b4634a27ba9703214142e",
            "1fc00184d6a34cd1a20f831d04784909",
            "7fafe3e2d4bb4841bddb88e293d908ee",
            "bfd96fa79a79403d9a6cfcd80ee4ee56",
            "83d1058c04d748f9a53b11800993e54e",
            "c92c2e09579441a1847ab7b66aa20901",
            "bb02ae0a86f141b09e418137c6fcda88",
            "4537a35adce84938a9c2e0c041c33866",
            "f7aec54ac73048469571c76494dea329",
            "3ea26230a2f647ada828f4f4eb4d04ef",
            "d49ffe862f074456a45fd0ca3ebc5d82",
            "9f83005dd65745c395dfaf972b6e124c",
            "40b0bb0d2e404c258d75a4992a9c9f8f",
            "53a0ed4904f149188ab26ce81df61b0d",
            "68f516b3b58d43939135f01849c7c580",
            "e2d4c8d651754ffba4ad1580fbf0f142",
            "df31e20918194fa58621cd981903f68d",
            "3e32ac9f7e1f41e8badcfbca1827a6b7",
            "d7c6e16a6d1142df8261b83752f9aee5",
            "e0399097445142d3b080304b8d1b3e72",
            "b2ce6c8128074832af3dba9f15556d1c",
            "3cebf59731104673ba54a871b20315af",
            "01726b5cc47540f3acdc741b114dcd5a",
            "ec838f3bcb6f44089e72071aec16f625",
            "2aace97afd9a4e93bb3ccdff4843f338",
            "c4bb6ff9bd8e4e38aefdee0d86c682e7",
            "dc4d8c2d9895472dab40c2df4eba88a1",
            "b22668d4fe7249b5893fa74273ca944f",
            "99fddd665fc54a199d74181d7ed7f412",
            "10f7522625c9458fb60798a759ce0192",
            "566624bafa6645db9766572ffdc262c9",
            "42090d6b4cb94fcc879614c18b320698",
            "2a5ae511bc9c4cd09ccbc2065b8cc7b5",
            "38d3806ee5fe43d386d330444bc12e42",
            "86df53db419049e0a552bface97487dd",
            "9a4965a0ee37463eab73a1c889bcc351",
            "631ee0fd37bd4fde813b2f26762db7ef",
            "09cb6a72ff7f408cbb6455f1df0ea82c",
            "93ad547484da43479cb44f7f03dd3eba",
            "8a71445ee8254f0f98910c11aa640755",
            "93cafb80d4e440b9a5d78fd0b9974f11",
            "2201ed5dc39e4d59ad3e74c9d2cf0153",
            "c58356791efd4fa5b11f2b73c15af473",
            "a26f3e908d2645df9707dee601554b65",
            "b17780d822cc4f2ab70874362125f35d",
            "200185fab29548718fc7ca1c6eb380f6",
            "fe45b2a8e3a14a458a91c7c24e17756f",
            "2a72d2bddbb049a8a2d80f4fdefb020b",
            "1dbb102e85694e9083497e043ff2c6e0",
            "2606d7b7423348049bc4a6c510924d3d",
            "aecc96aa7da34bc4bec78a39029cac68",
            "953806a1f40d4575b55fbab9f28578fb",
            "2150b045feb24411aa9f8f5244f6a191",
            "41b3481ceb39452296321d5b23213c97",
            "f82172419e0a4f52ab1df1d4355dee78",
            "4c3f357bc0ac4be1a714eff257fd4530",
            "e6a72cd098d74d83b3f8ed2e14ac7815",
            "a7b32ef5d9154a109b0441c271c08d1a",
            "14e7ede9ca414290a914e9b44cb18f48",
            "c1cdfe6526eb4767bab0284a10c2f240",
            "5726e9ce63ea4648b485e1d36df0ec55",
            "3dfe4cfaf74347feb28ad6c3b3f4c9f7",
            "70c244e343c742bf93382a409ab0c870",
            "84660e7d784645e790c6aea3ba752072",
            "df1d5f6c5a5b4cf78fd14efd03454407",
            "f2371a19a50244b68d2beea61dddaece",
            "98e7f8e9eab041e391c42656362c5153",
            "4a362ad15bec4b81b6a3f05157ad258b"
          ]
        },
        "outputId": "5ab07732-4257-433f-b7f7-54567d74d627"
      },
      "source": [
        "create_image_by_label_database(\n",
        "    position=\"FE_test\", \n",
        "    image_types=[ImageType.SPECTROGRAM], \n",
        "    image_shape=(96, 96), \n",
        "    shuffle_across_time=True,\n",
        "    overwrite_existing_file=True)"
      ],
      "execution_count": 22,
      "outputs": [
        {
          "output_type": "display_data",
          "data": {
            "application/vnd.jupyter.widget-view+json": {
              "model_id": "b9219a93af964d47b0f63852220f6c78",
              "version_minor": 0,
              "version_major": 2
            },
            "text/plain": [
              "HBox(children=(FloatProgress(value=0.0, max=1273.0), HTML(value='')))"
            ]
          },
          "metadata": {
            "tags": []
          }
        },
        {
          "output_type": "stream",
          "text": [
            "\n"
          ],
          "name": "stdout"
        },
        {
          "output_type": "display_data",
          "data": {
            "application/vnd.jupyter.widget-view+json": {
              "model_id": "1eba0ed6ea2642cfad887327d8659077",
              "version_minor": 0,
              "version_major": 2
            },
            "text/plain": [
              "HBox(children=(FloatProgress(value=0.0, max=363.0), HTML(value='')))"
            ]
          },
          "metadata": {
            "tags": []
          }
        },
        {
          "output_type": "stream",
          "text": [
            "\n"
          ],
          "name": "stdout"
        },
        {
          "output_type": "display_data",
          "data": {
            "application/vnd.jupyter.widget-view+json": {
              "model_id": "83d1058c04d748f9a53b11800993e54e",
              "version_minor": 0,
              "version_major": 2
            },
            "text/plain": [
              "HBox(children=(FloatProgress(value=0.0, max=365.0), HTML(value='')))"
            ]
          },
          "metadata": {
            "tags": []
          }
        },
        {
          "output_type": "stream",
          "text": [
            "\n"
          ],
          "name": "stdout"
        },
        {
          "output_type": "display_data",
          "data": {
            "application/vnd.jupyter.widget-view+json": {
              "model_id": "40b0bb0d2e404c258d75a4992a9c9f8f",
              "version_minor": 0,
              "version_major": 2
            },
            "text/plain": [
              "HBox(children=(FloatProgress(value=0.0, max=363.0), HTML(value='')))"
            ]
          },
          "metadata": {
            "tags": []
          }
        },
        {
          "output_type": "stream",
          "text": [
            "\n"
          ],
          "name": "stdout"
        },
        {
          "output_type": "display_data",
          "data": {
            "application/vnd.jupyter.widget-view+json": {
              "model_id": "b2ce6c8128074832af3dba9f15556d1c",
              "version_minor": 0,
              "version_major": 2
            },
            "text/plain": [
              "HBox(children=(FloatProgress(value=0.0, max=364.0), HTML(value='')))"
            ]
          },
          "metadata": {
            "tags": []
          }
        },
        {
          "output_type": "stream",
          "text": [
            "\n"
          ],
          "name": "stdout"
        },
        {
          "output_type": "display_data",
          "data": {
            "application/vnd.jupyter.widget-view+json": {
              "model_id": "99fddd665fc54a199d74181d7ed7f412",
              "version_minor": 0,
              "version_major": 2
            },
            "text/plain": [
              "HBox(children=(FloatProgress(value=0.0, max=363.0), HTML(value='')))"
            ]
          },
          "metadata": {
            "tags": []
          }
        },
        {
          "output_type": "stream",
          "text": [
            "\n"
          ],
          "name": "stdout"
        },
        {
          "output_type": "display_data",
          "data": {
            "application/vnd.jupyter.widget-view+json": {
              "model_id": "631ee0fd37bd4fde813b2f26762db7ef",
              "version_minor": 0,
              "version_major": 2
            },
            "text/plain": [
              "HBox(children=(FloatProgress(value=0.0, max=363.0), HTML(value='')))"
            ]
          },
          "metadata": {
            "tags": []
          }
        },
        {
          "output_type": "stream",
          "text": [
            "\n"
          ],
          "name": "stdout"
        },
        {
          "output_type": "display_data",
          "data": {
            "application/vnd.jupyter.widget-view+json": {
              "model_id": "b17780d822cc4f2ab70874362125f35d",
              "version_minor": 0,
              "version_major": 2
            },
            "text/plain": [
              "HBox(children=(FloatProgress(value=0.0, max=1092.0), HTML(value='')))"
            ]
          },
          "metadata": {
            "tags": []
          }
        },
        {
          "output_type": "stream",
          "text": [
            "\n"
          ],
          "name": "stdout"
        },
        {
          "output_type": "display_data",
          "data": {
            "application/vnd.jupyter.widget-view+json": {
              "model_id": "2150b045feb24411aa9f8f5244f6a191",
              "version_minor": 0,
              "version_major": 2
            },
            "text/plain": [
              "HBox(children=(FloatProgress(value=0.0, max=454.0), HTML(value='')))"
            ]
          },
          "metadata": {
            "tags": []
          }
        },
        {
          "output_type": "stream",
          "text": [
            "\n"
          ],
          "name": "stdout"
        },
        {
          "output_type": "display_data",
          "data": {
            "application/vnd.jupyter.widget-view+json": {
              "model_id": "5726e9ce63ea4648b485e1d36df0ec55",
              "version_minor": 0,
              "version_major": 2
            },
            "text/plain": [
              "HBox(children=(FloatProgress(value=0.0, max=362.0), HTML(value='')))"
            ]
          },
          "metadata": {
            "tags": []
          }
        },
        {
          "output_type": "stream",
          "text": [
            "\n",
            "Saving ./npy_dataset/images_by_labels_for_cnn_Position_FE_test_typesSP_timeshuffled_shape96-96.npy\n"
          ],
          "name": "stdout"
        }
      ]
    },
    {
      "cell_type": "markdown",
      "metadata": {
        "id": "b9U0PbsUXqBi"
      },
      "source": [
        "## 4.4 Preparing Train-Test Data "
      ]
    },
    {
      "cell_type": "markdown",
      "metadata": {
        "id": "riy5rfwbIRr8"
      },
      "source": [
        "### 4.4.1 Image loading\r\n",
        "Now to define a function that loads the images that were generated.\r\n"
      ]
    },
    {
      "cell_type": "code",
      "metadata": {
        "id": "ZUHcHHnRVoh5"
      },
      "source": [
        "def load_images_by_labels_by_params(\n",
        "        position,\n",
        "        image_types ,\n",
        "        image_shape,\n",
        "        noise_scale = 0.0,\n",
        "        chunks_are_shuffled_across_time=True):\n",
        "    filename = npy_dataset_filename(\n",
        "        position,\n",
        "        image_types,\n",
        "        image_shape,\n",
        "        noise_scale,\n",
        "        chunks_are_shuffled_across_time)\n",
        "\n",
        "    loaded = np.load(filename, allow_pickle=True)\n",
        "    print(f\"Successfully loaded file {filename}\")\n",
        "    return loaded.item()  # item() gets the actual dictionary from the loaded object"
      ],
      "execution_count": 23,
      "outputs": []
    },
    {
      "cell_type": "markdown",
      "metadata": {
        "id": "Rc1Km833ZYua"
      },
      "source": [
        "With the aid of the previous function the images for *DE* and *train* is loaded"
      ]
    },
    {
      "cell_type": "code",
      "metadata": {
        "id": "fq8u9Aryu0ru",
        "colab": {
          "base_uri": "https://localhost:8080/"
        },
        "outputId": "7d2fe817-5d18-4a0d-98bc-fde41edece27"
      },
      "source": [
        "position = \"DE\"\n",
        "image_types=[ImageType.SPECTROGRAM]\n",
        "image_shape = (96, 96)\n",
        "shuffle_chunks_across_time=True\n",
        "\n",
        "images_by_labels_for_cnn_train = load_images_by_labels_by_params(\n",
        "    position=position,    \n",
        "    image_types=image_types, \n",
        "    image_shape=image_shape,\n",
        "    chunks_are_shuffled_across_time=shuffle_chunks_across_time)"
      ],
      "execution_count": 24,
      "outputs": [
        {
          "output_type": "stream",
          "text": [
            "Successfully loaded file ./npy_dataset/images_by_labels_for_cnn_Position_DE_typesSP_timeshuffled_shape96-96.npy\n"
          ],
          "name": "stdout"
        }
      ]
    },
    {
      "cell_type": "markdown",
      "metadata": {
        "id": "EndTTS8kxhbe"
      },
      "source": [
        "With the aid of the previous function the images for *FE* and *test* is loaded. This is the *test split* of 90%."
      ]
    },
    {
      "cell_type": "code",
      "metadata": {
        "id": "InYPoQnLvJbq",
        "colab": {
          "base_uri": "https://localhost:8080/"
        },
        "outputId": "6442652c-1ed2-4a4f-d977-ff43466dfe08"
      },
      "source": [
        "position = \"FE_test\"\n",
        "image_types=[ImageType.SPECTROGRAM]\n",
        "image_shape = (96, 96)\n",
        "shuffle_chunks_across_time=True\n",
        "\n",
        "images_by_labels_for_cnn_test = load_images_by_labels_by_params(\n",
        "    position=position,    \n",
        "    image_types=image_types, \n",
        "    image_shape=image_shape,\n",
        "    chunks_are_shuffled_across_time=shuffle_chunks_across_time)"
      ],
      "execution_count": 25,
      "outputs": [
        {
          "output_type": "stream",
          "text": [
            "Successfully loaded file ./npy_dataset/images_by_labels_for_cnn_Position_FE_test_typesSP_timeshuffled_shape96-96.npy\n"
          ],
          "name": "stdout"
        }
      ]
    },
    {
      "cell_type": "markdown",
      "metadata": {
        "id": "fLUJlwpfI5IO"
      },
      "source": [
        "### 4.4.2 Image separation\r\n",
        "Now, to transform the data to be suitable for the CNN input:\r\n",
        "- the images and their labels need to be separated into two arrays, correlated by their indices\r\n",
        "- the labels are to be one-hot encoded (i.e. label \"N\" becomes (0,0,0,0,0,0,0,0,0,1))\r\n"
      ]
    },
    {
      "cell_type": "code",
      "metadata": {
        "id": "qIVPJmQ8Voh-"
      },
      "source": [
        "#from Zipfile import zip\n",
        "#import zip\n",
        "from itertools import zip_longest\n",
        "\n",
        "def separate_images_from_labels(images_by_labels, interleave: bool):\n",
        "    all_labels = list(images_by_labels.keys())\n",
        "    \n",
        "    NB_CLASSES = len(all_labels)\n",
        "    all_labels_onehot = np.identity(NB_CLASSES).astype('uint8')\n",
        "    label_to_onehot_mapper = {all_labels[i]: all_labels_onehot[i] for i in np.arange(NB_CLASSES)}\n",
        "\n",
        "    all_images_for_cnn = []\n",
        "    all_labels_for_cnn_onehot = []\n",
        "\n",
        "    for key in all_labels:\n",
        "        images = images_by_labels[key]\n",
        "        labels_onehot = np.full(shape=(len(images), NB_CLASSES), fill_value=label_to_onehot_mapper[key])\n",
        "\n",
        "        all_images_for_cnn.append(images)\n",
        "        all_labels_for_cnn_onehot.append(labels_onehot)\n",
        "\n",
        "    if interleave:\n",
        "        all_images_for_cnn = lists_interleave(all_images_for_cnn)\n",
        "        all_labels_for_cnn_onehot = lists_interleave(all_labels_for_cnn_onehot)\n",
        "    else:  # flatten the lists\n",
        "        all_images_for_cnn = [image for sublist in all_images_for_cnn for image in sublist]\n",
        "        all_labels_for_cnn_onehot = [label for sublist in all_labels_for_cnn_onehot for label in sublist]\n",
        "\n",
        "    return np.array(all_images_for_cnn), np.array(all_labels_for_cnn_onehot)\n",
        "                               \n",
        "def lists_interleave(lists):\n",
        "    return [val for tup in zip(*lists) for val in tup]"
      ],
      "execution_count": 27,
      "outputs": []
    },
    {
      "cell_type": "markdown",
      "metadata": {
        "id": "o_gC-FzjcJrW"
      },
      "source": [
        "The last step before training is to separate the images into training set and testing set. Then to separate the images and their corresponding labels."
      ]
    },
    {
      "cell_type": "code",
      "metadata": {
        "id": "1Qh2oP54VoiC",
        "colab": {
          "base_uri": "https://localhost:8080/",
          "height": 72
        },
        "outputId": "fe03e375-b5e2-4877-c1ab-667bbbff01a7"
      },
      "source": [
        "images_train_1, labels_train_1_onehot = separate_images_from_labels(images_by_labels_for_cnn_train, interleave=False)\n",
        "images_test, labels_test_onehot = separate_images_from_labels(images_by_labels_for_cnn_test, interleave=False)\n",
        "\n",
        "display(type(images_train_1))\n",
        "display(images_train_1.shape)\n",
        "display(type(images_by_labels_for_cnn_train))"
      ],
      "execution_count": 28,
      "outputs": [
        {
          "output_type": "display_data",
          "data": {
            "text/plain": [
              "numpy.ndarray"
            ]
          },
          "metadata": {
            "tags": []
          }
        },
        {
          "output_type": "display_data",
          "data": {
            "text/plain": [
              "(6697, 96, 96, 1)"
            ]
          },
          "metadata": {
            "tags": []
          }
        },
        {
          "output_type": "display_data",
          "data": {
            "text/plain": [
              "dict"
            ]
          },
          "metadata": {
            "tags": []
          }
        }
      ]
    },
    {
      "cell_type": "markdown",
      "metadata": {
        "id": "gRLHIUtdemuI"
      },
      "source": [
        "### 4.4.3 Image and label shuffling\r\n",
        "Additionally, for a good distribution of data types accross the training and test data, the data is interleaved. All of the 10 types of data and random shuffle while keeping the labels for values intact.\r\n",
        "\r\n",
        "A single array is taken, containing all the images, where sequential images are always of a different data type (N, IR1, IR2, IR3, B1, B2, B3, OR1, OR2, OR3) in the form [..., \"N\", \"IR1\", \"IR2\", \"IR3\", \"B1\", \"B2\", \"B3\", \"OR1\", \"OR2\", \"OR3\", \"N\", \"IR1\", \"IR2\", \"IR3\", ...]."
      ]
    },
    {
      "cell_type": "code",
      "metadata": {
        "id": "NRlPmgmKuwKz"
      },
      "source": [
        "random_idx = np.random.permutation(np.arange(0,images_train_1.shape[0]))\n",
        "random_idx_test = np.random.permutation(np.arange(0,images_test.shape[0]))"
      ],
      "execution_count": 29,
      "outputs": []
    },
    {
      "cell_type": "code",
      "metadata": {
        "id": "JfEscme6vHmJ"
      },
      "source": [
        "images_train_1 = images_train_1[random_idx]\n",
        "labels_train_1_onehot = labels_train_1_onehot[random_idx]\n",
        "\n",
        "images_test = images_test[random_idx_test]\n",
        "labels_test_onehot = labels_test_onehot[random_idx_test]"
      ],
      "execution_count": 30,
      "outputs": []
    },
    {
      "cell_type": "markdown",
      "metadata": {
        "id": "7Gzbd_vdeNow"
      },
      "source": [
        "## 4.5 **Convolutional Neural Network**\n",
        "The CNN architecture used in this notebook is from the paper [Deep Learning Enabled Fault Diagnosis Using Time-Frequency Image Analysis of Rolling Element Bearings](https://www.hindawi.com/journals/sv/2017/5067651/). It is a proposed architecture. \n",
        "This architecture is used due to the resolution of the image and it yields very good results in terms of precision."
      ]
    },
    {
      "cell_type": "markdown",
      "metadata": {
        "id": "86pWLCIdeTPm"
      },
      "source": [
        "### 4.5.1 CNN model with Keras\n",
        "It is a supervised classification problem, with 10 classes. A Convolutional Neural Network (CNN) is implemented as a Sequential Keras model. This Keras model uses TensorFlow as backend for the tensor arithmetics. \n",
        "\n",
        "The images that were previously generated, form a tuple `(number of images, x dpi, y dpi, number of channels)`. The *loss function* is **categorical cross-entropy**, the *optimizer* is **ADAM** and **Leaky RELU** *activation function* is used after each Convolution layer. The *learning rate* has been tested to different values and in the end learning rate decay was followed for that matter."
      ]
    },
    {
      "cell_type": "code",
      "metadata": {
        "id": "KvmO0K0LVoiF"
      },
      "source": [
        "from keras import optimizers\n",
        "\n",
        "## input data parameters\n",
        "IMAGES_SHAPE = (96, 96, 1)\n",
        "PADDING = 'same'\n",
        "KERNEL_SIZE = (3, 3)\n",
        "KERNEL_INITIALIZER = 'glorot_normal'\n",
        "# parameters for deep layers\n",
        "NUMBER_OF_CLASSES = 10  # N, B 0.007inch, B 0.014inch, B 0.021inch, IR 0.007inch, IR 0.014inch, IR 0.021inch, OR 0.007inch, OR 0.014inch and OR 0.021inch  \n",
        "DROPOUT = 0.4\n",
        "LEAK_ALPHA = 0.1 #slope of leaky relu\n",
        "MAX_POOLING_POOL_SIZE = (2, 2)\n",
        "ACTIVATION_LAYER_FUNCTION = 'softmax'\n",
        "# loss and optimizer\n",
        "LOSS_FUNCTION = 'categorical_crossentropy'\n",
        "LEARNING_RATE = 0.001 #default = 0.001\n",
        "OPTIMIZER = optimizers.Adam(LEARNING_RATE, epsilon=10e-6)"
      ],
      "execution_count": 31,
      "outputs": []
    },
    {
      "cell_type": "code",
      "metadata": {
        "id": "U_H1rqAxVoiH",
        "colab": {
          "base_uri": "https://localhost:8080/"
        },
        "outputId": "96892bee-fb6e-42b3-8040-bab1f61b2f73"
      },
      "source": [
        "import keras\n",
        "from keras.models import Sequential\n",
        "from keras.layers.core import Dense, Dropout, Activation, Flatten\n",
        "from keras.layers.convolutional import Conv2D, MaxPooling2D\n",
        "from keras.layers import LeakyReLU\n",
        "from keras import metrics\n",
        "\n",
        "\n",
        "# CNN architecture from Guo et al.\n",
        "model = Sequential()\n",
        "model.add(Conv2D(16, KERNEL_SIZE,                  \n",
        "                 input_shape=IMAGES_SHAPE,\n",
        "                 data_format='channels_last',\n",
        "                 kernel_initializer=KERNEL_INITIALIZER,                 \n",
        "                 padding=PADDING))\n",
        "model.add(LeakyReLU(LEAK_ALPHA))\n",
        "model.add(Conv2D(16, KERNEL_SIZE, \n",
        "                 kernel_initializer=KERNEL_INITIALIZER,\n",
        "                 padding=PADDING))\n",
        "model.add(LeakyReLU(LEAK_ALPHA))\n",
        "model.add(MaxPooling2D(pool_size=MAX_POOLING_POOL_SIZE))\n",
        "model.add(Conv2D(32, KERNEL_SIZE,                  \n",
        "                 kernel_initializer=KERNEL_INITIALIZER,                 \n",
        "                 padding=PADDING))\n",
        "model.add(LeakyReLU(LEAK_ALPHA))\n",
        "model.add(Conv2D(32, KERNEL_SIZE, \n",
        "                 kernel_initializer=KERNEL_INITIALIZER,\n",
        "                 padding=PADDING))\n",
        "model.add(LeakyReLU(LEAK_ALPHA))\n",
        "model.add(MaxPooling2D(pool_size=MAX_POOLING_POOL_SIZE))\n",
        "model.add(Conv2D(64, KERNEL_SIZE, \n",
        "                 kernel_initializer=KERNEL_INITIALIZER,\n",
        "                 padding=PADDING))\n",
        "model.add(LeakyReLU(LEAK_ALPHA))\n",
        "model.add(Conv2D(64, KERNEL_SIZE, \n",
        "                 kernel_initializer=KERNEL_INITIALIZER,\n",
        "                 padding=PADDING))\n",
        "model.add(LeakyReLU(LEAK_ALPHA))\n",
        "model.add(MaxPooling2D(pool_size=MAX_POOLING_POOL_SIZE))\n",
        "model.add(Conv2D(128, KERNEL_SIZE, \n",
        "                 kernel_initializer=KERNEL_INITIALIZER,\n",
        "                 padding=PADDING))\n",
        "model.add(LeakyReLU(LEAK_ALPHA))\n",
        "model.add(Conv2D(128, KERNEL_SIZE, \n",
        "                 kernel_initializer=KERNEL_INITIALIZER,\n",
        "                 padding=PADDING))\n",
        "model.add(LeakyReLU(LEAK_ALPHA))\n",
        "model.add(MaxPooling2D(pool_size=MAX_POOLING_POOL_SIZE))\n",
        "model.add(Flatten())\n",
        "model.add(Dense(100))\n",
        "model.add(LeakyReLU(LEAK_ALPHA))\n",
        "model.add(Dropout(DROPOUT))\n",
        "model.add(Dense(100))\n",
        "model.add(LeakyReLU(LEAK_ALPHA))\n",
        "model.add(Dropout(DROPOUT))\n",
        "model.add(Dense(NUMBER_OF_CLASSES))\n",
        "model.add(Activation(ACTIVATION_LAYER_FUNCTION))\n",
        "  \n",
        "model.compile(loss=LOSS_FUNCTION, \n",
        "              optimizer=OPTIMIZER,\n",
        "              metrics=[metrics.categorical_accuracy])  \n",
        "model.summary()"
      ],
      "execution_count": 32,
      "outputs": [
        {
          "output_type": "stream",
          "text": [
            "Model: \"sequential\"\n",
            "_________________________________________________________________\n",
            "Layer (type)                 Output Shape              Param #   \n",
            "=================================================================\n",
            "conv2d (Conv2D)              (None, 96, 96, 16)        160       \n",
            "_________________________________________________________________\n",
            "leaky_re_lu (LeakyReLU)      (None, 96, 96, 16)        0         \n",
            "_________________________________________________________________\n",
            "conv2d_1 (Conv2D)            (None, 96, 96, 16)        2320      \n",
            "_________________________________________________________________\n",
            "leaky_re_lu_1 (LeakyReLU)    (None, 96, 96, 16)        0         \n",
            "_________________________________________________________________\n",
            "max_pooling2d (MaxPooling2D) (None, 48, 48, 16)        0         \n",
            "_________________________________________________________________\n",
            "conv2d_2 (Conv2D)            (None, 48, 48, 32)        4640      \n",
            "_________________________________________________________________\n",
            "leaky_re_lu_2 (LeakyReLU)    (None, 48, 48, 32)        0         \n",
            "_________________________________________________________________\n",
            "conv2d_3 (Conv2D)            (None, 48, 48, 32)        9248      \n",
            "_________________________________________________________________\n",
            "leaky_re_lu_3 (LeakyReLU)    (None, 48, 48, 32)        0         \n",
            "_________________________________________________________________\n",
            "max_pooling2d_1 (MaxPooling2 (None, 24, 24, 32)        0         \n",
            "_________________________________________________________________\n",
            "conv2d_4 (Conv2D)            (None, 24, 24, 64)        18496     \n",
            "_________________________________________________________________\n",
            "leaky_re_lu_4 (LeakyReLU)    (None, 24, 24, 64)        0         \n",
            "_________________________________________________________________\n",
            "conv2d_5 (Conv2D)            (None, 24, 24, 64)        36928     \n",
            "_________________________________________________________________\n",
            "leaky_re_lu_5 (LeakyReLU)    (None, 24, 24, 64)        0         \n",
            "_________________________________________________________________\n",
            "max_pooling2d_2 (MaxPooling2 (None, 12, 12, 64)        0         \n",
            "_________________________________________________________________\n",
            "conv2d_6 (Conv2D)            (None, 12, 12, 128)       73856     \n",
            "_________________________________________________________________\n",
            "leaky_re_lu_6 (LeakyReLU)    (None, 12, 12, 128)       0         \n",
            "_________________________________________________________________\n",
            "conv2d_7 (Conv2D)            (None, 12, 12, 128)       147584    \n",
            "_________________________________________________________________\n",
            "leaky_re_lu_7 (LeakyReLU)    (None, 12, 12, 128)       0         \n",
            "_________________________________________________________________\n",
            "max_pooling2d_3 (MaxPooling2 (None, 6, 6, 128)         0         \n",
            "_________________________________________________________________\n",
            "flatten (Flatten)            (None, 4608)              0         \n",
            "_________________________________________________________________\n",
            "dense (Dense)                (None, 100)               460900    \n",
            "_________________________________________________________________\n",
            "leaky_re_lu_8 (LeakyReLU)    (None, 100)               0         \n",
            "_________________________________________________________________\n",
            "dropout (Dropout)            (None, 100)               0         \n",
            "_________________________________________________________________\n",
            "dense_1 (Dense)              (None, 100)               10100     \n",
            "_________________________________________________________________\n",
            "leaky_re_lu_9 (LeakyReLU)    (None, 100)               0         \n",
            "_________________________________________________________________\n",
            "dropout_1 (Dropout)          (None, 100)               0         \n",
            "_________________________________________________________________\n",
            "dense_2 (Dense)              (None, 10)                1010      \n",
            "_________________________________________________________________\n",
            "activation (Activation)      (None, 10)                0         \n",
            "=================================================================\n",
            "Total params: 765,242\n",
            "Trainable params: 765,242\n",
            "Non-trainable params: 0\n",
            "_________________________________________________________________\n"
          ],
          "name": "stdout"
        }
      ]
    },
    {
      "cell_type": "code",
      "metadata": {
        "id": "oDKApTfdMyqV",
        "colab": {
          "base_uri": "https://localhost:8080/",
          "height": 1000
        },
        "outputId": "17b21144-60cc-44e7-f85e-9d042ece8b60"
      },
      "source": [
        "keras.utils.plot_model(model, \"my_first_model.png\")"
      ],
      "execution_count": 33,
      "outputs": [
        {
          "output_type": "execute_result",
          "data": {
            "image/png": "[encoded data removed]",
            "text/plain": [
              "<IPython.core.display.Image object>"
            ]
          },
          "metadata": {
            "tags": []
          },
          "execution_count": 33
        }
      ]
    },
    {
      "cell_type": "markdown",
      "metadata": {
        "id": "NRhizaxtee4L"
      },
      "source": [
        "### 4.5.2 Training the CNN\n",
        "\n",
        "The train for CNN is with a validation split of 10% - 90% train and test respectively of the *image batch size* and over 50 epochs. The CNN will be then tested on the hold-out data. "
      ]
    },
    {
      "cell_type": "markdown",
      "metadata": {
        "id": "3646h2q6OgcC"
      },
      "source": [
        "The Train Data is the *Source Domain* and the Validation is part of Test data or *Transfer/Target Domain*.\r\n",
        "\r\n"
      ]
    },
    {
      "cell_type": "code",
      "metadata": {
        "id": "yy0TLnFSsmQh"
      },
      "source": [
        "import tensorflow as tf\n",
        "callback = tf.keras.callbacks.EarlyStopping(monitor='val_loss', min_delta=0, patience=10, verbose=0, mode='auto')\n",
        "# This callback will stop the training when there is no improvement in\n",
        "# the validation loss for three consecutive epochs."
      ],
      "execution_count": 35,
      "outputs": []
    },
    {
      "cell_type": "code",
      "metadata": {
        "id": "K6M_DlcfVoiJ",
        "colab": {
          "base_uri": "https://localhost:8080/"
        },
        "outputId": "aee5b668-3453-42a8-feaa-90a83dbb0ed8"
      },
      "source": [
        "BATCH_SIZE = 80\n",
        "NUMBER_OF_EPOCHS = 50\n",
        "#callbacks=[callback]\n",
        "\n",
        "history = model.fit(\n",
        "    images_train_1, labels_train_1_onehot,\n",
        "    batch_size=BATCH_SIZE,\n",
        "    epochs=NUMBER_OF_EPOCHS, \n",
        "    validation_data=(images_test, labels_test_onehot), \n",
        "    verbose=1)"
      ],
      "execution_count": 36,
      "outputs": [
        {
          "output_type": "stream",
          "text": [
            "Epoch 1/50\n",
            "84/84 [==============================] - 38s 52ms/step - loss: 2.6472 - categorical_accuracy: 0.2657 - val_loss: 4.9735 - val_categorical_accuracy: 0.2949\n",
            "Epoch 2/50\n",
            "84/84 [==============================] - 3s 41ms/step - loss: 0.7980 - categorical_accuracy: 0.7373 - val_loss: 7.3655 - val_categorical_accuracy: 0.2799\n",
            "Epoch 3/50\n",
            "84/84 [==============================] - 3s 41ms/step - loss: 0.5442 - categorical_accuracy: 0.8036 - val_loss: 5.7861 - val_categorical_accuracy: 0.2967\n",
            "Epoch 4/50\n",
            "84/84 [==============================] - 3s 41ms/step - loss: 0.4503 - categorical_accuracy: 0.8396 - val_loss: 8.5647 - val_categorical_accuracy: 0.2848\n",
            "Epoch 5/50\n",
            "84/84 [==============================] - 3s 41ms/step - loss: 0.4101 - categorical_accuracy: 0.8496 - val_loss: 8.2017 - val_categorical_accuracy: 0.2861\n",
            "Epoch 6/50\n",
            "84/84 [==============================] - 3s 41ms/step - loss: 0.3660 - categorical_accuracy: 0.8685 - val_loss: 8.0613 - val_categorical_accuracy: 0.2738\n",
            "Epoch 7/50\n",
            "84/84 [==============================] - 3s 42ms/step - loss: 0.3512 - categorical_accuracy: 0.8714 - val_loss: 7.6526 - val_categorical_accuracy: 0.2853\n",
            "Epoch 8/50\n",
            "84/84 [==============================] - 3s 42ms/step - loss: 0.3309 - categorical_accuracy: 0.8716 - val_loss: 9.6986 - val_categorical_accuracy: 0.2686\n",
            "Epoch 9/50\n",
            "84/84 [==============================] - 4s 42ms/step - loss: 0.3049 - categorical_accuracy: 0.8854 - val_loss: 8.6664 - val_categorical_accuracy: 0.2935\n",
            "Epoch 10/50\n",
            "84/84 [==============================] - 4s 42ms/step - loss: 0.3076 - categorical_accuracy: 0.8874 - val_loss: 9.1912 - val_categorical_accuracy: 0.2852\n",
            "Epoch 11/50\n",
            "84/84 [==============================] - 4s 42ms/step - loss: 0.2748 - categorical_accuracy: 0.8918 - val_loss: 9.4046 - val_categorical_accuracy: 0.2769\n",
            "Epoch 12/50\n",
            "84/84 [==============================] - 4s 42ms/step - loss: 0.2697 - categorical_accuracy: 0.9025 - val_loss: 10.9940 - val_categorical_accuracy: 0.2732\n",
            "Epoch 13/50\n",
            "84/84 [==============================] - 4s 42ms/step - loss: 0.2372 - categorical_accuracy: 0.9118 - val_loss: 9.6143 - val_categorical_accuracy: 0.2700\n",
            "Epoch 14/50\n",
            "84/84 [==============================] - 4s 43ms/step - loss: 0.2531 - categorical_accuracy: 0.9032 - val_loss: 8.4438 - val_categorical_accuracy: 0.2738\n",
            "Epoch 15/50\n",
            "84/84 [==============================] - 4s 43ms/step - loss: 0.2419 - categorical_accuracy: 0.9104 - val_loss: 10.6667 - val_categorical_accuracy: 0.2850\n",
            "Epoch 16/50\n",
            "84/84 [==============================] - 4s 43ms/step - loss: 0.2188 - categorical_accuracy: 0.9164 - val_loss: 8.7648 - val_categorical_accuracy: 0.2745\n",
            "Epoch 17/50\n",
            "84/84 [==============================] - 4s 43ms/step - loss: 0.2263 - categorical_accuracy: 0.9137 - val_loss: 9.4309 - val_categorical_accuracy: 0.2788\n",
            "Epoch 18/50\n",
            "84/84 [==============================] - 4s 43ms/step - loss: 0.2195 - categorical_accuracy: 0.9188 - val_loss: 8.9062 - val_categorical_accuracy: 0.2818\n",
            "Epoch 19/50\n",
            "84/84 [==============================] - 4s 43ms/step - loss: 0.1912 - categorical_accuracy: 0.9260 - val_loss: 13.3575 - val_categorical_accuracy: 0.2874\n",
            "Epoch 20/50\n",
            "84/84 [==============================] - 4s 44ms/step - loss: 0.1788 - categorical_accuracy: 0.9356 - val_loss: 13.6688 - val_categorical_accuracy: 0.2797\n",
            "Epoch 21/50\n",
            "84/84 [==============================] - 4s 44ms/step - loss: 0.1882 - categorical_accuracy: 0.9264 - val_loss: 13.8579 - val_categorical_accuracy: 0.2645\n",
            "Epoch 22/50\n",
            "84/84 [==============================] - 4s 44ms/step - loss: 0.1762 - categorical_accuracy: 0.9365 - val_loss: 12.0451 - val_categorical_accuracy: 0.2977\n",
            "Epoch 23/50\n",
            "84/84 [==============================] - 4s 44ms/step - loss: 0.1756 - categorical_accuracy: 0.9338 - val_loss: 12.0284 - val_categorical_accuracy: 0.2827\n",
            "Epoch 24/50\n",
            "84/84 [==============================] - 4s 44ms/step - loss: 0.2007 - categorical_accuracy: 0.9253 - val_loss: 10.3015 - val_categorical_accuracy: 0.2904\n",
            "Epoch 25/50\n",
            "84/84 [==============================] - 4s 44ms/step - loss: 0.1872 - categorical_accuracy: 0.9301 - val_loss: 7.5548 - val_categorical_accuracy: 0.2947\n",
            "Epoch 26/50\n",
            "84/84 [==============================] - 4s 44ms/step - loss: 0.1519 - categorical_accuracy: 0.9408 - val_loss: 14.4963 - val_categorical_accuracy: 0.2738\n",
            "Epoch 27/50\n",
            "84/84 [==============================] - 4s 44ms/step - loss: 0.1383 - categorical_accuracy: 0.9495 - val_loss: 11.9266 - val_categorical_accuracy: 0.2883\n",
            "Epoch 28/50\n",
            "84/84 [==============================] - 4s 45ms/step - loss: 0.1443 - categorical_accuracy: 0.9461 - val_loss: 15.0409 - val_categorical_accuracy: 0.2766\n",
            "Epoch 29/50\n",
            "84/84 [==============================] - 4s 44ms/step - loss: 0.1211 - categorical_accuracy: 0.9549 - val_loss: 13.8396 - val_categorical_accuracy: 0.2725\n",
            "Epoch 30/50\n",
            "84/84 [==============================] - 4s 44ms/step - loss: 0.1349 - categorical_accuracy: 0.9491 - val_loss: 13.9868 - val_categorical_accuracy: 0.2848\n",
            "Epoch 31/50\n",
            "84/84 [==============================] - 4s 44ms/step - loss: 0.1050 - categorical_accuracy: 0.9604 - val_loss: 17.0555 - val_categorical_accuracy: 0.2769\n",
            "Epoch 32/50\n",
            "84/84 [==============================] - 4s 44ms/step - loss: 0.1021 - categorical_accuracy: 0.9623 - val_loss: 12.7240 - val_categorical_accuracy: 0.2853\n",
            "Epoch 33/50\n",
            "84/84 [==============================] - 4s 44ms/step - loss: 0.1317 - categorical_accuracy: 0.9505 - val_loss: 13.8645 - val_categorical_accuracy: 0.2809\n",
            "Epoch 34/50\n",
            "84/84 [==============================] - 4s 44ms/step - loss: 0.1149 - categorical_accuracy: 0.9590 - val_loss: 14.5589 - val_categorical_accuracy: 0.3059\n",
            "Epoch 35/50\n",
            "84/84 [==============================] - 4s 44ms/step - loss: 0.1386 - categorical_accuracy: 0.9542 - val_loss: 11.8452 - val_categorical_accuracy: 0.2837\n",
            "Epoch 36/50\n",
            "84/84 [==============================] - 4s 44ms/step - loss: 0.1117 - categorical_accuracy: 0.9582 - val_loss: 15.6636 - val_categorical_accuracy: 0.2952\n",
            "Epoch 37/50\n",
            "84/84 [==============================] - 4s 44ms/step - loss: 0.0887 - categorical_accuracy: 0.9676 - val_loss: 16.6460 - val_categorical_accuracy: 0.2906\n",
            "Epoch 38/50\n",
            "84/84 [==============================] - 4s 44ms/step - loss: 0.0790 - categorical_accuracy: 0.9710 - val_loss: 17.6512 - val_categorical_accuracy: 0.2837\n",
            "Epoch 39/50\n",
            "84/84 [==============================] - 4s 44ms/step - loss: 0.0986 - categorical_accuracy: 0.9660 - val_loss: 16.4976 - val_categorical_accuracy: 0.2924\n",
            "Epoch 40/50\n",
            "84/84 [==============================] - 4s 44ms/step - loss: 0.1053 - categorical_accuracy: 0.9664 - val_loss: 16.8546 - val_categorical_accuracy: 0.2919\n",
            "Epoch 41/50\n",
            "84/84 [==============================] - 4s 44ms/step - loss: 0.0614 - categorical_accuracy: 0.9791 - val_loss: 15.0751 - val_categorical_accuracy: 0.3008\n",
            "Epoch 42/50\n",
            "84/84 [==============================] - 4s 44ms/step - loss: 0.0766 - categorical_accuracy: 0.9727 - val_loss: 13.0071 - val_categorical_accuracy: 0.2859\n",
            "Epoch 43/50\n",
            "84/84 [==============================] - 4s 44ms/step - loss: 0.0647 - categorical_accuracy: 0.9736 - val_loss: 15.9590 - val_categorical_accuracy: 0.2719\n",
            "Epoch 44/50\n",
            "84/84 [==============================] - 4s 44ms/step - loss: 0.0749 - categorical_accuracy: 0.9723 - val_loss: 13.8485 - val_categorical_accuracy: 0.2730\n",
            "Epoch 45/50\n",
            "84/84 [==============================] - 4s 44ms/step - loss: 0.0691 - categorical_accuracy: 0.9770 - val_loss: 17.6605 - val_categorical_accuracy: 0.2872\n",
            "Epoch 46/50\n",
            "84/84 [==============================] - 4s 44ms/step - loss: 0.0637 - categorical_accuracy: 0.9785 - val_loss: 20.4020 - val_categorical_accuracy: 0.2773\n",
            "Epoch 47/50\n",
            "84/84 [==============================] - 4s 44ms/step - loss: 0.0815 - categorical_accuracy: 0.9712 - val_loss: 16.2549 - val_categorical_accuracy: 0.2686\n",
            "Epoch 48/50\n",
            "84/84 [==============================] - 4s 44ms/step - loss: 0.0531 - categorical_accuracy: 0.9810 - val_loss: 15.8809 - val_categorical_accuracy: 0.2637\n",
            "Epoch 49/50\n",
            "84/84 [==============================] - 4s 44ms/step - loss: 0.0540 - categorical_accuracy: 0.9812 - val_loss: 18.5806 - val_categorical_accuracy: 0.2766\n",
            "Epoch 50/50\n",
            "84/84 [==============================] - 4s 44ms/step - loss: 0.1170 - categorical_accuracy: 0.9599 - val_loss: 14.3771 - val_categorical_accuracy: 0.2852\n"
          ],
          "name": "stdout"
        }
      ]
    },
    {
      "cell_type": "markdown",
      "metadata": {
        "id": "BalYjxLdVoiM"
      },
      "source": [
        "# 5.Test the CNN\n",
        "Once the model has been fitted, the precision is calculated through a classical one vs many confusion matrix."
      ]
    },
    {
      "cell_type": "code",
      "metadata": {
        "id": "gnuXHtRyVoiM"
      },
      "source": [
        "labels_predicted = np.argmax(history.model.predict(images_test), axis=-1)"
      ],
      "execution_count": 37,
      "outputs": []
    },
    {
      "cell_type": "code",
      "metadata": {
        "id": "F-Q6-b32VoiO",
        "colab": {
          "base_uri": "https://localhost:8080/"
        },
        "outputId": "576b7b34-0b2c-45e0-b4ba-79db8c6b62e2"
      },
      "source": [
        "# for the confusion matrix we need factorized labels \n",
        "# [1,0,0,0,0,0,0,0,0,0] -> 0 (\"N\")\n",
        "# [0,1,0,0,0,0,0,0,0,0] -> 1 (\"B 0.007inch\") \n",
        "# [0,0,1,0,0,0,0,0,0,0] -> 2 (\"B 0.014inch\")\n",
        "# [0,0,0,1,0,0,0,0,0,0] -> 3 (\"B 0.021inch\") \n",
        "# [0,0,0,0,1,0,0,0,0,0] -> 4 (\"IR 0.007inch\")\n",
        "# [0,0,0,0,0,1,0,0,0,0] -> 5 (\"IR 0.014inch\")\n",
        "# [0,0,0,0,0,0,1,0,0,0] -> 6 (\"IR 0.021inch\") \n",
        "# [0,0,0,0,0,0,0,1,0,0] -> 7 (\"OR 0.007inch\") \n",
        "# [0,0,0,0,0,0,0,0,1,0] -> 8 (\"OR 0.014inch\") \n",
        "# [0,0,0,0,0,0,0,0,0,1] -> 9 (\"OR 0.021inch\") \n",
        "\n",
        "labels_test_factorized = [(1*label[0]+2*label[1]+3*label[2]+4*label[3]+5*label[4]+6*label[5]+7*label[6]+8*label[7]+9*label[8]+10*label[9])-1 for label in labels_test_onehot]\n",
        "\n",
        "from sklearn.metrics import classification_report\n",
        "print(classification_report(labels_test_factorized, labels_predicted))"
      ],
      "execution_count": 38,
      "outputs": [
        {
          "output_type": "stream",
          "text": [
            "              precision    recall  f1-score   support\n",
            "\n",
            "           0       0.64      0.96      0.77      1273\n",
            "           1       0.03      0.01      0.01       363\n",
            "           2       0.01      0.01      0.01       365\n",
            "           3       0.03      0.01      0.02       363\n",
            "           4       0.05      0.07      0.06       364\n",
            "           5       0.26      0.43      0.32       363\n",
            "           6       0.00      0.00      0.00       363\n",
            "           7       0.11      0.07      0.09      1092\n",
            "           8       0.05      0.07      0.06       454\n",
            "           9       0.03      0.02      0.02       362\n",
            "\n",
            "    accuracy                           0.29      5362\n",
            "   macro avg       0.12      0.17      0.14      5362\n",
            "weighted avg       0.21      0.29      0.23      5362\n",
            "\n"
          ],
          "name": "stdout"
        }
      ]
    },
    {
      "cell_type": "markdown",
      "metadata": {
        "id": "VzNvQ5tmS8ti"
      },
      "source": [
        "#6. Train-Test loss and accuracy\n",
        "Validation here is part of the test data."
      ]
    },
    {
      "cell_type": "code",
      "metadata": {
        "id": "x-I3WRmv0Eg0",
        "colab": {
          "base_uri": "https://localhost:8080/",
          "height": 591
        },
        "outputId": "45ce7038-469c-4f44-f45f-add6ce94f346"
      },
      "source": [
        "import matplotlib.pyplot as plt\n",
        "\n",
        "# list all data in history\n",
        "print(history.history.keys())\n",
        "\n",
        "# summarize history for accuracy\n",
        "plt.plot(history.history['categorical_accuracy'])\n",
        "plt.plot(history.history['val_categorical_accuracy'])\n",
        "plt.title('model accuracy')\n",
        "plt.ylabel('accuracy')\n",
        "plt.xlabel('epoch')\n",
        "plt.legend(['train', 'test'], loc='upper left')\n",
        "plt.show()\n",
        "\n",
        "# summarize history for loss\n",
        "plt.plot(history.history['loss'])\n",
        "plt.plot(history.history['val_loss'])\n",
        "plt.title('model loss')\n",
        "plt.ylabel('loss')\n",
        "plt.xlabel('epoch')\n",
        "plt.legend(['train', 'test'], loc='upper left')\n",
        "plt.show()"
      ],
      "execution_count": 39,
      "outputs": [
        {
          "output_type": "stream",
          "text": [
            "dict_keys(['loss', 'categorical_accuracy', 'val_loss', 'val_categorical_accuracy'])\n"
          ],
          "name": "stdout"
        },
        {
          "output_type": "display_data",
          "data": {
            "image/png": "[encoded data removed]",
            "text/plain": [
              "<Figure size 432x288 with 1 Axes>"
            ]
          },
          "metadata": {
            "tags": [],
            "needs_background": "light"
          }
        },
        {
          "output_type": "display_data",
          "data": {
            "image/png": "[encoded data removed]",
            "text/plain": [
              "<Figure size 432x288 with 1 Axes>"
            ]
          },
          "metadata": {
            "tags": [],
            "needs_background": "light"
          }
        }
      ]
    },
    {
      "cell_type": "markdown",
      "metadata": {
        "id": "6orDA2QcVoiQ"
      },
      "source": [
        "# 7.ROC analysis\n",
        "The ROC curves for each class give a complete picture of the classification performance of the CNN. The function below performs this task."
      ]
    },
    {
      "cell_type": "code",
      "metadata": {
        "id": "2XuIJM8EVoiR"
      },
      "source": [
        "def ROC(model, X_test, y_test, n_class):\n",
        "    import seaborn as sns\n",
        "    from sklearn.metrics import roc_curve, roc_auc_score, auc\n",
        "    from sklearn.metrics import confusion_matrix, classification_report\n",
        "    from sklearn.metrics import accuracy_score, balanced_accuracy_score\n",
        "    from sklearn.preprocessing import label_binarize\n",
        "    from itertools import cycle\n",
        "    import matplotlib.pyplot as plt\n",
        "    import pandas as pd\n",
        "    \n",
        "    sns.set_style(\"dark\",{\"axes.facecolor\": \".97\"})\n",
        "    # Predict the labels of the test set: y_pred\n",
        "    #y_pred = model.predict_classes(X_test)\n",
        "    y_pred = np.argmax(model.predict(X_test), axis=-1)\n",
        "\n",
        "    # Compute predicted probabilities: y_pred_prob\n",
        "    #y_pred_prob = model.predict_proba(X_test)\n",
        "    y_pred_prob = model.predict(X_test)\n",
        "    y_test_binary = label_binarize(y_test, classes=range(0, n_class))\n",
        "\n",
        "    #0 \n",
        "    #N \n",
        "    y_test_normal = y_test_binary[:, 0]\n",
        "    y_prob_normal = y_pred_prob[:, 0]\n",
        "\n",
        "    #1,2,3\n",
        "    #B\n",
        "    y_test_ball_007 = y_test_binary[:, 1]\n",
        "    y_prob_ball_007 = y_pred_prob[:, 1]\n",
        "    y_test_ball_014 = y_test_binary[:, 2]\n",
        "    y_prob_ball_014 = y_pred_prob[:, 2]\n",
        "    y_test_ball_021 = y_test_binary[:, 3]\n",
        "    y_prob_ball_021 = y_pred_prob[:, 3]\n",
        "\n",
        "    #4,5,6\n",
        "    #IR\n",
        "    y_test_inner_race_007 = y_test_binary[:, 4]\n",
        "    y_prob_inner_race_007 = y_pred_prob[:, 4]\n",
        "    y_test_inner_race_014 = y_test_binary[:, 5]\n",
        "    y_prob_inner_race_014 = y_pred_prob[:, 5]\n",
        "    y_test_inner_race_021 = y_test_binary[:, 6]\n",
        "    y_prob_inner_race_021 = y_pred_prob[:, 6]\n",
        "\n",
        "    #7,8,9\n",
        "    #OR\n",
        "    y_test_outer_race_007 = y_test_binary[:, 7]\n",
        "    y_prob_outer_race_007 = y_pred_prob[:, 7]\n",
        "    y_test_outer_race_014 = y_test_binary[:, 8]\n",
        "    y_prob_outer_race_014 = y_pred_prob[:, 8]\n",
        "    y_test_outer_race_021 = y_test_binary[:, 9]\n",
        "    y_prob_outer_race_021 = y_pred_prob[:, 9]\n",
        "    \n",
        "    lw = 1.5\n",
        "  \n",
        "    # Compute and print the confusion matrix and classification report\n",
        "    matrix_c = confusion_matrix(y_test, y_pred)\n",
        "    category_labels = ['N','B 0.007 inch','B 0.014 inch','B 0.021 inch','IR 0.007 inch','IR 0.014 inch','IR 0.021 inch','OR 0.007 inch','OR 0.014 inch','OR 0.021 inch']\n",
        "\n",
        "    matrix = pd.DataFrame(matrix_c)\n",
        "    plt.figure()\n",
        "    sns.heatmap(matrix, annot= True, fmt = \"d\",\n",
        "           xticklabels = category_labels,\n",
        "           yticklabels = category_labels, cmap = \"Blues\", cbar = False)\n",
        "    plt.xticks(rotation = 90)\n",
        "    plt.show()\n",
        "\n",
        "    # Compute accuracy score\n",
        "    print(\"accuracy score: \", accuracy_score(y_test, y_pred))\n",
        "    print(\"Number of correctly classified samples: \", accuracy_score(y_test, y_pred, normalize=False))\n",
        "    print(\"balanced accuracy score: \", balanced_accuracy_score(y_test, y_pred))\n",
        "    \n",
        "\n",
        "    # Compute ROC curve and ROC area for each class\n",
        "    fpr = dict()\n",
        "    tpr = dict()\n",
        "    thresholds = dict()\n",
        "    roc_auc = dict()\n",
        "\n",
        "    fpr[0], tpr[0], thresholds[0] = roc_curve(y_test_normal, y_prob_normal)\n",
        "    fpr[1], tpr[1], thresholds[1] = roc_curve(y_test_ball_007, y_prob_ball_007)\n",
        "    fpr[2], tpr[2], thresholds[2] = roc_curve(y_test_ball_014, y_prob_ball_014)\n",
        "    fpr[3], tpr[3], thresholds[3] = roc_curve(y_test_ball_021, y_prob_ball_021)\n",
        "    fpr[4], tpr[4], thresholds[4] = roc_curve(y_test_inner_race_007, y_prob_inner_race_007)\n",
        "    fpr[5], tpr[5], thresholds[5] = roc_curve(y_test_inner_race_014, y_prob_inner_race_014)\n",
        "    fpr[6], tpr[6], thresholds[6] = roc_curve(y_test_inner_race_021, y_prob_inner_race_021)\n",
        "    fpr[7], tpr[7], thresholds[7] = roc_curve(y_test_outer_race_007, y_prob_outer_race_007)\n",
        "    fpr[8], tpr[8], thresholds[8] = roc_curve(y_test_outer_race_014, y_prob_outer_race_014)\n",
        "    fpr[9], tpr[9], thresholds[9] = roc_curve(y_test_outer_race_021, y_prob_outer_race_021)\n",
        "\n",
        "    for i in range(n_class):\n",
        "        roc_auc[i] = auc(fpr[i], tpr[i])\n",
        "        #display(roc_auc[i])\n",
        "\n",
        "    # Plot all ROC curves\n",
        "    plt.figure(figsize=(4, 4), dpi=150)\n",
        "\n",
        "    colors = ['black','blue','blue','blue','red','red','red','green','green','green']\n",
        "    #for i, color in zip(range(n_class), colors):\n",
        "    for item in list(enumerate(colors)):\n",
        "      plt.plot(fpr[item[0]], tpr[item[0]], color=item[1], lw=lw,\n",
        "                 label='ROC curve of class {0} (area = {1:0.2f})'\n",
        "                       ''.format(category_labels[item[0]], roc_auc[item[0]]))\n",
        "\n",
        "        #plot_label=['N','B 0.007inch','B 0.014inch','B 0.021inch','IR 0.007inch','IR 0.014inch','IR 0.021inch','OR 0.007inch','OR 0.014inch','OR 0.021inch']\n",
        "  \n",
        "    plt.plot([0, 1], [0, 1], 'k--', lw=.7)\n",
        "    plt.xlim([0.0, 1.0])\n",
        "    plt.ylim([0.0, 1.05])\n",
        "    plt.xlabel('False Positive Rate')\n",
        "    plt.ylabel('True Positive Rate')\n",
        "    plt.legend(loc=\"lower right\", prop={'size': 8})\n",
        "    plt.show()"
      ],
      "execution_count": 40,
      "outputs": []
    },
    {
      "cell_type": "markdown",
      "metadata": {
        "id": "zOIZ5wk2L3cl"
      },
      "source": [
        "### 7.1 ROC curve, Confusion matrix and accuracies"
      ]
    },
    {
      "cell_type": "code",
      "metadata": {
        "id": "7eZKquzXVoiT",
        "colab": {
          "base_uri": "https://localhost:8080/",
          "height": 926
        },
        "outputId": "01411507-d791-4ac4-ed79-388f0a208908"
      },
      "source": [
        "ROC(history.model, images_test, labels_test_factorized, 10)"
      ],
      "execution_count": 41,
      "outputs": [
        {
          "output_type": "display_data",
          "data": {
            "image/png": "[encoded data removed]",
            "text/plain": [
              "<Figure size 432x288 with 1 Axes>"
            ]
          },
          "metadata": {
            "tags": []
          }
        },
        {
          "output_type": "stream",
          "text": [
            "accuracy score:  0.28515479298769114\n",
            "Number of correctly classified samples:  1529\n",
            "balanced accuracy score:  0.16513106901367358\n"
          ],
          "name": "stdout"
        },
        {
          "output_type": "display_data",
          "data": {
            "image/png": "[encoded data removed]",
            "text/plain": [
              "<Figure size 600x600 with 1 Axes>"
            ]
          },
          "metadata": {
            "tags": []
          }
        }
      ]
    }
  ]
}