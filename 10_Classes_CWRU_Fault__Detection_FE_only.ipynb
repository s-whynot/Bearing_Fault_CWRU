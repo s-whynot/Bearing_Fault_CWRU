{
  "nbformat": 4,
  "nbformat_minor": 0,
  "metadata": {
    "accelerator": "GPU",
    "colab": {
      "name": "10_Classes_CWRU_Fault _Detection_FE_only.ipynb",
      "provenance": [],
      "collapsed_sections": [],
      "toc_visible": true,
      "authorship_tag": "ABX9TyOHANP8vfGMyoWEOWbff7Yb",
      "include_colab_link": true
    },
    "kernelspec": {
      "display_name": "Python 3",
      "name": "python3"
    },
    "widgets": {
      "application/vnd.jupyter.widget-state+json": {
        "state":{},
        "cf862556f6444b0b8af009b1cf51a9a5": {
          "model_module": "@jupyter-widgets/controls",
          "model_name": "HBoxModel",
          "state": {
            "_view_name": "HBoxView",
            "_dom_classes": [],
            "_model_name": "HBoxModel",
            "_view_module": "@jupyter-widgets/controls",
            "_model_module_version": "1.5.0",
            "_view_count": null,
            "_view_module_version": "1.5.0",
            "box_style": "",
            "layout": "IPY_MODEL_eb057f42deac46faa2da93a5ea3c9b0b",
            "_model_module": "@jupyter-widgets/controls",
            "children": [
              "IPY_MODEL_db9c54ee7c664e44ab49d8f0fadaee7f",
              "IPY_MODEL_7999370793bd47e3a876a8c5b2691303"
            ]
          }
        },
        "eb057f42deac46faa2da93a5ea3c9b0b": {
          "model_module": "@jupyter-widgets/base",
          "model_name": "LayoutModel",
          "state": {
            "_view_name": "LayoutView",
            "grid_template_rows": null,
            "right": null,
            "justify_content": null,
            "_view_module": "@jupyter-widgets/base",
            "overflow": null,
            "_model_module_version": "1.2.0",
            "_view_count": null,
            "flex_flow": null,
            "width": null,
            "min_width": null,
            "border": null,
            "align_items": null,
            "bottom": null,
            "_model_module": "@jupyter-widgets/base",
            "top": null,
            "grid_column": null,
            "overflow_y": null,
            "overflow_x": null,
            "grid_auto_flow": null,
            "grid_area": null,
            "grid_template_columns": null,
            "flex": null,
            "_model_name": "LayoutModel",
            "justify_items": null,
            "grid_row": null,
            "max_height": null,
            "align_content": null,
            "visibility": null,
            "align_self": null,
            "height": null,
            "min_height": null,
            "padding": null,
            "grid_auto_rows": null,
            "grid_gap": null,
            "max_width": null,
            "order": null,
            "_view_module_version": "1.2.0",
            "grid_template_areas": null,
            "object_position": null,
            "object_fit": null,
            "grid_auto_columns": null,
            "margin": null,
            "display": null,
            "left": null
          }
        },
        "db9c54ee7c664e44ab49d8f0fadaee7f": {
          "model_module": "@jupyter-widgets/controls",
          "model_name": "FloatProgressModel",
          "state": {
            "_view_name": "ProgressView",
            "style": "IPY_MODEL_31642df37d3f4e3ca5c7d0f71403c7a2",
            "_dom_classes": [],
            "description": "100%",
            "_model_name": "FloatProgressModel",
            "bar_style": "success",
            "max": 141,
            "_view_module": "@jupyter-widgets/controls",
            "_model_module_version": "1.5.0",
            "value": 141,
            "_view_count": null,
            "_view_module_version": "1.5.0",
            "orientation": "horizontal",
            "min": 0,
            "description_tooltip": null,
            "_model_module": "@jupyter-widgets/controls",
            "layout": "IPY_MODEL_42cc9b0b18734aa7a5d47fc1c2b5dfd5"
          }
        },
        "7999370793bd47e3a876a8c5b2691303": {
          "model_module": "@jupyter-widgets/controls",
          "model_name": "HTMLModel",
          "state": {
            "_view_name": "HTMLView",
            "style": "IPY_MODEL_981ec72c3f064cbdb60e0fe174ad01a2",
            "_dom_classes": [],
            "description": "",
            "_model_name": "HTMLModel",
            "placeholder": "​",
            "_view_module": "@jupyter-widgets/controls",
            "_model_module_version": "1.5.0",
            "value": " 141/141 [00:00&lt;00:00, 271.38it/s]",
            "_view_count": null,
            "_view_module_version": "1.5.0",
            "description_tooltip": null,
            "_model_module": "@jupyter-widgets/controls",
            "layout": "IPY_MODEL_4353158ddd9a4f92afc3811c73251e7d"
          }
        },
        "31642df37d3f4e3ca5c7d0f71403c7a2": {
          "model_module": "@jupyter-widgets/controls",
          "model_name": "ProgressStyleModel",
          "state": {
            "_view_name": "StyleView",
            "_model_name": "ProgressStyleModel",
            "description_width": "initial",
            "_view_module": "@jupyter-widgets/base",
            "_model_module_version": "1.5.0",
            "_view_count": null,
            "_view_module_version": "1.2.0",
            "bar_color": null,
            "_model_module": "@jupyter-widgets/controls"
          }
        },
        "42cc9b0b18734aa7a5d47fc1c2b5dfd5": {
          "model_module": "@jupyter-widgets/base",
          "model_name": "LayoutModel",
          "state": {
            "_view_name": "LayoutView",
            "grid_template_rows": null,
            "right": null,
            "justify_content": null,
            "_view_module": "@jupyter-widgets/base",
            "overflow": null,
            "_model_module_version": "1.2.0",
            "_view_count": null,
            "flex_flow": null,
            "width": null,
            "min_width": null,
            "border": null,
            "align_items": null,
            "bottom": null,
            "_model_module": "@jupyter-widgets/base",
            "top": null,
            "grid_column": null,
            "overflow_y": null,
            "overflow_x": null,
            "grid_auto_flow": null,
            "grid_area": null,
            "grid_template_columns": null,
            "flex": null,
            "_model_name": "LayoutModel",
            "justify_items": null,
            "grid_row": null,
            "max_height": null,
            "align_content": null,
            "visibility": null,
            "align_self": null,
            "height": null,
            "min_height": null,
            "padding": null,
            "grid_auto_rows": null,
            "grid_gap": null,
            "max_width": null,
            "order": null,
            "_view_module_version": "1.2.0",
            "grid_template_areas": null,
            "object_position": null,
            "object_fit": null,
            "grid_auto_columns": null,
            "margin": null,
            "display": null,
            "left": null
          }
        },
        "981ec72c3f064cbdb60e0fe174ad01a2": {
          "model_module": "@jupyter-widgets/controls",
          "model_name": "DescriptionStyleModel",
          "state": {
            "_view_name": "StyleView",
            "_model_name": "DescriptionStyleModel",
            "description_width": "",
            "_view_module": "@jupyter-widgets/base",
            "_model_module_version": "1.5.0",
            "_view_count": null,
            "_view_module_version": "1.2.0",
            "_model_module": "@jupyter-widgets/controls"
          }
        },
        "4353158ddd9a4f92afc3811c73251e7d": {
          "model_module": "@jupyter-widgets/base",
          "model_name": "LayoutModel",
          "state": {
            "_view_name": "LayoutView",
            "grid_template_rows": null,
            "right": null,
            "justify_content": null,
            "_view_module": "@jupyter-widgets/base",
            "overflow": null,
            "_model_module_version": "1.2.0",
            "_view_count": null,
            "flex_flow": null,
            "width": null,
            "min_width": null,
            "border": null,
            "align_items": null,
            "bottom": null,
            "_model_module": "@jupyter-widgets/base",
            "top": null,
            "grid_column": null,
            "overflow_y": null,
            "overflow_x": null,
            "grid_auto_flow": null,
            "grid_area": null,
            "grid_template_columns": null,
            "flex": null,
            "_model_name": "LayoutModel",
            "justify_items": null,
            "grid_row": null,
            "max_height": null,
            "align_content": null,
            "visibility": null,
            "align_self": null,
            "height": null,
            "min_height": null,
            "padding": null,
            "grid_auto_rows": null,
            "grid_gap": null,
            "max_width": null,
            "order": null,
            "_view_module_version": "1.2.0",
            "grid_template_areas": null,
            "object_position": null,
            "object_fit": null,
            "grid_auto_columns": null,
            "margin": null,
            "display": null,
            "left": null
          }
        },
        "bf2bd0f2fffb4d80a18cec6c921eeb51": {
          "model_module": "@jupyter-widgets/controls",
          "model_name": "HBoxModel",
          "state": {
            "_view_name": "HBoxView",
            "_dom_classes": [],
            "_model_name": "HBoxModel",
            "_view_module": "@jupyter-widgets/controls",
            "_model_module_version": "1.5.0",
            "_view_count": null,
            "_view_module_version": "1.5.0",
            "box_style": "",
            "layout": "IPY_MODEL_1f8181511bb44e9cae599f6460374757",
            "_model_module": "@jupyter-widgets/controls",
            "children": [
              "IPY_MODEL_36e90287240f4925b6b3187ecbce781f",
              "IPY_MODEL_375f7f7e245842d6b7fbc77c4a923ad2"
            ]
          }
        },
        "1f8181511bb44e9cae599f6460374757": {
          "model_module": "@jupyter-widgets/base",
          "model_name": "LayoutModel",
          "state": {
            "_view_name": "LayoutView",
            "grid_template_rows": null,
            "right": null,
            "justify_content": null,
            "_view_module": "@jupyter-widgets/base",
            "overflow": null,
            "_model_module_version": "1.2.0",
            "_view_count": null,
            "flex_flow": null,
            "width": null,
            "min_width": null,
            "border": null,
            "align_items": null,
            "bottom": null,
            "_model_module": "@jupyter-widgets/base",
            "top": null,
            "grid_column": null,
            "overflow_y": null,
            "overflow_x": null,
            "grid_auto_flow": null,
            "grid_area": null,
            "grid_template_columns": null,
            "flex": null,
            "_model_name": "LayoutModel",
            "justify_items": null,
            "grid_row": null,
            "max_height": null,
            "align_content": null,
            "visibility": null,
            "align_self": null,
            "height": null,
            "min_height": null,
            "padding": null,
            "grid_auto_rows": null,
            "grid_gap": null,
            "max_width": null,
            "order": null,
            "_view_module_version": "1.2.0",
            "grid_template_areas": null,
            "object_position": null,
            "object_fit": null,
            "grid_auto_columns": null,
            "margin": null,
            "display": null,
            "left": null
          }
        },
        "36e90287240f4925b6b3187ecbce781f": {
          "model_module": "@jupyter-widgets/controls",
          "model_name": "FloatProgressModel",
          "state": {
            "_view_name": "ProgressView",
            "style": "IPY_MODEL_c650143105884d08ad55f601cd113c83",
            "_dom_classes": [],
            "description": "100%",
            "_model_name": "FloatProgressModel",
            "bar_style": "success",
            "max": 40,
            "_view_module": "@jupyter-widgets/controls",
            "_model_module_version": "1.5.0",
            "value": 40,
            "_view_count": null,
            "_view_module_version": "1.5.0",
            "orientation": "horizontal",
            "min": 0,
            "description_tooltip": null,
            "_model_module": "@jupyter-widgets/controls",
            "layout": "IPY_MODEL_ca21f4199794467db7118d3f4202f961"
          }
        },
        "375f7f7e245842d6b7fbc77c4a923ad2": {
          "model_module": "@jupyter-widgets/controls",
          "model_name": "HTMLModel",
          "state": {
            "_view_name": "HTMLView",
            "style": "IPY_MODEL_bc6562900370493fb8570d665fac19bb",
            "_dom_classes": [],
            "description": "",
            "_model_name": "HTMLModel",
            "placeholder": "​",
            "_view_module": "@jupyter-widgets/controls",
            "_model_module_version": "1.5.0",
            "value": " 40/40 [00:02&lt;00:00, 17.39it/s]",
            "_view_count": null,
            "_view_module_version": "1.5.0",
            "description_tooltip": null,
            "_model_module": "@jupyter-widgets/controls",
            "layout": "IPY_MODEL_71bfeaec1e7847c691ff8e76973ee08c"
          }
        },
        "c650143105884d08ad55f601cd113c83": {
          "model_module": "@jupyter-widgets/controls",
          "model_name": "ProgressStyleModel",
          "state": {
            "_view_name": "StyleView",
            "_model_name": "ProgressStyleModel",
            "description_width": "initial",
            "_view_module": "@jupyter-widgets/base",
            "_model_module_version": "1.5.0",
            "_view_count": null,
            "_view_module_version": "1.2.0",
            "bar_color": null,
            "_model_module": "@jupyter-widgets/controls"
          }
        },
        "ca21f4199794467db7118d3f4202f961": {
          "model_module": "@jupyter-widgets/base",
          "model_name": "LayoutModel",
          "state": {
            "_view_name": "LayoutView",
            "grid_template_rows": null,
            "right": null,
            "justify_content": null,
            "_view_module": "@jupyter-widgets/base",
            "overflow": null,
            "_model_module_version": "1.2.0",
            "_view_count": null,
            "flex_flow": null,
            "width": null,
            "min_width": null,
            "border": null,
            "align_items": null,
            "bottom": null,
            "_model_module": "@jupyter-widgets/base",
            "top": null,
            "grid_column": null,
            "overflow_y": null,
            "overflow_x": null,
            "grid_auto_flow": null,
            "grid_area": null,
            "grid_template_columns": null,
            "flex": null,
            "_model_name": "LayoutModel",
            "justify_items": null,
            "grid_row": null,
            "max_height": null,
            "align_content": null,
            "visibility": null,
            "align_self": null,
            "height": null,
            "min_height": null,
            "padding": null,
            "grid_auto_rows": null,
            "grid_gap": null,
            "max_width": null,
            "order": null,
            "_view_module_version": "1.2.0",
            "grid_template_areas": null,
            "object_position": null,
            "object_fit": null,
            "grid_auto_columns": null,
            "margin": null,
            "display": null,
            "left": null
          }
        },
        "bc6562900370493fb8570d665fac19bb": {
          "model_module": "@jupyter-widgets/controls",
          "model_name": "DescriptionStyleModel",
          "state": {
            "_view_name": "StyleView",
            "_model_name": "DescriptionStyleModel",
            "description_width": "",
            "_view_module": "@jupyter-widgets/base",
            "_model_module_version": "1.5.0",
            "_view_count": null,
            "_view_module_version": "1.2.0",
            "_model_module": "@jupyter-widgets/controls"
          }
        },
        "71bfeaec1e7847c691ff8e76973ee08c": {
          "model_module": "@jupyter-widgets/base",
          "model_name": "LayoutModel",
          "state": {
            "_view_name": "LayoutView",
            "grid_template_rows": null,
            "right": null,
            "justify_content": null,
            "_view_module": "@jupyter-widgets/base",
            "overflow": null,
            "_model_module_version": "1.2.0",
            "_view_count": null,
            "flex_flow": null,
            "width": null,
            "min_width": null,
            "border": null,
            "align_items": null,
            "bottom": null,
            "_model_module": "@jupyter-widgets/base",
            "top": null,
            "grid_column": null,
            "overflow_y": null,
            "overflow_x": null,
            "grid_auto_flow": null,
            "grid_area": null,
            "grid_template_columns": null,
            "flex": null,
            "_model_name": "LayoutModel",
            "justify_items": null,
            "grid_row": null,
            "max_height": null,
            "align_content": null,
            "visibility": null,
            "align_self": null,
            "height": null,
            "min_height": null,
            "padding": null,
            "grid_auto_rows": null,
            "grid_gap": null,
            "max_width": null,
            "order": null,
            "_view_module_version": "1.2.0",
            "grid_template_areas": null,
            "object_position": null,
            "object_fit": null,
            "grid_auto_columns": null,
            "margin": null,
            "display": null,
            "left": null
          }
        },
        "29c572e256e940b28ff233f1bd77ff94": {
          "model_module": "@jupyter-widgets/controls",
          "model_name": "HBoxModel",
          "state": {
            "_view_name": "HBoxView",
            "_dom_classes": [],
            "_model_name": "HBoxModel",
            "_view_module": "@jupyter-widgets/controls",
            "_model_module_version": "1.5.0",
            "_view_count": null,
            "_view_module_version": "1.5.0",
            "box_style": "",
            "layout": "IPY_MODEL_3a37020ce9014e73bfcc40e101c15465",
            "_model_module": "@jupyter-widgets/controls",
            "children": [
              "IPY_MODEL_46cf120a383646bbbec5b831239fe77b",
              "IPY_MODEL_a0da2224512948ddb6a9ddf42258cd65"
            ]
          }
        },
        "3a37020ce9014e73bfcc40e101c15465": {
          "model_module": "@jupyter-widgets/base",
          "model_name": "LayoutModel",
          "state": {
            "_view_name": "LayoutView",
            "grid_template_rows": null,
            "right": null,
            "justify_content": null,
            "_view_module": "@jupyter-widgets/base",
            "overflow": null,
            "_model_module_version": "1.2.0",
            "_view_count": null,
            "flex_flow": null,
            "width": null,
            "min_width": null,
            "border": null,
            "align_items": null,
            "bottom": null,
            "_model_module": "@jupyter-widgets/base",
            "top": null,
            "grid_column": null,
            "overflow_y": null,
            "overflow_x": null,
            "grid_auto_flow": null,
            "grid_area": null,
            "grid_template_columns": null,
            "flex": null,
            "_model_name": "LayoutModel",
            "justify_items": null,
            "grid_row": null,
            "max_height": null,
            "align_content": null,
            "visibility": null,
            "align_self": null,
            "height": null,
            "min_height": null,
            "padding": null,
            "grid_auto_rows": null,
            "grid_gap": null,
            "max_width": null,
            "order": null,
            "_view_module_version": "1.2.0",
            "grid_template_areas": null,
            "object_position": null,
            "object_fit": null,
            "grid_auto_columns": null,
            "margin": null,
            "display": null,
            "left": null
          }
        },
        "46cf120a383646bbbec5b831239fe77b": {
          "model_module": "@jupyter-widgets/controls",
          "model_name": "FloatProgressModel",
          "state": {
            "_view_name": "ProgressView",
            "style": "IPY_MODEL_bc2e227e46df4c4cbc2a84f689830dcf",
            "_dom_classes": [],
            "description": "100%",
            "_model_name": "FloatProgressModel",
            "bar_style": "success",
            "max": 40,
            "_view_module": "@jupyter-widgets/controls",
            "_model_module_version": "1.5.0",
            "value": 40,
            "_view_count": null,
            "_view_module_version": "1.5.0",
            "orientation": "horizontal",
            "min": 0,
            "description_tooltip": null,
            "_model_module": "@jupyter-widgets/controls",
            "layout": "IPY_MODEL_8cf19475d8604fb98cee42b0578d5d8d"
          }
        },
        "a0da2224512948ddb6a9ddf42258cd65": {
          "model_module": "@jupyter-widgets/controls",
          "model_name": "HTMLModel",
          "state": {
            "_view_name": "HTMLView",
            "style": "IPY_MODEL_b9e93f25d1cf4324acae6457613ad827",
            "_dom_classes": [],
            "description": "",
            "_model_name": "HTMLModel",
            "placeholder": "​",
            "_view_module": "@jupyter-widgets/controls",
            "_model_module_version": "1.5.0",
            "value": " 40/40 [00:00&lt;00:00, 67.58it/s]",
            "_view_count": null,
            "_view_module_version": "1.5.0",
            "description_tooltip": null,
            "_model_module": "@jupyter-widgets/controls",
            "layout": "IPY_MODEL_392b0fd508354824a1ffef4ff8fd0e2b"
          }
        },
        "bc2e227e46df4c4cbc2a84f689830dcf": {
          "model_module": "@jupyter-widgets/controls",
          "model_name": "ProgressStyleModel",
          "state": {
            "_view_name": "StyleView",
            "_model_name": "ProgressStyleModel",
            "description_width": "initial",
            "_view_module": "@jupyter-widgets/base",
            "_model_module_version": "1.5.0",
            "_view_count": null,
            "_view_module_version": "1.2.0",
            "bar_color": null,
            "_model_module": "@jupyter-widgets/controls"
          }
        },
        "8cf19475d8604fb98cee42b0578d5d8d": {
          "model_module": "@jupyter-widgets/base",
          "model_name": "LayoutModel",
          "state": {
            "_view_name": "LayoutView",
            "grid_template_rows": null,
            "right": null,
            "justify_content": null,
            "_view_module": "@jupyter-widgets/base",
            "overflow": null,
            "_model_module_version": "1.2.0",
            "_view_count": null,
            "flex_flow": null,
            "width": null,
            "min_width": null,
            "border": null,
            "align_items": null,
            "bottom": null,
            "_model_module": "@jupyter-widgets/base",
            "top": null,
            "grid_column": null,
            "overflow_y": null,
            "overflow_x": null,
            "grid_auto_flow": null,
            "grid_area": null,
            "grid_template_columns": null,
            "flex": null,
            "_model_name": "LayoutModel",
            "justify_items": null,
            "grid_row": null,
            "max_height": null,
            "align_content": null,
            "visibility": null,
            "align_self": null,
            "height": null,
            "min_height": null,
            "padding": null,
            "grid_auto_rows": null,
            "grid_gap": null,
            "max_width": null,
            "order": null,
            "_view_module_version": "1.2.0",
            "grid_template_areas": null,
            "object_position": null,
            "object_fit": null,
            "grid_auto_columns": null,
            "margin": null,
            "display": null,
            "left": null
          }
        },
        "b9e93f25d1cf4324acae6457613ad827": {
          "model_module": "@jupyter-widgets/controls",
          "model_name": "DescriptionStyleModel",
          "state": {
            "_view_name": "StyleView",
            "_model_name": "DescriptionStyleModel",
            "description_width": "",
            "_view_module": "@jupyter-widgets/base",
            "_model_module_version": "1.5.0",
            "_view_count": null,
            "_view_module_version": "1.2.0",
            "_model_module": "@jupyter-widgets/controls"
          }
        },
        "392b0fd508354824a1ffef4ff8fd0e2b": {
          "model_module": "@jupyter-widgets/base",
          "model_name": "LayoutModel",
          "state": {
            "_view_name": "LayoutView",
            "grid_template_rows": null,
            "right": null,
            "justify_content": null,
            "_view_module": "@jupyter-widgets/base",
            "overflow": null,
            "_model_module_version": "1.2.0",
            "_view_count": null,
            "flex_flow": null,
            "width": null,
            "min_width": null,
            "border": null,
            "align_items": null,
            "bottom": null,
            "_model_module": "@jupyter-widgets/base",
            "top": null,
            "grid_column": null,
            "overflow_y": null,
            "overflow_x": null,
            "grid_auto_flow": null,
            "grid_area": null,
            "grid_template_columns": null,
            "flex": null,
            "_model_name": "LayoutModel",
            "justify_items": null,
            "grid_row": null,
            "max_height": null,
            "align_content": null,
            "visibility": null,
            "align_self": null,
            "height": null,
            "min_height": null,
            "padding": null,
            "grid_auto_rows": null,
            "grid_gap": null,
            "max_width": null,
            "order": null,
            "_view_module_version": "1.2.0",
            "grid_template_areas": null,
            "object_position": null,
            "object_fit": null,
            "grid_auto_columns": null,
            "margin": null,
            "display": null,
            "left": null
          }
        },
        "463252e6fb6c4fb8ad0ddd12560c755e": {
          "model_module": "@jupyter-widgets/controls",
          "model_name": "HBoxModel",
          "state": {
            "_view_name": "HBoxView",
            "_dom_classes": [],
            "_model_name": "HBoxModel",
            "_view_module": "@jupyter-widgets/controls",
            "_model_module_version": "1.5.0",
            "_view_count": null,
            "_view_module_version": "1.5.0",
            "box_style": "",
            "layout": "IPY_MODEL_17b99b487eb947489f5127a2e173fd5e",
            "_model_module": "@jupyter-widgets/controls",
            "children": [
              "IPY_MODEL_59d2b4bd23ca46c9ae15b6ae17b0a787",
              "IPY_MODEL_a075cd6776cf494cb84b82bd2b66d048"
            ]
          }
        },
        "17b99b487eb947489f5127a2e173fd5e": {
          "model_module": "@jupyter-widgets/base",
          "model_name": "LayoutModel",
          "state": {
            "_view_name": "LayoutView",
            "grid_template_rows": null,
            "right": null,
            "justify_content": null,
            "_view_module": "@jupyter-widgets/base",
            "overflow": null,
            "_model_module_version": "1.2.0",
            "_view_count": null,
            "flex_flow": null,
            "width": null,
            "min_width": null,
            "border": null,
            "align_items": null,
            "bottom": null,
            "_model_module": "@jupyter-widgets/base",
            "top": null,
            "grid_column": null,
            "overflow_y": null,
            "overflow_x": null,
            "grid_auto_flow": null,
            "grid_area": null,
            "grid_template_columns": null,
            "flex": null,
            "_model_name": "LayoutModel",
            "justify_items": null,
            "grid_row": null,
            "max_height": null,
            "align_content": null,
            "visibility": null,
            "align_self": null,
            "height": null,
            "min_height": null,
            "padding": null,
            "grid_auto_rows": null,
            "grid_gap": null,
            "max_width": null,
            "order": null,
            "_view_module_version": "1.2.0",
            "grid_template_areas": null,
            "object_position": null,
            "object_fit": null,
            "grid_auto_columns": null,
            "margin": null,
            "display": null,
            "left": null
          }
        },
        "59d2b4bd23ca46c9ae15b6ae17b0a787": {
          "model_module": "@jupyter-widgets/controls",
          "model_name": "FloatProgressModel",
          "state": {
            "_view_name": "ProgressView",
            "style": "IPY_MODEL_4708f12cb8a54a8a95fe448ac422a974",
            "_dom_classes": [],
            "description": "100%",
            "_model_name": "FloatProgressModel",
            "bar_style": "success",
            "max": 40,
            "_view_module": "@jupyter-widgets/controls",
            "_model_module_version": "1.5.0",
            "value": 40,
            "_view_count": null,
            "_view_module_version": "1.5.0",
            "orientation": "horizontal",
            "min": 0,
            "description_tooltip": null,
            "_model_module": "@jupyter-widgets/controls",
            "layout": "IPY_MODEL_babd984098864e8abb65d3a924b02dbe"
          }
        },
        "a075cd6776cf494cb84b82bd2b66d048": {
          "model_module": "@jupyter-widgets/controls",
          "model_name": "HTMLModel",
          "state": {
            "_view_name": "HTMLView",
            "style": "IPY_MODEL_1ec0e6de394e43dbb2b80e3bfbc91e98",
            "_dom_classes": [],
            "description": "",
            "_model_name": "HTMLModel",
            "placeholder": "​",
            "_view_module": "@jupyter-widgets/controls",
            "_model_module_version": "1.5.0",
            "value": " 40/40 [00:00&lt;00:00, 101.83it/s]",
            "_view_count": null,
            "_view_module_version": "1.5.0",
            "description_tooltip": null,
            "_model_module": "@jupyter-widgets/controls",
            "layout": "IPY_MODEL_0d724b18482f4e5bb740606e141f09fa"
          }
        },
        "4708f12cb8a54a8a95fe448ac422a974": {
          "model_module": "@jupyter-widgets/controls",
          "model_name": "ProgressStyleModel",
          "state": {
            "_view_name": "StyleView",
            "_model_name": "ProgressStyleModel",
            "description_width": "initial",
            "_view_module": "@jupyter-widgets/base",
            "_model_module_version": "1.5.0",
            "_view_count": null,
            "_view_module_version": "1.2.0",
            "bar_color": null,
            "_model_module": "@jupyter-widgets/controls"
          }
        },
        "babd984098864e8abb65d3a924b02dbe": {
          "model_module": "@jupyter-widgets/base",
          "model_name": "LayoutModel",
          "state": {
            "_view_name": "LayoutView",
            "grid_template_rows": null,
            "right": null,
            "justify_content": null,
            "_view_module": "@jupyter-widgets/base",
            "overflow": null,
            "_model_module_version": "1.2.0",
            "_view_count": null,
            "flex_flow": null,
            "width": null,
            "min_width": null,
            "border": null,
            "align_items": null,
            "bottom": null,
            "_model_module": "@jupyter-widgets/base",
            "top": null,
            "grid_column": null,
            "overflow_y": null,
            "overflow_x": null,
            "grid_auto_flow": null,
            "grid_area": null,
            "grid_template_columns": null,
            "flex": null,
            "_model_name": "LayoutModel",
            "justify_items": null,
            "grid_row": null,
            "max_height": null,
            "align_content": null,
            "visibility": null,
            "align_self": null,
            "height": null,
            "min_height": null,
            "padding": null,
            "grid_auto_rows": null,
            "grid_gap": null,
            "max_width": null,
            "order": null,
            "_view_module_version": "1.2.0",
            "grid_template_areas": null,
            "object_position": null,
            "object_fit": null,
            "grid_auto_columns": null,
            "margin": null,
            "display": null,
            "left": null
          }
        },
        "1ec0e6de394e43dbb2b80e3bfbc91e98": {
          "model_module": "@jupyter-widgets/controls",
          "model_name": "DescriptionStyleModel",
          "state": {
            "_view_name": "StyleView",
            "_model_name": "DescriptionStyleModel",
            "description_width": "",
            "_view_module": "@jupyter-widgets/base",
            "_model_module_version": "1.5.0",
            "_view_count": null,
            "_view_module_version": "1.2.0",
            "_model_module": "@jupyter-widgets/controls"
          }
        },
        "0d724b18482f4e5bb740606e141f09fa": {
          "model_module": "@jupyter-widgets/base",
          "model_name": "LayoutModel",
          "state": {
            "_view_name": "LayoutView",
            "grid_template_rows": null,
            "right": null,
            "justify_content": null,
            "_view_module": "@jupyter-widgets/base",
            "overflow": null,
            "_model_module_version": "1.2.0",
            "_view_count": null,
            "flex_flow": null,
            "width": null,
            "min_width": null,
            "border": null,
            "align_items": null,
            "bottom": null,
            "_model_module": "@jupyter-widgets/base",
            "top": null,
            "grid_column": null,
            "overflow_y": null,
            "overflow_x": null,
            "grid_auto_flow": null,
            "grid_area": null,
            "grid_template_columns": null,
            "flex": null,
            "_model_name": "LayoutModel",
            "justify_items": null,
            "grid_row": null,
            "max_height": null,
            "align_content": null,
            "visibility": null,
            "align_self": null,
            "height": null,
            "min_height": null,
            "padding": null,
            "grid_auto_rows": null,
            "grid_gap": null,
            "max_width": null,
            "order": null,
            "_view_module_version": "1.2.0",
            "grid_template_areas": null,
            "object_position": null,
            "object_fit": null,
            "grid_auto_columns": null,
            "margin": null,
            "display": null,
            "left": null
          }
        },
        "085a824b7d2844b79394474d4792c981": {
          "model_module": "@jupyter-widgets/controls",
          "model_name": "HBoxModel",
          "state": {
            "_view_name": "HBoxView",
            "_dom_classes": [],
            "_model_name": "HBoxModel",
            "_view_module": "@jupyter-widgets/controls",
            "_model_module_version": "1.5.0",
            "_view_count": null,
            "_view_module_version": "1.5.0",
            "box_style": "",
            "layout": "IPY_MODEL_0820048a36ff402ea2d14073add14c3a",
            "_model_module": "@jupyter-widgets/controls",
            "children": [
              "IPY_MODEL_15e2b4fd67aa412d99f2a5512d59b627",
              "IPY_MODEL_9b1601a3a5984e909b598a4770855ced"
            ]
          }
        },
        "0820048a36ff402ea2d14073add14c3a": {
          "model_module": "@jupyter-widgets/base",
          "model_name": "LayoutModel",
          "state": {
            "_view_name": "LayoutView",
            "grid_template_rows": null,
            "right": null,
            "justify_content": null,
            "_view_module": "@jupyter-widgets/base",
            "overflow": null,
            "_model_module_version": "1.2.0",
            "_view_count": null,
            "flex_flow": null,
            "width": null,
            "min_width": null,
            "border": null,
            "align_items": null,
            "bottom": null,
            "_model_module": "@jupyter-widgets/base",
            "top": null,
            "grid_column": null,
            "overflow_y": null,
            "overflow_x": null,
            "grid_auto_flow": null,
            "grid_area": null,
            "grid_template_columns": null,
            "flex": null,
            "_model_name": "LayoutModel",
            "justify_items": null,
            "grid_row": null,
            "max_height": null,
            "align_content": null,
            "visibility": null,
            "align_self": null,
            "height": null,
            "min_height": null,
            "padding": null,
            "grid_auto_rows": null,
            "grid_gap": null,
            "max_width": null,
            "order": null,
            "_view_module_version": "1.2.0",
            "grid_template_areas": null,
            "object_position": null,
            "object_fit": null,
            "grid_auto_columns": null,
            "margin": null,
            "display": null,
            "left": null
          }
        },
        "15e2b4fd67aa412d99f2a5512d59b627": {
          "model_module": "@jupyter-widgets/controls",
          "model_name": "FloatProgressModel",
          "state": {
            "_view_name": "ProgressView",
            "style": "IPY_MODEL_8ed252796a9d4ed5a8f2a68b404554e0",
            "_dom_classes": [],
            "description": "100%",
            "_model_name": "FloatProgressModel",
            "bar_style": "success",
            "max": 40,
            "_view_module": "@jupyter-widgets/controls",
            "_model_module_version": "1.5.0",
            "value": 40,
            "_view_count": null,
            "_view_module_version": "1.5.0",
            "orientation": "horizontal",
            "min": 0,
            "description_tooltip": null,
            "_model_module": "@jupyter-widgets/controls",
            "layout": "IPY_MODEL_f465c9ba917749c8a53a92686f5ec47a"
          }
        },
        "9b1601a3a5984e909b598a4770855ced": {
          "model_module": "@jupyter-widgets/controls",
          "model_name": "HTMLModel",
          "state": {
            "_view_name": "HTMLView",
            "style": "IPY_MODEL_fb38fe2094b24cedb778182d5acd5e7d",
            "_dom_classes": [],
            "description": "",
            "_model_name": "HTMLModel",
            "placeholder": "​",
            "_view_module": "@jupyter-widgets/controls",
            "_model_module_version": "1.5.0",
            "value": " 40/40 [00:01&lt;00:00, 24.19it/s]",
            "_view_count": null,
            "_view_module_version": "1.5.0",
            "description_tooltip": null,
            "_model_module": "@jupyter-widgets/controls",
            "layout": "IPY_MODEL_06ca8b7ef65a48d6b6696631aa7d0ac3"
          }
        },
        "8ed252796a9d4ed5a8f2a68b404554e0": {
          "model_module": "@jupyter-widgets/controls",
          "model_name": "ProgressStyleModel",
          "state": {
            "_view_name": "StyleView",
            "_model_name": "ProgressStyleModel",
            "description_width": "initial",
            "_view_module": "@jupyter-widgets/base",
            "_model_module_version": "1.5.0",
            "_view_count": null,
            "_view_module_version": "1.2.0",
            "bar_color": null,
            "_model_module": "@jupyter-widgets/controls"
          }
        },
        "f465c9ba917749c8a53a92686f5ec47a": {
          "model_module": "@jupyter-widgets/base",
          "model_name": "LayoutModel",
          "state": {
            "_view_name": "LayoutView",
            "grid_template_rows": null,
            "right": null,
            "justify_content": null,
            "_view_module": "@jupyter-widgets/base",
            "overflow": null,
            "_model_module_version": "1.2.0",
            "_view_count": null,
            "flex_flow": null,
            "width": null,
            "min_width": null,
            "border": null,
            "align_items": null,
            "bottom": null,
            "_model_module": "@jupyter-widgets/base",
            "top": null,
            "grid_column": null,
            "overflow_y": null,
            "overflow_x": null,
            "grid_auto_flow": null,
            "grid_area": null,
            "grid_template_columns": null,
            "flex": null,
            "_model_name": "LayoutModel",
            "justify_items": null,
            "grid_row": null,
            "max_height": null,
            "align_content": null,
            "visibility": null,
            "align_self": null,
            "height": null,
            "min_height": null,
            "padding": null,
            "grid_auto_rows": null,
            "grid_gap": null,
            "max_width": null,
            "order": null,
            "_view_module_version": "1.2.0",
            "grid_template_areas": null,
            "object_position": null,
            "object_fit": null,
            "grid_auto_columns": null,
            "margin": null,
            "display": null,
            "left": null
          }
        },
        "fb38fe2094b24cedb778182d5acd5e7d": {
          "model_module": "@jupyter-widgets/controls",
          "model_name": "DescriptionStyleModel",
          "state": {
            "_view_name": "StyleView",
            "_model_name": "DescriptionStyleModel",
            "description_width": "",
            "_view_module": "@jupyter-widgets/base",
            "_model_module_version": "1.5.0",
            "_view_count": null,
            "_view_module_version": "1.2.0",
            "_model_module": "@jupyter-widgets/controls"
          }
        },
        "06ca8b7ef65a48d6b6696631aa7d0ac3": {
          "model_module": "@jupyter-widgets/base",
          "model_name": "LayoutModel",
          "state": {
            "_view_name": "LayoutView",
            "grid_template_rows": null,
            "right": null,
            "justify_content": null,
            "_view_module": "@jupyter-widgets/base",
            "overflow": null,
            "_model_module_version": "1.2.0",
            "_view_count": null,
            "flex_flow": null,
            "width": null,
            "min_width": null,
            "border": null,
            "align_items": null,
            "bottom": null,
            "_model_module": "@jupyter-widgets/base",
            "top": null,
            "grid_column": null,
            "overflow_y": null,
            "overflow_x": null,
            "grid_auto_flow": null,
            "grid_area": null,
            "grid_template_columns": null,
            "flex": null,
            "_model_name": "LayoutModel",
            "justify_items": null,
            "grid_row": null,
            "max_height": null,
            "align_content": null,
            "visibility": null,
            "align_self": null,
            "height": null,
            "min_height": null,
            "padding": null,
            "grid_auto_rows": null,
            "grid_gap": null,
            "max_width": null,
            "order": null,
            "_view_module_version": "1.2.0",
            "grid_template_areas": null,
            "object_position": null,
            "object_fit": null,
            "grid_auto_columns": null,
            "margin": null,
            "display": null,
            "left": null
          }
        },
        "de7e1f8f77894e80a97b5bcec392fdb0": {
          "model_module": "@jupyter-widgets/controls",
          "model_name": "HBoxModel",
          "state": {
            "_view_name": "HBoxView",
            "_dom_classes": [],
            "_model_name": "HBoxModel",
            "_view_module": "@jupyter-widgets/controls",
            "_model_module_version": "1.5.0",
            "_view_count": null,
            "_view_module_version": "1.5.0",
            "box_style": "",
            "layout": "IPY_MODEL_d7772426b1f240bb938144b4eb1845c4",
            "_model_module": "@jupyter-widgets/controls",
            "children": [
              "IPY_MODEL_30f59643ff7b46c8815c27031743fe3a",
              "IPY_MODEL_6f124cad8d2043ed8cffc6a3fe855672"
            ]
          }
        },
        "d7772426b1f240bb938144b4eb1845c4": {
          "model_module": "@jupyter-widgets/base",
          "model_name": "LayoutModel",
          "state": {
            "_view_name": "LayoutView",
            "grid_template_rows": null,
            "right": null,
            "justify_content": null,
            "_view_module": "@jupyter-widgets/base",
            "overflow": null,
            "_model_module_version": "1.2.0",
            "_view_count": null,
            "flex_flow": null,
            "width": null,
            "min_width": null,
            "border": null,
            "align_items": null,
            "bottom": null,
            "_model_module": "@jupyter-widgets/base",
            "top": null,
            "grid_column": null,
            "overflow_y": null,
            "overflow_x": null,
            "grid_auto_flow": null,
            "grid_area": null,
            "grid_template_columns": null,
            "flex": null,
            "_model_name": "LayoutModel",
            "justify_items": null,
            "grid_row": null,
            "max_height": null,
            "align_content": null,
            "visibility": null,
            "align_self": null,
            "height": null,
            "min_height": null,
            "padding": null,
            "grid_auto_rows": null,
            "grid_gap": null,
            "max_width": null,
            "order": null,
            "_view_module_version": "1.2.0",
            "grid_template_areas": null,
            "object_position": null,
            "object_fit": null,
            "grid_auto_columns": null,
            "margin": null,
            "display": null,
            "left": null
          }
        },
        "30f59643ff7b46c8815c27031743fe3a": {
          "model_module": "@jupyter-widgets/controls",
          "model_name": "FloatProgressModel",
          "state": {
            "_view_name": "ProgressView",
            "style": "IPY_MODEL_a8ec915687f642d6ba214e40236121eb",
            "_dom_classes": [],
            "description": "100%",
            "_model_name": "FloatProgressModel",
            "bar_style": "success",
            "max": 40,
            "_view_module": "@jupyter-widgets/controls",
            "_model_module_version": "1.5.0",
            "value": 40,
            "_view_count": null,
            "_view_module_version": "1.5.0",
            "orientation": "horizontal",
            "min": 0,
            "description_tooltip": null,
            "_model_module": "@jupyter-widgets/controls",
            "layout": "IPY_MODEL_12a64b4a88b848bda1c3696aa4b2b55f"
          }
        },
        "6f124cad8d2043ed8cffc6a3fe855672": {
          "model_module": "@jupyter-widgets/controls",
          "model_name": "HTMLModel",
          "state": {
            "_view_name": "HTMLView",
            "style": "IPY_MODEL_55ff6f6ae6d64a42b8bc8ae131cd8094",
            "_dom_classes": [],
            "description": "",
            "_model_name": "HTMLModel",
            "placeholder": "​",
            "_view_module": "@jupyter-widgets/controls",
            "_model_module_version": "1.5.0",
            "value": " 40/40 [00:00&lt;00:00, 42.25it/s]",
            "_view_count": null,
            "_view_module_version": "1.5.0",
            "description_tooltip": null,
            "_model_module": "@jupyter-widgets/controls",
            "layout": "IPY_MODEL_29e66a6e24d94c03913c763977356d89"
          }
        },
        "a8ec915687f642d6ba214e40236121eb": {
          "model_module": "@jupyter-widgets/controls",
          "model_name": "ProgressStyleModel",
          "state": {
            "_view_name": "StyleView",
            "_model_name": "ProgressStyleModel",
            "description_width": "initial",
            "_view_module": "@jupyter-widgets/base",
            "_model_module_version": "1.5.0",
            "_view_count": null,
            "_view_module_version": "1.2.0",
            "bar_color": null,
            "_model_module": "@jupyter-widgets/controls"
          }
        },
        "12a64b4a88b848bda1c3696aa4b2b55f": {
          "model_module": "@jupyter-widgets/base",
          "model_name": "LayoutModel",
          "state": {
            "_view_name": "LayoutView",
            "grid_template_rows": null,
            "right": null,
            "justify_content": null,
            "_view_module": "@jupyter-widgets/base",
            "overflow": null,
            "_model_module_version": "1.2.0",
            "_view_count": null,
            "flex_flow": null,
            "width": null,
            "min_width": null,
            "border": null,
            "align_items": null,
            "bottom": null,
            "_model_module": "@jupyter-widgets/base",
            "top": null,
            "grid_column": null,
            "overflow_y": null,
            "overflow_x": null,
            "grid_auto_flow": null,
            "grid_area": null,
            "grid_template_columns": null,
            "flex": null,
            "_model_name": "LayoutModel",
            "justify_items": null,
            "grid_row": null,
            "max_height": null,
            "align_content": null,
            "visibility": null,
            "align_self": null,
            "height": null,
            "min_height": null,
            "padding": null,
            "grid_auto_rows": null,
            "grid_gap": null,
            "max_width": null,
            "order": null,
            "_view_module_version": "1.2.0",
            "grid_template_areas": null,
            "object_position": null,
            "object_fit": null,
            "grid_auto_columns": null,
            "margin": null,
            "display": null,
            "left": null
          }
        },
        "55ff6f6ae6d64a42b8bc8ae131cd8094": {
          "model_module": "@jupyter-widgets/controls",
          "model_name": "DescriptionStyleModel",
          "state": {
            "_view_name": "StyleView",
            "_model_name": "DescriptionStyleModel",
            "description_width": "",
            "_view_module": "@jupyter-widgets/base",
            "_model_module_version": "1.5.0",
            "_view_count": null,
            "_view_module_version": "1.2.0",
            "_model_module": "@jupyter-widgets/controls"
          }
        },
        "29e66a6e24d94c03913c763977356d89": {
          "model_module": "@jupyter-widgets/base",
          "model_name": "LayoutModel",
          "state": {
            "_view_name": "LayoutView",
            "grid_template_rows": null,
            "right": null,
            "justify_content": null,
            "_view_module": "@jupyter-widgets/base",
            "overflow": null,
            "_model_module_version": "1.2.0",
            "_view_count": null,
            "flex_flow": null,
            "width": null,
            "min_width": null,
            "border": null,
            "align_items": null,
            "bottom": null,
            "_model_module": "@jupyter-widgets/base",
            "top": null,
            "grid_column": null,
            "overflow_y": null,
            "overflow_x": null,
            "grid_auto_flow": null,
            "grid_area": null,
            "grid_template_columns": null,
            "flex": null,
            "_model_name": "LayoutModel",
            "justify_items": null,
            "grid_row": null,
            "max_height": null,
            "align_content": null,
            "visibility": null,
            "align_self": null,
            "height": null,
            "min_height": null,
            "padding": null,
            "grid_auto_rows": null,
            "grid_gap": null,
            "max_width": null,
            "order": null,
            "_view_module_version": "1.2.0",
            "grid_template_areas": null,
            "object_position": null,
            "object_fit": null,
            "grid_auto_columns": null,
            "margin": null,
            "display": null,
            "left": null
          }
        },
        "31f88b3e61cb423a9dccb93c834932e2": {
          "model_module": "@jupyter-widgets/controls",
          "model_name": "HBoxModel",
          "state": {
            "_view_name": "HBoxView",
            "_dom_classes": [],
            "_model_name": "HBoxModel",
            "_view_module": "@jupyter-widgets/controls",
            "_model_module_version": "1.5.0",
            "_view_count": null,
            "_view_module_version": "1.5.0",
            "box_style": "",
            "layout": "IPY_MODEL_62e7d149cf2e41df95585a1028a7a200",
            "_model_module": "@jupyter-widgets/controls",
            "children": [
              "IPY_MODEL_76a28c8fc7bb4291b2ee784a93e943de",
              "IPY_MODEL_b2d46586750047c7a6482a094028980a"
            ]
          }
        },
        "62e7d149cf2e41df95585a1028a7a200": {
          "model_module": "@jupyter-widgets/base",
          "model_name": "LayoutModel",
          "state": {
            "_view_name": "LayoutView",
            "grid_template_rows": null,
            "right": null,
            "justify_content": null,
            "_view_module": "@jupyter-widgets/base",
            "overflow": null,
            "_model_module_version": "1.2.0",
            "_view_count": null,
            "flex_flow": null,
            "width": null,
            "min_width": null,
            "border": null,
            "align_items": null,
            "bottom": null,
            "_model_module": "@jupyter-widgets/base",
            "top": null,
            "grid_column": null,
            "overflow_y": null,
            "overflow_x": null,
            "grid_auto_flow": null,
            "grid_area": null,
            "grid_template_columns": null,
            "flex": null,
            "_model_name": "LayoutModel",
            "justify_items": null,
            "grid_row": null,
            "max_height": null,
            "align_content": null,
            "visibility": null,
            "align_self": null,
            "height": null,
            "min_height": null,
            "padding": null,
            "grid_auto_rows": null,
            "grid_gap": null,
            "max_width": null,
            "order": null,
            "_view_module_version": "1.2.0",
            "grid_template_areas": null,
            "object_position": null,
            "object_fit": null,
            "grid_auto_columns": null,
            "margin": null,
            "display": null,
            "left": null
          }
        },
        "76a28c8fc7bb4291b2ee784a93e943de": {
          "model_module": "@jupyter-widgets/controls",
          "model_name": "FloatProgressModel",
          "state": {
            "_view_name": "ProgressView",
            "style": "IPY_MODEL_d8a06f8822d34fe0bfa12b205e4d8ab1",
            "_dom_classes": [],
            "description": "100%",
            "_model_name": "FloatProgressModel",
            "bar_style": "success",
            "max": 40,
            "_view_module": "@jupyter-widgets/controls",
            "_model_module_version": "1.5.0",
            "value": 40,
            "_view_count": null,
            "_view_module_version": "1.5.0",
            "orientation": "horizontal",
            "min": 0,
            "description_tooltip": null,
            "_model_module": "@jupyter-widgets/controls",
            "layout": "IPY_MODEL_5e90d6bf41f54bf081e4f48ed8379e78"
          }
        },
        "b2d46586750047c7a6482a094028980a": {
          "model_module": "@jupyter-widgets/controls",
          "model_name": "HTMLModel",
          "state": {
            "_view_name": "HTMLView",
            "style": "IPY_MODEL_54014b3dcbce4bd3bca572173662ff73",
            "_dom_classes": [],
            "description": "",
            "_model_name": "HTMLModel",
            "placeholder": "​",
            "_view_module": "@jupyter-widgets/controls",
            "_model_module_version": "1.5.0",
            "value": " 40/40 [00:00&lt;00:00, 54.34it/s]",
            "_view_count": null,
            "_view_module_version": "1.5.0",
            "description_tooltip": null,
            "_model_module": "@jupyter-widgets/controls",
            "layout": "IPY_MODEL_02b477107f3a45fd929ffc6c0a9a8f12"
          }
        },
        "d8a06f8822d34fe0bfa12b205e4d8ab1": {
          "model_module": "@jupyter-widgets/controls",
          "model_name": "ProgressStyleModel",
          "state": {
            "_view_name": "StyleView",
            "_model_name": "ProgressStyleModel",
            "description_width": "initial",
            "_view_module": "@jupyter-widgets/base",
            "_model_module_version": "1.5.0",
            "_view_count": null,
            "_view_module_version": "1.2.0",
            "bar_color": null,
            "_model_module": "@jupyter-widgets/controls"
          }
        },
        "5e90d6bf41f54bf081e4f48ed8379e78": {
          "model_module": "@jupyter-widgets/base",
          "model_name": "LayoutModel",
          "state": {
            "_view_name": "LayoutView",
            "grid_template_rows": null,
            "right": null,
            "justify_content": null,
            "_view_module": "@jupyter-widgets/base",
            "overflow": null,
            "_model_module_version": "1.2.0",
            "_view_count": null,
            "flex_flow": null,
            "width": null,
            "min_width": null,
            "border": null,
            "align_items": null,
            "bottom": null,
            "_model_module": "@jupyter-widgets/base",
            "top": null,
            "grid_column": null,
            "overflow_y": null,
            "overflow_x": null,
            "grid_auto_flow": null,
            "grid_area": null,
            "grid_template_columns": null,
            "flex": null,
            "_model_name": "LayoutModel",
            "justify_items": null,
            "grid_row": null,
            "max_height": null,
            "align_content": null,
            "visibility": null,
            "align_self": null,
            "height": null,
            "min_height": null,
            "padding": null,
            "grid_auto_rows": null,
            "grid_gap": null,
            "max_width": null,
            "order": null,
            "_view_module_version": "1.2.0",
            "grid_template_areas": null,
            "object_position": null,
            "object_fit": null,
            "grid_auto_columns": null,
            "margin": null,
            "display": null,
            "left": null
          }
        },
        "54014b3dcbce4bd3bca572173662ff73": {
          "model_module": "@jupyter-widgets/controls",
          "model_name": "DescriptionStyleModel",
          "state": {
            "_view_name": "StyleView",
            "_model_name": "DescriptionStyleModel",
            "description_width": "",
            "_view_module": "@jupyter-widgets/base",
            "_model_module_version": "1.5.0",
            "_view_count": null,
            "_view_module_version": "1.2.0",
            "_model_module": "@jupyter-widgets/controls"
          }
        },
        "02b477107f3a45fd929ffc6c0a9a8f12": {
          "model_module": "@jupyter-widgets/base",
          "model_name": "LayoutModel",
          "state": {
            "_view_name": "LayoutView",
            "grid_template_rows": null,
            "right": null,
            "justify_content": null,
            "_view_module": "@jupyter-widgets/base",
            "overflow": null,
            "_model_module_version": "1.2.0",
            "_view_count": null,
            "flex_flow": null,
            "width": null,
            "min_width": null,
            "border": null,
            "align_items": null,
            "bottom": null,
            "_model_module": "@jupyter-widgets/base",
            "top": null,
            "grid_column": null,
            "overflow_y": null,
            "overflow_x": null,
            "grid_auto_flow": null,
            "grid_area": null,
            "grid_template_columns": null,
            "flex": null,
            "_model_name": "LayoutModel",
            "justify_items": null,
            "grid_row": null,
            "max_height": null,
            "align_content": null,
            "visibility": null,
            "align_self": null,
            "height": null,
            "min_height": null,
            "padding": null,
            "grid_auto_rows": null,
            "grid_gap": null,
            "max_width": null,
            "order": null,
            "_view_module_version": "1.2.0",
            "grid_template_areas": null,
            "object_position": null,
            "object_fit": null,
            "grid_auto_columns": null,
            "margin": null,
            "display": null,
            "left": null
          }
        },
        "addf1e8129cd425cb212432fa2389a88": {
          "model_module": "@jupyter-widgets/controls",
          "model_name": "HBoxModel",
          "state": {
            "_view_name": "HBoxView",
            "_dom_classes": [],
            "_model_name": "HBoxModel",
            "_view_module": "@jupyter-widgets/controls",
            "_model_module_version": "1.5.0",
            "_view_count": null,
            "_view_module_version": "1.5.0",
            "box_style": "",
            "layout": "IPY_MODEL_e002876deae04aca86900197586cd8ec",
            "_model_module": "@jupyter-widgets/controls",
            "children": [
              "IPY_MODEL_d23bd8e3f81c46ad9f7a97b9a2f20af8",
              "IPY_MODEL_5ed21ff329ec47e2a1dab3abc51b3ea8"
            ]
          }
        },
        "e002876deae04aca86900197586cd8ec": {
          "model_module": "@jupyter-widgets/base",
          "model_name": "LayoutModel",
          "state": {
            "_view_name": "LayoutView",
            "grid_template_rows": null,
            "right": null,
            "justify_content": null,
            "_view_module": "@jupyter-widgets/base",
            "overflow": null,
            "_model_module_version": "1.2.0",
            "_view_count": null,
            "flex_flow": null,
            "width": null,
            "min_width": null,
            "border": null,
            "align_items": null,
            "bottom": null,
            "_model_module": "@jupyter-widgets/base",
            "top": null,
            "grid_column": null,
            "overflow_y": null,
            "overflow_x": null,
            "grid_auto_flow": null,
            "grid_area": null,
            "grid_template_columns": null,
            "flex": null,
            "_model_name": "LayoutModel",
            "justify_items": null,
            "grid_row": null,
            "max_height": null,
            "align_content": null,
            "visibility": null,
            "align_self": null,
            "height": null,
            "min_height": null,
            "padding": null,
            "grid_auto_rows": null,
            "grid_gap": null,
            "max_width": null,
            "order": null,
            "_view_module_version": "1.2.0",
            "grid_template_areas": null,
            "object_position": null,
            "object_fit": null,
            "grid_auto_columns": null,
            "margin": null,
            "display": null,
            "left": null
          }
        },
        "d23bd8e3f81c46ad9f7a97b9a2f20af8": {
          "model_module": "@jupyter-widgets/controls",
          "model_name": "FloatProgressModel",
          "state": {
            "_view_name": "ProgressView",
            "style": "IPY_MODEL_6674f7a3cf414c4a828f86641d2f7d7c",
            "_dom_classes": [],
            "description": "100%",
            "_model_name": "FloatProgressModel",
            "bar_style": "success",
            "max": 121,
            "_view_module": "@jupyter-widgets/controls",
            "_model_module_version": "1.5.0",
            "value": 121,
            "_view_count": null,
            "_view_module_version": "1.5.0",
            "orientation": "horizontal",
            "min": 0,
            "description_tooltip": null,
            "_model_module": "@jupyter-widgets/controls",
            "layout": "IPY_MODEL_3a2498b41e7249c08a39759697b49d8a"
          }
        },
        "5ed21ff329ec47e2a1dab3abc51b3ea8": {
          "model_module": "@jupyter-widgets/controls",
          "model_name": "HTMLModel",
          "state": {
            "_view_name": "HTMLView",
            "style": "IPY_MODEL_e6db16c7c2a74d3ab5c68b72ddef5715",
            "_dom_classes": [],
            "description": "",
            "_model_name": "HTMLModel",
            "placeholder": "​",
            "_view_module": "@jupyter-widgets/controls",
            "_model_module_version": "1.5.0",
            "value": " 121/121 [00:00&lt;00:00, 239.45it/s]",
            "_view_count": null,
            "_view_module_version": "1.5.0",
            "description_tooltip": null,
            "_model_module": "@jupyter-widgets/controls",
            "layout": "IPY_MODEL_b2155360550b43ed8bd88895e43a0175"
          }
        },
        "6674f7a3cf414c4a828f86641d2f7d7c": {
          "model_module": "@jupyter-widgets/controls",
          "model_name": "ProgressStyleModel",
          "state": {
            "_view_name": "StyleView",
            "_model_name": "ProgressStyleModel",
            "description_width": "initial",
            "_view_module": "@jupyter-widgets/base",
            "_model_module_version": "1.5.0",
            "_view_count": null,
            "_view_module_version": "1.2.0",
            "bar_color": null,
            "_model_module": "@jupyter-widgets/controls"
          }
        },
        "3a2498b41e7249c08a39759697b49d8a": {
          "model_module": "@jupyter-widgets/base",
          "model_name": "LayoutModel",
          "state": {
            "_view_name": "LayoutView",
            "grid_template_rows": null,
            "right": null,
            "justify_content": null,
            "_view_module": "@jupyter-widgets/base",
            "overflow": null,
            "_model_module_version": "1.2.0",
            "_view_count": null,
            "flex_flow": null,
            "width": null,
            "min_width": null,
            "border": null,
            "align_items": null,
            "bottom": null,
            "_model_module": "@jupyter-widgets/base",
            "top": null,
            "grid_column": null,
            "overflow_y": null,
            "overflow_x": null,
            "grid_auto_flow": null,
            "grid_area": null,
            "grid_template_columns": null,
            "flex": null,
            "_model_name": "LayoutModel",
            "justify_items": null,
            "grid_row": null,
            "max_height": null,
            "align_content": null,
            "visibility": null,
            "align_self": null,
            "height": null,
            "min_height": null,
            "padding": null,
            "grid_auto_rows": null,
            "grid_gap": null,
            "max_width": null,
            "order": null,
            "_view_module_version": "1.2.0",
            "grid_template_areas": null,
            "object_position": null,
            "object_fit": null,
            "grid_auto_columns": null,
            "margin": null,
            "display": null,
            "left": null
          }
        },
        "e6db16c7c2a74d3ab5c68b72ddef5715": {
          "model_module": "@jupyter-widgets/controls",
          "model_name": "DescriptionStyleModel",
          "state": {
            "_view_name": "StyleView",
            "_model_name": "DescriptionStyleModel",
            "description_width": "",
            "_view_module": "@jupyter-widgets/base",
            "_model_module_version": "1.5.0",
            "_view_count": null,
            "_view_module_version": "1.2.0",
            "_model_module": "@jupyter-widgets/controls"
          }
        },
        "b2155360550b43ed8bd88895e43a0175": {
          "model_module": "@jupyter-widgets/base",
          "model_name": "LayoutModel",
          "state": {
            "_view_name": "LayoutView",
            "grid_template_rows": null,
            "right": null,
            "justify_content": null,
            "_view_module": "@jupyter-widgets/base",
            "overflow": null,
            "_model_module_version": "1.2.0",
            "_view_count": null,
            "flex_flow": null,
            "width": null,
            "min_width": null,
            "border": null,
            "align_items": null,
            "bottom": null,
            "_model_module": "@jupyter-widgets/base",
            "top": null,
            "grid_column": null,
            "overflow_y": null,
            "overflow_x": null,
            "grid_auto_flow": null,
            "grid_area": null,
            "grid_template_columns": null,
            "flex": null,
            "_model_name": "LayoutModel",
            "justify_items": null,
            "grid_row": null,
            "max_height": null,
            "align_content": null,
            "visibility": null,
            "align_self": null,
            "height": null,
            "min_height": null,
            "padding": null,
            "grid_auto_rows": null,
            "grid_gap": null,
            "max_width": null,
            "order": null,
            "_view_module_version": "1.2.0",
            "grid_template_areas": null,
            "object_position": null,
            "object_fit": null,
            "grid_auto_columns": null,
            "margin": null,
            "display": null,
            "left": null
          }
        },
        "19f56db639464f2dba6709a90eb55fac": {
          "model_module": "@jupyter-widgets/controls",
          "model_name": "HBoxModel",
          "state": {
            "_view_name": "HBoxView",
            "_dom_classes": [],
            "_model_name": "HBoxModel",
            "_view_module": "@jupyter-widgets/controls",
            "_model_module_version": "1.5.0",
            "_view_count": null,
            "_view_module_version": "1.5.0",
            "box_style": "",
            "layout": "IPY_MODEL_48f4a399bef54d0695a0f82784deef34",
            "_model_module": "@jupyter-widgets/controls",
            "children": [
              "IPY_MODEL_b5a703198d3b434a8ff5f7f7da9357ce",
              "IPY_MODEL_c7f6737581414c0b80c33c0a823a3b88"
            ]
          }
        },
        "48f4a399bef54d0695a0f82784deef34": {
          "model_module": "@jupyter-widgets/base",
          "model_name": "LayoutModel",
          "state": {
            "_view_name": "LayoutView",
            "grid_template_rows": null,
            "right": null,
            "justify_content": null,
            "_view_module": "@jupyter-widgets/base",
            "overflow": null,
            "_model_module_version": "1.2.0",
            "_view_count": null,
            "flex_flow": null,
            "width": null,
            "min_width": null,
            "border": null,
            "align_items": null,
            "bottom": null,
            "_model_module": "@jupyter-widgets/base",
            "top": null,
            "grid_column": null,
            "overflow_y": null,
            "overflow_x": null,
            "grid_auto_flow": null,
            "grid_area": null,
            "grid_template_columns": null,
            "flex": null,
            "_model_name": "LayoutModel",
            "justify_items": null,
            "grid_row": null,
            "max_height": null,
            "align_content": null,
            "visibility": null,
            "align_self": null,
            "height": null,
            "min_height": null,
            "padding": null,
            "grid_auto_rows": null,
            "grid_gap": null,
            "max_width": null,
            "order": null,
            "_view_module_version": "1.2.0",
            "grid_template_areas": null,
            "object_position": null,
            "object_fit": null,
            "grid_auto_columns": null,
            "margin": null,
            "display": null,
            "left": null
          }
        },
        "b5a703198d3b434a8ff5f7f7da9357ce": {
          "model_module": "@jupyter-widgets/controls",
          "model_name": "FloatProgressModel",
          "state": {
            "_view_name": "ProgressView",
            "style": "IPY_MODEL_bc9cfd39da01474aa0202af94ffda95d",
            "_dom_classes": [],
            "description": "100%",
            "_model_name": "FloatProgressModel",
            "bar_style": "success",
            "max": 50,
            "_view_module": "@jupyter-widgets/controls",
            "_model_module_version": "1.5.0",
            "value": 50,
            "_view_count": null,
            "_view_module_version": "1.5.0",
            "orientation": "horizontal",
            "min": 0,
            "description_tooltip": null,
            "_model_module": "@jupyter-widgets/controls",
            "layout": "IPY_MODEL_87f54f1f6e1446a9852247342e85c2ca"
          }
        },
        "c7f6737581414c0b80c33c0a823a3b88": {
          "model_module": "@jupyter-widgets/controls",
          "model_name": "HTMLModel",
          "state": {
            "_view_name": "HTMLView",
            "style": "IPY_MODEL_70326cd043f2471cb7da25238008feed",
            "_dom_classes": [],
            "description": "",
            "_model_name": "HTMLModel",
            "placeholder": "​",
            "_view_module": "@jupyter-widgets/controls",
            "_model_module_version": "1.5.0",
            "value": " 50/50 [00:00&lt;00:00, 96.70it/s]",
            "_view_count": null,
            "_view_module_version": "1.5.0",
            "description_tooltip": null,
            "_model_module": "@jupyter-widgets/controls",
            "layout": "IPY_MODEL_8b82fc9f69f5427aa6e3245d8667a07f"
          }
        },
        "bc9cfd39da01474aa0202af94ffda95d": {
          "model_module": "@jupyter-widgets/controls",
          "model_name": "ProgressStyleModel",
          "state": {
            "_view_name": "StyleView",
            "_model_name": "ProgressStyleModel",
            "description_width": "initial",
            "_view_module": "@jupyter-widgets/base",
            "_model_module_version": "1.5.0",
            "_view_count": null,
            "_view_module_version": "1.2.0",
            "bar_color": null,
            "_model_module": "@jupyter-widgets/controls"
          }
        },
        "87f54f1f6e1446a9852247342e85c2ca": {
          "model_module": "@jupyter-widgets/base",
          "model_name": "LayoutModel",
          "state": {
            "_view_name": "LayoutView",
            "grid_template_rows": null,
            "right": null,
            "justify_content": null,
            "_view_module": "@jupyter-widgets/base",
            "overflow": null,
            "_model_module_version": "1.2.0",
            "_view_count": null,
            "flex_flow": null,
            "width": null,
            "min_width": null,
            "border": null,
            "align_items": null,
            "bottom": null,
            "_model_module": "@jupyter-widgets/base",
            "top": null,
            "grid_column": null,
            "overflow_y": null,
            "overflow_x": null,
            "grid_auto_flow": null,
            "grid_area": null,
            "grid_template_columns": null,
            "flex": null,
            "_model_name": "LayoutModel",
            "justify_items": null,
            "grid_row": null,
            "max_height": null,
            "align_content": null,
            "visibility": null,
            "align_self": null,
            "height": null,
            "min_height": null,
            "padding": null,
            "grid_auto_rows": null,
            "grid_gap": null,
            "max_width": null,
            "order": null,
            "_view_module_version": "1.2.0",
            "grid_template_areas": null,
            "object_position": null,
            "object_fit": null,
            "grid_auto_columns": null,
            "margin": null,
            "display": null,
            "left": null
          }
        },
        "70326cd043f2471cb7da25238008feed": {
          "model_module": "@jupyter-widgets/controls",
          "model_name": "DescriptionStyleModel",
          "state": {
            "_view_name": "StyleView",
            "_model_name": "DescriptionStyleModel",
            "description_width": "",
            "_view_module": "@jupyter-widgets/base",
            "_model_module_version": "1.5.0",
            "_view_count": null,
            "_view_module_version": "1.2.0",
            "_model_module": "@jupyter-widgets/controls"
          }
        },
        "8b82fc9f69f5427aa6e3245d8667a07f": {
          "model_module": "@jupyter-widgets/base",
          "model_name": "LayoutModel",
          "state": {
            "_view_name": "LayoutView",
            "grid_template_rows": null,
            "right": null,
            "justify_content": null,
            "_view_module": "@jupyter-widgets/base",
            "overflow": null,
            "_model_module_version": "1.2.0",
            "_view_count": null,
            "flex_flow": null,
            "width": null,
            "min_width": null,
            "border": null,
            "align_items": null,
            "bottom": null,
            "_model_module": "@jupyter-widgets/base",
            "top": null,
            "grid_column": null,
            "overflow_y": null,
            "overflow_x": null,
            "grid_auto_flow": null,
            "grid_area": null,
            "grid_template_columns": null,
            "flex": null,
            "_model_name": "LayoutModel",
            "justify_items": null,
            "grid_row": null,
            "max_height": null,
            "align_content": null,
            "visibility": null,
            "align_self": null,
            "height": null,
            "min_height": null,
            "padding": null,
            "grid_auto_rows": null,
            "grid_gap": null,
            "max_width": null,
            "order": null,
            "_view_module_version": "1.2.0",
            "grid_template_areas": null,
            "object_position": null,
            "object_fit": null,
            "grid_auto_columns": null,
            "margin": null,
            "display": null,
            "left": null
          }
        },
        "bdb8bbcb548f42b3b56a101a35e30c20": {
          "model_module": "@jupyter-widgets/controls",
          "model_name": "HBoxModel",
          "state": {
            "_view_name": "HBoxView",
            "_dom_classes": [],
            "_model_name": "HBoxModel",
            "_view_module": "@jupyter-widgets/controls",
            "_model_module_version": "1.5.0",
            "_view_count": null,
            "_view_module_version": "1.5.0",
            "box_style": "",
            "layout": "IPY_MODEL_55cf7d8ce335410a995b8811c0cd2388",
            "_model_module": "@jupyter-widgets/controls",
            "children": [
              "IPY_MODEL_b17e4a6ddbf0418fbaa7b91b39677cf9",
              "IPY_MODEL_6cdab37d906544159b756e05417b4465"
            ]
          }
        },
        "55cf7d8ce335410a995b8811c0cd2388": {
          "model_module": "@jupyter-widgets/base",
          "model_name": "LayoutModel",
          "state": {
            "_view_name": "LayoutView",
            "grid_template_rows": null,
            "right": null,
            "justify_content": null,
            "_view_module": "@jupyter-widgets/base",
            "overflow": null,
            "_model_module_version": "1.2.0",
            "_view_count": null,
            "flex_flow": null,
            "width": null,
            "min_width": null,
            "border": null,
            "align_items": null,
            "bottom": null,
            "_model_module": "@jupyter-widgets/base",
            "top": null,
            "grid_column": null,
            "overflow_y": null,
            "overflow_x": null,
            "grid_auto_flow": null,
            "grid_area": null,
            "grid_template_columns": null,
            "flex": null,
            "_model_name": "LayoutModel",
            "justify_items": null,
            "grid_row": null,
            "max_height": null,
            "align_content": null,
            "visibility": null,
            "align_self": null,
            "height": null,
            "min_height": null,
            "padding": null,
            "grid_auto_rows": null,
            "grid_gap": null,
            "max_width": null,
            "order": null,
            "_view_module_version": "1.2.0",
            "grid_template_areas": null,
            "object_position": null,
            "object_fit": null,
            "grid_auto_columns": null,
            "margin": null,
            "display": null,
            "left": null
          }
        },
        "b17e4a6ddbf0418fbaa7b91b39677cf9": {
          "model_module": "@jupyter-widgets/controls",
          "model_name": "FloatProgressModel",
          "state": {
            "_view_name": "ProgressView",
            "style": "IPY_MODEL_5f367f4199c74c05a43d3757d31a29b9",
            "_dom_classes": [],
            "description": "100%",
            "_model_name": "FloatProgressModel",
            "bar_style": "success",
            "max": 39,
            "_view_module": "@jupyter-widgets/controls",
            "_model_module_version": "1.5.0",
            "value": 39,
            "_view_count": null,
            "_view_module_version": "1.5.0",
            "orientation": "horizontal",
            "min": 0,
            "description_tooltip": null,
            "_model_module": "@jupyter-widgets/controls",
            "layout": "IPY_MODEL_acb42c909cf64350949265691fd9c40c"
          }
        },
        "6cdab37d906544159b756e05417b4465": {
          "model_module": "@jupyter-widgets/controls",
          "model_name": "HTMLModel",
          "state": {
            "_view_name": "HTMLView",
            "style": "IPY_MODEL_4639b476d17d497cbd3f797b739b9aca",
            "_dom_classes": [],
            "description": "",
            "_model_name": "HTMLModel",
            "placeholder": "​",
            "_view_module": "@jupyter-widgets/controls",
            "_model_module_version": "1.5.0",
            "value": " 39/39 [00:00&lt;00:00, 143.89it/s]",
            "_view_count": null,
            "_view_module_version": "1.5.0",
            "description_tooltip": null,
            "_model_module": "@jupyter-widgets/controls",
            "layout": "IPY_MODEL_87bad67f123e41f5ae5b68a65ac42863"
          }
        },
        "5f367f4199c74c05a43d3757d31a29b9": {
          "model_module": "@jupyter-widgets/controls",
          "model_name": "ProgressStyleModel",
          "state": {
            "_view_name": "StyleView",
            "_model_name": "ProgressStyleModel",
            "description_width": "initial",
            "_view_module": "@jupyter-widgets/base",
            "_model_module_version": "1.5.0",
            "_view_count": null,
            "_view_module_version": "1.2.0",
            "bar_color": null,
            "_model_module": "@jupyter-widgets/controls"
          }
        },
        "acb42c909cf64350949265691fd9c40c": {
          "model_module": "@jupyter-widgets/base",
          "model_name": "LayoutModel",
          "state": {
            "_view_name": "LayoutView",
            "grid_template_rows": null,
            "right": null,
            "justify_content": null,
            "_view_module": "@jupyter-widgets/base",
            "overflow": null,
            "_model_module_version": "1.2.0",
            "_view_count": null,
            "flex_flow": null,
            "width": null,
            "min_width": null,
            "border": null,
            "align_items": null,
            "bottom": null,
            "_model_module": "@jupyter-widgets/base",
            "top": null,
            "grid_column": null,
            "overflow_y": null,
            "overflow_x": null,
            "grid_auto_flow": null,
            "grid_area": null,
            "grid_template_columns": null,
            "flex": null,
            "_model_name": "LayoutModel",
            "justify_items": null,
            "grid_row": null,
            "max_height": null,
            "align_content": null,
            "visibility": null,
            "align_self": null,
            "height": null,
            "min_height": null,
            "padding": null,
            "grid_auto_rows": null,
            "grid_gap": null,
            "max_width": null,
            "order": null,
            "_view_module_version": "1.2.0",
            "grid_template_areas": null,
            "object_position": null,
            "object_fit": null,
            "grid_auto_columns": null,
            "margin": null,
            "display": null,
            "left": null
          }
        },
        "4639b476d17d497cbd3f797b739b9aca": {
          "model_module": "@jupyter-widgets/controls",
          "model_name": "DescriptionStyleModel",
          "state": {
            "_view_name": "StyleView",
            "_model_name": "DescriptionStyleModel",
            "description_width": "",
            "_view_module": "@jupyter-widgets/base",
            "_model_module_version": "1.5.0",
            "_view_count": null,
            "_view_module_version": "1.2.0",
            "_model_module": "@jupyter-widgets/controls"
          }
        },
        "87bad67f123e41f5ae5b68a65ac42863": {
          "model_module": "@jupyter-widgets/base",
          "model_name": "LayoutModel",
          "state": {
            "_view_name": "LayoutView",
            "grid_template_rows": null,
            "right": null,
            "justify_content": null,
            "_view_module": "@jupyter-widgets/base",
            "overflow": null,
            "_model_module_version": "1.2.0",
            "_view_count": null,
            "flex_flow": null,
            "width": null,
            "min_width": null,
            "border": null,
            "align_items": null,
            "bottom": null,
            "_model_module": "@jupyter-widgets/base",
            "top": null,
            "grid_column": null,
            "overflow_y": null,
            "overflow_x": null,
            "grid_auto_flow": null,
            "grid_area": null,
            "grid_template_columns": null,
            "flex": null,
            "_model_name": "LayoutModel",
            "justify_items": null,
            "grid_row": null,
            "max_height": null,
            "align_content": null,
            "visibility": null,
            "align_self": null,
            "height": null,
            "min_height": null,
            "padding": null,
            "grid_auto_rows": null,
            "grid_gap": null,
            "max_width": null,
            "order": null,
            "_view_module_version": "1.2.0",
            "grid_template_areas": null,
            "object_position": null,
            "object_fit": null,
            "grid_auto_columns": null,
            "margin": null,
            "display": null,
            "left": null
          }
        },
        "ae6b2c6d5c544910976150ed7100172a": {
          "model_module": "@jupyter-widgets/controls",
          "model_name": "HBoxModel",
          "state": {
            "_view_name": "HBoxView",
            "_dom_classes": [],
            "_model_name": "HBoxModel",
            "_view_module": "@jupyter-widgets/controls",
            "_model_module_version": "1.5.0",
            "_view_count": null,
            "_view_module_version": "1.5.0",
            "box_style": "",
            "layout": "IPY_MODEL_0e033d4342b74cb4b78d6279e06d034e",
            "_model_module": "@jupyter-widgets/controls",
            "children": [
              "IPY_MODEL_a1bb123e853440a088dc83f1f8b59556",
              "IPY_MODEL_50f7197fa2fe47f2921c9e2e682d825b"
            ]
          }
        },
        "0e033d4342b74cb4b78d6279e06d034e": {
          "model_module": "@jupyter-widgets/base",
          "model_name": "LayoutModel",
          "state": {
            "_view_name": "LayoutView",
            "grid_template_rows": null,
            "right": null,
            "justify_content": null,
            "_view_module": "@jupyter-widgets/base",
            "overflow": null,
            "_model_module_version": "1.2.0",
            "_view_count": null,
            "flex_flow": null,
            "width": null,
            "min_width": null,
            "border": null,
            "align_items": null,
            "bottom": null,
            "_model_module": "@jupyter-widgets/base",
            "top": null,
            "grid_column": null,
            "overflow_y": null,
            "overflow_x": null,
            "grid_auto_flow": null,
            "grid_area": null,
            "grid_template_columns": null,
            "flex": null,
            "_model_name": "LayoutModel",
            "justify_items": null,
            "grid_row": null,
            "max_height": null,
            "align_content": null,
            "visibility": null,
            "align_self": null,
            "height": null,
            "min_height": null,
            "padding": null,
            "grid_auto_rows": null,
            "grid_gap": null,
            "max_width": null,
            "order": null,
            "_view_module_version": "1.2.0",
            "grid_template_areas": null,
            "object_position": null,
            "object_fit": null,
            "grid_auto_columns": null,
            "margin": null,
            "display": null,
            "left": null
          }
        },
        "a1bb123e853440a088dc83f1f8b59556": {
          "model_module": "@jupyter-widgets/controls",
          "model_name": "FloatProgressModel",
          "state": {
            "_view_name": "ProgressView",
            "style": "IPY_MODEL_e0277e3bf8574869b115203671361d0f",
            "_dom_classes": [],
            "description": "100%",
            "_model_name": "FloatProgressModel",
            "bar_style": "success",
            "max": 1273,
            "_view_module": "@jupyter-widgets/controls",
            "_model_module_version": "1.5.0",
            "value": 1273,
            "_view_count": null,
            "_view_module_version": "1.5.0",
            "orientation": "horizontal",
            "min": 0,
            "description_tooltip": null,
            "_model_module": "@jupyter-widgets/controls",
            "layout": "IPY_MODEL_14db90e85e414f5e97e9100b675d11c2"
          }
        },
        "50f7197fa2fe47f2921c9e2e682d825b": {
          "model_module": "@jupyter-widgets/controls",
          "model_name": "HTMLModel",
          "state": {
            "_view_name": "HTMLView",
            "style": "IPY_MODEL_ce1e2d1f34c74b11b3297fbeca972a6f",
            "_dom_classes": [],
            "description": "",
            "_model_name": "HTMLModel",
            "placeholder": "​",
            "_view_module": "@jupyter-widgets/controls",
            "_model_module_version": "1.5.0",
            "value": " 1273/1273 [00:18&lt;00:00, 69.82it/s]",
            "_view_count": null,
            "_view_module_version": "1.5.0",
            "description_tooltip": null,
            "_model_module": "@jupyter-widgets/controls",
            "layout": "IPY_MODEL_95014d0de43c4bb28f2bc86b84189e77"
          }
        },
        "e0277e3bf8574869b115203671361d0f": {
          "model_module": "@jupyter-widgets/controls",
          "model_name": "ProgressStyleModel",
          "state": {
            "_view_name": "StyleView",
            "_model_name": "ProgressStyleModel",
            "description_width": "initial",
            "_view_module": "@jupyter-widgets/base",
            "_model_module_version": "1.5.0",
            "_view_count": null,
            "_view_module_version": "1.2.0",
            "bar_color": null,
            "_model_module": "@jupyter-widgets/controls"
          }
        },
        "14db90e85e414f5e97e9100b675d11c2": {
          "model_module": "@jupyter-widgets/base",
          "model_name": "LayoutModel",
          "state": {
            "_view_name": "LayoutView",
            "grid_template_rows": null,
            "right": null,
            "justify_content": null,
            "_view_module": "@jupyter-widgets/base",
            "overflow": null,
            "_model_module_version": "1.2.0",
            "_view_count": null,
            "flex_flow": null,
            "width": null,
            "min_width": null,
            "border": null,
            "align_items": null,
            "bottom": null,
            "_model_module": "@jupyter-widgets/base",
            "top": null,
            "grid_column": null,
            "overflow_y": null,
            "overflow_x": null,
            "grid_auto_flow": null,
            "grid_area": null,
            "grid_template_columns": null,
            "flex": null,
            "_model_name": "LayoutModel",
            "justify_items": null,
            "grid_row": null,
            "max_height": null,
            "align_content": null,
            "visibility": null,
            "align_self": null,
            "height": null,
            "min_height": null,
            "padding": null,
            "grid_auto_rows": null,
            "grid_gap": null,
            "max_width": null,
            "order": null,
            "_view_module_version": "1.2.0",
            "grid_template_areas": null,
            "object_position": null,
            "object_fit": null,
            "grid_auto_columns": null,
            "margin": null,
            "display": null,
            "left": null
          }
        },
        "ce1e2d1f34c74b11b3297fbeca972a6f": {
          "model_module": "@jupyter-widgets/controls",
          "model_name": "DescriptionStyleModel",
          "state": {
            "_view_name": "StyleView",
            "_model_name": "DescriptionStyleModel",
            "description_width": "",
            "_view_module": "@jupyter-widgets/base",
            "_model_module_version": "1.5.0",
            "_view_count": null,
            "_view_module_version": "1.2.0",
            "_model_module": "@jupyter-widgets/controls"
          }
        },
        "95014d0de43c4bb28f2bc86b84189e77": {
          "model_module": "@jupyter-widgets/base",
          "model_name": "LayoutModel",
          "state": {
            "_view_name": "LayoutView",
            "grid_template_rows": null,
            "right": null,
            "justify_content": null,
            "_view_module": "@jupyter-widgets/base",
            "overflow": null,
            "_model_module_version": "1.2.0",
            "_view_count": null,
            "flex_flow": null,
            "width": null,
            "min_width": null,
            "border": null,
            "align_items": null,
            "bottom": null,
            "_model_module": "@jupyter-widgets/base",
            "top": null,
            "grid_column": null,
            "overflow_y": null,
            "overflow_x": null,
            "grid_auto_flow": null,
            "grid_area": null,
            "grid_template_columns": null,
            "flex": null,
            "_model_name": "LayoutModel",
            "justify_items": null,
            "grid_row": null,
            "max_height": null,
            "align_content": null,
            "visibility": null,
            "align_self": null,
            "height": null,
            "min_height": null,
            "padding": null,
            "grid_auto_rows": null,
            "grid_gap": null,
            "max_width": null,
            "order": null,
            "_view_module_version": "1.2.0",
            "grid_template_areas": null,
            "object_position": null,
            "object_fit": null,
            "grid_auto_columns": null,
            "margin": null,
            "display": null,
            "left": null
          }
        },
        "7e2a2fa740344dd7b1254dca702adbb1": {
          "model_module": "@jupyter-widgets/controls",
          "model_name": "HBoxModel",
          "state": {
            "_view_name": "HBoxView",
            "_dom_classes": [],
            "_model_name": "HBoxModel",
            "_view_module": "@jupyter-widgets/controls",
            "_model_module_version": "1.5.0",
            "_view_count": null,
            "_view_module_version": "1.5.0",
            "box_style": "",
            "layout": "IPY_MODEL_2a02d6a1d9bd47548242d70df9a8de84",
            "_model_module": "@jupyter-widgets/controls",
            "children": [
              "IPY_MODEL_979b6e75ce784d17a8887966f710ea89",
              "IPY_MODEL_b10f4fda321344b78104b08c6bf9611e"
            ]
          }
        },
        "2a02d6a1d9bd47548242d70df9a8de84": {
          "model_module": "@jupyter-widgets/base",
          "model_name": "LayoutModel",
          "state": {
            "_view_name": "LayoutView",
            "grid_template_rows": null,
            "right": null,
            "justify_content": null,
            "_view_module": "@jupyter-widgets/base",
            "overflow": null,
            "_model_module_version": "1.2.0",
            "_view_count": null,
            "flex_flow": null,
            "width": null,
            "min_width": null,
            "border": null,
            "align_items": null,
            "bottom": null,
            "_model_module": "@jupyter-widgets/base",
            "top": null,
            "grid_column": null,
            "overflow_y": null,
            "overflow_x": null,
            "grid_auto_flow": null,
            "grid_area": null,
            "grid_template_columns": null,
            "flex": null,
            "_model_name": "LayoutModel",
            "justify_items": null,
            "grid_row": null,
            "max_height": null,
            "align_content": null,
            "visibility": null,
            "align_self": null,
            "height": null,
            "min_height": null,
            "padding": null,
            "grid_auto_rows": null,
            "grid_gap": null,
            "max_width": null,
            "order": null,
            "_view_module_version": "1.2.0",
            "grid_template_areas": null,
            "object_position": null,
            "object_fit": null,
            "grid_auto_columns": null,
            "margin": null,
            "display": null,
            "left": null
          }
        },
        "979b6e75ce784d17a8887966f710ea89": {
          "model_module": "@jupyter-widgets/controls",
          "model_name": "FloatProgressModel",
          "state": {
            "_view_name": "ProgressView",
            "style": "IPY_MODEL_86fc4048efce4d6092a7259b1e8ce8b2",
            "_dom_classes": [],
            "description": "100%",
            "_model_name": "FloatProgressModel",
            "bar_style": "success",
            "max": 363,
            "_view_module": "@jupyter-widgets/controls",
            "_model_module_version": "1.5.0",
            "value": 363,
            "_view_count": null,
            "_view_module_version": "1.5.0",
            "orientation": "horizontal",
            "min": 0,
            "description_tooltip": null,
            "_model_module": "@jupyter-widgets/controls",
            "layout": "IPY_MODEL_902a5add7b9049ebb440eaee85494138"
          }
        },
        "b10f4fda321344b78104b08c6bf9611e": {
          "model_module": "@jupyter-widgets/controls",
          "model_name": "HTMLModel",
          "state": {
            "_view_name": "HTMLView",
            "style": "IPY_MODEL_075ed05c4f264dc381d24530f78062be",
            "_dom_classes": [],
            "description": "",
            "_model_name": "HTMLModel",
            "placeholder": "​",
            "_view_module": "@jupyter-widgets/controls",
            "_model_module_version": "1.5.0",
            "value": " 363/363 [00:03&lt;00:00, 96.16it/s]",
            "_view_count": null,
            "_view_module_version": "1.5.0",
            "description_tooltip": null,
            "_model_module": "@jupyter-widgets/controls",
            "layout": "IPY_MODEL_878d31ad1e4e4f23a0ed6687759fabf2"
          }
        },
        "86fc4048efce4d6092a7259b1e8ce8b2": {
          "model_module": "@jupyter-widgets/controls",
          "model_name": "ProgressStyleModel",
          "state": {
            "_view_name": "StyleView",
            "_model_name": "ProgressStyleModel",
            "description_width": "initial",
            "_view_module": "@jupyter-widgets/base",
            "_model_module_version": "1.5.0",
            "_view_count": null,
            "_view_module_version": "1.2.0",
            "bar_color": null,
            "_model_module": "@jupyter-widgets/controls"
          }
        },
        "902a5add7b9049ebb440eaee85494138": {
          "model_module": "@jupyter-widgets/base",
          "model_name": "LayoutModel",
          "state": {
            "_view_name": "LayoutView",
            "grid_template_rows": null,
            "right": null,
            "justify_content": null,
            "_view_module": "@jupyter-widgets/base",
            "overflow": null,
            "_model_module_version": "1.2.0",
            "_view_count": null,
            "flex_flow": null,
            "width": null,
            "min_width": null,
            "border": null,
            "align_items": null,
            "bottom": null,
            "_model_module": "@jupyter-widgets/base",
            "top": null,
            "grid_column": null,
            "overflow_y": null,
            "overflow_x": null,
            "grid_auto_flow": null,
            "grid_area": null,
            "grid_template_columns": null,
            "flex": null,
            "_model_name": "LayoutModel",
            "justify_items": null,
            "grid_row": null,
            "max_height": null,
            "align_content": null,
            "visibility": null,
            "align_self": null,
            "height": null,
            "min_height": null,
            "padding": null,
            "grid_auto_rows": null,
            "grid_gap": null,
            "max_width": null,
            "order": null,
            "_view_module_version": "1.2.0",
            "grid_template_areas": null,
            "object_position": null,
            "object_fit": null,
            "grid_auto_columns": null,
            "margin": null,
            "display": null,
            "left": null
          }
        },
        "075ed05c4f264dc381d24530f78062be": {
          "model_module": "@jupyter-widgets/controls",
          "model_name": "DescriptionStyleModel",
          "state": {
            "_view_name": "StyleView",
            "_model_name": "DescriptionStyleModel",
            "description_width": "",
            "_view_module": "@jupyter-widgets/base",
            "_model_module_version": "1.5.0",
            "_view_count": null,
            "_view_module_version": "1.2.0",
            "_model_module": "@jupyter-widgets/controls"
          }
        },
        "878d31ad1e4e4f23a0ed6687759fabf2": {
          "model_module": "@jupyter-widgets/base",
          "model_name": "LayoutModel",
          "state": {
            "_view_name": "LayoutView",
            "grid_template_rows": null,
            "right": null,
            "justify_content": null,
            "_view_module": "@jupyter-widgets/base",
            "overflow": null,
            "_model_module_version": "1.2.0",
            "_view_count": null,
            "flex_flow": null,
            "width": null,
            "min_width": null,
            "border": null,
            "align_items": null,
            "bottom": null,
            "_model_module": "@jupyter-widgets/base",
            "top": null,
            "grid_column": null,
            "overflow_y": null,
            "overflow_x": null,
            "grid_auto_flow": null,
            "grid_area": null,
            "grid_template_columns": null,
            "flex": null,
            "_model_name": "LayoutModel",
            "justify_items": null,
            "grid_row": null,
            "max_height": null,
            "align_content": null,
            "visibility": null,
            "align_self": null,
            "height": null,
            "min_height": null,
            "padding": null,
            "grid_auto_rows": null,
            "grid_gap": null,
            "max_width": null,
            "order": null,
            "_view_module_version": "1.2.0",
            "grid_template_areas": null,
            "object_position": null,
            "object_fit": null,
            "grid_auto_columns": null,
            "margin": null,
            "display": null,
            "left": null
          }
        },
        "13a3b77580644f8281cac2a4467fe4a2": {
          "model_module": "@jupyter-widgets/controls",
          "model_name": "HBoxModel",
          "state": {
            "_view_name": "HBoxView",
            "_dom_classes": [],
            "_model_name": "HBoxModel",
            "_view_module": "@jupyter-widgets/controls",
            "_model_module_version": "1.5.0",
            "_view_count": null,
            "_view_module_version": "1.5.0",
            "box_style": "",
            "layout": "IPY_MODEL_2608f96709aa43a0b8732e0e8535f640",
            "_model_module": "@jupyter-widgets/controls",
            "children": [
              "IPY_MODEL_58aa5916f0974e889c0b84fe8bc54593",
              "IPY_MODEL_a18d964614f04d568bd792f0ec21c784"
            ]
          }
        },
        "2608f96709aa43a0b8732e0e8535f640": {
          "model_module": "@jupyter-widgets/base",
          "model_name": "LayoutModel",
          "state": {
            "_view_name": "LayoutView",
            "grid_template_rows": null,
            "right": null,
            "justify_content": null,
            "_view_module": "@jupyter-widgets/base",
            "overflow": null,
            "_model_module_version": "1.2.0",
            "_view_count": null,
            "flex_flow": null,
            "width": null,
            "min_width": null,
            "border": null,
            "align_items": null,
            "bottom": null,
            "_model_module": "@jupyter-widgets/base",
            "top": null,
            "grid_column": null,
            "overflow_y": null,
            "overflow_x": null,
            "grid_auto_flow": null,
            "grid_area": null,
            "grid_template_columns": null,
            "flex": null,
            "_model_name": "LayoutModel",
            "justify_items": null,
            "grid_row": null,
            "max_height": null,
            "align_content": null,
            "visibility": null,
            "align_self": null,
            "height": null,
            "min_height": null,
            "padding": null,
            "grid_auto_rows": null,
            "grid_gap": null,
            "max_width": null,
            "order": null,
            "_view_module_version": "1.2.0",
            "grid_template_areas": null,
            "object_position": null,
            "object_fit": null,
            "grid_auto_columns": null,
            "margin": null,
            "display": null,
            "left": null
          }
        },
        "58aa5916f0974e889c0b84fe8bc54593": {
          "model_module": "@jupyter-widgets/controls",
          "model_name": "FloatProgressModel",
          "state": {
            "_view_name": "ProgressView",
            "style": "IPY_MODEL_5527aa99e8444408aed10fb9d6c3e4b7",
            "_dom_classes": [],
            "description": "100%",
            "_model_name": "FloatProgressModel",
            "bar_style": "success",
            "max": 365,
            "_view_module": "@jupyter-widgets/controls",
            "_model_module_version": "1.5.0",
            "value": 365,
            "_view_count": null,
            "_view_module_version": "1.5.0",
            "orientation": "horizontal",
            "min": 0,
            "description_tooltip": null,
            "_model_module": "@jupyter-widgets/controls",
            "layout": "IPY_MODEL_b2b4509425244ba19609501ef316b454"
          }
        },
        "a18d964614f04d568bd792f0ec21c784": {
          "model_module": "@jupyter-widgets/controls",
          "model_name": "HTMLModel",
          "state": {
            "_view_name": "HTMLView",
            "style": "IPY_MODEL_d9608d0ca66e494f83496121bef669dd",
            "_dom_classes": [],
            "description": "",
            "_model_name": "HTMLModel",
            "placeholder": "​",
            "_view_module": "@jupyter-widgets/controls",
            "_model_module_version": "1.5.0",
            "value": " 365/365 [00:02&lt;00:00, 142.23it/s]",
            "_view_count": null,
            "_view_module_version": "1.5.0",
            "description_tooltip": null,
            "_model_module": "@jupyter-widgets/controls",
            "layout": "IPY_MODEL_2fd78eeb26aa4e3c813665675b450d83"
          }
        },
        "5527aa99e8444408aed10fb9d6c3e4b7": {
          "model_module": "@jupyter-widgets/controls",
          "model_name": "ProgressStyleModel",
          "state": {
            "_view_name": "StyleView",
            "_model_name": "ProgressStyleModel",
            "description_width": "initial",
            "_view_module": "@jupyter-widgets/base",
            "_model_module_version": "1.5.0",
            "_view_count": null,
            "_view_module_version": "1.2.0",
            "bar_color": null,
            "_model_module": "@jupyter-widgets/controls"
          }
        },
        "b2b4509425244ba19609501ef316b454": {
          "model_module": "@jupyter-widgets/base",
          "model_name": "LayoutModel",
          "state": {
            "_view_name": "LayoutView",
            "grid_template_rows": null,
            "right": null,
            "justify_content": null,
            "_view_module": "@jupyter-widgets/base",
            "overflow": null,
            "_model_module_version": "1.2.0",
            "_view_count": null,
            "flex_flow": null,
            "width": null,
            "min_width": null,
            "border": null,
            "align_items": null,
            "bottom": null,
            "_model_module": "@jupyter-widgets/base",
            "top": null,
            "grid_column": null,
            "overflow_y": null,
            "overflow_x": null,
            "grid_auto_flow": null,
            "grid_area": null,
            "grid_template_columns": null,
            "flex": null,
            "_model_name": "LayoutModel",
            "justify_items": null,
            "grid_row": null,
            "max_height": null,
            "align_content": null,
            "visibility": null,
            "align_self": null,
            "height": null,
            "min_height": null,
            "padding": null,
            "grid_auto_rows": null,
            "grid_gap": null,
            "max_width": null,
            "order": null,
            "_view_module_version": "1.2.0",
            "grid_template_areas": null,
            "object_position": null,
            "object_fit": null,
            "grid_auto_columns": null,
            "margin": null,
            "display": null,
            "left": null
          }
        },
        "d9608d0ca66e494f83496121bef669dd": {
          "model_module": "@jupyter-widgets/controls",
          "model_name": "DescriptionStyleModel",
          "state": {
            "_view_name": "StyleView",
            "_model_name": "DescriptionStyleModel",
            "description_width": "",
            "_view_module": "@jupyter-widgets/base",
            "_model_module_version": "1.5.0",
            "_view_count": null,
            "_view_module_version": "1.2.0",
            "_model_module": "@jupyter-widgets/controls"
          }
        },
        "2fd78eeb26aa4e3c813665675b450d83": {
          "model_module": "@jupyter-widgets/base",
          "model_name": "LayoutModel",
          "state": {
            "_view_name": "LayoutView",
            "grid_template_rows": null,
            "right": null,
            "justify_content": null,
            "_view_module": "@jupyter-widgets/base",
            "overflow": null,
            "_model_module_version": "1.2.0",
            "_view_count": null,
            "flex_flow": null,
            "width": null,
            "min_width": null,
            "border": null,
            "align_items": null,
            "bottom": null,
            "_model_module": "@jupyter-widgets/base",
            "top": null,
            "grid_column": null,
            "overflow_y": null,
            "overflow_x": null,
            "grid_auto_flow": null,
            "grid_area": null,
            "grid_template_columns": null,
            "flex": null,
            "_model_name": "LayoutModel",
            "justify_items": null,
            "grid_row": null,
            "max_height": null,
            "align_content": null,
            "visibility": null,
            "align_self": null,
            "height": null,
            "min_height": null,
            "padding": null,
            "grid_auto_rows": null,
            "grid_gap": null,
            "max_width": null,
            "order": null,
            "_view_module_version": "1.2.0",
            "grid_template_areas": null,
            "object_position": null,
            "object_fit": null,
            "grid_auto_columns": null,
            "margin": null,
            "display": null,
            "left": null
          }
        },
        "d49bba8e863e4ef78242c9f0b6690bbb": {
          "model_module": "@jupyter-widgets/controls",
          "model_name": "HBoxModel",
          "state": {
            "_view_name": "HBoxView",
            "_dom_classes": [],
            "_model_name": "HBoxModel",
            "_view_module": "@jupyter-widgets/controls",
            "_model_module_version": "1.5.0",
            "_view_count": null,
            "_view_module_version": "1.5.0",
            "box_style": "",
            "layout": "IPY_MODEL_774acf3f122742a88bb07b22e1838203",
            "_model_module": "@jupyter-widgets/controls",
            "children": [
              "IPY_MODEL_17bf3c79e3bb4d1eb95f2fc5a82af063",
              "IPY_MODEL_8fd2c34b010d4c86bf1cf3597d3515e1"
            ]
          }
        },
        "774acf3f122742a88bb07b22e1838203": {
          "model_module": "@jupyter-widgets/base",
          "model_name": "LayoutModel",
          "state": {
            "_view_name": "LayoutView",
            "grid_template_rows": null,
            "right": null,
            "justify_content": null,
            "_view_module": "@jupyter-widgets/base",
            "overflow": null,
            "_model_module_version": "1.2.0",
            "_view_count": null,
            "flex_flow": null,
            "width": null,
            "min_width": null,
            "border": null,
            "align_items": null,
            "bottom": null,
            "_model_module": "@jupyter-widgets/base",
            "top": null,
            "grid_column": null,
            "overflow_y": null,
            "overflow_x": null,
            "grid_auto_flow": null,
            "grid_area": null,
            "grid_template_columns": null,
            "flex": null,
            "_model_name": "LayoutModel",
            "justify_items": null,
            "grid_row": null,
            "max_height": null,
            "align_content": null,
            "visibility": null,
            "align_self": null,
            "height": null,
            "min_height": null,
            "padding": null,
            "grid_auto_rows": null,
            "grid_gap": null,
            "max_width": null,
            "order": null,
            "_view_module_version": "1.2.0",
            "grid_template_areas": null,
            "object_position": null,
            "object_fit": null,
            "grid_auto_columns": null,
            "margin": null,
            "display": null,
            "left": null
          }
        },
        "17bf3c79e3bb4d1eb95f2fc5a82af063": {
          "model_module": "@jupyter-widgets/controls",
          "model_name": "FloatProgressModel",
          "state": {
            "_view_name": "ProgressView",
            "style": "IPY_MODEL_0f94c3735ff94626a9d83924ff666bc1",
            "_dom_classes": [],
            "description": "100%",
            "_model_name": "FloatProgressModel",
            "bar_style": "success",
            "max": 363,
            "_view_module": "@jupyter-widgets/controls",
            "_model_module_version": "1.5.0",
            "value": 363,
            "_view_count": null,
            "_view_module_version": "1.5.0",
            "orientation": "horizontal",
            "min": 0,
            "description_tooltip": null,
            "_model_module": "@jupyter-widgets/controls",
            "layout": "IPY_MODEL_b3cf78d5b94644e0847b76273b0cce5d"
          }
        },
        "8fd2c34b010d4c86bf1cf3597d3515e1": {
          "model_module": "@jupyter-widgets/controls",
          "model_name": "HTMLModel",
          "state": {
            "_view_name": "HTMLView",
            "style": "IPY_MODEL_da67ff762c904a14b855814a1cb97cdd",
            "_dom_classes": [],
            "description": "",
            "_model_name": "HTMLModel",
            "placeholder": "​",
            "_view_module": "@jupyter-widgets/controls",
            "_model_module_version": "1.5.0",
            "value": " 363/363 [00:01&lt;00:00, 275.85it/s]",
            "_view_count": null,
            "_view_module_version": "1.5.0",
            "description_tooltip": null,
            "_model_module": "@jupyter-widgets/controls",
            "layout": "IPY_MODEL_7fefc2ccc1bd419485fd8c2d42945450"
          }
        },
        "0f94c3735ff94626a9d83924ff666bc1": {
          "model_module": "@jupyter-widgets/controls",
          "model_name": "ProgressStyleModel",
          "state": {
            "_view_name": "StyleView",
            "_model_name": "ProgressStyleModel",
            "description_width": "initial",
            "_view_module": "@jupyter-widgets/base",
            "_model_module_version": "1.5.0",
            "_view_count": null,
            "_view_module_version": "1.2.0",
            "bar_color": null,
            "_model_module": "@jupyter-widgets/controls"
          }
        },
        "b3cf78d5b94644e0847b76273b0cce5d": {
          "model_module": "@jupyter-widgets/base",
          "model_name": "LayoutModel",
          "state": {
            "_view_name": "LayoutView",
            "grid_template_rows": null,
            "right": null,
            "justify_content": null,
            "_view_module": "@jupyter-widgets/base",
            "overflow": null,
            "_model_module_version": "1.2.0",
            "_view_count": null,
            "flex_flow": null,
            "width": null,
            "min_width": null,
            "border": null,
            "align_items": null,
            "bottom": null,
            "_model_module": "@jupyter-widgets/base",
            "top": null,
            "grid_column": null,
            "overflow_y": null,
            "overflow_x": null,
            "grid_auto_flow": null,
            "grid_area": null,
            "grid_template_columns": null,
            "flex": null,
            "_model_name": "LayoutModel",
            "justify_items": null,
            "grid_row": null,
            "max_height": null,
            "align_content": null,
            "visibility": null,
            "align_self": null,
            "height": null,
            "min_height": null,
            "padding": null,
            "grid_auto_rows": null,
            "grid_gap": null,
            "max_width": null,
            "order": null,
            "_view_module_version": "1.2.0",
            "grid_template_areas": null,
            "object_position": null,
            "object_fit": null,
            "grid_auto_columns": null,
            "margin": null,
            "display": null,
            "left": null
          }
        },
        "da67ff762c904a14b855814a1cb97cdd": {
          "model_module": "@jupyter-widgets/controls",
          "model_name": "DescriptionStyleModel",
          "state": {
            "_view_name": "StyleView",
            "_model_name": "DescriptionStyleModel",
            "description_width": "",
            "_view_module": "@jupyter-widgets/base",
            "_model_module_version": "1.5.0",
            "_view_count": null,
            "_view_module_version": "1.2.0",
            "_model_module": "@jupyter-widgets/controls"
          }
        },
        "7fefc2ccc1bd419485fd8c2d42945450": {
          "model_module": "@jupyter-widgets/base",
          "model_name": "LayoutModel",
          "state": {
            "_view_name": "LayoutView",
            "grid_template_rows": null,
            "right": null,
            "justify_content": null,
            "_view_module": "@jupyter-widgets/base",
            "overflow": null,
            "_model_module_version": "1.2.0",
            "_view_count": null,
            "flex_flow": null,
            "width": null,
            "min_width": null,
            "border": null,
            "align_items": null,
            "bottom": null,
            "_model_module": "@jupyter-widgets/base",
            "top": null,
            "grid_column": null,
            "overflow_y": null,
            "overflow_x": null,
            "grid_auto_flow": null,
            "grid_area": null,
            "grid_template_columns": null,
            "flex": null,
            "_model_name": "LayoutModel",
            "justify_items": null,
            "grid_row": null,
            "max_height": null,
            "align_content": null,
            "visibility": null,
            "align_self": null,
            "height": null,
            "min_height": null,
            "padding": null,
            "grid_auto_rows": null,
            "grid_gap": null,
            "max_width": null,
            "order": null,
            "_view_module_version": "1.2.0",
            "grid_template_areas": null,
            "object_position": null,
            "object_fit": null,
            "grid_auto_columns": null,
            "margin": null,
            "display": null,
            "left": null
          }
        },
        "52a8795b9ff8491ca185c3a047bf2d65": {
          "model_module": "@jupyter-widgets/controls",
          "model_name": "HBoxModel",
          "state": {
            "_view_name": "HBoxView",
            "_dom_classes": [],
            "_model_name": "HBoxModel",
            "_view_module": "@jupyter-widgets/controls",
            "_model_module_version": "1.5.0",
            "_view_count": null,
            "_view_module_version": "1.5.0",
            "box_style": "",
            "layout": "IPY_MODEL_8b48334fbb764c13909df4827582b288",
            "_model_module": "@jupyter-widgets/controls",
            "children": [
              "IPY_MODEL_b3f1950649ec4f2e8cfb54209f204ec9",
              "IPY_MODEL_e481e5be5eb44c3b86aeaa6bdc045a02"
            ]
          }
        },
        "8b48334fbb764c13909df4827582b288": {
          "model_module": "@jupyter-widgets/base",
          "model_name": "LayoutModel",
          "state": {
            "_view_name": "LayoutView",
            "grid_template_rows": null,
            "right": null,
            "justify_content": null,
            "_view_module": "@jupyter-widgets/base",
            "overflow": null,
            "_model_module_version": "1.2.0",
            "_view_count": null,
            "flex_flow": null,
            "width": null,
            "min_width": null,
            "border": null,
            "align_items": null,
            "bottom": null,
            "_model_module": "@jupyter-widgets/base",
            "top": null,
            "grid_column": null,
            "overflow_y": null,
            "overflow_x": null,
            "grid_auto_flow": null,
            "grid_area": null,
            "grid_template_columns": null,
            "flex": null,
            "_model_name": "LayoutModel",
            "justify_items": null,
            "grid_row": null,
            "max_height": null,
            "align_content": null,
            "visibility": null,
            "align_self": null,
            "height": null,
            "min_height": null,
            "padding": null,
            "grid_auto_rows": null,
            "grid_gap": null,
            "max_width": null,
            "order": null,
            "_view_module_version": "1.2.0",
            "grid_template_areas": null,
            "object_position": null,
            "object_fit": null,
            "grid_auto_columns": null,
            "margin": null,
            "display": null,
            "left": null
          }
        },
        "b3f1950649ec4f2e8cfb54209f204ec9": {
          "model_module": "@jupyter-widgets/controls",
          "model_name": "FloatProgressModel",
          "state": {
            "_view_name": "ProgressView",
            "style": "IPY_MODEL_983dc880564b4be1a5077f3396032cac",
            "_dom_classes": [],
            "description": "100%",
            "_model_name": "FloatProgressModel",
            "bar_style": "success",
            "max": 364,
            "_view_module": "@jupyter-widgets/controls",
            "_model_module_version": "1.5.0",
            "value": 364,
            "_view_count": null,
            "_view_module_version": "1.5.0",
            "orientation": "horizontal",
            "min": 0,
            "description_tooltip": null,
            "_model_module": "@jupyter-widgets/controls",
            "layout": "IPY_MODEL_9e90a8d2da9745389d8e321cfdd8202b"
          }
        },
        "e481e5be5eb44c3b86aeaa6bdc045a02": {
          "model_module": "@jupyter-widgets/controls",
          "model_name": "HTMLModel",
          "state": {
            "_view_name": "HTMLView",
            "style": "IPY_MODEL_5672124576fe4feeb43f43dbcc0bc795",
            "_dom_classes": [],
            "description": "",
            "_model_name": "HTMLModel",
            "placeholder": "​",
            "_view_module": "@jupyter-widgets/controls",
            "_model_module_version": "1.5.0",
            "value": " 364/364 [00:10&lt;00:00, 35.17it/s]",
            "_view_count": null,
            "_view_module_version": "1.5.0",
            "description_tooltip": null,
            "_model_module": "@jupyter-widgets/controls",
            "layout": "IPY_MODEL_2ec79839d6704c9a9e8ab1ae8b0a2780"
          }
        },
        "983dc880564b4be1a5077f3396032cac": {
          "model_module": "@jupyter-widgets/controls",
          "model_name": "ProgressStyleModel",
          "state": {
            "_view_name": "StyleView",
            "_model_name": "ProgressStyleModel",
            "description_width": "initial",
            "_view_module": "@jupyter-widgets/base",
            "_model_module_version": "1.5.0",
            "_view_count": null,
            "_view_module_version": "1.2.0",
            "bar_color": null,
            "_model_module": "@jupyter-widgets/controls"
          }
        },
        "9e90a8d2da9745389d8e321cfdd8202b": {
          "model_module": "@jupyter-widgets/base",
          "model_name": "LayoutModel",
          "state": {
            "_view_name": "LayoutView",
            "grid_template_rows": null,
            "right": null,
            "justify_content": null,
            "_view_module": "@jupyter-widgets/base",
            "overflow": null,
            "_model_module_version": "1.2.0",
            "_view_count": null,
            "flex_flow": null,
            "width": null,
            "min_width": null,
            "border": null,
            "align_items": null,
            "bottom": null,
            "_model_module": "@jupyter-widgets/base",
            "top": null,
            "grid_column": null,
            "overflow_y": null,
            "overflow_x": null,
            "grid_auto_flow": null,
            "grid_area": null,
            "grid_template_columns": null,
            "flex": null,
            "_model_name": "LayoutModel",
            "justify_items": null,
            "grid_row": null,
            "max_height": null,
            "align_content": null,
            "visibility": null,
            "align_self": null,
            "height": null,
            "min_height": null,
            "padding": null,
            "grid_auto_rows": null,
            "grid_gap": null,
            "max_width": null,
            "order": null,
            "_view_module_version": "1.2.0",
            "grid_template_areas": null,
            "object_position": null,
            "object_fit": null,
            "grid_auto_columns": null,
            "margin": null,
            "display": null,
            "left": null
          }
        },
        "5672124576fe4feeb43f43dbcc0bc795": {
          "model_module": "@jupyter-widgets/controls",
          "model_name": "DescriptionStyleModel",
          "state": {
            "_view_name": "StyleView",
            "_model_name": "DescriptionStyleModel",
            "description_width": "",
            "_view_module": "@jupyter-widgets/base",
            "_model_module_version": "1.5.0",
            "_view_count": null,
            "_view_module_version": "1.2.0",
            "_model_module": "@jupyter-widgets/controls"
          }
        },
        "2ec79839d6704c9a9e8ab1ae8b0a2780": {
          "model_module": "@jupyter-widgets/base",
          "model_name": "LayoutModel",
          "state": {
            "_view_name": "LayoutView",
            "grid_template_rows": null,
            "right": null,
            "justify_content": null,
            "_view_module": "@jupyter-widgets/base",
            "overflow": null,
            "_model_module_version": "1.2.0",
            "_view_count": null,
            "flex_flow": null,
            "width": null,
            "min_width": null,
            "border": null,
            "align_items": null,
            "bottom": null,
            "_model_module": "@jupyter-widgets/base",
            "top": null,
            "grid_column": null,
            "overflow_y": null,
            "overflow_x": null,
            "grid_auto_flow": null,
            "grid_area": null,
            "grid_template_columns": null,
            "flex": null,
            "_model_name": "LayoutModel",
            "justify_items": null,
            "grid_row": null,
            "max_height": null,
            "align_content": null,
            "visibility": null,
            "align_self": null,
            "height": null,
            "min_height": null,
            "padding": null,
            "grid_auto_rows": null,
            "grid_gap": null,
            "max_width": null,
            "order": null,
            "_view_module_version": "1.2.0",
            "grid_template_areas": null,
            "object_position": null,
            "object_fit": null,
            "grid_auto_columns": null,
            "margin": null,
            "display": null,
            "left": null
          }
        },
        "590443b6dd104564b1a67fb801598986": {
          "model_module": "@jupyter-widgets/controls",
          "model_name": "HBoxModel",
          "state": {
            "_view_name": "HBoxView",
            "_dom_classes": [],
            "_model_name": "HBoxModel",
            "_view_module": "@jupyter-widgets/controls",
            "_model_module_version": "1.5.0",
            "_view_count": null,
            "_view_module_version": "1.5.0",
            "box_style": "",
            "layout": "IPY_MODEL_6bdc6ee00a2a4499a1a85424407be684",
            "_model_module": "@jupyter-widgets/controls",
            "children": [
              "IPY_MODEL_0a0c9d1a11c84312a60a31621773edfc",
              "IPY_MODEL_8fab3a0240c84566a7fa447247691c23"
            ]
          }
        },
        "6bdc6ee00a2a4499a1a85424407be684": {
          "model_module": "@jupyter-widgets/base",
          "model_name": "LayoutModel",
          "state": {
            "_view_name": "LayoutView",
            "grid_template_rows": null,
            "right": null,
            "justify_content": null,
            "_view_module": "@jupyter-widgets/base",
            "overflow": null,
            "_model_module_version": "1.2.0",
            "_view_count": null,
            "flex_flow": null,
            "width": null,
            "min_width": null,
            "border": null,
            "align_items": null,
            "bottom": null,
            "_model_module": "@jupyter-widgets/base",
            "top": null,
            "grid_column": null,
            "overflow_y": null,
            "overflow_x": null,
            "grid_auto_flow": null,
            "grid_area": null,
            "grid_template_columns": null,
            "flex": null,
            "_model_name": "LayoutModel",
            "justify_items": null,
            "grid_row": null,
            "max_height": null,
            "align_content": null,
            "visibility": null,
            "align_self": null,
            "height": null,
            "min_height": null,
            "padding": null,
            "grid_auto_rows": null,
            "grid_gap": null,
            "max_width": null,
            "order": null,
            "_view_module_version": "1.2.0",
            "grid_template_areas": null,
            "object_position": null,
            "object_fit": null,
            "grid_auto_columns": null,
            "margin": null,
            "display": null,
            "left": null
          }
        },
        "0a0c9d1a11c84312a60a31621773edfc": {
          "model_module": "@jupyter-widgets/controls",
          "model_name": "FloatProgressModel",
          "state": {
            "_view_name": "ProgressView",
            "style": "IPY_MODEL_3869a7622b224eccaa84e2d207deae84",
            "_dom_classes": [],
            "description": "100%",
            "_model_name": "FloatProgressModel",
            "bar_style": "success",
            "max": 363,
            "_view_module": "@jupyter-widgets/controls",
            "_model_module_version": "1.5.0",
            "value": 363,
            "_view_count": null,
            "_view_module_version": "1.5.0",
            "orientation": "horizontal",
            "min": 0,
            "description_tooltip": null,
            "_model_module": "@jupyter-widgets/controls",
            "layout": "IPY_MODEL_d4ad0265ef274e96933e876b5e83ff63"
          }
        },
        "8fab3a0240c84566a7fa447247691c23": {
          "model_module": "@jupyter-widgets/controls",
          "model_name": "HTMLModel",
          "state": {
            "_view_name": "HTMLView",
            "style": "IPY_MODEL_2646e3d202164a0782e6f411fac5fb99",
            "_dom_classes": [],
            "description": "",
            "_model_name": "HTMLModel",
            "placeholder": "​",
            "_view_module": "@jupyter-widgets/controls",
            "_model_module_version": "1.5.0",
            "value": " 363/363 [00:02&lt;00:00, 138.99it/s]",
            "_view_count": null,
            "_view_module_version": "1.5.0",
            "description_tooltip": null,
            "_model_module": "@jupyter-widgets/controls",
            "layout": "IPY_MODEL_cd8983b9423145de8d951cd78ab5eb89"
          }
        },
        "3869a7622b224eccaa84e2d207deae84": {
          "model_module": "@jupyter-widgets/controls",
          "model_name": "ProgressStyleModel",
          "state": {
            "_view_name": "StyleView",
            "_model_name": "ProgressStyleModel",
            "description_width": "initial",
            "_view_module": "@jupyter-widgets/base",
            "_model_module_version": "1.5.0",
            "_view_count": null,
            "_view_module_version": "1.2.0",
            "bar_color": null,
            "_model_module": "@jupyter-widgets/controls"
          }
        },
        "d4ad0265ef274e96933e876b5e83ff63": {
          "model_module": "@jupyter-widgets/base",
          "model_name": "LayoutModel",
          "state": {
            "_view_name": "LayoutView",
            "grid_template_rows": null,
            "right": null,
            "justify_content": null,
            "_view_module": "@jupyter-widgets/base",
            "overflow": null,
            "_model_module_version": "1.2.0",
            "_view_count": null,
            "flex_flow": null,
            "width": null,
            "min_width": null,
            "border": null,
            "align_items": null,
            "bottom": null,
            "_model_module": "@jupyter-widgets/base",
            "top": null,
            "grid_column": null,
            "overflow_y": null,
            "overflow_x": null,
            "grid_auto_flow": null,
            "grid_area": null,
            "grid_template_columns": null,
            "flex": null,
            "_model_name": "LayoutModel",
            "justify_items": null,
            "grid_row": null,
            "max_height": null,
            "align_content": null,
            "visibility": null,
            "align_self": null,
            "height": null,
            "min_height": null,
            "padding": null,
            "grid_auto_rows": null,
            "grid_gap": null,
            "max_width": null,
            "order": null,
            "_view_module_version": "1.2.0",
            "grid_template_areas": null,
            "object_position": null,
            "object_fit": null,
            "grid_auto_columns": null,
            "margin": null,
            "display": null,
            "left": null
          }
        },
        "2646e3d202164a0782e6f411fac5fb99": {
          "model_module": "@jupyter-widgets/controls",
          "model_name": "DescriptionStyleModel",
          "state": {
            "_view_name": "StyleView",
            "_model_name": "DescriptionStyleModel",
            "description_width": "",
            "_view_module": "@jupyter-widgets/base",
            "_model_module_version": "1.5.0",
            "_view_count": null,
            "_view_module_version": "1.2.0",
            "_model_module": "@jupyter-widgets/controls"
          }
        },
        "cd8983b9423145de8d951cd78ab5eb89": {
          "model_module": "@jupyter-widgets/base",
          "model_name": "LayoutModel",
          "state": {
            "_view_name": "LayoutView",
            "grid_template_rows": null,
            "right": null,
            "justify_content": null,
            "_view_module": "@jupyter-widgets/base",
            "overflow": null,
            "_model_module_version": "1.2.0",
            "_view_count": null,
            "flex_flow": null,
            "width": null,
            "min_width": null,
            "border": null,
            "align_items": null,
            "bottom": null,
            "_model_module": "@jupyter-widgets/base",
            "top": null,
            "grid_column": null,
            "overflow_y": null,
            "overflow_x": null,
            "grid_auto_flow": null,
            "grid_area": null,
            "grid_template_columns": null,
            "flex": null,
            "_model_name": "LayoutModel",
            "justify_items": null,
            "grid_row": null,
            "max_height": null,
            "align_content": null,
            "visibility": null,
            "align_self": null,
            "height": null,
            "min_height": null,
            "padding": null,
            "grid_auto_rows": null,
            "grid_gap": null,
            "max_width": null,
            "order": null,
            "_view_module_version": "1.2.0",
            "grid_template_areas": null,
            "object_position": null,
            "object_fit": null,
            "grid_auto_columns": null,
            "margin": null,
            "display": null,
            "left": null
          }
        },
        "9df28d6458ab4e7cacbdc4fbe6bfa79d": {
          "model_module": "@jupyter-widgets/controls",
          "model_name": "HBoxModel",
          "state": {
            "_view_name": "HBoxView",
            "_dom_classes": [],
            "_model_name": "HBoxModel",
            "_view_module": "@jupyter-widgets/controls",
            "_model_module_version": "1.5.0",
            "_view_count": null,
            "_view_module_version": "1.5.0",
            "box_style": "",
            "layout": "IPY_MODEL_1d67916075d14aa5959ad0351b4ba929",
            "_model_module": "@jupyter-widgets/controls",
            "children": [
              "IPY_MODEL_aacdd2ee182b4217aa74a36f7277f984",
              "IPY_MODEL_a38de73ad8994580b1ee7da5498ee34c"
            ]
          }
        },
        "1d67916075d14aa5959ad0351b4ba929": {
          "model_module": "@jupyter-widgets/base",
          "model_name": "LayoutModel",
          "state": {
            "_view_name": "LayoutView",
            "grid_template_rows": null,
            "right": null,
            "justify_content": null,
            "_view_module": "@jupyter-widgets/base",
            "overflow": null,
            "_model_module_version": "1.2.0",
            "_view_count": null,
            "flex_flow": null,
            "width": null,
            "min_width": null,
            "border": null,
            "align_items": null,
            "bottom": null,
            "_model_module": "@jupyter-widgets/base",
            "top": null,
            "grid_column": null,
            "overflow_y": null,
            "overflow_x": null,
            "grid_auto_flow": null,
            "grid_area": null,
            "grid_template_columns": null,
            "flex": null,
            "_model_name": "LayoutModel",
            "justify_items": null,
            "grid_row": null,
            "max_height": null,
            "align_content": null,
            "visibility": null,
            "align_self": null,
            "height": null,
            "min_height": null,
            "padding": null,
            "grid_auto_rows": null,
            "grid_gap": null,
            "max_width": null,
            "order": null,
            "_view_module_version": "1.2.0",
            "grid_template_areas": null,
            "object_position": null,
            "object_fit": null,
            "grid_auto_columns": null,
            "margin": null,
            "display": null,
            "left": null
          }
        },
        "aacdd2ee182b4217aa74a36f7277f984": {
          "model_module": "@jupyter-widgets/controls",
          "model_name": "FloatProgressModel",
          "state": {
            "_view_name": "ProgressView",
            "style": "IPY_MODEL_980240772a254c049e38baaeaaabeb29",
            "_dom_classes": [],
            "description": "100%",
            "_model_name": "FloatProgressModel",
            "bar_style": "success",
            "max": 363,
            "_view_module": "@jupyter-widgets/controls",
            "_model_module_version": "1.5.0",
            "value": 363,
            "_view_count": null,
            "_view_module_version": "1.5.0",
            "orientation": "horizontal",
            "min": 0,
            "description_tooltip": null,
            "_model_module": "@jupyter-widgets/controls",
            "layout": "IPY_MODEL_e2c4848a122a47339fd75a449e9999a7"
          }
        },
        "a38de73ad8994580b1ee7da5498ee34c": {
          "model_module": "@jupyter-widgets/controls",
          "model_name": "HTMLModel",
          "state": {
            "_view_name": "HTMLView",
            "style": "IPY_MODEL_d9bab347fc6643d8b85a63c61f716b6e",
            "_dom_classes": [],
            "description": "",
            "_model_name": "HTMLModel",
            "placeholder": "​",
            "_view_module": "@jupyter-widgets/controls",
            "_model_module_version": "1.5.0",
            "value": " 363/363 [00:01&lt;00:00, 269.14it/s]",
            "_view_count": null,
            "_view_module_version": "1.5.0",
            "description_tooltip": null,
            "_model_module": "@jupyter-widgets/controls",
            "layout": "IPY_MODEL_603d2df564d54badb60e4c827dbaf671"
          }
        },
        "980240772a254c049e38baaeaaabeb29": {
          "model_module": "@jupyter-widgets/controls",
          "model_name": "ProgressStyleModel",
          "state": {
            "_view_name": "StyleView",
            "_model_name": "ProgressStyleModel",
            "description_width": "initial",
            "_view_module": "@jupyter-widgets/base",
            "_model_module_version": "1.5.0",
            "_view_count": null,
            "_view_module_version": "1.2.0",
            "bar_color": null,
            "_model_module": "@jupyter-widgets/controls"
          }
        },
        "e2c4848a122a47339fd75a449e9999a7": {
          "model_module": "@jupyter-widgets/base",
          "model_name": "LayoutModel",
          "state": {
            "_view_name": "LayoutView",
            "grid_template_rows": null,
            "right": null,
            "justify_content": null,
            "_view_module": "@jupyter-widgets/base",
            "overflow": null,
            "_model_module_version": "1.2.0",
            "_view_count": null,
            "flex_flow": null,
            "width": null,
            "min_width": null,
            "border": null,
            "align_items": null,
            "bottom": null,
            "_model_module": "@jupyter-widgets/base",
            "top": null,
            "grid_column": null,
            "overflow_y": null,
            "overflow_x": null,
            "grid_auto_flow": null,
            "grid_area": null,
            "grid_template_columns": null,
            "flex": null,
            "_model_name": "LayoutModel",
            "justify_items": null,
            "grid_row": null,
            "max_height": null,
            "align_content": null,
            "visibility": null,
            "align_self": null,
            "height": null,
            "min_height": null,
            "padding": null,
            "grid_auto_rows": null,
            "grid_gap": null,
            "max_width": null,
            "order": null,
            "_view_module_version": "1.2.0",
            "grid_template_areas": null,
            "object_position": null,
            "object_fit": null,
            "grid_auto_columns": null,
            "margin": null,
            "display": null,
            "left": null
          }
        },
        "d9bab347fc6643d8b85a63c61f716b6e": {
          "model_module": "@jupyter-widgets/controls",
          "model_name": "DescriptionStyleModel",
          "state": {
            "_view_name": "StyleView",
            "_model_name": "DescriptionStyleModel",
            "description_width": "",
            "_view_module": "@jupyter-widgets/base",
            "_model_module_version": "1.5.0",
            "_view_count": null,
            "_view_module_version": "1.2.0",
            "_model_module": "@jupyter-widgets/controls"
          }
        },
        "603d2df564d54badb60e4c827dbaf671": {
          "model_module": "@jupyter-widgets/base",
          "model_name": "LayoutModel",
          "state": {
            "_view_name": "LayoutView",
            "grid_template_rows": null,
            "right": null,
            "justify_content": null,
            "_view_module": "@jupyter-widgets/base",
            "overflow": null,
            "_model_module_version": "1.2.0",
            "_view_count": null,
            "flex_flow": null,
            "width": null,
            "min_width": null,
            "border": null,
            "align_items": null,
            "bottom": null,
            "_model_module": "@jupyter-widgets/base",
            "top": null,
            "grid_column": null,
            "overflow_y": null,
            "overflow_x": null,
            "grid_auto_flow": null,
            "grid_area": null,
            "grid_template_columns": null,
            "flex": null,
            "_model_name": "LayoutModel",
            "justify_items": null,
            "grid_row": null,
            "max_height": null,
            "align_content": null,
            "visibility": null,
            "align_self": null,
            "height": null,
            "min_height": null,
            "padding": null,
            "grid_auto_rows": null,
            "grid_gap": null,
            "max_width": null,
            "order": null,
            "_view_module_version": "1.2.0",
            "grid_template_areas": null,
            "object_position": null,
            "object_fit": null,
            "grid_auto_columns": null,
            "margin": null,
            "display": null,
            "left": null
          }
        },
        "48bc628a152f46da927dc576635c7a75": {
          "model_module": "@jupyter-widgets/controls",
          "model_name": "HBoxModel",
          "state": {
            "_view_name": "HBoxView",
            "_dom_classes": [],
            "_model_name": "HBoxModel",
            "_view_module": "@jupyter-widgets/controls",
            "_model_module_version": "1.5.0",
            "_view_count": null,
            "_view_module_version": "1.5.0",
            "box_style": "",
            "layout": "IPY_MODEL_1f9375f3689c4ae6bb58c4fad836cda2",
            "_model_module": "@jupyter-widgets/controls",
            "children": [
              "IPY_MODEL_6256dcbea9754d82a164521f050df698",
              "IPY_MODEL_86878f884aba47c891b9bac656624ee9"
            ]
          }
        },
        "1f9375f3689c4ae6bb58c4fad836cda2": {
          "model_module": "@jupyter-widgets/base",
          "model_name": "LayoutModel",
          "state": {
            "_view_name": "LayoutView",
            "grid_template_rows": null,
            "right": null,
            "justify_content": null,
            "_view_module": "@jupyter-widgets/base",
            "overflow": null,
            "_model_module_version": "1.2.0",
            "_view_count": null,
            "flex_flow": null,
            "width": null,
            "min_width": null,
            "border": null,
            "align_items": null,
            "bottom": null,
            "_model_module": "@jupyter-widgets/base",
            "top": null,
            "grid_column": null,
            "overflow_y": null,
            "overflow_x": null,
            "grid_auto_flow": null,
            "grid_area": null,
            "grid_template_columns": null,
            "flex": null,
            "_model_name": "LayoutModel",
            "justify_items": null,
            "grid_row": null,
            "max_height": null,
            "align_content": null,
            "visibility": null,
            "align_self": null,
            "height": null,
            "min_height": null,
            "padding": null,
            "grid_auto_rows": null,
            "grid_gap": null,
            "max_width": null,
            "order": null,
            "_view_module_version": "1.2.0",
            "grid_template_areas": null,
            "object_position": null,
            "object_fit": null,
            "grid_auto_columns": null,
            "margin": null,
            "display": null,
            "left": null
          }
        },
        "6256dcbea9754d82a164521f050df698": {
          "model_module": "@jupyter-widgets/controls",
          "model_name": "FloatProgressModel",
          "state": {
            "_view_name": "ProgressView",
            "style": "IPY_MODEL_33937512e48547deb125bb1037456455",
            "_dom_classes": [],
            "description": "100%",
            "_model_name": "FloatProgressModel",
            "bar_style": "success",
            "max": 1092,
            "_view_module": "@jupyter-widgets/controls",
            "_model_module_version": "1.5.0",
            "value": 1092,
            "_view_count": null,
            "_view_module_version": "1.5.0",
            "orientation": "horizontal",
            "min": 0,
            "description_tooltip": null,
            "_model_module": "@jupyter-widgets/controls",
            "layout": "IPY_MODEL_c69bd687017847f783eb800bed14aa50"
          }
        },
        "86878f884aba47c891b9bac656624ee9": {
          "model_module": "@jupyter-widgets/controls",
          "model_name": "HTMLModel",
          "state": {
            "_view_name": "HTMLView",
            "style": "IPY_MODEL_a1981c9190754d6491749c47685e54ce",
            "_dom_classes": [],
            "description": "",
            "_model_name": "HTMLModel",
            "placeholder": "​",
            "_view_module": "@jupyter-widgets/controls",
            "_model_module_version": "1.5.0",
            "value": " 1092/1092 [00:06&lt;00:00, 168.06it/s]",
            "_view_count": null,
            "_view_module_version": "1.5.0",
            "description_tooltip": null,
            "_model_module": "@jupyter-widgets/controls",
            "layout": "IPY_MODEL_18af779f1a0b4dee987c4e2c1673bac0"
          }
        },
        "33937512e48547deb125bb1037456455": {
          "model_module": "@jupyter-widgets/controls",
          "model_name": "ProgressStyleModel",
          "state": {
            "_view_name": "StyleView",
            "_model_name": "ProgressStyleModel",
            "description_width": "initial",
            "_view_module": "@jupyter-widgets/base",
            "_model_module_version": "1.5.0",
            "_view_count": null,
            "_view_module_version": "1.2.0",
            "bar_color": null,
            "_model_module": "@jupyter-widgets/controls"
          }
        },
        "c69bd687017847f783eb800bed14aa50": {
          "model_module": "@jupyter-widgets/base",
          "model_name": "LayoutModel",
          "state": {
            "_view_name": "LayoutView",
            "grid_template_rows": null,
            "right": null,
            "justify_content": null,
            "_view_module": "@jupyter-widgets/base",
            "overflow": null,
            "_model_module_version": "1.2.0",
            "_view_count": null,
            "flex_flow": null,
            "width": null,
            "min_width": null,
            "border": null,
            "align_items": null,
            "bottom": null,
            "_model_module": "@jupyter-widgets/base",
            "top": null,
            "grid_column": null,
            "overflow_y": null,
            "overflow_x": null,
            "grid_auto_flow": null,
            "grid_area": null,
            "grid_template_columns": null,
            "flex": null,
            "_model_name": "LayoutModel",
            "justify_items": null,
            "grid_row": null,
            "max_height": null,
            "align_content": null,
            "visibility": null,
            "align_self": null,
            "height": null,
            "min_height": null,
            "padding": null,
            "grid_auto_rows": null,
            "grid_gap": null,
            "max_width": null,
            "order": null,
            "_view_module_version": "1.2.0",
            "grid_template_areas": null,
            "object_position": null,
            "object_fit": null,
            "grid_auto_columns": null,
            "margin": null,
            "display": null,
            "left": null
          }
        },
        "a1981c9190754d6491749c47685e54ce": {
          "model_module": "@jupyter-widgets/controls",
          "model_name": "DescriptionStyleModel",
          "state": {
            "_view_name": "StyleView",
            "_model_name": "DescriptionStyleModel",
            "description_width": "",
            "_view_module": "@jupyter-widgets/base",
            "_model_module_version": "1.5.0",
            "_view_count": null,
            "_view_module_version": "1.2.0",
            "_model_module": "@jupyter-widgets/controls"
          }
        },
        "18af779f1a0b4dee987c4e2c1673bac0": {
          "model_module": "@jupyter-widgets/base",
          "model_name": "LayoutModel",
          "state": {
            "_view_name": "LayoutView",
            "grid_template_rows": null,
            "right": null,
            "justify_content": null,
            "_view_module": "@jupyter-widgets/base",
            "overflow": null,
            "_model_module_version": "1.2.0",
            "_view_count": null,
            "flex_flow": null,
            "width": null,
            "min_width": null,
            "border": null,
            "align_items": null,
            "bottom": null,
            "_model_module": "@jupyter-widgets/base",
            "top": null,
            "grid_column": null,
            "overflow_y": null,
            "overflow_x": null,
            "grid_auto_flow": null,
            "grid_area": null,
            "grid_template_columns": null,
            "flex": null,
            "_model_name": "LayoutModel",
            "justify_items": null,
            "grid_row": null,
            "max_height": null,
            "align_content": null,
            "visibility": null,
            "align_self": null,
            "height": null,
            "min_height": null,
            "padding": null,
            "grid_auto_rows": null,
            "grid_gap": null,
            "max_width": null,
            "order": null,
            "_view_module_version": "1.2.0",
            "grid_template_areas": null,
            "object_position": null,
            "object_fit": null,
            "grid_auto_columns": null,
            "margin": null,
            "display": null,
            "left": null
          }
        },
        "a0965f4212e64e1984afdddbcc6aa057": {
          "model_module": "@jupyter-widgets/controls",
          "model_name": "HBoxModel",
          "state": {
            "_view_name": "HBoxView",
            "_dom_classes": [],
            "_model_name": "HBoxModel",
            "_view_module": "@jupyter-widgets/controls",
            "_model_module_version": "1.5.0",
            "_view_count": null,
            "_view_module_version": "1.5.0",
            "box_style": "",
            "layout": "IPY_MODEL_c8b526000ed644458b3abcb9c0ff3e1c",
            "_model_module": "@jupyter-widgets/controls",
            "children": [
              "IPY_MODEL_d7c49bdb3d8b4399b5d18ee76c4486c5",
              "IPY_MODEL_8085328f40cf4a32a2da574960a8a2f7"
            ]
          }
        },
        "c8b526000ed644458b3abcb9c0ff3e1c": {
          "model_module": "@jupyter-widgets/base",
          "model_name": "LayoutModel",
          "state": {
            "_view_name": "LayoutView",
            "grid_template_rows": null,
            "right": null,
            "justify_content": null,
            "_view_module": "@jupyter-widgets/base",
            "overflow": null,
            "_model_module_version": "1.2.0",
            "_view_count": null,
            "flex_flow": null,
            "width": null,
            "min_width": null,
            "border": null,
            "align_items": null,
            "bottom": null,
            "_model_module": "@jupyter-widgets/base",
            "top": null,
            "grid_column": null,
            "overflow_y": null,
            "overflow_x": null,
            "grid_auto_flow": null,
            "grid_area": null,
            "grid_template_columns": null,
            "flex": null,
            "_model_name": "LayoutModel",
            "justify_items": null,
            "grid_row": null,
            "max_height": null,
            "align_content": null,
            "visibility": null,
            "align_self": null,
            "height": null,
            "min_height": null,
            "padding": null,
            "grid_auto_rows": null,
            "grid_gap": null,
            "max_width": null,
            "order": null,
            "_view_module_version": "1.2.0",
            "grid_template_areas": null,
            "object_position": null,
            "object_fit": null,
            "grid_auto_columns": null,
            "margin": null,
            "display": null,
            "left": null
          }
        },
        "d7c49bdb3d8b4399b5d18ee76c4486c5": {
          "model_module": "@jupyter-widgets/controls",
          "model_name": "FloatProgressModel",
          "state": {
            "_view_name": "ProgressView",
            "style": "IPY_MODEL_3d45db7219af42c48a1634c4405f2209",
            "_dom_classes": [],
            "description": "100%",
            "_model_name": "FloatProgressModel",
            "bar_style": "success",
            "max": 454,
            "_view_module": "@jupyter-widgets/controls",
            "_model_module_version": "1.5.0",
            "value": 454,
            "_view_count": null,
            "_view_module_version": "1.5.0",
            "orientation": "horizontal",
            "min": 0,
            "description_tooltip": null,
            "_model_module": "@jupyter-widgets/controls",
            "layout": "IPY_MODEL_6b179b23d82b402bb15546ce9c94573e"
          }
        },
        "8085328f40cf4a32a2da574960a8a2f7": {
          "model_module": "@jupyter-widgets/controls",
          "model_name": "HTMLModel",
          "state": {
            "_view_name": "HTMLView",
            "style": "IPY_MODEL_b1c6143048fa43599a5da2941e414526",
            "_dom_classes": [],
            "description": "",
            "_model_name": "HTMLModel",
            "placeholder": "​",
            "_view_module": "@jupyter-widgets/controls",
            "_model_module_version": "1.5.0",
            "value": " 454/454 [00:02&lt;00:00, 163.09it/s]",
            "_view_count": null,
            "_view_module_version": "1.5.0",
            "description_tooltip": null,
            "_model_module": "@jupyter-widgets/controls",
            "layout": "IPY_MODEL_0d4a394c8a244709bbcc0d1e0f7370d3"
          }
        },
        "3d45db7219af42c48a1634c4405f2209": {
          "model_module": "@jupyter-widgets/controls",
          "model_name": "ProgressStyleModel",
          "state": {
            "_view_name": "StyleView",
            "_model_name": "ProgressStyleModel",
            "description_width": "initial",
            "_view_module": "@jupyter-widgets/base",
            "_model_module_version": "1.5.0",
            "_view_count": null,
            "_view_module_version": "1.2.0",
            "bar_color": null,
            "_model_module": "@jupyter-widgets/controls"
          }
        },
        "6b179b23d82b402bb15546ce9c94573e": {
          "model_module": "@jupyter-widgets/base",
          "model_name": "LayoutModel",
          "state": {
            "_view_name": "LayoutView",
            "grid_template_rows": null,
            "right": null,
            "justify_content": null,
            "_view_module": "@jupyter-widgets/base",
            "overflow": null,
            "_model_module_version": "1.2.0",
            "_view_count": null,
            "flex_flow": null,
            "width": null,
            "min_width": null,
            "border": null,
            "align_items": null,
            "bottom": null,
            "_model_module": "@jupyter-widgets/base",
            "top": null,
            "grid_column": null,
            "overflow_y": null,
            "overflow_x": null,
            "grid_auto_flow": null,
            "grid_area": null,
            "grid_template_columns": null,
            "flex": null,
            "_model_name": "LayoutModel",
            "justify_items": null,
            "grid_row": null,
            "max_height": null,
            "align_content": null,
            "visibility": null,
            "align_self": null,
            "height": null,
            "min_height": null,
            "padding": null,
            "grid_auto_rows": null,
            "grid_gap": null,
            "max_width": null,
            "order": null,
            "_view_module_version": "1.2.0",
            "grid_template_areas": null,
            "object_position": null,
            "object_fit": null,
            "grid_auto_columns": null,
            "margin": null,
            "display": null,
            "left": null
          }
        },
        "b1c6143048fa43599a5da2941e414526": {
          "model_module": "@jupyter-widgets/controls",
          "model_name": "DescriptionStyleModel",
          "state": {
            "_view_name": "StyleView",
            "_model_name": "DescriptionStyleModel",
            "description_width": "",
            "_view_module": "@jupyter-widgets/base",
            "_model_module_version": "1.5.0",
            "_view_count": null,
            "_view_module_version": "1.2.0",
            "_model_module": "@jupyter-widgets/controls"
          }
        },
        "0d4a394c8a244709bbcc0d1e0f7370d3": {
          "model_module": "@jupyter-widgets/base",
          "model_name": "LayoutModel",
          "state": {
            "_view_name": "LayoutView",
            "grid_template_rows": null,
            "right": null,
            "justify_content": null,
            "_view_module": "@jupyter-widgets/base",
            "overflow": null,
            "_model_module_version": "1.2.0",
            "_view_count": null,
            "flex_flow": null,
            "width": null,
            "min_width": null,
            "border": null,
            "align_items": null,
            "bottom": null,
            "_model_module": "@jupyter-widgets/base",
            "top": null,
            "grid_column": null,
            "overflow_y": null,
            "overflow_x": null,
            "grid_auto_flow": null,
            "grid_area": null,
            "grid_template_columns": null,
            "flex": null,
            "_model_name": "LayoutModel",
            "justify_items": null,
            "grid_row": null,
            "max_height": null,
            "align_content": null,
            "visibility": null,
            "align_self": null,
            "height": null,
            "min_height": null,
            "padding": null,
            "grid_auto_rows": null,
            "grid_gap": null,
            "max_width": null,
            "order": null,
            "_view_module_version": "1.2.0",
            "grid_template_areas": null,
            "object_position": null,
            "object_fit": null,
            "grid_auto_columns": null,
            "margin": null,
            "display": null,
            "left": null
          }
        },
        "c7c18213a3444470aaeca470ff5f30a3": {
          "model_module": "@jupyter-widgets/controls",
          "model_name": "HBoxModel",
          "state": {
            "_view_name": "HBoxView",
            "_dom_classes": [],
            "_model_name": "HBoxModel",
            "_view_module": "@jupyter-widgets/controls",
            "_model_module_version": "1.5.0",
            "_view_count": null,
            "_view_module_version": "1.5.0",
            "box_style": "",
            "layout": "IPY_MODEL_4c083db1a72e4cf39526b857c03b207d",
            "_model_module": "@jupyter-widgets/controls",
            "children": [
              "IPY_MODEL_b072b169a354411aa93501801f482f3c",
              "IPY_MODEL_41e4fd0935bf4611bbde01f1fc9f186e"
            ]
          }
        },
        "4c083db1a72e4cf39526b857c03b207d": {
          "model_module": "@jupyter-widgets/base",
          "model_name": "LayoutModel",
          "state": {
            "_view_name": "LayoutView",
            "grid_template_rows": null,
            "right": null,
            "justify_content": null,
            "_view_module": "@jupyter-widgets/base",
            "overflow": null,
            "_model_module_version": "1.2.0",
            "_view_count": null,
            "flex_flow": null,
            "width": null,
            "min_width": null,
            "border": null,
            "align_items": null,
            "bottom": null,
            "_model_module": "@jupyter-widgets/base",
            "top": null,
            "grid_column": null,
            "overflow_y": null,
            "overflow_x": null,
            "grid_auto_flow": null,
            "grid_area": null,
            "grid_template_columns": null,
            "flex": null,
            "_model_name": "LayoutModel",
            "justify_items": null,
            "grid_row": null,
            "max_height": null,
            "align_content": null,
            "visibility": null,
            "align_self": null,
            "height": null,
            "min_height": null,
            "padding": null,
            "grid_auto_rows": null,
            "grid_gap": null,
            "max_width": null,
            "order": null,
            "_view_module_version": "1.2.0",
            "grid_template_areas": null,
            "object_position": null,
            "object_fit": null,
            "grid_auto_columns": null,
            "margin": null,
            "display": null,
            "left": null
          }
        },
        "b072b169a354411aa93501801f482f3c": {
          "model_module": "@jupyter-widgets/controls",
          "model_name": "FloatProgressModel",
          "state": {
            "_view_name": "ProgressView",
            "style": "IPY_MODEL_0ae3d997d690404b8b48c95b097a5524",
            "_dom_classes": [],
            "description": "100%",
            "_model_name": "FloatProgressModel",
            "bar_style": "success",
            "max": 362,
            "_view_module": "@jupyter-widgets/controls",
            "_model_module_version": "1.5.0",
            "value": 362,
            "_view_count": null,
            "_view_module_version": "1.5.0",
            "orientation": "horizontal",
            "min": 0,
            "description_tooltip": null,
            "_model_module": "@jupyter-widgets/controls",
            "layout": "IPY_MODEL_d6c6473c42ae4cc992f5102a702a877c"
          }
        },
        "41e4fd0935bf4611bbde01f1fc9f186e": {
          "model_module": "@jupyter-widgets/controls",
          "model_name": "HTMLModel",
          "state": {
            "_view_name": "HTMLView",
            "style": "IPY_MODEL_17b1b3f4eea8412787ef6b40847a6139",
            "_dom_classes": [],
            "description": "",
            "_model_name": "HTMLModel",
            "placeholder": "​",
            "_view_module": "@jupyter-widgets/controls",
            "_model_module_version": "1.5.0",
            "value": " 362/362 [00:01&lt;00:00, 290.73it/s]",
            "_view_count": null,
            "_view_module_version": "1.5.0",
            "description_tooltip": null,
            "_model_module": "@jupyter-widgets/controls",
            "layout": "IPY_MODEL_ce1705f961f84c71aa2713eca96c6c6e"
          }
        },
        "0ae3d997d690404b8b48c95b097a5524": {
          "model_module": "@jupyter-widgets/controls",
          "model_name": "ProgressStyleModel",
          "state": {
            "_view_name": "StyleView",
            "_model_name": "ProgressStyleModel",
            "description_width": "initial",
            "_view_module": "@jupyter-widgets/base",
            "_model_module_version": "1.5.0",
            "_view_count": null,
            "_view_module_version": "1.2.0",
            "bar_color": null,
            "_model_module": "@jupyter-widgets/controls"
          }
        },
        "d6c6473c42ae4cc992f5102a702a877c": {
          "model_module": "@jupyter-widgets/base",
          "model_name": "LayoutModel",
          "state": {
            "_view_name": "LayoutView",
            "grid_template_rows": null,
            "right": null,
            "justify_content": null,
            "_view_module": "@jupyter-widgets/base",
            "overflow": null,
            "_model_module_version": "1.2.0",
            "_view_count": null,
            "flex_flow": null,
            "width": null,
            "min_width": null,
            "border": null,
            "align_items": null,
            "bottom": null,
            "_model_module": "@jupyter-widgets/base",
            "top": null,
            "grid_column": null,
            "overflow_y": null,
            "overflow_x": null,
            "grid_auto_flow": null,
            "grid_area": null,
            "grid_template_columns": null,
            "flex": null,
            "_model_name": "LayoutModel",
            "justify_items": null,
            "grid_row": null,
            "max_height": null,
            "align_content": null,
            "visibility": null,
            "align_self": null,
            "height": null,
            "min_height": null,
            "padding": null,
            "grid_auto_rows": null,
            "grid_gap": null,
            "max_width": null,
            "order": null,
            "_view_module_version": "1.2.0",
            "grid_template_areas": null,
            "object_position": null,
            "object_fit": null,
            "grid_auto_columns": null,
            "margin": null,
            "display": null,
            "left": null
          }
        },
        "17b1b3f4eea8412787ef6b40847a6139": {
          "model_module": "@jupyter-widgets/controls",
          "model_name": "DescriptionStyleModel",
          "state": {
            "_view_name": "StyleView",
            "_model_name": "DescriptionStyleModel",
            "description_width": "",
            "_view_module": "@jupyter-widgets/base",
            "_model_module_version": "1.5.0",
            "_view_count": null,
            "_view_module_version": "1.2.0",
            "_model_module": "@jupyter-widgets/controls"
          }
        },
        "ce1705f961f84c71aa2713eca96c6c6e": {
          "model_module": "@jupyter-widgets/base",
          "model_name": "LayoutModel",
          "state": {
            "_view_name": "LayoutView",
            "grid_template_rows": null,
            "right": null,
            "justify_content": null,
            "_view_module": "@jupyter-widgets/base",
            "overflow": null,
            "_model_module_version": "1.2.0",
            "_view_count": null,
            "flex_flow": null,
            "width": null,
            "min_width": null,
            "border": null,
            "align_items": null,
            "bottom": null,
            "_model_module": "@jupyter-widgets/base",
            "top": null,
            "grid_column": null,
            "overflow_y": null,
            "overflow_x": null,
            "grid_auto_flow": null,
            "grid_area": null,
            "grid_template_columns": null,
            "flex": null,
            "_model_name": "LayoutModel",
            "justify_items": null,
            "grid_row": null,
            "max_height": null,
            "align_content": null,
            "visibility": null,
            "align_self": null,
            "height": null,
            "min_height": null,
            "padding": null,
            "grid_auto_rows": null,
            "grid_gap": null,
            "max_width": null,
            "order": null,
            "_view_module_version": "1.2.0",
            "grid_template_areas": null,
            "object_position": null,
            "object_fit": null,
            "grid_auto_columns": null,
            "margin": null,
            "display": null,
            "left": null
          }
        }
      }
    }
  },
  "cells": [
    {
      "cell_type": "markdown",
      "metadata": {
        "id": "view-in-github",
        "colab_type": "text"
      },
      "source": [
        "<a href=\"https://colab.research.google.com/github/s-whynot/Bearing_Fault_CWRU/blob/main/10_Classes_CWRU_Fault__Detection_FE_only.ipynb\" target=\"_parent\"><img src=\"https://colab.research.google.com/assets/colab-badge.svg\" alt=\"Open In Colab\"/></a>"
      ]
    },
    {
      "cell_type": "markdown",
      "metadata": {
        "id": "O5MkT5LEqBKt"
      },
      "source": [
        "#Fault detection for rolling element bearings with Keras and Tensorflow\r\n",
        "FE to FE"
      ]
    },
    {
      "cell_type": "markdown",
      "metadata": {
        "id": "LJsVYGB948Om"
      },
      "source": [
        "# 1.Introduction \n",
        "The original dataset is from the [Case Western Reserve University](http://csegroups.case.edu/bearingdatacenter/home). This is where the fault data comes from, which is used to classify faults using a CNN (Convolutional Neural Network). \n",
        "I have uploaded this data to [Github](https://github.com/s-whynot/CWRU-dataset). With this, I downloaded my own, verified true CWRU bearing data. "
      ]
    },
    {
      "cell_type": "code",
      "metadata": {
        "id": "ZXD1ypuN5s_1"
      },
      "source": [
        "import errno, os\n",
        "import requests\n",
        "import scipy.io as sio\n",
        "import numpy as np\n",
        "\n",
        "from os import listdir\n",
        "from os.path import isfile, join\n",
        "from zipfile import ZipFile "
      ],
      "execution_count": 1,
      "outputs": []
    },
    {
      "cell_type": "markdown",
      "metadata": {
        "id": "igQzDsVI5JOo"
      },
      "source": [
        "# 2.Download the dataset\n",
        "\n",
        "The dataset is downloaded from the [Github](https://github.com/s-whynot/CWRU-dataset) repository.  The dataset has several matlab files where the name is just a number (such as \"118.mat\"). It has information such as\n",
        "1. **State** -\n",
        "     - `N` for normal state, not damaged\n",
        "     - `B` for ball damaged\n",
        "     - `IR` for inner raceway damage\n",
        "     - `OR` for outer raceway damage\n",
        "2. **Fault Diameter** -\n",
        "    - `007` for 0.007 inch or 7 mils damage\n",
        "    - `014` for 0.014 inch damage \n",
        "    - `021` for 0.021 inch damage\n",
        "    - `028` for 0.028 inch damage  \n",
        "    the unit 'mils' is 1/1000th of an inch\n",
        "3. **Position of the sensor** -\n",
        "    - *3*, *6*, *12* for **OUTER RACEWAY** faults located at 3 o’clock, at 6 o’clock and at 12 o’clock respectively of the load zone\n",
        "4. **Load** -\n",
        "    - *0*, *1*, *2*, *3* for different motor load conditions in Horsepower (HP)"
      ]
    },
    {
      "cell_type": "code",
      "metadata": {
        "colab": {
          "base_uri": "https://localhost:8080/"
        },
        "id": "KuA4dWmp6N4n",
        "outputId": "25e7e54c-a38e-44b3-ea38-063892eadacd"
      },
      "source": [
        "filename = os.path.join(os.getcwd(), 'repo.zip')\n",
        "url = 'https://github.com/s-whynot/CWRU-dataset/archive/main.zip'\n",
        "\n",
        "r = requests.get(url)\n",
        "print(filename)\n",
        "with open(filename, 'wb') as f:\n",
        "    f.write(r.content)\n",
        "    #f.close() \n",
        "\n",
        "file_name = \"/content/repo.zip\"\n",
        "with ZipFile(file_name, 'r') as zip: \n",
        "    # printing all the contents of the zip file \n",
        "    #zip.printdir() \n",
        "  \n",
        "    # extracting all the files \n",
        "    print('Extracting all the files now...') \n",
        "    zip.extractall() \n",
        "    print('Finished Extracting!') "
      ],
      "execution_count": 2,
      "outputs": [
        {
          "output_type": "stream",
          "text": [
            "/content/repo.zip\n",
            "Extracting all the files now...\n",
            "Finished Extracting!\n"
          ],
          "name": "stdout"
        }
      ]
    },
    {
      "cell_type": "markdown",
      "metadata": {
        "id": "YHv4A1RLsdOB"
      },
      "source": [
        "# 3. Extract and edit the downloaded data"
      ]
    },
    {
      "cell_type": "markdown",
      "metadata": {
        "id": "hyGjN2x65OTH"
      },
      "source": [
        "Using the data collected at the *Drive End* or *Fan End*, which is labelled with the code `FE` or `DE`. This function picks up the time signal from a file. For the given code, a regex is made on the dictionary keys, looking for the the code and ignoring the rest of the suffix. \r\n",
        "\r\n",
        "The function also converts the unit to SI."
      ]
    },
    {
      "cell_type": "markdown",
      "metadata": {
        "id": "72uM_Tr31jjs"
      },
      "source": [
        "## 3.1 Functions used"
      ]
    },
    {
      "cell_type": "code",
      "metadata": {
        "id": "vaG19HlFVohS"
      },
      "source": [
        "def acceleration_time_signal(dict_1, code):\n",
        "    \"\"\"\n",
        "    load the time series in the file and convert units in SI\n",
        "    file= 'filename' from the ./dataset/ folder\n",
        "    code= ' DE' or 'FE', other code will give error\n",
        "    \"\"\"\n",
        "    import re\n",
        "    try:\n",
        "        for key in dict_1:\n",
        "            if re.findall(rf\"({code})\", key):\n",
        "                dict_code = key\n",
        "        #inches to meter\n",
        "        unit_conv = 0.0254\n",
        "        print\n",
        "        x = dict_1[dict_code] * unit_conv\n",
        "        return x\n",
        "    except:\n",
        "        print('File does not exist or code wrong. Code must be either \"DE or \"FE\" ')"
      ],
      "execution_count": 3,
      "outputs": []
    },
    {
      "cell_type": "markdown",
      "metadata": {
        "id": "-YFVt4d65Vw2"
      },
      "source": [
        "- 3 different functions are necessary to process the files and the data.\n",
        "- All subfolders are recursively scanned with the function `fast_scandir`."
      ]
    },
    {
      "cell_type": "code",
      "metadata": {
        "id": "j_GQ5mQnu8RO"
      },
      "source": [
        "def Read_MAT_files_from_folders(file_path, files_list, code):\n",
        "  G_data = []\n",
        "  for i in range(len(files_list)):\n",
        "    data = sio.loadmat(os.path.join(file_path, files_list[i]))\n",
        "    print(file_path, files_list[i])\n",
        "    #print(data)\n",
        "    sig = acceleration_time_signal(data, code)\n",
        "    #print(sig)\n",
        "    G_data.append(sig)\n",
        "  \n",
        "  G_data = np.vstack(G_data).flatten()\n",
        "  #display(G_data.shape)\n",
        "  return G_data \n",
        "\n",
        "def Percent_data_split(array_1, array_2, percent_1=10, index_1 = False):\n",
        "  if index_1 == False:\n",
        "    #splitting FE data by percent \n",
        "    len_n = array_1.shape[0]\n",
        "    percent_true = percent_1/100\n",
        "    #print(percent_true)\n",
        "    x = int(percent_true*len_n) #% split\n",
        "    data_percent, data_rest = np.split(array_1, [x])\n",
        "  else:\n",
        "    #splitting FE data by percent of DE data\n",
        "    len_n = array_2.shape[0]\n",
        "    percent_true = percent_1/100\n",
        "    #print(percent_true)\n",
        "    x = int(percent_true*len_n) #% split\n",
        "    #print(x)\n",
        "    data_percent, data_rest = np.split(array_1, [x])\n",
        "\n",
        "  return data_percent, data_rest\n",
        "\n",
        "def fast_scandir(dirname):\n",
        "    subfolders= [f.path for f in os.scandir(dirname) if f.is_dir()]\n",
        "    for dirname in list(subfolders):\n",
        "        subfolders.extend(fast_scandir(dirname))\n",
        "    return subfolders "
      ],
      "execution_count": 4,
      "outputs": []
    },
    {
      "cell_type": "markdown",
      "metadata": {
        "id": "8Z_cYWen5ZRI"
      },
      "source": [
        "##3.2 Normal Acceleration data\r\n",
        "DE and FE"
      ]
    },
    {
      "cell_type": "code",
      "metadata": {
        "colab": {
          "base_uri": "https://localhost:8080/",
          "height": 201
        },
        "id": "DDqDg66vQvHc",
        "outputId": "d35e62b3-9ccd-4bc7-a887-ca63da84cac4"
      },
      "source": [
        "#12k Normal Signal for FE & DE\n",
        "file_path_1 = '/content/CWRU-dataset-main/Normal/'\n",
        "onlyfiles_1 = [f for f in listdir(file_path_1) if isfile(join(file_path_1, f))]\n",
        "#print(onlyfiles_1)\n",
        "\n",
        "G_data_N_DE = Read_MAT_files_from_folders(file_path_1, onlyfiles_1, \"DE\")\n",
        "G_data_N_FE = Read_MAT_files_from_folders(file_path_1, onlyfiles_1, \"FE\")\n",
        "display(G_data_N_DE.shape)\n",
        "display(G_data_N_FE.shape)"
      ],
      "execution_count": 5,
      "outputs": [
        {
          "output_type": "stream",
          "text": [
            "/content/CWRU-dataset-main/Normal/ 99_Normal_2.mat\n",
            "/content/CWRU-dataset-main/Normal/ 98_Normal_1.mat\n",
            "/content/CWRU-dataset-main/Normal/ 100_Normal_3.mat\n",
            "/content/CWRU-dataset-main/Normal/ 97_Normal_0.mat\n",
            "/content/CWRU-dataset-main/Normal/ 99_Normal_2.mat\n",
            "/content/CWRU-dataset-main/Normal/ 98_Normal_1.mat\n",
            "/content/CWRU-dataset-main/Normal/ 100_Normal_3.mat\n",
            "/content/CWRU-dataset-main/Normal/ 97_Normal_0.mat\n"
          ],
          "name": "stdout"
        },
        {
          "output_type": "display_data",
          "data": {
            "text/plain": [
              "(1698547,)"
            ]
          },
          "metadata": {
            "tags": []
          }
        },
        {
          "output_type": "display_data",
          "data": {
            "text/plain": [
              "(1698547,)"
            ]
          },
          "metadata": {
            "tags": []
          }
        }
      ]
    },
    {
      "cell_type": "markdown",
      "metadata": {
        "id": "4TMQO8pM6UZ4"
      },
      "source": [
        "##3.3 12000 Hz DE data \n",
        "for faults -\n",
        "1. B, \n",
        "2. IR, \n",
        "3. OR"
      ]
    },
    {
      "cell_type": "code",
      "metadata": {
        "colab": {
          "base_uri": "https://localhost:8080/"
        },
        "id": "V_Pb4_0Izqwc",
        "outputId": "594548b8-eefd-4c68-cfb4-6739a478b5c3"
      },
      "source": [
        "#12k DE data load\n",
        "file_path_2 = '/content/CWRU-dataset-main/12k_Drive_End_Bearing_Fault_Data/'\n",
        "subfolder_path = fast_scandir(file_path_2)\n",
        "\n",
        "G_data_OR_007_DE = []\n",
        "G_data_OR_021_DE = []\n",
        "\n",
        "for i in range(3, len(subfolder_path), 1):\n",
        "  dir_1 = subfolder_path[i]\n",
        "  #B\n",
        "  if 'B/' in dir_1:\n",
        "    onlyfiles_2_1 = [f for f in listdir(dir_1) if isfile(join(dir_1, f))]\n",
        "    #print(dir_1, onlyfiles_2_1)\n",
        "\n",
        "    if '007' in dir_1:\n",
        "    #007\n",
        "      G_data_B_007_DE = Read_MAT_files_from_folders(dir_1, onlyfiles_2_1, \"DE\")\n",
        "    elif '014' in dir_1:\n",
        "    #014\n",
        "      G_data_B_014_DE = Read_MAT_files_from_folders(dir_1, onlyfiles_2_1, \"DE\")\n",
        "    elif '021' in dir_1:\n",
        "    #021\n",
        "      G_data_B_021_DE = Read_MAT_files_from_folders(dir_1, onlyfiles_2_1, \"DE\")\n",
        "    else:\n",
        "    #028\n",
        "      G_data_B_028_DE = Read_MAT_files_from_folders(dir_1, onlyfiles_2_1, \"DE\")\n",
        "  #B\n",
        "  #IR\n",
        "  elif 'IR/' in dir_1:\n",
        "    onlyfiles_2_2 = [f for f in listdir(dir_1) if isfile(join(dir_1, f))]\n",
        "    #print(dir_1, onlyfiles_2_2)\n",
        "\n",
        "    if '007' in dir_1:\n",
        "    #007\n",
        "      G_data_IR_007_DE = Read_MAT_files_from_folders(dir_1, onlyfiles_2_2, \"DE\")\n",
        "    elif '014' in dir_1:\n",
        "    #014\n",
        "      G_data_IR_014_DE = Read_MAT_files_from_folders(dir_1, onlyfiles_2_2, \"DE\")\n",
        "    elif '021' in dir_1:\n",
        "    #021\n",
        "      G_data_IR_021_DE = Read_MAT_files_from_folders(dir_1, onlyfiles_2_2, \"DE\")\n",
        "    else:\n",
        "    #028\n",
        "      G_data_IR_028_DE = Read_MAT_files_from_folders(dir_1, onlyfiles_2_2, \"DE\")\n",
        "  #IR\n",
        "  #OR\n",
        "  elif 'OR/' in dir_1:\n",
        "    onlyfiles_2_3 = [f for f in listdir(dir_1) if isfile(join(dir_1, f))]\n",
        "    #print(dir_1, onlyfiles_2_3)\n",
        "    if '007' in dir_1:\n",
        "      #007\n",
        "      for i in range(len(onlyfiles_2_3)):\n",
        "        data_OR_007 = sio.loadmat(os.path.join(dir_1, onlyfiles_2_3[i]))\n",
        "        #print(dir_1, onlyfiles_2_3[i])\n",
        "        or_sig_007 = acceleration_time_signal(data_OR_007, code='DE')\n",
        "        G_data_OR_007_DE.append(or_sig_007)\n",
        "    elif '014' in dir_1:\n",
        "      #014\n",
        "      #print(dir_1)\n",
        "      G_data_OR_014_DE = Read_MAT_files_from_folders(dir_1, onlyfiles_2_3, \"DE\")\n",
        "    else:\n",
        "      #021\n",
        "      for i in range(len(onlyfiles_2_3)):\n",
        "        #print(dir_1, onlyfiles_2_3[i])\n",
        "        data_OR_021 = sio.loadmat(os.path.join(dir_1, onlyfiles_2_3[i]))\n",
        "        or_sig_021 = acceleration_time_signal(data_OR_021, code='DE')\n",
        "        G_data_OR_021_DE.append(or_sig_021)\n",
        "  #OR \n",
        "print(\"G_data_B_007_DE\", G_data_B_007_DE.shape)\n",
        "print(\"G_data_B_014_DE\", G_data_B_014_DE.shape)\n",
        "print(\"G_data_B_021_DE\", G_data_B_021_DE.shape)\n",
        "print(\"G_data_B_028_DE\", G_data_B_028_DE.shape)\n",
        "\n",
        "print(\"G_data_IR_007_DE\", G_data_IR_007_DE.shape)\n",
        "print(\"G_data_IR_014_DE\", G_data_IR_014_DE.shape)\n",
        "print(\"G_data_IR_021_DE\", G_data_IR_021_DE.shape)\n",
        "print(\"G_data_IR_028_DE\", G_data_IR_028_DE.shape)\n",
        "\n",
        "G_data_OR_007_DE = np.vstack(G_data_OR_007_DE).flatten()\n",
        "print(\"G_data_OR_007_DE\", G_data_OR_007_DE.shape)\n",
        "G_data_OR_014_DE = np.vstack(G_data_OR_014_DE).flatten()\n",
        "print(\"G_data_OR_014_DE\", np.shape(G_data_OR_014_DE))\n",
        "G_data_OR_021_DE = np.vstack(G_data_OR_021_DE).flatten()\n",
        "print(\"G_data_OR_021_DE\", G_data_OR_021_DE.shape)     "
      ],
      "execution_count": 6,
      "outputs": [
        {
          "output_type": "stream",
          "text": [
            "/content/CWRU-dataset-main/12k_Drive_End_Bearing_Fault_Data/OR/014 197@6_0.mat\n",
            "/content/CWRU-dataset-main/12k_Drive_End_Bearing_Fault_Data/OR/014 198@6_1.mat\n",
            "/content/CWRU-dataset-main/12k_Drive_End_Bearing_Fault_Data/OR/014 200@6_3.mat\n",
            "/content/CWRU-dataset-main/12k_Drive_End_Bearing_Fault_Data/OR/014 199@6_2.mat\n",
            "/content/CWRU-dataset-main/12k_Drive_End_Bearing_Fault_Data/B/028 3005_0.mat\n",
            "/content/CWRU-dataset-main/12k_Drive_End_Bearing_Fault_Data/B/028 3008_3.mat\n",
            "/content/CWRU-dataset-main/12k_Drive_End_Bearing_Fault_Data/B/028 3007_2.mat\n",
            "/content/CWRU-dataset-main/12k_Drive_End_Bearing_Fault_Data/B/028 3006_1.mat\n",
            "/content/CWRU-dataset-main/12k_Drive_End_Bearing_Fault_Data/B/021 222_0.mat\n",
            "/content/CWRU-dataset-main/12k_Drive_End_Bearing_Fault_Data/B/021 223_1.mat\n",
            "/content/CWRU-dataset-main/12k_Drive_End_Bearing_Fault_Data/B/021 224_2.mat\n",
            "/content/CWRU-dataset-main/12k_Drive_End_Bearing_Fault_Data/B/021 225_3.mat\n",
            "/content/CWRU-dataset-main/12k_Drive_End_Bearing_Fault_Data/B/014 188_3.mat\n",
            "/content/CWRU-dataset-main/12k_Drive_End_Bearing_Fault_Data/B/014 186_1.mat\n",
            "/content/CWRU-dataset-main/12k_Drive_End_Bearing_Fault_Data/B/014 187_2.mat\n",
            "/content/CWRU-dataset-main/12k_Drive_End_Bearing_Fault_Data/B/014 185_0.mat\n",
            "/content/CWRU-dataset-main/12k_Drive_End_Bearing_Fault_Data/B/007 121_3.mat\n",
            "/content/CWRU-dataset-main/12k_Drive_End_Bearing_Fault_Data/B/007 119_1.mat\n",
            "/content/CWRU-dataset-main/12k_Drive_End_Bearing_Fault_Data/B/007 120_2.mat\n",
            "/content/CWRU-dataset-main/12k_Drive_End_Bearing_Fault_Data/B/007 118_0.mat\n",
            "/content/CWRU-dataset-main/12k_Drive_End_Bearing_Fault_Data/IR/028 3003_2.mat\n",
            "/content/CWRU-dataset-main/12k_Drive_End_Bearing_Fault_Data/IR/028 3002_1.mat\n",
            "/content/CWRU-dataset-main/12k_Drive_End_Bearing_Fault_Data/IR/028 3004_3.mat\n",
            "/content/CWRU-dataset-main/12k_Drive_End_Bearing_Fault_Data/IR/028 3001_0.mat\n",
            "/content/CWRU-dataset-main/12k_Drive_End_Bearing_Fault_Data/IR/021 212_3.mat\n",
            "/content/CWRU-dataset-main/12k_Drive_End_Bearing_Fault_Data/IR/021 211_2.mat\n",
            "/content/CWRU-dataset-main/12k_Drive_End_Bearing_Fault_Data/IR/021 210_1.mat\n",
            "/content/CWRU-dataset-main/12k_Drive_End_Bearing_Fault_Data/IR/021 209_0.mat\n",
            "/content/CWRU-dataset-main/12k_Drive_End_Bearing_Fault_Data/IR/014 171_2.mat\n",
            "/content/CWRU-dataset-main/12k_Drive_End_Bearing_Fault_Data/IR/014 169_0.mat\n",
            "/content/CWRU-dataset-main/12k_Drive_End_Bearing_Fault_Data/IR/014 172_3.mat\n",
            "/content/CWRU-dataset-main/12k_Drive_End_Bearing_Fault_Data/IR/014 170_1.mat\n",
            "/content/CWRU-dataset-main/12k_Drive_End_Bearing_Fault_Data/IR/007 107_2.mat\n",
            "/content/CWRU-dataset-main/12k_Drive_End_Bearing_Fault_Data/IR/007 108_3.mat\n",
            "/content/CWRU-dataset-main/12k_Drive_End_Bearing_Fault_Data/IR/007 105_0.mat\n",
            "/content/CWRU-dataset-main/12k_Drive_End_Bearing_Fault_Data/IR/007 106_1.mat\n",
            "G_data_B_007_DE (487093,)\n",
            "G_data_B_014_DE (488109,)\n",
            "G_data_B_021_DE (487964,)\n",
            "G_data_B_028_DE (484120,)\n",
            "G_data_IR_007_DE (488309,)\n",
            "G_data_IR_014_DE (487239,)\n",
            "G_data_IR_021_DE (487529,)\n",
            "G_data_IR_028_DE (485038,)\n",
            "G_data_OR_007_DE (1465051,)\n",
            "G_data_OR_014_DE (487819,)\n",
            "G_data_OR_021_DE (1465487,)\n"
          ],
          "name": "stdout"
        }
      ]
    },
    {
      "cell_type": "markdown",
      "metadata": {
        "id": "6EZV8XbjueL9"
      },
      "source": [
        "##3.4 12000 Hz FE data \n",
        "for faults -\n",
        "1. B, \n",
        "2. IR, \n",
        "3. OR"
      ]
    },
    {
      "cell_type": "code",
      "metadata": {
        "colab": {
          "base_uri": "https://localhost:8080/"
        },
        "id": "o5LH-twXM2DW",
        "outputId": "4c4d1319-cf6c-46db-8b02-083e70d7e9f9"
      },
      "source": [
        "#12k FE data load\n",
        "file_path_3 = '/content/CWRU-dataset-main/12k_Fan_End_Bearing_Fault_Data/'\n",
        "subfolder_path_3 = fast_scandir(file_path_3)\n",
        "#print(subfolder_path_3)\n",
        "\n",
        "G_data_OR_007_FE = []\n",
        "G_data_OR_014_FE = []\n",
        "G_data_OR_021_FE = []\n",
        "\n",
        "for i in range(3, len(subfolder_path_3), 1):\n",
        "  dir_2 = subfolder_path_3[i]\n",
        "  #B\n",
        "  if 'B/' in dir_2:\n",
        "    onlyfiles_3 = [f for f in listdir(dir_2) if isfile(join(dir_2, f))]\n",
        "    #print(dir_2, onlyfiles_3)\n",
        "    if '007' in dir_2:\n",
        "      #007\n",
        "      G_data_B_007_FE = Read_MAT_files_from_folders(dir_2, onlyfiles_3, \"FE\")\n",
        "    elif '014' in dir_2:\n",
        "      #014\n",
        "      G_data_B_014_FE = Read_MAT_files_from_folders(dir_2, onlyfiles_3, \"FE\")\n",
        "    else:\n",
        "      #021\n",
        "      G_data_B_021_FE = Read_MAT_files_from_folders(dir_2, onlyfiles_3, \"FE\")\n",
        "  #B\n",
        "  #IR\n",
        "  elif 'IR/' in dir_2:\n",
        "    onlyfiles_3_2 = [f for f in listdir(dir_2) if isfile(join(dir_2, f))]\n",
        "    #print(dir_2, onlyfiles_3_2)\n",
        "    if '007' in dir_2:\n",
        "      #007\n",
        "      G_data_IR_007_FE = Read_MAT_files_from_folders(dir_2, onlyfiles_3_2, \"FE\")\n",
        "    elif '014' in dir_2:\n",
        "      #014\n",
        "      G_data_IR_014_FE = Read_MAT_files_from_folders(dir_2, onlyfiles_3_2, \"FE\")\n",
        "    else:\n",
        "      #021\n",
        "      G_data_IR_021_FE = Read_MAT_files_from_folders(dir_2, onlyfiles_3_2, \"FE\")\n",
        "  #IR\n",
        "  #OR\n",
        "  elif 'OR/' in dir_2:\n",
        "    onlyfiles_3_3 = [f for f in listdir(dir_2) if isfile(join(dir_2, f))]\n",
        "    #print(dir_2, onlyfiles_3_3)\n",
        "    if '007' in dir_2:\n",
        "    #007\n",
        "      for i in range(len(onlyfiles_3_3)):\n",
        "        data_OR_007 = sio.loadmat(os.path.join(dir_2, onlyfiles_3_3[i]))\n",
        "        #print(dir_2, onlyfiles_3_3[i])\n",
        "        or_sig_007 = acceleration_time_signal(data_OR_007, code='FE')\n",
        "        G_data_OR_007_FE.append(or_sig_007)\n",
        "    elif '014' in dir_2:\n",
        "    #014\n",
        "      for i in range(len(onlyfiles_3_3)):\n",
        "        data_OR_014 = sio.loadmat(os.path.join(dir_2, onlyfiles_3_3[i]))\n",
        "        #print(dir_2, onlyfiles_3_3[i])\n",
        "        or_sig_014 = acceleration_time_signal(data_OR_014, code='FE')\n",
        "        G_data_OR_014_FE.append(or_sig_014)\n",
        "    else:\n",
        "    #021\n",
        "      for i in range(len(onlyfiles_3_3)):\n",
        "        data_OR_021 = sio.loadmat(os.path.join(dir_2, onlyfiles_3_3[i]))\n",
        "        #print(dir_2, onlyfiles_3_3[i])\n",
        "        or_sig_021 = acceleration_time_signal(data_OR_021, code='FE')\n",
        "        G_data_OR_021_FE.append(or_sig_021)\n",
        "  #OR\n",
        "\n",
        "print(\"G_data_B_007_FE\", G_data_B_007_FE.shape)\n",
        "print(\"G_data_B_014_FE\", G_data_B_014_FE.shape)\n",
        "print(\"G_data_B_021_FE\", G_data_B_021_FE.shape)\n",
        "\n",
        "print(\"G_data_IR_007_FE\", G_data_IR_007_FE.shape)\n",
        "print(\"G_data_IR_014_FE\", G_data_IR_014_FE.shape)\n",
        "print(\"G_data_IR_021_FE\", G_data_IR_021_FE.shape)\n",
        "\n",
        "G_data_OR_007_FE = np.vstack(G_data_OR_007_FE).flatten()\n",
        "print(\"G_data_OR_007_FE\", G_data_OR_007_FE.shape)\n",
        "G_data_OR_014_FE = np.vstack(G_data_OR_014_FE).flatten()\n",
        "print(\"G_data_OR_014_FE\", G_data_OR_014_FE.shape)\n",
        "G_data_OR_021_FE = np.vstack(G_data_OR_021_FE).flatten()\n",
        "print(\"G_data_OR_021_FE\", G_data_OR_021_FE.shape)"
      ],
      "execution_count": 7,
      "outputs": [
        {
          "output_type": "stream",
          "text": [
            "/content/CWRU-dataset-main/12k_Fan_End_Bearing_Fault_Data/B/021 292_2.mat\n",
            "/content/CWRU-dataset-main/12k_Fan_End_Bearing_Fault_Data/B/021 291_1.mat\n",
            "/content/CWRU-dataset-main/12k_Fan_End_Bearing_Fault_Data/B/021 293_3.mat\n",
            "/content/CWRU-dataset-main/12k_Fan_End_Bearing_Fault_Data/B/021 290_0.mat\n",
            "/content/CWRU-dataset-main/12k_Fan_End_Bearing_Fault_Data/B/014 289_3.mat\n",
            "/content/CWRU-dataset-main/12k_Fan_End_Bearing_Fault_Data/B/014 288_2.mat\n",
            "/content/CWRU-dataset-main/12k_Fan_End_Bearing_Fault_Data/B/014 286_0.mat\n",
            "/content/CWRU-dataset-main/12k_Fan_End_Bearing_Fault_Data/B/014 287_1.mat\n",
            "/content/CWRU-dataset-main/12k_Fan_End_Bearing_Fault_Data/B/007 284_2.mat\n",
            "/content/CWRU-dataset-main/12k_Fan_End_Bearing_Fault_Data/B/007 285_3.mat\n",
            "/content/CWRU-dataset-main/12k_Fan_End_Bearing_Fault_Data/B/007 283_1.mat\n",
            "/content/CWRU-dataset-main/12k_Fan_End_Bearing_Fault_Data/B/007 282_0.mat\n",
            "/content/CWRU-dataset-main/12k_Fan_End_Bearing_Fault_Data/IR/021 273_3.mat\n",
            "/content/CWRU-dataset-main/12k_Fan_End_Bearing_Fault_Data/IR/021 271_1.mat\n",
            "/content/CWRU-dataset-main/12k_Fan_End_Bearing_Fault_Data/IR/021 272_2.mat\n",
            "/content/CWRU-dataset-main/12k_Fan_End_Bearing_Fault_Data/IR/021 270_0.mat\n",
            "/content/CWRU-dataset-main/12k_Fan_End_Bearing_Fault_Data/IR/014 276_2.mat\n",
            "/content/CWRU-dataset-main/12k_Fan_End_Bearing_Fault_Data/IR/014 277_3.mat\n",
            "/content/CWRU-dataset-main/12k_Fan_End_Bearing_Fault_Data/IR/014 275_1.mat\n",
            "/content/CWRU-dataset-main/12k_Fan_End_Bearing_Fault_Data/IR/014 274_0.mat\n",
            "/content/CWRU-dataset-main/12k_Fan_End_Bearing_Fault_Data/IR/007 279_1.mat\n",
            "/content/CWRU-dataset-main/12k_Fan_End_Bearing_Fault_Data/IR/007 278_0.mat\n",
            "/content/CWRU-dataset-main/12k_Fan_End_Bearing_Fault_Data/IR/007 281_3.mat\n",
            "/content/CWRU-dataset-main/12k_Fan_End_Bearing_Fault_Data/IR/007 280_2.mat\n",
            "G_data_B_007_FE (484856,)\n",
            "G_data_B_014_FE (487242,)\n",
            "G_data_B_021_FE (485038,)\n",
            "G_data_IR_007_FE (485772,)\n",
            "G_data_IR_014_FE (485221,)\n",
            "G_data_IR_021_FE (484488,)\n",
            "G_data_OR_007_FE (1456585,)\n",
            "G_data_OR_014_FE (605655,)\n",
            "G_data_OR_021_FE (483202,)\n"
          ],
          "name": "stdout"
        }
      ]
    },
    {
      "cell_type": "markdown",
      "metadata": {
        "id": "WpdbKQ4v6bzX"
      },
      "source": [
        "### 3.4.1 Target Domain split\n",
        "Separating 90% for the Test\n",
        "1. B, \n",
        "2. IR, \n",
        "3. OR\n",
        "\n",
        "10% split is done for Transfer Learning. The 12k FE data is the *Target Domain* from which 10% split is intended for training and the rest of the 90% is for Test.\n"
      ]
    },
    {
      "cell_type": "code",
      "metadata": {
        "colab": {
          "base_uri": "https://localhost:8080/"
        },
        "id": "zCaaOafUyNSW",
        "outputId": "b0599736-0041-4322-ef5c-960d710fcfcc"
      },
      "source": [
        "G_data_N_FE_train, G_data_N_FE_test_1 = Percent_data_split(G_data_N_FE, False) \n",
        "print(\"G_data_N_FE_train\", G_data_N_FE_train.shape)\n",
        "print(\"G_data_N_FE_test 1\", G_data_N_FE_test_1.shape)\n",
        "\n",
        "G_data_B_007_FE_train, G_data_B_007_FE_test_1 = Percent_data_split(G_data_B_007_FE, False) \n",
        "print(\"G_data_B_007_FE_train\", G_data_B_007_FE_train.shape)\n",
        "print(\"G_data_B_007_FE_test 1\", G_data_B_007_FE_test_1.shape)\n",
        "G_data_B_014_FE_train, G_data_B_014_FE_test_1 = Percent_data_split(G_data_B_014_FE, False) \n",
        "print(\"G_data_B_014_FE_train\", G_data_B_014_FE_train.shape)\n",
        "print(\"G_data_B_014_FE_test 1\", G_data_B_014_FE_test_1.shape)\n",
        "G_data_B_021_FE_train, G_data_B_021_FE_test_1 = Percent_data_split(G_data_B_021_FE, False) \n",
        "print(\"G_data_B_021_FE_train\", G_data_B_021_FE_train.shape)\n",
        "print(\"G_data_B_021_FE_test 1\", G_data_B_021_FE_test_1.shape)\n",
        "\n",
        "G_data_IR_007_FE_train, G_data_IR_007_FE_test_1 = Percent_data_split(G_data_IR_007_FE, False) \n",
        "print(\"G_data_IR_007_FE_train\", G_data_IR_007_FE_train.shape)\n",
        "print(\"G_data_IR_007_FE_test 1\", G_data_IR_007_FE_test_1.shape)\n",
        "G_data_IR_014_FE_train, G_data_IR_014_FE_test_1 = Percent_data_split(G_data_IR_014_FE, False) \n",
        "print(\"G_data_IR_014_FE_train\", G_data_IR_014_FE_train.shape)\n",
        "print(\"G_data_IR_014_FE_test 1\", G_data_IR_014_FE_test_1.shape)\n",
        "G_data_IR_021_FE_train, G_data_IR_021_FE_test_1 = Percent_data_split(G_data_IR_021_FE, False) \n",
        "print(\"G_data_IR_021_FE_train\", G_data_IR_021_FE_train.shape)\n",
        "print(\"G_data_IR_021_FE_test 1\", G_data_IR_021_FE_test_1.shape)\n",
        "\n",
        "G_data_OR_007_FE_train, G_data_OR_007_FE_test_1 = Percent_data_split(G_data_OR_007_FE, False) \n",
        "print(\"G_data_OR_007_FE_train\", G_data_OR_007_FE_train.shape)\n",
        "print(\"G_data_OR_007_FE_test 1\", G_data_OR_007_FE_test_1.shape)\n",
        "G_data_OR_014_FE_train, G_data_OR_014_FE_test_1 = Percent_data_split(G_data_OR_014_FE, False) \n",
        "print(\"G_data_OR_014_FE_train\", G_data_OR_014_FE_train.shape)\n",
        "print(\"G_data_OR_014_FE_test 1\", G_data_OR_014_FE_test_1.shape)\n",
        "G_data_OR_021_FE_train, G_data_OR_021_FE_test_1 = Percent_data_split(G_data_OR_021_FE, G_data_OR_021_FE, 9.9, False) \n",
        "print(\"G_data_OR_021_FE_train\", G_data_OR_021_FE_train.shape)\n",
        "print(\"G_data_OR_021_FE_test 1\", G_data_OR_021_FE_test_1.shape)"
      ],
      "execution_count": 8,
      "outputs": [
        {
          "output_type": "stream",
          "text": [
            "G_data_N_FE_train (169854,)\n",
            "G_data_N_FE_test 1 (1528693,)\n",
            "G_data_B_007_FE_train (48485,)\n",
            "G_data_B_007_FE_test 1 (436371,)\n",
            "G_data_B_014_FE_train (48724,)\n",
            "G_data_B_014_FE_test 1 (438518,)\n",
            "G_data_B_021_FE_train (48503,)\n",
            "G_data_B_021_FE_test 1 (436535,)\n",
            "G_data_IR_007_FE_train (48577,)\n",
            "G_data_IR_007_FE_test 1 (437195,)\n",
            "G_data_IR_014_FE_train (48522,)\n",
            "G_data_IR_014_FE_test 1 (436699,)\n",
            "G_data_IR_021_FE_train (48448,)\n",
            "G_data_IR_021_FE_test 1 (436040,)\n",
            "G_data_OR_007_FE_train (145658,)\n",
            "G_data_OR_007_FE_test 1 (1310927,)\n",
            "G_data_OR_014_FE_train (60565,)\n",
            "G_data_OR_014_FE_test 1 (545090,)\n",
            "G_data_OR_021_FE_train (47836,)\n",
            "G_data_OR_021_FE_test 1 (435366,)\n"
          ],
          "name": "stdout"
        }
      ]
    },
    {
      "cell_type": "markdown",
      "metadata": {
        "id": "9baWWRZyC0O2"
      },
      "source": [
        "##**3.5** G data for a single file IR DE data\n",
        "\n",
        "It is a python dictionary with keys where\n",
        "* `code` is the sensor position and can be:\n",
        "    - `DE` if the data comes from the sensor at the *Drive End* of the motor\n",
        "    - `FE` if the data comes from the sensor at the *Fan End* of the engine\n",
        "    "
      ]
    },
    {
      "cell_type": "code",
      "metadata": {
        "id": "Mj9iXn43b_Sy",
        "colab": {
          "base_uri": "https://localhost:8080/"
        },
        "outputId": "55a5e7bf-5691-4aed-866c-f9297505b039"
      },
      "source": [
        "for i in range(3, len(subfolder_path), 1):\n",
        "  dir_1 = subfolder_path[i]\n",
        "  if 'IR/' in dir_1:\n",
        "    onlyfiles = [f for f in listdir(dir_1) if isfile(join(dir_1, f))]\n",
        "    if '007' in dir_1:\n",
        "    #007\n",
        "      #print(dir_1, onlyfiles)\n",
        "      data = sio.loadmat(os.path.join(dir_1, onlyfiles[0]))\n",
        "      print(dir_1, onlyfiles[0])\n",
        "      print(\"MAT File content: \", data)\n",
        "      G_data = acceleration_time_signal(data, code='FE')\n",
        "      print(\"Just the G data: \", G_data)"
      ],
      "execution_count": 16,
      "outputs": [
        {
          "output_type": "stream",
          "text": [
            "/content/CWRU-dataset-main/12k_Drive_End_Bearing_Fault_Data/IR/007 107_2.mat\n",
            "MAT File content:  {'__header__': b'MATLAB 5.0 MAT-file, Platform: PCWIN, Created on: Mon Jan 31 13:52:33 2000', '__version__': '1.0', '__globals__': [], 'X107_DE_time': array([[-0.09323776],\n",
            "       [ 0.1872877 ],\n",
            "       [ 0.21766307],\n",
            "       ...,\n",
            "       [ 0.06562379],\n",
            "       [-0.184039  ],\n",
            "       [-0.04044635]]), 'X107_FE_time': array([[-0.02917455],\n",
            "       [-0.18634727],\n",
            "       [-0.34126   ],\n",
            "       ...,\n",
            "       [ 0.08485273],\n",
            "       [ 0.06718364],\n",
            "       [-0.09430364]]), 'X107_BA_time': array([[ 0.04880795],\n",
            "       [ 0.05291217],\n",
            "       [-0.05681519],\n",
            "       ...,\n",
            "       [ 0.07870433],\n",
            "       [-0.01001911],\n",
            "       [-0.00277638]]), 'X107RPM': array([[1748]], dtype=uint16)}\n",
            "Just the G data:  [[-0.00074103]\n",
            " [-0.00473322]\n",
            " [-0.008668  ]\n",
            " ...\n",
            " [ 0.00215526]\n",
            " [ 0.00170646]\n",
            " [-0.00239531]]\n"
          ],
          "name": "stdout"
        }
      ]
    },
    {
      "cell_type": "markdown",
      "metadata": {
        "id": "81Ehxkv_hAZX"
      },
      "source": [
        "##**3.6** Plot\n",
        "Some signals are plotted for the position code = `FE`of the train data. The data is sampled at 12kHz, that is 12000 data points per second. Plot is done for 1/10 or 10% of 1 second: "
      ]
    },
    {
      "cell_type": "code",
      "metadata": {
        "colab": {
          "base_uri": "https://localhost:8080/",
          "height": 457
        },
        "id": "U5XADMXGVohV",
        "outputId": "5ab8806d-a9df-4078-a3bb-ed9254ac634d"
      },
      "source": [
        "%matplotlib inline\n",
        "import matplotlib.pyplot as plt\n",
        "\n",
        "range_of_samples = range(0,1200)\n",
        "\n",
        "# plotting\n",
        "fig, axs = plt.subplots(2, 2, sharey=True, figsize=(10, 6), constrained_layout=True)\n",
        "fig.suptitle('Acceleration data recorded at the Fan End')\n",
        "\n",
        "axs[0, 0].plot(G_data_N_FE_train[range_of_samples])\n",
        "axs[0, 0].set_title('Normal state')\n",
        "\n",
        "axs[0, 1].plot(G_data_B_007_FE_train[range_of_samples])\n",
        "axs[0, 1].set_title('Ball fault (diameter 0.007 inch)')\n",
        "\n",
        "axs[1, 0].plot(G_data_IR_007_FE_train[range_of_samples])\n",
        "axs[1, 0].set_title('Inner Race fault (diameter 0.007 inch)')\n",
        "\n",
        "axs[1, 1].plot(G_data_OR_007_FE_train[range_of_samples])\n",
        "axs[1, 1].set_title('Outer Race fault (diameter 0.007 inch)')\n",
        "\n",
        "for ax in axs.flat:\n",
        "    ax.set(xlabel='time $(s)$', ylabel='acceleration $(m/s^2)$')\n"
      ],
      "execution_count": 17,
      "outputs": [
        {
          "output_type": "display_data",
          "data": {
            "image/png": "[encoded data removed]",
            "text/plain": [
              "<Figure size 720x432 with 4 Axes>"
            ]
          },
          "metadata": {
            "tags": [],
            "needs_background": "light"
          }
        }
      ]
    },
    {
      "cell_type": "markdown",
      "metadata": {
        "id": "PeQsL9BTzo1-"
      },
      "source": [
        "# 4.Preprocessing and the architecture of the CNN\n"
      ]
    },
    {
      "cell_type": "markdown",
      "metadata": {
        "id": "0bmlIlBczrcm"
      },
      "source": [
        "This has been accomplished with the help of [this Github rep](https://github.com/dimitardi/deep-predict). \n",
        "\n",
        "The different preprocessing phases are - \n",
        "\n",
        "1. Data in chunks\n",
        "2. Feature engineering\n",
        "3. Image creating\n",
        "4. Image loading\n",
        "5. Data shuffling\n",
        "6. Convolutional Neural Network (CNN)"
      ]
    },
    {
      "cell_type": "markdown",
      "metadata": {
        "id": "PijvViP1zv_9"
      },
      "source": [
        "## 4.1 Data in chunks\n",
        "\n",
        "1. Acceleration data or signal is divided in chunks of size `chunk_size` and a subset `number_of_chunks` from all of it that is available for training and testing the CNN. \n",
        "\n",
        "2. A chunk is simply a sequential subset of the time series data with a fixed length - the `chunk_size`. \n",
        "\n",
        "3. Every chunk is distinct - no overlapping samples in different chunks. \n",
        "\n",
        "4. This method is _tumbling time windowing_, more information in [blog post](https://blog.codecentric.de/en/2018/10/window-functions-in-stream-analytics/). \n",
        "\n",
        "5. Each time series is an array, with small length differences. For a fixed chunk size to divide the file, a function needs to split the data exaclty in `number_of_chunks` of `chunk_size` and **ignore** the remaining part. \n",
        "\n",
        "6. A function for that - `split_exact`, takes the array for splitting, the number of chunks and the array axis to be split into. \n",
        "\n",
        "7. Whole dataset remains but the vector has been divided into column chunks to build a matrix. It makes passing the *whole dataset* through easier and takes *less time* for the data to load in general."
      ]
    },
    {
      "cell_type": "code",
      "metadata": {
        "id": "iYuODwPnVohZ"
      },
      "source": [
        "def split_exact(x, n_chunks=2, axis=1):\n",
        "    import numpy as np\n",
        "    l = np.shape(x)[axis]\n",
        "    x_split = x\n",
        "    if l > n_chunks > 1:\n",
        "        n = n_chunks\n",
        "        if axis == 0:\n",
        "            x_split = np.split(x[:-(l % n)], n, axis=axis)\n",
        "            #print(x_split)\n",
        "        elif axis == 1:\n",
        "            x_split = np.split(x[:, :-(l % n)], n, axis=axis)\n",
        "    return x_split"
      ],
      "execution_count": 18,
      "outputs": []
    },
    {
      "cell_type": "markdown",
      "metadata": {
        "id": "jQ4qpoWbz1tE"
      },
      "source": [
        "The data went through some operations. Ignoring the 0.028 inch fault diameter from `IR` and `B`, only considering the rest:\n",
        "\n",
        "* the **normal** data labelled as `N`\n",
        "* the **inner raceway** data labelled as `IR`\n",
        "      1.for 0.007 inch fault diameter\n",
        "      2.for 0.014 inch fault diameter\n",
        "      3.for 0.021 inch fault diameter\n",
        "* the **ball** damage data labelled as `B`\n",
        "      1.for 0.007 inch fault diameter\n",
        "      2.for 0.014 inch fault diameter\n",
        "      3.for 0.021 inch fault diameter\n",
        "* the **outer raceway** data labelled as `OR`\n",
        "      1.for 0.007 inch fault diameter\n",
        "      2.for 0.014 inch fault diameter\n",
        "      3.for 0.021 inch fault diameter\n",
        "\n",
        "For every load, data is joined from `0...3` HP load, normalizing it with respect to the *standard deviation*. This is because the load is not considered in *Classification*. \n",
        "\n",
        "Several functions needed, such as; `load_raw_matlab_data` which returns several multidimensional arrays for `N`, `IR`, `B` and `OR` data with dimension of the maximum `number_of_chunks` obtainable from the data, by `chunk_size`. "
      ]
    },
    {
      "cell_type": "code",
      "metadata": {
        "id": "gfZqfVmdLLqr"
      },
      "source": [
        "import numpy as np\n",
        "\n",
        "def g_data_chunkSplit(gdata, chunk_size=128):\n",
        "    \"\"\"\n",
        "    Change loaded mat files and splits it in chunks of size chunk_size\n",
        "    \"\"\"\n",
        "    y_n: ndarray = np.array([])\n",
        "    # signal\n",
        "    x = gdata\n",
        "    x = x / np.std(x)\n",
        "    y_n = np.append(y_n, x)\n",
        "    n_splits = len(y_n) // chunk_size\n",
        "    y_n = split_exact(y_n, n_chunks=n_splits, axis=0)\n",
        "\n",
        "    return y_n"
      ],
      "execution_count": 19,
      "outputs": []
    },
    {
      "cell_type": "markdown",
      "metadata": {
        "id": "tAay26EShPHg"
      },
      "source": [
        "Initializing the data using the latter function."
      ]
    },
    {
      "cell_type": "code",
      "metadata": {
        "colab": {
          "base_uri": "https://localhost:8080/",
          "height": 623
        },
        "id": "C__k3hDEVohe",
        "outputId": "3769bfa0-787a-4e2d-f337-f700b1834cd7"
      },
      "source": [
        "chunk_size = 1200\n",
        "number_of_chunks = 1400\n",
        "\n",
        "#FE data \n",
        "normal_data_chunk_FE_train = g_data_chunkSplit(G_data_N_FE_train, chunk_size=chunk_size)\n",
        "print(\"normal_data_chunk_FE_train\", np.shape(normal_data_chunk_FE_train))\n",
        "normal_data_chunk_FE_test = g_data_chunkSplit(G_data_N_FE_test_1, chunk_size=chunk_size)\n",
        "print(\"normal_data_chunk_FE_test\", np.shape(normal_data_chunk_FE_test))\n",
        "\n",
        "b_data_chunk_007_FE_train = g_data_chunkSplit(G_data_B_007_FE_train, chunk_size=chunk_size)\n",
        "print(\"b_data_chunk_007_FE_train\", np.shape(b_data_chunk_007_FE_train))\n",
        "b_data_chunk_007_FE_test = g_data_chunkSplit(G_data_B_007_FE_test_1, chunk_size=chunk_size)\n",
        "print(\"b_data_chunk_007_FE_test\", np.shape(b_data_chunk_007_FE_test))\n",
        "b_data_chunk_014_FE_train = g_data_chunkSplit(G_data_B_014_FE_train, chunk_size=chunk_size)\n",
        "print(\"b_data_chunk_014_FE_train\", np.shape(b_data_chunk_014_FE_train))\n",
        "b_data_chunk_014_FE_test = g_data_chunkSplit(G_data_B_014_FE_test_1, chunk_size=chunk_size)\n",
        "print(\"b_data_chunk_014_FE_test\", np.shape(b_data_chunk_014_FE_test))\n",
        "b_data_chunk_021_FE_train = g_data_chunkSplit(G_data_B_021_FE_train, chunk_size=chunk_size)\n",
        "print(\"b_data_chunk_021_FE_train\", np.shape(b_data_chunk_021_FE_train))\n",
        "b_data_chunk_021_FE_test = g_data_chunkSplit(G_data_B_021_FE_test_1, chunk_size=chunk_size)\n",
        "print(\"b_data_chunk_021_FE_test\", np.shape(b_data_chunk_021_FE_test))  \n",
        "\n",
        "ir_data_chunk_007_FE_train = g_data_chunkSplit(G_data_IR_007_FE_train, chunk_size=chunk_size)\n",
        "print(\"ir_data_chunk_007_FE_train\", np.shape(ir_data_chunk_007_FE_train))\n",
        "ir_data_chunk_007_FE_test = g_data_chunkSplit(G_data_IR_007_FE_test_1, chunk_size=chunk_size)\n",
        "print(\"ir_data_chunk_007_FE_test\", np.shape(ir_data_chunk_007_FE_test))\n",
        "ir_data_chunk_014_FE_train = g_data_chunkSplit(G_data_IR_014_FE_train, chunk_size=chunk_size)\n",
        "print(\"ir_data_chunk_014_FE_train\", np.shape(ir_data_chunk_014_FE_train))\n",
        "ir_data_chunk_014_FE_test = g_data_chunkSplit(G_data_IR_014_FE_test_1, chunk_size=chunk_size)\n",
        "print(\"ir_data_chunk_014_FE_test\", np.shape(ir_data_chunk_014_FE_test))\n",
        "ir_data_chunk_021_FE_train = g_data_chunkSplit(G_data_IR_021_FE_train, chunk_size=chunk_size)\n",
        "print(\"ir_data_chunk_021_FE_train\", np.shape(ir_data_chunk_021_FE_train))\n",
        "ir_data_chunk_021_FE_test = g_data_chunkSplit(G_data_IR_021_FE_test_1, chunk_size=chunk_size)\n",
        "print(\"ir_data_chunk_021_FE_test\", np.shape(ir_data_chunk_021_FE_test))\n",
        "\n",
        "or_data_chunk_007_FE_train = g_data_chunkSplit(G_data_OR_007_FE_train, chunk_size=chunk_size)\n",
        "print(\"or_data_chunk_007_FE_train\", np.shape(or_data_chunk_007_FE_train))\n",
        "or_data_chunk_007_FE_test = g_data_chunkSplit(G_data_OR_007_FE_test_1, chunk_size=chunk_size)\n",
        "print(\"or_data_chunk_007_FE_test\", np.shape(or_data_chunk_007_FE_test))  \n",
        "or_data_chunk_014_FE_train = g_data_chunkSplit(G_data_OR_014_FE_train, chunk_size=chunk_size)\n",
        "print(\"or_data_chunk_014_FE_train\", np.shape(or_data_chunk_014_FE_train))\n",
        "or_data_chunk_014_FE_test = g_data_chunkSplit(G_data_OR_014_FE_test_1, chunk_size=chunk_size)\n",
        "print(\"or_data_chunk_014_FE_test\", np.shape(or_data_chunk_014_FE_test))  \n",
        "or_data_chunk_021_FE_train = g_data_chunkSplit(G_data_OR_021_FE_train, chunk_size=chunk_size)\n",
        "print(\"or_data_chunk_021_FE_train\", np.shape(or_data_chunk_021_FE_train))\n",
        "or_data_chunk_021_FE_test = g_data_chunkSplit(G_data_OR_021_FE_test_1, chunk_size=chunk_size)\n",
        "print(\"or_data_chunk_021_FE_test\", np.shape(or_data_chunk_021_FE_test))  \n",
        "\n",
        "\n",
        "#DE data\n",
        "display(\"DE\")\n",
        "normal_data_chunk_DE = g_data_chunkSplit(G_data_N_DE, chunk_size=chunk_size)\n",
        "print(\"normal_data_chunk_DE\", np.shape(normal_data_chunk_DE)) \n",
        "ir_data_chunk_007_DE = g_data_chunkSplit(G_data_IR_007_DE, chunk_size=chunk_size)\n",
        "print(\"ir_data_chunk_007_DE\", np.shape(ir_data_chunk_007_DE))\n",
        "ir_data_chunk_014_DE = g_data_chunkSplit(G_data_IR_014_DE, chunk_size=chunk_size)\n",
        "print(\"ir_data_chunk_014_DE\", np.shape(ir_data_chunk_014_DE))\n",
        "ir_data_chunk_021_DE = g_data_chunkSplit(G_data_IR_021_DE, chunk_size=chunk_size)\n",
        "print(\"ir_data_chunk_021_DE\", np.shape(ir_data_chunk_021_DE))\n",
        "ir_data_chunk_028_DE = g_data_chunkSplit(G_data_IR_028_DE, chunk_size=chunk_size)\n",
        "print(\"ir_data_chunk_028_DE\", np.shape(ir_data_chunk_028_DE))\n",
        "b_data_chunk_007_DE = g_data_chunkSplit(G_data_B_007_DE, chunk_size=chunk_size)\n",
        "print(\"b_data_chunk_007_DE\", np.shape(b_data_chunk_007_DE))\n",
        "b_data_chunk_014_DE = g_data_chunkSplit(G_data_B_014_DE, chunk_size=chunk_size)\n",
        "print(\"b_data_chunk_014_DE\", np.shape(b_data_chunk_014_DE))\n",
        "b_data_chunk_021_DE = g_data_chunkSplit(G_data_B_021_DE, chunk_size=chunk_size)\n",
        "print(\"b_data_chunk_021_DE\", np.shape(b_data_chunk_021_DE))\n",
        "b_data_chunk_028_DE = g_data_chunkSplit(G_data_B_028_DE, chunk_size=chunk_size)\n",
        "print(\"b_data_chunk_028_DE\", np.shape(b_data_chunk_028_DE)) \n",
        "or_data_chunk_007_DE = g_data_chunkSplit(G_data_OR_007_DE, chunk_size=chunk_size)\n",
        "print(\"or_data_chunk_007_DE\", np.shape(or_data_chunk_007_DE))  \n",
        "or_data_chunk_014_DE = g_data_chunkSplit(G_data_OR_014_DE, chunk_size=chunk_size)\n",
        "print(\"or_data_chunk_014_DE\", np.shape(or_data_chunk_014_DE)) \n",
        "or_data_chunk_021_DE = g_data_chunkSplit(G_data_OR_021_DE, chunk_size=chunk_size)\n",
        "print(\"or_data_chunk_021_DE\", np.shape(or_data_chunk_021_DE)) "
      ],
      "execution_count": 21,
      "outputs": [
        {
          "output_type": "stream",
          "text": [
            "normal_data_chunk_FE_train (141, 1204)\n",
            "normal_data_chunk_FE_test (1273, 1200)\n",
            "b_data_chunk_007_FE_train (40, 1212)\n",
            "b_data_chunk_007_FE_test (363, 1202)\n",
            "b_data_chunk_014_FE_train (40, 1218)\n",
            "b_data_chunk_014_FE_test (365, 1201)\n",
            "b_data_chunk_021_FE_train (40, 1212)\n",
            "b_data_chunk_021_FE_test (363, 1202)\n",
            "ir_data_chunk_007_FE_train (40, 1214)\n",
            "ir_data_chunk_007_FE_test (364, 1201)\n",
            "ir_data_chunk_014_FE_train (40, 1213)\n",
            "ir_data_chunk_014_FE_test (363, 1203)\n",
            "ir_data_chunk_021_FE_train (40, 1211)\n",
            "ir_data_chunk_021_FE_test (363, 1201)\n",
            "or_data_chunk_007_FE_train (121, 1203)\n",
            "or_data_chunk_007_FE_test (1092, 1200)\n",
            "or_data_chunk_014_FE_train (50, 1211)\n",
            "or_data_chunk_014_FE_test (454, 1200)\n",
            "or_data_chunk_021_FE_train (39, 1226)\n",
            "or_data_chunk_021_FE_test (362, 1202)\n"
          ],
          "name": "stdout"
        },
        {
          "output_type": "display_data",
          "data": {
            "application/vnd.google.colaboratory.intrinsic+json": {
              "type": "string"
            },
            "text/plain": [
              "'DE'"
            ]
          },
          "metadata": {
            "tags": []
          }
        },
        {
          "output_type": "stream",
          "text": [
            "normal_data_chunk_DE (1415, 1200)\n",
            "ir_data_chunk_007_DE (406, 1202)\n",
            "ir_data_chunk_014_DE (406, 1200)\n",
            "ir_data_chunk_021_DE (406, 1200)\n",
            "ir_data_chunk_028_DE (404, 1200)\n",
            "b_data_chunk_007_DE (405, 1202)\n",
            "b_data_chunk_014_DE (406, 1202)\n",
            "b_data_chunk_021_DE (406, 1201)\n",
            "b_data_chunk_028_DE (403, 1201)\n",
            "or_data_chunk_007_DE (1220, 1200)\n",
            "or_data_chunk_014_DE (406, 1201)\n",
            "or_data_chunk_021_DE (1221, 1200)\n"
          ],
          "name": "stdout"
        }
      ]
    },
    {
      "cell_type": "markdown",
      "metadata": {
        "id": "Ff7h1J5SVohh"
      },
      "source": [
        "## 4.2 Feature engineering"
      ]
    },
    {
      "cell_type": "markdown",
      "metadata": {
        "id": "t4eubtG90bgH"
      },
      "source": [
        "Each chunk of data is preprocessed. A time/fequency image is extracted from each chunk with preprocessing techniques. For all the images, a min max normalization was used, to have mapping only in the range `[0,1]`."
      ]
    },
    {
      "cell_type": "code",
      "metadata": {
        "id": "psNVZuL1Vohi"
      },
      "source": [
        "def min_max_norm(ary):\n",
        "    ary = (ary - ary.min()) / np.abs(ary.max() - ary.min())\n",
        "    return ary"
      ],
      "execution_count": 22,
      "outputs": []
    },
    {
      "cell_type": "markdown",
      "metadata": {
        "id": "t3fqTBtq0kvh"
      },
      "source": [
        "### 4.2.1 Short Time Fourier Transform\n",
        "The function `generate_spectrogram_image(data_y_vector, image_shape)` takes a *time series* as input and the *resolution* of the image that it will generate. It then returns the **Short time Fourier Transform Spectrogram** which is then normalized in the range `[0,1]`."
      ]
    },
    {
      "cell_type": "code",
      "metadata": {
        "id": "OKw_rCcVVohl"
      },
      "source": [
        "from scipy import signal\n",
        "from skimage.transform import resize\n",
        "\n",
        "def generate_spectrogram_image(data_y_vector, image_shape):\n",
        "    \"\"\"\n",
        "    Calculate the spectrogram of an array data_y_vector and resize it in \n",
        "    the image_shape resolution\n",
        "    \"\"\"\n",
        "    fs = 12000\n",
        "    data_y_vector_len = np.shape(data_y_vector)[0]\n",
        "\n",
        "    f, t, sxx = signal.spectrogram(\n",
        "        data_y_vector,\n",
        "        fs)\n",
        "\n",
        "    sxx = min_max_norm(sxx)\n",
        "    sxx = resize(sxx, image_shape, mode='constant', anti_aliasing=True)\n",
        "\n",
        "    return sxx"
      ],
      "execution_count": 23,
      "outputs": []
    },
    {
      "cell_type": "markdown",
      "metadata": {
        "id": "emWy_8JJ0pxA"
      },
      "source": [
        "A look at the Short Time Fourier Transform of one chunk of the data `N`, `IR`, `B` and `OR`:"
      ]
    },
    {
      "cell_type": "code",
      "metadata": {
        "colab": {
          "base_uri": "https://localhost:8080/",
          "height": 241
        },
        "id": "b26b3JJkVohp",
        "scrolled": true,
        "outputId": "33a39050-7e08-4992-d4a7-89725f0dd8f0"
      },
      "source": [
        "import matplotlib.pyplot as plt\n",
        "fig, (plt1, plt2, plt3, plt4) = plt.subplots(1, 4, sharey = True, figsize=(12,3), constrained_layout=True)\n",
        "\n",
        "plt1.set_xlabel(\"time\")\n",
        "plt1.set_ylabel(\"frequency\")\n",
        "plt1.set_title('Normal state')\n",
        "plt1.imshow(generate_spectrogram_image(normal_data_chunk_FE_train[3], (96,96)))\n",
        "\n",
        "plt2.set_xlabel(\"time\")\n",
        "plt2.set_ylabel(\"frequency\")\n",
        "plt2.set_title('Inner Race fault')\n",
        "plt2.imshow(generate_spectrogram_image(ir_data_chunk_007_FE_train[3], (96,96)))\n",
        "\n",
        "plt3.set_xlabel(\"time\")\n",
        "plt3.set_ylabel(\"frequency\")\n",
        "plt3.set_title('Ball fault')\n",
        "plt3.imshow(generate_spectrogram_image(b_data_chunk_007_FE_train[3], (96,96)))\n",
        "\n",
        "plt4.set_xlabel(\"time\")\n",
        "plt4.set_ylabel(\"frequency\")\n",
        "plt4.set_title('Outer Race fault')\n",
        "plt4.imshow(generate_spectrogram_image(or_data_chunk_007_FE_train[3], (96,96)))\n",
        "\n",
        "fig.suptitle('STFT - 0.007 inches fault diameter Fan End')\n",
        "fig.show()"
      ],
      "execution_count": 24,
      "outputs": [
        {
          "output_type": "display_data",
          "data": {
            "image/png": "[encoded data removed]",
            "text/plain": [
              "<Figure size 864x216 with 4 Axes>"
            ]
          },
          "metadata": {
            "tags": [],
            "needs_background": "light"
          }
        }
      ]
    },
    {
      "cell_type": "markdown",
      "metadata": {
        "id": "pRR1wujON6T7"
      },
      "source": [
        "## 4.3 Image creating and Data shuffling"
      ]
    },
    {
      "cell_type": "markdown",
      "metadata": {
        "id": "lLG9oRAEN-Dv"
      },
      "source": [
        "Several images are created that are going to be used to train the CNN. Some functions are needed to help in creating the folders in which the images will be stored and to label correctly the files generated, depending on the parameters chosen, such as `position`, `image_type`, `image_shape`, etc. \r\n",
        "\r\n",
        "A random shuffling is done between the chunks at this stage, so the CNN does not get trained on images that are of adjacent time windows."
      ]
    },
    {
      "cell_type": "markdown",
      "metadata": {
        "id": "BZG6Yqfm4-G1"
      },
      "source": [
        "Creating directory for putting the created images. These images will also be loaded from here."
      ]
    },
    {
      "cell_type": "code",
      "metadata": {
        "id": "7trHSIv-VXiV"
      },
      "source": [
        "def try_make_directories():     \n",
        "    data_directories = [\"dataset\", \"npy_dataset\"]\n",
        "    for directory in data_directories:\n",
        "        try:\n",
        "            os.makedirs(f'./{directory}')\n",
        "        except OSError as e:\n",
        "            if e.errno != errno.EEXIST:\n",
        "                raise"
      ],
      "execution_count": 25,
      "outputs": []
    },
    {
      "cell_type": "code",
      "metadata": {
        "id": "vWOS0m3GgwZm"
      },
      "source": [
        "from tqdm.notebook import tqdm\n",
        "from enum import Enum\n",
        "#\n",
        "def create_image_by_label_database(\n",
        "        position,\n",
        "        image_types,\n",
        "        image_shape,\n",
        "        noise_scale = 0.0,\n",
        "        shuffle_across_time=True,\n",
        "        overwrite_existing_file=False):\n",
        "\n",
        "    try_make_directories()\n",
        "\n",
        "    filename_for_images_by_labels = npy_dataset_filename(\n",
        "        position,\n",
        "        image_types,\n",
        "        image_shape,\n",
        "        noise_scale, \n",
        "        shuffle_across_time\n",
        "    )\n",
        "\n",
        "    if overwrite_existing_file is False:\n",
        "        import os\n",
        "        if os.path.isfile(filename_for_images_by_labels):\n",
        "            print(\n",
        "                \"File already exists. Use 'overwrite_existing_file' if you wish to regenerate and overwrite it. Bye.\")\n",
        "            return\n",
        "#   \n",
        "    if position == \"FE_train\":\n",
        "      len_n = np.shape(normal_data_chunk_FE_train)[0]\n",
        "      len_b_007 = np.shape(b_data_chunk_007_FE_train)[0]\n",
        "      len_b_014 = np.shape(b_data_chunk_014_FE_train)[0]\n",
        "      len_b_021 = np.shape(b_data_chunk_021_FE_train)[0]\n",
        "      len_ir_007 = np.shape(ir_data_chunk_007_FE_train)[0]\n",
        "      len_ir_014 = np.shape(ir_data_chunk_014_FE_train)[0]\n",
        "      len_ir_021 = np.shape(ir_data_chunk_021_FE_train)[0]\n",
        "      len_or_007 = np.shape(or_data_chunk_007_FE_train)[0]\n",
        "      len_or_014 = np.shape(or_data_chunk_014_FE_train)[0]\n",
        "      len_or_021 = np.shape(or_data_chunk_021_FE_train)[0]\n",
        "      \n",
        "      len_data = min(len_n, len_b_007, len_b_014, len_b_021, len_ir_007, len_ir_014, len_ir_021, len_or_007, len_or_014, len_or_021, number_of_chunks)\n",
        "\n",
        "      normal_data = normal_data_chunk_FE_train\n",
        "      b_data_007 = b_data_chunk_007_FE_train\n",
        "      b_data_014 = b_data_chunk_014_FE_train \n",
        "      b_data_021 = b_data_chunk_021_FE_train\n",
        "      ir_data_007 = ir_data_chunk_007_FE_train\n",
        "      ir_data_014 = ir_data_chunk_014_FE_train\n",
        "      ir_data_021 = ir_data_chunk_021_FE_train\n",
        "      or_data_007 = or_data_chunk_007_FE_train\n",
        "      or_data_014 = or_data_chunk_014_FE_train\n",
        "      or_data_021 = or_data_chunk_021_FE_train\n",
        "\n",
        "    elif position == \"FE_validation\":\n",
        "      len_n = np.shape(normal_data_chunk_FE_val)[0]\n",
        "      len_b_007 = np.shape(b_data_chunk_007_FE_val)[0]\n",
        "      len_b_014 = np.shape(b_data_chunk_014_FE_val)[0]\n",
        "      len_b_021 = np.shape(b_data_chunk_021_FE_val)[0]\n",
        "      len_ir_007 = np.shape(ir_data_chunk_007_FE_val)[0]\n",
        "      len_ir_014 = np.shape(ir_data_chunk_014_FE_val)[0]\n",
        "      len_ir_021 = np.shape(ir_data_chunk_021_FE_val)[0]\n",
        "      len_or_007 = np.shape(or_data_chunk_007_FE_val)[0]\n",
        "      len_or_014 = np.shape(or_data_chunk_014_FE_val)[0]\n",
        "      len_or_021 = np.shape(or_data_chunk_021_FE_val)[0]\n",
        "      \n",
        "      len_data = min(len_n, len_b_007, len_b_014, len_b_021, len_ir_007, len_ir_014, len_ir_021, len_or_007, len_or_014, len_or_021, number_of_chunks)\n",
        "      \n",
        "      normal_data = normal_data_chunk_FE_val\n",
        "      b_data_007 = b_data_chunk_007_FE_val\n",
        "      b_data_014 = b_data_chunk_014_FE_val \n",
        "      b_data_021 = b_data_chunk_021_FE_val\n",
        "      ir_data_007 = ir_data_chunk_007_FE_val\n",
        "      ir_data_014 = ir_data_chunk_014_FE_val\n",
        "      ir_data_021 = ir_data_chunk_021_FE_val\n",
        "      or_data_007 = or_data_chunk_007_FE_val\n",
        "      or_data_014 = or_data_chunk_014_FE_val\n",
        "      or_data_021 = or_data_chunk_021_FE_val\n",
        "\n",
        "    elif position == \"FE_test\":\n",
        "      len_n = np.shape(normal_data_chunk_FE_test)[0]\n",
        "      len_b_007 = np.shape(b_data_chunk_007_FE_test)[0]\n",
        "      len_b_014 = np.shape(b_data_chunk_014_FE_test)[0]\n",
        "      len_b_021 = np.shape(b_data_chunk_021_FE_test)[0]\n",
        "      len_ir_007 = np.shape(ir_data_chunk_007_FE_test)[0]\n",
        "      len_ir_014 = np.shape(ir_data_chunk_014_FE_test)[0]\n",
        "      len_ir_021 = np.shape(ir_data_chunk_021_FE_test)[0]\n",
        "      len_or_007 = np.shape(or_data_chunk_007_FE_test)[0]\n",
        "      len_or_014 = np.shape(or_data_chunk_014_FE_test)[0]\n",
        "      len_or_021 = np.shape(or_data_chunk_021_FE_test)[0]\n",
        "      \n",
        "      len_data = min(len_n, len_b_007, len_b_014, len_b_021, len_ir_007, len_ir_014, len_ir_021, len_or_007, len_or_014, len_or_021, number_of_chunks)\n",
        "      \n",
        "      normal_data = normal_data_chunk_FE_test\n",
        "      b_data_007 = b_data_chunk_007_FE_test\n",
        "      b_data_014 = b_data_chunk_014_FE_test \n",
        "      b_data_021 = b_data_chunk_021_FE_test\n",
        "      ir_data_007 = ir_data_chunk_007_FE_test\n",
        "      ir_data_014 = ir_data_chunk_014_FE_test\n",
        "      ir_data_021 = ir_data_chunk_021_FE_test\n",
        "      or_data_007 = or_data_chunk_007_FE_test\n",
        "      or_data_014 = or_data_chunk_014_FE_test\n",
        "      or_data_021 = or_data_chunk_021_FE_test\n",
        "\n",
        "    elif position == \"DE\":\n",
        "      len_n = np.shape(normal_data_chunk_DE)[0]\n",
        "      len_b_007 = np.shape(b_data_chunk_007_DE)[0]\n",
        "      len_b_014 = np.shape(b_data_chunk_014_DE)[0]\n",
        "      len_b_021 = np.shape(b_data_chunk_021_DE)[0]\n",
        "      len_ir_007 = np.shape(ir_data_chunk_007_DE)[0]\n",
        "      len_ir_014 = np.shape(ir_data_chunk_014_DE)[0]\n",
        "      len_ir_021 = np.shape(ir_data_chunk_021_DE)[0]\n",
        "      len_or_007 = np.shape(or_data_chunk_007_DE)[0]\n",
        "      len_or_014 = np.shape(or_data_chunk_014_DE)[0]\n",
        "      len_or_021 = np.shape(or_data_chunk_021_DE)[0]\n",
        "      len_data = min(len_n, len_b_007, len_b_014, len_b_021, len_ir_007, len_ir_014, len_ir_021, len_or_007, len_or_014, len_or_021, number_of_chunks)\n",
        "      \n",
        "      normal_data = normal_data_chunk_DE\n",
        "      b_data_007 = b_data_chunk_007_DE\n",
        "      b_data_014 = b_data_chunk_014_DE \n",
        "      b_data_021 = b_data_chunk_021_DE\n",
        "      ir_data_007 = ir_data_chunk_007_DE\n",
        "      ir_data_014 = ir_data_chunk_014_DE\n",
        "      ir_data_021 = ir_data_chunk_021_DE\n",
        "      or_data_007 = or_data_chunk_007_DE\n",
        "      or_data_014 = or_data_chunk_014_DE\n",
        "      or_data_021 = or_data_chunk_021_DE\n",
        "      \n",
        "\n",
        "    if shuffle_across_time:\n",
        "        # so the first N chunks will be taken at random time from the whole time window\n",
        "        np.random.shuffle(normal_data)\n",
        "        np.random.shuffle(b_data_007)\n",
        "        np.random.shuffle(b_data_014)\n",
        "        np.random.shuffle(b_data_021)\n",
        "        np.random.shuffle(ir_data_007)\n",
        "        np.random.shuffle(ir_data_014)\n",
        "        np.random.shuffle(ir_data_021)\n",
        "        np.random.shuffle(or_data_007)\n",
        "        np.random.shuffle(or_data_014)\n",
        "        np.random.shuffle(or_data_021)      \n",
        "        \n",
        "    images_by_labels = {'n': [], 'b_0.007inch': [], 'b_0.014inch': [], 'b_0.021inch': [], 'ir_0.007inch': [], 'ir_0.014inch': [], 'ir_0.021inch': [], 'or_0.007inch': [], 'or_0.014inch': [], 'or_0.021inch': []}\n",
        "    \n",
        "    #1\n",
        "    for i in tqdm(range(int(len_n))):\n",
        "        n_images = generate_rgba_images_from_data(normal_data[i], image_shape, image_types)\n",
        "\n",
        "        images_by_labels['n'].extend(n_images)\n",
        "    #2\n",
        "    for i in tqdm(np.arange(len_b_007)):    \n",
        "        b_images_007 = generate_rgba_images_from_data(b_data_007[i], image_shape, image_types)\n",
        "        \n",
        "        images_by_labels['b_0.007inch'].extend(b_images_007)\n",
        "    #3\n",
        "    for i in tqdm(np.arange(len_b_014)):    \n",
        "        b_images_014 = generate_rgba_images_from_data(b_data_014[i], image_shape, image_types)\n",
        "        \n",
        "        images_by_labels['b_0.014inch'].extend(b_images_014)\n",
        "    #4\n",
        "    for i in tqdm(np.arange(len_b_021)):    \n",
        "        b_images_021 = generate_rgba_images_from_data(b_data_021[i], image_shape, image_types)\n",
        "        \n",
        "        images_by_labels['b_0.021inch'].extend(b_images_021)\n",
        "    #5\n",
        "    for i in tqdm(np.arange(len_ir_007)):\n",
        "        ir_images_007 = generate_rgba_images_from_data(ir_data_007[i], image_shape, image_types)\n",
        "        \n",
        "        images_by_labels['ir_0.007inch'].extend(ir_images_007)\n",
        "    #6\n",
        "    for i in tqdm(np.arange(len_ir_014)):\n",
        "        ir_images_014 = generate_rgba_images_from_data(ir_data_014[i], image_shape, image_types)\n",
        "        \n",
        "        images_by_labels['ir_0.014inch'].extend(ir_images_014)\n",
        "    #7\n",
        "    for i in tqdm(np.arange(len_ir_021)):    \n",
        "        ir_images_021 = generate_rgba_images_from_data(ir_data_021[i], image_shape, image_types)\n",
        "          \n",
        "        images_by_labels['ir_0.021inch'].extend(ir_images_021)\n",
        "    #8\n",
        "    for i in tqdm(np.arange(len_or_007)):    \n",
        "        or_images_007 = generate_rgba_images_from_data(or_data_007[i], image_shape, image_types)\n",
        "        \n",
        "        images_by_labels['or_0.007inch'].extend(or_images_007)\n",
        "    #9\n",
        "    for i in tqdm(np.arange(len_or_014)):    \n",
        "        or_images_014 = generate_rgba_images_from_data(or_data_014[i], image_shape, image_types)\n",
        "        \n",
        "        images_by_labels['or_0.014inch'].extend(or_images_014)\n",
        "    #10\n",
        "    for i in tqdm(np.arange(len_or_021)):    \n",
        "        or_images_021 = generate_rgba_images_from_data(or_data_021[i], image_shape, image_types)\n",
        "        \n",
        "        images_by_labels['or_0.021inch'].extend(or_images_021)\n",
        "\n",
        "    print(f'Saving {filename_for_images_by_labels}')\n",
        "    np.save(f'{filename_for_images_by_labels}', images_by_labels)\n",
        "        \n",
        "#\n",
        "def npy_dataset_filename(\n",
        "        position,\n",
        "        image_types,\n",
        "        image_shape,\n",
        "        noise_scale,\n",
        "        shuffled_across_time):\n",
        "    filename_suffix = \\\n",
        "        (f'_Position_{position}') + \\\n",
        "        f'_types{\"-\".join([str(t)[10:12] for t in image_types])}' + \\\n",
        "        (f'_noise{noise_scale}' if noise_scale > 0 else '') + \\\n",
        "        (f'_timeshuffled' if shuffled_across_time else '') + \\\n",
        "        f'_shape{image_shape[0]}-{image_shape[1]}'\n",
        "    filename = f'./npy_dataset/images_by_labels_for_cnn{filename_suffix}.npy'\n",
        "    return filename\n",
        "#\n",
        "#\n",
        "def generate_rgba_images_from_data(\n",
        "        vector_y_data,\n",
        "        image_shape,\n",
        "        image_types):\n",
        "    images = []\n",
        "    if ImageType.SPECTROGRAM in image_types:\n",
        "        images.append(generate_spectrogram_image(vector_y_data, image_shape))\n",
        "\n",
        "    images_rgba = ary_to_rgba(images)\n",
        "\n",
        "    return images_rgba\n",
        "#\n",
        "#\n",
        "def ary_to_rgba(ary, nchannels=1):\n",
        "    from matplotlib import cm\n",
        "\n",
        "    ary_dim = (np.shape(ary))\n",
        "\n",
        "    im = np.empty(shape=(ary_dim[0], ary_dim[1], ary_dim[2], nchannels)).astype('uint8')\n",
        "    for i in np.arange(0, len(ary)):\n",
        "        im[i, :] = np.log(ary[i] + 1e-6).reshape(ary_dim[0], ary_dim[1], ary_dim[2], nchannels)\n",
        "    return im\n",
        "#\n",
        "\n",
        "class ImageType(Enum):\n",
        "    SCALOGRAM = 1\n",
        "    SPECTROGRAM = 2\n",
        "    QTRANSFORM = 3"
      ],
      "execution_count": 27,
      "outputs": []
    },
    {
      "cell_type": "markdown",
      "metadata": {
        "id": "e75rQTjcH58V"
      },
      "source": [
        "### 4.3.1 Image creating\n",
        "The parameters of the preprocessing are: "
      ]
    },
    {
      "cell_type": "markdown",
      "metadata": {
        "id": "1zYMlXYPiBOx"
      },
      "source": [
        " \r\n",
        "- 10% 12k FE data for Train"
      ]
    },
    {
      "cell_type": "code",
      "metadata": {
        "colab": {
          "base_uri": "https://localhost:8080/",
          "height": 539,
          "referenced_widgets": [
            "cf862556f6444b0b8af009b1cf51a9a5",
            "eb057f42deac46faa2da93a5ea3c9b0b",
            "db9c54ee7c664e44ab49d8f0fadaee7f",
            "7999370793bd47e3a876a8c5b2691303",
            "31642df37d3f4e3ca5c7d0f71403c7a2",
            "42cc9b0b18734aa7a5d47fc1c2b5dfd5",
            "981ec72c3f064cbdb60e0fe174ad01a2",
            "4353158ddd9a4f92afc3811c73251e7d",
            "bf2bd0f2fffb4d80a18cec6c921eeb51",
            "1f8181511bb44e9cae599f6460374757",
            "36e90287240f4925b6b3187ecbce781f",
            "375f7f7e245842d6b7fbc77c4a923ad2",
            "c650143105884d08ad55f601cd113c83",
            "ca21f4199794467db7118d3f4202f961",
            "bc6562900370493fb8570d665fac19bb",
            "71bfeaec1e7847c691ff8e76973ee08c",
            "29c572e256e940b28ff233f1bd77ff94",
            "3a37020ce9014e73bfcc40e101c15465",
            "46cf120a383646bbbec5b831239fe77b",
            "a0da2224512948ddb6a9ddf42258cd65",
            "bc2e227e46df4c4cbc2a84f689830dcf",
            "8cf19475d8604fb98cee42b0578d5d8d",
            "b9e93f25d1cf4324acae6457613ad827",
            "392b0fd508354824a1ffef4ff8fd0e2b",
            "463252e6fb6c4fb8ad0ddd12560c755e",
            "17b99b487eb947489f5127a2e173fd5e",
            "59d2b4bd23ca46c9ae15b6ae17b0a787",
            "a075cd6776cf494cb84b82bd2b66d048",
            "4708f12cb8a54a8a95fe448ac422a974",
            "babd984098864e8abb65d3a924b02dbe",
            "1ec0e6de394e43dbb2b80e3bfbc91e98",
            "0d724b18482f4e5bb740606e141f09fa",
            "085a824b7d2844b79394474d4792c981",
            "0820048a36ff402ea2d14073add14c3a",
            "15e2b4fd67aa412d99f2a5512d59b627",
            "9b1601a3a5984e909b598a4770855ced",
            "8ed252796a9d4ed5a8f2a68b404554e0",
            "f465c9ba917749c8a53a92686f5ec47a",
            "fb38fe2094b24cedb778182d5acd5e7d",
            "06ca8b7ef65a48d6b6696631aa7d0ac3",
            "de7e1f8f77894e80a97b5bcec392fdb0",
            "d7772426b1f240bb938144b4eb1845c4",
            "30f59643ff7b46c8815c27031743fe3a",
            "6f124cad8d2043ed8cffc6a3fe855672",
            "a8ec915687f642d6ba214e40236121eb",
            "12a64b4a88b848bda1c3696aa4b2b55f",
            "55ff6f6ae6d64a42b8bc8ae131cd8094",
            "29e66a6e24d94c03913c763977356d89",
            "31f88b3e61cb423a9dccb93c834932e2",
            "62e7d149cf2e41df95585a1028a7a200",
            "76a28c8fc7bb4291b2ee784a93e943de",
            "b2d46586750047c7a6482a094028980a",
            "d8a06f8822d34fe0bfa12b205e4d8ab1",
            "5e90d6bf41f54bf081e4f48ed8379e78",
            "54014b3dcbce4bd3bca572173662ff73",
            "02b477107f3a45fd929ffc6c0a9a8f12",
            "addf1e8129cd425cb212432fa2389a88",
            "e002876deae04aca86900197586cd8ec",
            "d23bd8e3f81c46ad9f7a97b9a2f20af8",
            "5ed21ff329ec47e2a1dab3abc51b3ea8",
            "6674f7a3cf414c4a828f86641d2f7d7c",
            "3a2498b41e7249c08a39759697b49d8a",
            "e6db16c7c2a74d3ab5c68b72ddef5715",
            "b2155360550b43ed8bd88895e43a0175",
            "19f56db639464f2dba6709a90eb55fac",
            "48f4a399bef54d0695a0f82784deef34",
            "b5a703198d3b434a8ff5f7f7da9357ce",
            "c7f6737581414c0b80c33c0a823a3b88",
            "bc9cfd39da01474aa0202af94ffda95d",
            "87f54f1f6e1446a9852247342e85c2ca",
            "70326cd043f2471cb7da25238008feed",
            "8b82fc9f69f5427aa6e3245d8667a07f",
            "bdb8bbcb548f42b3b56a101a35e30c20",
            "55cf7d8ce335410a995b8811c0cd2388",
            "b17e4a6ddbf0418fbaa7b91b39677cf9",
            "6cdab37d906544159b756e05417b4465",
            "5f367f4199c74c05a43d3757d31a29b9",
            "acb42c909cf64350949265691fd9c40c",
            "4639b476d17d497cbd3f797b739b9aca",
            "87bad67f123e41f5ae5b68a65ac42863"
          ]
        },
        "id": "47hkcdlFVohx",
        "outputId": "3c394ff4-4df0-4d04-8dd9-d99eb65f7057"
      },
      "source": [
        "create_image_by_label_database(\n",
        "    position=\"FE_train\", \n",
        "    image_types=[ImageType.SPECTROGRAM], \n",
        "    image_shape=(96, 96), \n",
        "    shuffle_across_time=True,\n",
        "    overwrite_existing_file=True)"
      ],
      "execution_count": 28,
      "outputs": [
        {
          "output_type": "display_data",
          "data": {
            "application/vnd.jupyter.widget-view+json": {
              "model_id": "cf862556f6444b0b8af009b1cf51a9a5",
              "version_minor": 0,
              "version_major": 2
            },
            "text/plain": [
              "HBox(children=(FloatProgress(value=0.0, max=141.0), HTML(value='')))"
            ]
          },
          "metadata": {
            "tags": []
          }
        },
        {
          "output_type": "stream",
          "text": [
            "\n"
          ],
          "name": "stdout"
        },
        {
          "output_type": "display_data",
          "data": {
            "application/vnd.jupyter.widget-view+json": {
              "model_id": "bf2bd0f2fffb4d80a18cec6c921eeb51",
              "version_minor": 0,
              "version_major": 2
            },
            "text/plain": [
              "HBox(children=(FloatProgress(value=0.0, max=40.0), HTML(value='')))"
            ]
          },
          "metadata": {
            "tags": []
          }
        },
        {
          "output_type": "stream",
          "text": [
            "\n"
          ],
          "name": "stdout"
        },
        {
          "output_type": "display_data",
          "data": {
            "application/vnd.jupyter.widget-view+json": {
              "model_id": "29c572e256e940b28ff233f1bd77ff94",
              "version_minor": 0,
              "version_major": 2
            },
            "text/plain": [
              "HBox(children=(FloatProgress(value=0.0, max=40.0), HTML(value='')))"
            ]
          },
          "metadata": {
            "tags": []
          }
        },
        {
          "output_type": "stream",
          "text": [
            "\n"
          ],
          "name": "stdout"
        },
        {
          "output_type": "display_data",
          "data": {
            "application/vnd.jupyter.widget-view+json": {
              "model_id": "463252e6fb6c4fb8ad0ddd12560c755e",
              "version_minor": 0,
              "version_major": 2
            },
            "text/plain": [
              "HBox(children=(FloatProgress(value=0.0, max=40.0), HTML(value='')))"
            ]
          },
          "metadata": {
            "tags": []
          }
        },
        {
          "output_type": "stream",
          "text": [
            "\n"
          ],
          "name": "stdout"
        },
        {
          "output_type": "display_data",
          "data": {
            "application/vnd.jupyter.widget-view+json": {
              "model_id": "085a824b7d2844b79394474d4792c981",
              "version_minor": 0,
              "version_major": 2
            },
            "text/plain": [
              "HBox(children=(FloatProgress(value=0.0, max=40.0), HTML(value='')))"
            ]
          },
          "metadata": {
            "tags": []
          }
        },
        {
          "output_type": "stream",
          "text": [
            "\n"
          ],
          "name": "stdout"
        },
        {
          "output_type": "display_data",
          "data": {
            "application/vnd.jupyter.widget-view+json": {
              "model_id": "de7e1f8f77894e80a97b5bcec392fdb0",
              "version_minor": 0,
              "version_major": 2
            },
            "text/plain": [
              "HBox(children=(FloatProgress(value=0.0, max=40.0), HTML(value='')))"
            ]
          },
          "metadata": {
            "tags": []
          }
        },
        {
          "output_type": "stream",
          "text": [
            "\n"
          ],
          "name": "stdout"
        },
        {
          "output_type": "display_data",
          "data": {
            "application/vnd.jupyter.widget-view+json": {
              "model_id": "31f88b3e61cb423a9dccb93c834932e2",
              "version_minor": 0,
              "version_major": 2
            },
            "text/plain": [
              "HBox(children=(FloatProgress(value=0.0, max=40.0), HTML(value='')))"
            ]
          },
          "metadata": {
            "tags": []
          }
        },
        {
          "output_type": "stream",
          "text": [
            "\n"
          ],
          "name": "stdout"
        },
        {
          "output_type": "display_data",
          "data": {
            "application/vnd.jupyter.widget-view+json": {
              "model_id": "addf1e8129cd425cb212432fa2389a88",
              "version_minor": 0,
              "version_major": 2
            },
            "text/plain": [
              "HBox(children=(FloatProgress(value=0.0, max=121.0), HTML(value='')))"
            ]
          },
          "metadata": {
            "tags": []
          }
        },
        {
          "output_type": "stream",
          "text": [
            "\n"
          ],
          "name": "stdout"
        },
        {
          "output_type": "display_data",
          "data": {
            "application/vnd.jupyter.widget-view+json": {
              "model_id": "19f56db639464f2dba6709a90eb55fac",
              "version_minor": 0,
              "version_major": 2
            },
            "text/plain": [
              "HBox(children=(FloatProgress(value=0.0, max=50.0), HTML(value='')))"
            ]
          },
          "metadata": {
            "tags": []
          }
        },
        {
          "output_type": "stream",
          "text": [
            "\n"
          ],
          "name": "stdout"
        },
        {
          "output_type": "display_data",
          "data": {
            "application/vnd.jupyter.widget-view+json": {
              "model_id": "bdb8bbcb548f42b3b56a101a35e30c20",
              "version_minor": 0,
              "version_major": 2
            },
            "text/plain": [
              "HBox(children=(FloatProgress(value=0.0, max=39.0), HTML(value='')))"
            ]
          },
          "metadata": {
            "tags": []
          }
        },
        {
          "output_type": "stream",
          "text": [
            "\n",
            "Saving ./npy_dataset/images_by_labels_for_cnn_Position_FE_train_typesSP_timeshuffled_shape96-96.npy\n"
          ],
          "name": "stdout"
        }
      ]
    },
    {
      "cell_type": "markdown",
      "metadata": {
        "id": "b_0DKSKyiLUo"
      },
      "source": [
        "\r\n",
        "- 90% 12k FE data for Test"
      ]
    },
    {
      "cell_type": "code",
      "metadata": {
        "colab": {
          "base_uri": "https://localhost:8080/",
          "height": 539,
          "referenced_widgets": [
            "ae6b2c6d5c544910976150ed7100172a",
            "0e033d4342b74cb4b78d6279e06d034e",
            "a1bb123e853440a088dc83f1f8b59556",
            "50f7197fa2fe47f2921c9e2e682d825b",
            "e0277e3bf8574869b115203671361d0f",
            "14db90e85e414f5e97e9100b675d11c2",
            "ce1e2d1f34c74b11b3297fbeca972a6f",
            "95014d0de43c4bb28f2bc86b84189e77",
            "7e2a2fa740344dd7b1254dca702adbb1",
            "2a02d6a1d9bd47548242d70df9a8de84",
            "979b6e75ce784d17a8887966f710ea89",
            "b10f4fda321344b78104b08c6bf9611e",
            "86fc4048efce4d6092a7259b1e8ce8b2",
            "902a5add7b9049ebb440eaee85494138",
            "075ed05c4f264dc381d24530f78062be",
            "878d31ad1e4e4f23a0ed6687759fabf2",
            "13a3b77580644f8281cac2a4467fe4a2",
            "2608f96709aa43a0b8732e0e8535f640",
            "58aa5916f0974e889c0b84fe8bc54593",
            "a18d964614f04d568bd792f0ec21c784",
            "5527aa99e8444408aed10fb9d6c3e4b7",
            "b2b4509425244ba19609501ef316b454",
            "d9608d0ca66e494f83496121bef669dd",
            "2fd78eeb26aa4e3c813665675b450d83",
            "d49bba8e863e4ef78242c9f0b6690bbb",
            "774acf3f122742a88bb07b22e1838203",
            "17bf3c79e3bb4d1eb95f2fc5a82af063",
            "8fd2c34b010d4c86bf1cf3597d3515e1",
            "0f94c3735ff94626a9d83924ff666bc1",
            "b3cf78d5b94644e0847b76273b0cce5d",
            "da67ff762c904a14b855814a1cb97cdd",
            "7fefc2ccc1bd419485fd8c2d42945450",
            "52a8795b9ff8491ca185c3a047bf2d65",
            "8b48334fbb764c13909df4827582b288",
            "b3f1950649ec4f2e8cfb54209f204ec9",
            "e481e5be5eb44c3b86aeaa6bdc045a02",
            "983dc880564b4be1a5077f3396032cac",
            "9e90a8d2da9745389d8e321cfdd8202b",
            "5672124576fe4feeb43f43dbcc0bc795",
            "2ec79839d6704c9a9e8ab1ae8b0a2780",
            "590443b6dd104564b1a67fb801598986",
            "6bdc6ee00a2a4499a1a85424407be684",
            "0a0c9d1a11c84312a60a31621773edfc",
            "8fab3a0240c84566a7fa447247691c23",
            "3869a7622b224eccaa84e2d207deae84",
            "d4ad0265ef274e96933e876b5e83ff63",
            "2646e3d202164a0782e6f411fac5fb99",
            "cd8983b9423145de8d951cd78ab5eb89",
            "9df28d6458ab4e7cacbdc4fbe6bfa79d",
            "1d67916075d14aa5959ad0351b4ba929",
            "aacdd2ee182b4217aa74a36f7277f984",
            "a38de73ad8994580b1ee7da5498ee34c",
            "980240772a254c049e38baaeaaabeb29",
            "e2c4848a122a47339fd75a449e9999a7",
            "d9bab347fc6643d8b85a63c61f716b6e",
            "603d2df564d54badb60e4c827dbaf671",
            "48bc628a152f46da927dc576635c7a75",
            "1f9375f3689c4ae6bb58c4fad836cda2",
            "6256dcbea9754d82a164521f050df698",
            "86878f884aba47c891b9bac656624ee9",
            "33937512e48547deb125bb1037456455",
            "c69bd687017847f783eb800bed14aa50",
            "a1981c9190754d6491749c47685e54ce",
            "18af779f1a0b4dee987c4e2c1673bac0",
            "a0965f4212e64e1984afdddbcc6aa057",
            "c8b526000ed644458b3abcb9c0ff3e1c",
            "d7c49bdb3d8b4399b5d18ee76c4486c5",
            "8085328f40cf4a32a2da574960a8a2f7",
            "3d45db7219af42c48a1634c4405f2209",
            "6b179b23d82b402bb15546ce9c94573e",
            "b1c6143048fa43599a5da2941e414526",
            "0d4a394c8a244709bbcc0d1e0f7370d3",
            "c7c18213a3444470aaeca470ff5f30a3",
            "4c083db1a72e4cf39526b857c03b207d",
            "b072b169a354411aa93501801f482f3c",
            "41e4fd0935bf4611bbde01f1fc9f186e",
            "0ae3d997d690404b8b48c95b097a5524",
            "d6c6473c42ae4cc992f5102a702a877c",
            "17b1b3f4eea8412787ef6b40847a6139",
            "ce1705f961f84c71aa2713eca96c6c6e"
          ]
        },
        "id": "P1Cy2P24sKbA",
        "outputId": "d5089e71-ca91-4c3e-848f-47b13c072d59"
      },
      "source": [
        "create_image_by_label_database(\n",
        "    position=\"FE_test\", \n",
        "    image_types=[ImageType.SPECTROGRAM], \n",
        "    image_shape=(96, 96), \n",
        "    shuffle_across_time=True,\n",
        "    overwrite_existing_file=True)"
      ],
      "execution_count": 29,
      "outputs": [
        {
          "output_type": "display_data",
          "data": {
            "application/vnd.jupyter.widget-view+json": {
              "model_id": "ae6b2c6d5c544910976150ed7100172a",
              "version_minor": 0,
              "version_major": 2
            },
            "text/plain": [
              "HBox(children=(FloatProgress(value=0.0, max=1273.0), HTML(value='')))"
            ]
          },
          "metadata": {
            "tags": []
          }
        },
        {
          "output_type": "stream",
          "text": [
            "\n"
          ],
          "name": "stdout"
        },
        {
          "output_type": "display_data",
          "data": {
            "application/vnd.jupyter.widget-view+json": {
              "model_id": "7e2a2fa740344dd7b1254dca702adbb1",
              "version_minor": 0,
              "version_major": 2
            },
            "text/plain": [
              "HBox(children=(FloatProgress(value=0.0, max=363.0), HTML(value='')))"
            ]
          },
          "metadata": {
            "tags": []
          }
        },
        {
          "output_type": "stream",
          "text": [
            "\n"
          ],
          "name": "stdout"
        },
        {
          "output_type": "display_data",
          "data": {
            "application/vnd.jupyter.widget-view+json": {
              "model_id": "13a3b77580644f8281cac2a4467fe4a2",
              "version_minor": 0,
              "version_major": 2
            },
            "text/plain": [
              "HBox(children=(FloatProgress(value=0.0, max=365.0), HTML(value='')))"
            ]
          },
          "metadata": {
            "tags": []
          }
        },
        {
          "output_type": "stream",
          "text": [
            "\n"
          ],
          "name": "stdout"
        },
        {
          "output_type": "display_data",
          "data": {
            "application/vnd.jupyter.widget-view+json": {
              "model_id": "d49bba8e863e4ef78242c9f0b6690bbb",
              "version_minor": 0,
              "version_major": 2
            },
            "text/plain": [
              "HBox(children=(FloatProgress(value=0.0, max=363.0), HTML(value='')))"
            ]
          },
          "metadata": {
            "tags": []
          }
        },
        {
          "output_type": "stream",
          "text": [
            "\n"
          ],
          "name": "stdout"
        },
        {
          "output_type": "display_data",
          "data": {
            "application/vnd.jupyter.widget-view+json": {
              "model_id": "52a8795b9ff8491ca185c3a047bf2d65",
              "version_minor": 0,
              "version_major": 2
            },
            "text/plain": [
              "HBox(children=(FloatProgress(value=0.0, max=364.0), HTML(value='')))"
            ]
          },
          "metadata": {
            "tags": []
          }
        },
        {
          "output_type": "stream",
          "text": [
            "\n"
          ],
          "name": "stdout"
        },
        {
          "output_type": "display_data",
          "data": {
            "application/vnd.jupyter.widget-view+json": {
              "model_id": "590443b6dd104564b1a67fb801598986",
              "version_minor": 0,
              "version_major": 2
            },
            "text/plain": [
              "HBox(children=(FloatProgress(value=0.0, max=363.0), HTML(value='')))"
            ]
          },
          "metadata": {
            "tags": []
          }
        },
        {
          "output_type": "stream",
          "text": [
            "\n"
          ],
          "name": "stdout"
        },
        {
          "output_type": "display_data",
          "data": {
            "application/vnd.jupyter.widget-view+json": {
              "model_id": "9df28d6458ab4e7cacbdc4fbe6bfa79d",
              "version_minor": 0,
              "version_major": 2
            },
            "text/plain": [
              "HBox(children=(FloatProgress(value=0.0, max=363.0), HTML(value='')))"
            ]
          },
          "metadata": {
            "tags": []
          }
        },
        {
          "output_type": "stream",
          "text": [
            "\n"
          ],
          "name": "stdout"
        },
        {
          "output_type": "display_data",
          "data": {
            "application/vnd.jupyter.widget-view+json": {
              "model_id": "48bc628a152f46da927dc576635c7a75",
              "version_minor": 0,
              "version_major": 2
            },
            "text/plain": [
              "HBox(children=(FloatProgress(value=0.0, max=1092.0), HTML(value='')))"
            ]
          },
          "metadata": {
            "tags": []
          }
        },
        {
          "output_type": "stream",
          "text": [
            "\n"
          ],
          "name": "stdout"
        },
        {
          "output_type": "display_data",
          "data": {
            "application/vnd.jupyter.widget-view+json": {
              "model_id": "a0965f4212e64e1984afdddbcc6aa057",
              "version_minor": 0,
              "version_major": 2
            },
            "text/plain": [
              "HBox(children=(FloatProgress(value=0.0, max=454.0), HTML(value='')))"
            ]
          },
          "metadata": {
            "tags": []
          }
        },
        {
          "output_type": "stream",
          "text": [
            "\n"
          ],
          "name": "stdout"
        },
        {
          "output_type": "display_data",
          "data": {
            "application/vnd.jupyter.widget-view+json": {
              "model_id": "c7c18213a3444470aaeca470ff5f30a3",
              "version_minor": 0,
              "version_major": 2
            },
            "text/plain": [
              "HBox(children=(FloatProgress(value=0.0, max=362.0), HTML(value='')))"
            ]
          },
          "metadata": {
            "tags": []
          }
        },
        {
          "output_type": "stream",
          "text": [
            "\n",
            "Saving ./npy_dataset/images_by_labels_for_cnn_Position_FE_test_typesSP_timeshuffled_shape96-96.npy\n"
          ],
          "name": "stdout"
        }
      ]
    },
    {
      "cell_type": "markdown",
      "metadata": {
        "id": "b9U0PbsUXqBi"
      },
      "source": [
        "## 4.4 Preparing Train-Test Data "
      ]
    },
    {
      "cell_type": "markdown",
      "metadata": {
        "id": "riy5rfwbIRr8"
      },
      "source": [
        "### 4.4.1 Image loading\r\n",
        "Now to define a function that loads the images that were generated.\r\n"
      ]
    },
    {
      "cell_type": "code",
      "metadata": {
        "id": "ZUHcHHnRVoh5"
      },
      "source": [
        "def load_images_by_labels_by_params(\n",
        "        position,\n",
        "        image_types ,\n",
        "        image_shape,\n",
        "        noise_scale = 0.0,\n",
        "        chunks_are_shuffled_across_time=True):\n",
        "    filename = npy_dataset_filename(\n",
        "        position,\n",
        "        image_types,\n",
        "        image_shape,\n",
        "        noise_scale,\n",
        "        chunks_are_shuffled_across_time)\n",
        "\n",
        "    loaded = np.load(filename, allow_pickle=True)\n",
        "    print(f\"Successfully loaded file {filename}\")\n",
        "    return loaded.item()  # item() gets the actual dictionary from the loaded object"
      ],
      "execution_count": 30,
      "outputs": []
    },
    {
      "cell_type": "markdown",
      "metadata": {
        "id": "Rc1Km833ZYua"
      },
      "source": [
        "With the aid of the previous function the images for *FE* and *train* is loaded. This is the *train split* of 10%."
      ]
    },
    {
      "cell_type": "code",
      "metadata": {
        "colab": {
          "base_uri": "https://localhost:8080/"
        },
        "id": "qYErVezJVoh7",
        "outputId": "d3d11359-64eb-44f0-fb86-b7b3b19f0c6f"
      },
      "source": [
        "position = \"FE_train\"\n",
        "image_types=[ImageType.SPECTROGRAM]\n",
        "image_shape = (96, 96)\n",
        "shuffle_chunks_across_time=True\n",
        "\n",
        "images_by_labels_for_cnn_train_2 = load_images_by_labels_by_params(\n",
        "    position=position,    \n",
        "    image_types=image_types, \n",
        "    image_shape=image_shape,\n",
        "    chunks_are_shuffled_across_time=shuffle_chunks_across_time)"
      ],
      "execution_count": 31,
      "outputs": [
        {
          "output_type": "stream",
          "text": [
            "Successfully loaded file ./npy_dataset/images_by_labels_for_cnn_Position_FE_train_typesSP_timeshuffled_shape96-96.npy\n"
          ],
          "name": "stdout"
        }
      ]
    },
    {
      "cell_type": "markdown",
      "metadata": {
        "id": "EndTTS8kxhbe"
      },
      "source": [
        "With the aid of the previous function the images for *FE* and *test* is loaded. This is the *test split* of 90%."
      ]
    },
    {
      "cell_type": "code",
      "metadata": {
        "colab": {
          "base_uri": "https://localhost:8080/"
        },
        "id": "InYPoQnLvJbq",
        "outputId": "5f81c650-5d37-49b1-a618-5728b55d0a35"
      },
      "source": [
        "position = \"FE_test\"\n",
        "image_types=[ImageType.SPECTROGRAM]\n",
        "image_shape = (96, 96)\n",
        "shuffle_chunks_across_time=True\n",
        "\n",
        "images_by_labels_for_cnn_test = load_images_by_labels_by_params(\n",
        "    position=position,    \n",
        "    image_types=image_types, \n",
        "    image_shape=image_shape,\n",
        "    chunks_are_shuffled_across_time=shuffle_chunks_across_time)"
      ],
      "execution_count": 32,
      "outputs": [
        {
          "output_type": "stream",
          "text": [
            "Successfully loaded file ./npy_dataset/images_by_labels_for_cnn_Position_FE_test_typesSP_timeshuffled_shape96-96.npy\n"
          ],
          "name": "stdout"
        }
      ]
    },
    {
      "cell_type": "markdown",
      "metadata": {
        "id": "fLUJlwpfI5IO"
      },
      "source": [
        "### 4.4.2 Image separation\r\n",
        "Now, to transform the data to be suitable for the CNN input:\r\n",
        "- the images and their labels need to be separated into two arrays, correlated by their indices\r\n",
        "- the labels are to be one-hot encoded (i.e. label \"N\" becomes (0,0,0,0,0,0,0,0,0,1))\r\n"
      ]
    },
    {
      "cell_type": "code",
      "metadata": {
        "id": "qIVPJmQ8Voh-"
      },
      "source": [
        "#from Zipfile import zip\n",
        "#import zip\n",
        "from itertools import zip_longest\n",
        "\n",
        "def separate_images_from_labels(images_by_labels, interleave: bool):\n",
        "    all_labels = list(images_by_labels.keys())\n",
        "    \n",
        "    NB_CLASSES = len(all_labels)\n",
        "    all_labels_onehot = np.identity(NB_CLASSES).astype('uint8')\n",
        "    label_to_onehot_mapper = {all_labels[i]: all_labels_onehot[i] for i in np.arange(NB_CLASSES)}\n",
        "\n",
        "    all_images_for_cnn = []\n",
        "    all_labels_for_cnn_onehot = []\n",
        "\n",
        "    for key in all_labels:\n",
        "        images = images_by_labels[key]\n",
        "        labels_onehot = np.full(shape=(len(images), NB_CLASSES), fill_value=label_to_onehot_mapper[key])\n",
        "\n",
        "        all_images_for_cnn.append(images)\n",
        "        all_labels_for_cnn_onehot.append(labels_onehot)\n",
        "\n",
        "    if interleave:\n",
        "        all_images_for_cnn = lists_interleave(all_images_for_cnn)\n",
        "        all_labels_for_cnn_onehot = lists_interleave(all_labels_for_cnn_onehot)\n",
        "    else:  # flatten the lists\n",
        "        all_images_for_cnn = [image for sublist in all_images_for_cnn for image in sublist]\n",
        "        all_labels_for_cnn_onehot = [label for sublist in all_labels_for_cnn_onehot for label in sublist]\n",
        "\n",
        "    return np.array(all_images_for_cnn), np.array(all_labels_for_cnn_onehot)\n",
        "                               \n",
        "def lists_interleave(lists):\n",
        "    return [val for tup in zip(*lists) for val in tup]"
      ],
      "execution_count": 33,
      "outputs": []
    },
    {
      "cell_type": "markdown",
      "metadata": {
        "id": "o_gC-FzjcJrW"
      },
      "source": [
        "The last step before training is to separate the images into training set and testing set. Then to separate the images and their corresponding labels."
      ]
    },
    {
      "cell_type": "code",
      "metadata": {
        "colab": {
          "base_uri": "https://localhost:8080/",
          "height": 54
        },
        "id": "1Qh2oP54VoiC",
        "outputId": "5967b8cb-2b45-4939-96eb-c94b2eca7e24"
      },
      "source": [
        "images_train_2, labels_train_2_onehot = separate_images_from_labels(images_by_labels_for_cnn_train_2, interleave=False)\n",
        "images_test, labels_test_onehot = separate_images_from_labels(images_by_labels_for_cnn_test, interleave=False)\n",
        "\n",
        "display(type(images_by_labels_for_cnn_train_2))\n",
        "display(images_train_2.shape)"
      ],
      "execution_count": 34,
      "outputs": [
        {
          "output_type": "display_data",
          "data": {
            "text/plain": [
              "dict"
            ]
          },
          "metadata": {
            "tags": []
          }
        },
        {
          "output_type": "display_data",
          "data": {
            "text/plain": [
              "(591, 96, 96, 1)"
            ]
          },
          "metadata": {
            "tags": []
          }
        }
      ]
    },
    {
      "cell_type": "markdown",
      "metadata": {
        "id": "gRLHIUtdemuI"
      },
      "source": [
        "### 4.4.3 Image and label shuffling\r\n",
        "Additionally, for a good distribution of data types accross the training and test data, the data is interleaved. All of the 10 types of data and random shuffle while keeping the labels for values intact.\r\n",
        "\r\n",
        "A single array is taken, containing all the images, where sequential images are always of a different data type (N, IR1, IR2, IR3, B1, B2, B3, OR1, OR2, OR3) in the form [..., \"N\", \"IR1\", \"IR2\", \"IR3\", \"B1\", \"B2\", \"B3\", \"OR1\", \"OR2\", \"OR3\", \"N\", \"IR1\", \"IR2\", \"IR3\", ...]."
      ]
    },
    {
      "cell_type": "code",
      "metadata": {
        "id": "NRlPmgmKuwKz"
      },
      "source": [
        "random_idx = np.random.permutation(np.arange(0,images_train_2.shape[0]))\n",
        "random_idx_test = np.random.permutation(np.arange(0,images_test.shape[0]))"
      ],
      "execution_count": 35,
      "outputs": []
    },
    {
      "cell_type": "code",
      "metadata": {
        "id": "JfEscme6vHmJ"
      },
      "source": [
        "images_train_2 = images_train_2[random_idx]\n",
        "labels_train_2_onehot = labels_train_2_onehot[random_idx]\n",
        "images_test = images_test[random_idx_test]\n",
        "labels_test_onehot = labels_test_onehot[random_idx_test]"
      ],
      "execution_count": 36,
      "outputs": []
    },
    {
      "cell_type": "markdown",
      "metadata": {
        "id": "7Gzbd_vdeNow"
      },
      "source": [
        "## 4.5 **Convolutional Neural Network**\n",
        "The CNN architecture used in this notebook is from the paper [Deep Learning Enabled Fault Diagnosis Using Time-Frequency Image Analysis of Rolling Element Bearings](https://www.hindawi.com/journals/sv/2017/5067651/). It is a proposed architecture. \n",
        "This architecture is used due to the resolution of the image and it yields very good results in terms of precision."
      ]
    },
    {
      "cell_type": "markdown",
      "metadata": {
        "id": "86pWLCIdeTPm"
      },
      "source": [
        "### 4.5.1 CNN model with Keras\n",
        "It is a supervised classification problem, with 10 classes. A Convolutional Neural Network (CNN) is implemented as a Sequential Keras model. This Keras model uses TensorFlow as backend for the tensor arithmetics. \n",
        "\n",
        "The images that were previously generated, form a tuple `(number of images, x dpi, y dpi, number of channels)`. The *loss function* is **categorical cross-entropy**, the *optimizer* is **ADAM** and **Leaky RELU** *activation function* is used after each Convolution layer. The *learning rate* has been tested to different values and in the end learning rate decay was followed for that matter."
      ]
    },
    {
      "cell_type": "code",
      "metadata": {
        "id": "KvmO0K0LVoiF"
      },
      "source": [
        "from keras import optimizers\n",
        "\n",
        "## input data parameters\n",
        "IMAGES_SHAPE = (96, 96, 1)\n",
        "PADDING = 'same'\n",
        "KERNEL_SIZE = (3, 3)\n",
        "KERNEL_INITIALIZER = 'glorot_normal'\n",
        "# parameters for deep layers\n",
        "NUMBER_OF_CLASSES = 10  # N, B 0.007inch, B 0.014inch, B 0.021inch, IR 0.007inch, IR 0.014inch, IR 0.021inch, OR 0.007inch, OR 0.014inch and OR 0.021inch  \n",
        "DROPOUT = 0.4\n",
        "LEAK_ALPHA = 0.1\n",
        "MAX_POOLING_POOL_SIZE = (2, 2)\n",
        "ACTIVATION_LAYER_FUNCTION = 'softmax'\n",
        "# loss and optimizer\n",
        "LOSS_FUNCTION = 'categorical_crossentropy'\n",
        "LEARNING_RATE = 1e-4 #default 0.001\n",
        "OPTIMIZER = optimizers.Adam(LEARNING_RATE, epsilon=10e-6)"
      ],
      "execution_count": 37,
      "outputs": []
    },
    {
      "cell_type": "code",
      "metadata": {
        "colab": {
          "base_uri": "https://localhost:8080/"
        },
        "id": "U_H1rqAxVoiH",
        "outputId": "92131796-6195-414d-aa25-211f449a3076"
      },
      "source": [
        "import keras\n",
        "from keras.models import Sequential\n",
        "from keras.layers.core import Dense, Dropout, Activation, Flatten\n",
        "from keras.layers.convolutional import Conv2D, MaxPooling2D\n",
        "from keras.layers import LeakyReLU\n",
        "from keras import metrics\n",
        "\n",
        "\n",
        "# CNN architecture from Guo et al.\n",
        "model = Sequential()\n",
        "model.add(Conv2D(32, KERNEL_SIZE,                  \n",
        "                 input_shape=IMAGES_SHAPE,\n",
        "                 data_format='channels_last',\n",
        "                 kernel_initializer=KERNEL_INITIALIZER,                 \n",
        "                 padding=PADDING))\n",
        "model.add(LeakyReLU(LEAK_ALPHA))\n",
        "model.add(Conv2D(32, KERNEL_SIZE, \n",
        "                 kernel_initializer=KERNEL_INITIALIZER,\n",
        "                 padding=PADDING))\n",
        "model.add(LeakyReLU(LEAK_ALPHA))\n",
        "model.add(MaxPooling2D(pool_size=MAX_POOLING_POOL_SIZE))\n",
        "model.add(Conv2D(64, KERNEL_SIZE, \n",
        "                 kernel_initializer=KERNEL_INITIALIZER,\n",
        "                 padding=PADDING))\n",
        "model.add(LeakyReLU(LEAK_ALPHA))\n",
        "model.add(Conv2D(64, KERNEL_SIZE, \n",
        "                 kernel_initializer=KERNEL_INITIALIZER,\n",
        "                 padding=PADDING))\n",
        "model.add(LeakyReLU(LEAK_ALPHA))\n",
        "model.add(MaxPooling2D(pool_size=MAX_POOLING_POOL_SIZE))\n",
        "model.add(Conv2D(128, KERNEL_SIZE, \n",
        "                 kernel_initializer=KERNEL_INITIALIZER,\n",
        "                 padding=PADDING))\n",
        "model.add(LeakyReLU(LEAK_ALPHA))\n",
        "model.add(Conv2D(128, KERNEL_SIZE, \n",
        "                 kernel_initializer=KERNEL_INITIALIZER,\n",
        "                 padding=PADDING))\n",
        "model.add(LeakyReLU(LEAK_ALPHA))\n",
        "model.add(MaxPooling2D(pool_size=MAX_POOLING_POOL_SIZE))\n",
        "model.add(Flatten())\n",
        "model.add(Dense(100))\n",
        "model.add(LeakyReLU(LEAK_ALPHA))\n",
        "model.add(Dropout(DROPOUT))\n",
        "model.add(Dense(100))\n",
        "model.add(LeakyReLU(LEAK_ALPHA))\n",
        "model.add(Dropout(DROPOUT))\n",
        "model.add(Dense(NUMBER_OF_CLASSES))\n",
        "model.add(Activation(ACTIVATION_LAYER_FUNCTION))\n",
        "  \n",
        "model.compile(loss=LOSS_FUNCTION, \n",
        "              optimizer=OPTIMIZER,\n",
        "              metrics=[metrics.categorical_accuracy])  \n",
        "model.summary()"
      ],
      "execution_count": 40,
      "outputs": [
        {
          "output_type": "stream",
          "text": [
            "Model: \"sequential_2\"\n",
            "_________________________________________________________________\n",
            "Layer (type)                 Output Shape              Param #   \n",
            "=================================================================\n",
            "conv2d_9 (Conv2D)            (None, 96, 96, 32)        320       \n",
            "_________________________________________________________________\n",
            "leaky_re_lu_13 (LeakyReLU)   (None, 96, 96, 32)        0         \n",
            "_________________________________________________________________\n",
            "conv2d_10 (Conv2D)           (None, 96, 96, 32)        9248      \n",
            "_________________________________________________________________\n",
            "leaky_re_lu_14 (LeakyReLU)   (None, 96, 96, 32)        0         \n",
            "_________________________________________________________________\n",
            "max_pooling2d_6 (MaxPooling2 (None, 48, 48, 32)        0         \n",
            "_________________________________________________________________\n",
            "conv2d_11 (Conv2D)           (None, 48, 48, 64)        18496     \n",
            "_________________________________________________________________\n",
            "leaky_re_lu_15 (LeakyReLU)   (None, 48, 48, 64)        0         \n",
            "_________________________________________________________________\n",
            "conv2d_12 (Conv2D)           (None, 48, 48, 64)        36928     \n",
            "_________________________________________________________________\n",
            "leaky_re_lu_16 (LeakyReLU)   (None, 48, 48, 64)        0         \n",
            "_________________________________________________________________\n",
            "max_pooling2d_7 (MaxPooling2 (None, 24, 24, 64)        0         \n",
            "_________________________________________________________________\n",
            "conv2d_13 (Conv2D)           (None, 24, 24, 128)       73856     \n",
            "_________________________________________________________________\n",
            "leaky_re_lu_17 (LeakyReLU)   (None, 24, 24, 128)       0         \n",
            "_________________________________________________________________\n",
            "conv2d_14 (Conv2D)           (None, 24, 24, 128)       147584    \n",
            "_________________________________________________________________\n",
            "leaky_re_lu_18 (LeakyReLU)   (None, 24, 24, 128)       0         \n",
            "_________________________________________________________________\n",
            "max_pooling2d_8 (MaxPooling2 (None, 12, 12, 128)       0         \n",
            "_________________________________________________________________\n",
            "flatten_2 (Flatten)          (None, 18432)             0         \n",
            "_________________________________________________________________\n",
            "dense_6 (Dense)              (None, 100)               1843300   \n",
            "_________________________________________________________________\n",
            "leaky_re_lu_19 (LeakyReLU)   (None, 100)               0         \n",
            "_________________________________________________________________\n",
            "dropout_4 (Dropout)          (None, 100)               0         \n",
            "_________________________________________________________________\n",
            "dense_7 (Dense)              (None, 100)               10100     \n",
            "_________________________________________________________________\n",
            "leaky_re_lu_20 (LeakyReLU)   (None, 100)               0         \n",
            "_________________________________________________________________\n",
            "dropout_5 (Dropout)          (None, 100)               0         \n",
            "_________________________________________________________________\n",
            "dense_8 (Dense)              (None, 10)                1010      \n",
            "_________________________________________________________________\n",
            "activation_2 (Activation)    (None, 10)                0         \n",
            "=================================================================\n",
            "Total params: 2,140,842\n",
            "Trainable params: 2,140,842\n",
            "Non-trainable params: 0\n",
            "_________________________________________________________________\n"
          ],
          "name": "stdout"
        }
      ]
    },
    {
      "cell_type": "code",
      "metadata": {
        "id": "oDKApTfdMyqV",
        "colab": {
          "base_uri": "https://localhost:8080/",
          "height": 1000
        },
        "outputId": "39444dcb-c901-481e-c70d-83ed762218e1"
      },
      "source": [
        "keras.utils.plot_model(model, \"my_first_model.png\")"
      ],
      "execution_count": 41,
      "outputs": [
        {
          "output_type": "execute_result",
          "data": {
            "image/png": "[encoded data removed]",
            "text/plain": [
              "<IPython.core.display.Image object>"
            ]
          },
          "metadata": {
            "tags": []
          },
          "execution_count": 41
        }
      ]
    },
    {
      "cell_type": "markdown",
      "metadata": {
        "id": "NRhizaxtee4L"
      },
      "source": [
        "### 4.5.2 Training the CNN\n",
        "\n",
        "The train for CNN is with a validation split of 10% - 90% train and test respectively of the *image batch size* and over 50 epochs. The CNN will be then tested on the hold-out data. "
      ]
    },
    {
      "cell_type": "markdown",
      "metadata": {
        "id": "Kw0hkMi2jmvm"
      },
      "source": [
        "The Train Data and the Validation is part of the same 12k FE data.\r\n",
        "\r\n"
      ]
    },
    {
      "cell_type": "code",
      "metadata": {
        "id": "yy0TLnFSsmQh"
      },
      "source": [
        "import tensorflow as tf\n",
        "callback = tf.keras.callbacks.EarlyStopping(monitor='val_loss', min_delta=0, patience=10, verbose=0, mode='auto')\n",
        "# This callback will stop the training when there is no improvement in\n",
        "# the validation loss for 10 consecutive epochs."
      ],
      "execution_count": null,
      "outputs": []
    },
    {
      "cell_type": "code",
      "metadata": {
        "colab": {
          "base_uri": "https://localhost:8080/"
        },
        "id": "K6M_DlcfVoiJ",
        "outputId": "96cfe704-45f4-4e7d-bd25-f1ad11fed82e"
      },
      "source": [
        "BATCH_SIZE = 64\n",
        "NUMBER_OF_EPOCHS = 50\n",
        "\n",
        "history = model.fit(\n",
        "    images_train_2, labels_train_2_onehot,\n",
        "    batch_size=BATCH_SIZE,\n",
        "    epochs=NUMBER_OF_EPOCHS, \n",
        "    validation_data=(images_test, labels_test_onehot), \n",
        "    verbose=1)"
      ],
      "execution_count": 42,
      "outputs": [
        {
          "output_type": "stream",
          "text": [
            "Epoch 1/50\n",
            "10/10 [==============================] - 33s 193ms/step - loss: 6.5264 - categorical_accuracy: 0.1221 - val_loss: 2.1559 - val_categorical_accuracy: 0.2480\n",
            "Epoch 2/50\n",
            "10/10 [==============================] - 1s 113ms/step - loss: 2.3586 - categorical_accuracy: 0.1701 - val_loss: 2.0464 - val_categorical_accuracy: 0.2990\n",
            "Epoch 3/50\n",
            "10/10 [==============================] - 1s 112ms/step - loss: 2.1034 - categorical_accuracy: 0.2397 - val_loss: 1.8589 - val_categorical_accuracy: 0.4461\n",
            "Epoch 4/50\n",
            "10/10 [==============================] - 1s 112ms/step - loss: 1.7639 - categorical_accuracy: 0.4035 - val_loss: 1.7354 - val_categorical_accuracy: 0.4280\n",
            "Epoch 5/50\n",
            "10/10 [==============================] - 1s 113ms/step - loss: 1.4627 - categorical_accuracy: 0.5189 - val_loss: 1.6390 - val_categorical_accuracy: 0.4276\n",
            "Epoch 6/50\n",
            "10/10 [==============================] - 1s 112ms/step - loss: 1.3300 - categorical_accuracy: 0.5307 - val_loss: 1.5889 - val_categorical_accuracy: 0.4446\n",
            "Epoch 7/50\n",
            "10/10 [==============================] - 1s 113ms/step - loss: 1.1021 - categorical_accuracy: 0.6031 - val_loss: 1.5733 - val_categorical_accuracy: 0.4763\n",
            "Epoch 8/50\n",
            "10/10 [==============================] - 1s 111ms/step - loss: 1.0265 - categorical_accuracy: 0.6248 - val_loss: 1.5276 - val_categorical_accuracy: 0.4883\n",
            "Epoch 9/50\n",
            "10/10 [==============================] - 1s 112ms/step - loss: 0.7890 - categorical_accuracy: 0.7235 - val_loss: 1.6823 - val_categorical_accuracy: 0.5116\n",
            "Epoch 10/50\n",
            "10/10 [==============================] - 1s 112ms/step - loss: 0.7184 - categorical_accuracy: 0.7353 - val_loss: 1.7399 - val_categorical_accuracy: 0.4905\n",
            "Epoch 11/50\n",
            "10/10 [==============================] - 1s 112ms/step - loss: 0.7616 - categorical_accuracy: 0.7287 - val_loss: 1.7392 - val_categorical_accuracy: 0.5136\n",
            "Epoch 12/50\n",
            "10/10 [==============================] - 1s 112ms/step - loss: 0.6867 - categorical_accuracy: 0.7598 - val_loss: 1.9608 - val_categorical_accuracy: 0.5317\n",
            "Epoch 13/50\n",
            "10/10 [==============================] - 1s 120ms/step - loss: 0.6172 - categorical_accuracy: 0.7972 - val_loss: 1.8480 - val_categorical_accuracy: 0.5522\n",
            "Epoch 14/50\n",
            "10/10 [==============================] - 1s 115ms/step - loss: 0.5160 - categorical_accuracy: 0.8167 - val_loss: 1.9661 - val_categorical_accuracy: 0.5500\n",
            "Epoch 15/50\n",
            "10/10 [==============================] - 1s 112ms/step - loss: 0.4644 - categorical_accuracy: 0.8575 - val_loss: 2.0302 - val_categorical_accuracy: 0.5489\n",
            "Epoch 16/50\n",
            "10/10 [==============================] - 1s 113ms/step - loss: 0.4368 - categorical_accuracy: 0.8618 - val_loss: 2.0751 - val_categorical_accuracy: 0.5543\n",
            "Epoch 17/50\n",
            "10/10 [==============================] - 1s 112ms/step - loss: 0.4485 - categorical_accuracy: 0.8276 - val_loss: 1.8474 - val_categorical_accuracy: 0.5656\n",
            "Epoch 18/50\n",
            "10/10 [==============================] - 1s 113ms/step - loss: 0.3583 - categorical_accuracy: 0.8797 - val_loss: 2.0934 - val_categorical_accuracy: 0.5580\n",
            "Epoch 19/50\n",
            "10/10 [==============================] - 1s 112ms/step - loss: 0.3178 - categorical_accuracy: 0.8987 - val_loss: 2.1925 - val_categorical_accuracy: 0.5593\n",
            "Epoch 20/50\n",
            "10/10 [==============================] - 1s 112ms/step - loss: 0.3219 - categorical_accuracy: 0.8826 - val_loss: 2.2559 - val_categorical_accuracy: 0.5589\n",
            "Epoch 21/50\n",
            "10/10 [==============================] - 1s 114ms/step - loss: 0.3496 - categorical_accuracy: 0.8784 - val_loss: 2.3134 - val_categorical_accuracy: 0.5612\n",
            "Epoch 22/50\n",
            "10/10 [==============================] - 1s 120ms/step - loss: 0.2766 - categorical_accuracy: 0.9052 - val_loss: 2.3343 - val_categorical_accuracy: 0.5623\n",
            "Epoch 23/50\n",
            "10/10 [==============================] - 1s 121ms/step - loss: 0.3821 - categorical_accuracy: 0.8763 - val_loss: 2.3161 - val_categorical_accuracy: 0.5679\n",
            "Epoch 24/50\n",
            "10/10 [==============================] - 1s 121ms/step - loss: 0.2426 - categorical_accuracy: 0.9229 - val_loss: 2.1879 - val_categorical_accuracy: 0.5705\n",
            "Epoch 25/50\n",
            "10/10 [==============================] - 1s 120ms/step - loss: 0.2818 - categorical_accuracy: 0.9109 - val_loss: 2.0381 - val_categorical_accuracy: 0.5716\n",
            "Epoch 26/50\n",
            "10/10 [==============================] - 1s 122ms/step - loss: 0.2580 - categorical_accuracy: 0.9043 - val_loss: 2.6263 - val_categorical_accuracy: 0.5740\n",
            "Epoch 27/50\n",
            "10/10 [==============================] - 1s 121ms/step - loss: 0.2437 - categorical_accuracy: 0.9107 - val_loss: 2.3866 - val_categorical_accuracy: 0.5778\n",
            "Epoch 28/50\n",
            "10/10 [==============================] - 1s 120ms/step - loss: 0.2160 - categorical_accuracy: 0.9218 - val_loss: 2.7005 - val_categorical_accuracy: 0.5727\n",
            "Epoch 29/50\n",
            "10/10 [==============================] - 1s 122ms/step - loss: 0.2389 - categorical_accuracy: 0.9106 - val_loss: 2.7624 - val_categorical_accuracy: 0.5725\n",
            "Epoch 30/50\n",
            "10/10 [==============================] - 1s 122ms/step - loss: 0.2907 - categorical_accuracy: 0.8923 - val_loss: 2.4802 - val_categorical_accuracy: 0.5666\n",
            "Epoch 31/50\n",
            "10/10 [==============================] - 1s 120ms/step - loss: 0.2301 - categorical_accuracy: 0.9199 - val_loss: 2.6605 - val_categorical_accuracy: 0.5822\n",
            "Epoch 32/50\n",
            "10/10 [==============================] - 1s 122ms/step - loss: 0.2098 - categorical_accuracy: 0.9224 - val_loss: 2.5464 - val_categorical_accuracy: 0.5826\n",
            "Epoch 33/50\n",
            "10/10 [==============================] - 1s 122ms/step - loss: 0.1852 - categorical_accuracy: 0.9472 - val_loss: 2.6166 - val_categorical_accuracy: 0.5746\n",
            "Epoch 34/50\n",
            "10/10 [==============================] - 1s 121ms/step - loss: 0.1841 - categorical_accuracy: 0.9528 - val_loss: 2.5031 - val_categorical_accuracy: 0.5806\n",
            "Epoch 35/50\n",
            "10/10 [==============================] - 1s 120ms/step - loss: 0.1957 - categorical_accuracy: 0.9383 - val_loss: 2.9047 - val_categorical_accuracy: 0.5755\n",
            "Epoch 36/50\n",
            "10/10 [==============================] - 1s 122ms/step - loss: 0.1772 - categorical_accuracy: 0.9229 - val_loss: 3.0053 - val_categorical_accuracy: 0.5834\n",
            "Epoch 37/50\n",
            "10/10 [==============================] - 1s 122ms/step - loss: 0.1287 - categorical_accuracy: 0.9554 - val_loss: 2.9568 - val_categorical_accuracy: 0.5783\n",
            "Epoch 38/50\n",
            "10/10 [==============================] - 1s 123ms/step - loss: 0.1129 - categorical_accuracy: 0.9567 - val_loss: 2.9643 - val_categorical_accuracy: 0.5789\n",
            "Epoch 39/50\n",
            "10/10 [==============================] - 1s 120ms/step - loss: 0.1314 - categorical_accuracy: 0.9553 - val_loss: 2.8948 - val_categorical_accuracy: 0.5869\n",
            "Epoch 40/50\n",
            "10/10 [==============================] - 1s 121ms/step - loss: 0.1124 - categorical_accuracy: 0.9650 - val_loss: 3.2370 - val_categorical_accuracy: 0.5847\n",
            "Epoch 41/50\n",
            "10/10 [==============================] - 1s 120ms/step - loss: 0.1372 - categorical_accuracy: 0.9558 - val_loss: 3.1549 - val_categorical_accuracy: 0.5919\n",
            "Epoch 42/50\n",
            "10/10 [==============================] - 1s 122ms/step - loss: 0.1649 - categorical_accuracy: 0.9448 - val_loss: 2.9528 - val_categorical_accuracy: 0.5843\n",
            "Epoch 43/50\n",
            "10/10 [==============================] - 1s 121ms/step - loss: 0.1481 - categorical_accuracy: 0.9572 - val_loss: 2.6703 - val_categorical_accuracy: 0.5850\n",
            "Epoch 44/50\n",
            "10/10 [==============================] - 1s 120ms/step - loss: 0.1448 - categorical_accuracy: 0.9455 - val_loss: 3.0136 - val_categorical_accuracy: 0.5884\n",
            "Epoch 45/50\n",
            "10/10 [==============================] - 1s 121ms/step - loss: 0.0984 - categorical_accuracy: 0.9697 - val_loss: 3.3214 - val_categorical_accuracy: 0.5888\n",
            "Epoch 46/50\n",
            "10/10 [==============================] - 1s 121ms/step - loss: 0.1195 - categorical_accuracy: 0.9549 - val_loss: 3.1373 - val_categorical_accuracy: 0.5839\n",
            "Epoch 47/50\n",
            "10/10 [==============================] - 1s 122ms/step - loss: 0.1122 - categorical_accuracy: 0.9667 - val_loss: 3.4669 - val_categorical_accuracy: 0.5863\n",
            "Epoch 48/50\n",
            "10/10 [==============================] - 1s 122ms/step - loss: 0.0738 - categorical_accuracy: 0.9768 - val_loss: 3.5145 - val_categorical_accuracy: 0.5877\n",
            "Epoch 49/50\n",
            "10/10 [==============================] - 1s 122ms/step - loss: 0.1061 - categorical_accuracy: 0.9575 - val_loss: 3.3506 - val_categorical_accuracy: 0.5944\n",
            "Epoch 50/50\n",
            "10/10 [==============================] - 1s 120ms/step - loss: 0.0805 - categorical_accuracy: 0.9755 - val_loss: 3.5112 - val_categorical_accuracy: 0.5893\n"
          ],
          "name": "stdout"
        }
      ]
    },
    {
      "cell_type": "markdown",
      "metadata": {
        "id": "2bidsyXwj1aT"
      },
      "source": [
        "# 5.Test the CNN\n",
        "Once the model has been fitted, the precision is calculated through a classical one vs many confusion matrix."
      ]
    },
    {
      "cell_type": "code",
      "metadata": {
        "id": "gnuXHtRyVoiM"
      },
      "source": [
        "#labels_predicted = history.model.predict_classes(images_test, verbose=1)\n",
        "labels_predicted = np.argmax(history.model.predict(images_test), axis=-1)"
      ],
      "execution_count": 43,
      "outputs": []
    },
    {
      "cell_type": "code",
      "metadata": {
        "colab": {
          "base_uri": "https://localhost:8080/"
        },
        "id": "F-Q6-b32VoiO",
        "outputId": "51e4a42f-cf54-4939-e921-3f7eb3e48cf0"
      },
      "source": [
        "# for the confusion matrix we need a factorized labels \n",
        "# [1,0,0,0,0,0,0,0,0,0] -> 0 (\"N\")\n",
        "# [0,1,0,0,0,0,0,0,0,0] -> 1 (\"B 0.007inch\") \n",
        "# [0,0,1,0,0,0,0,0,0,0] -> 2 (\"B 0.014inch\")\n",
        "# [0,0,0,1,0,0,0,0,0,0] -> 3 (\"B 0.021inch\") \n",
        "# [0,0,0,0,1,0,0,0,0,0] -> 4 (\"IR 0.007inch\")\n",
        "# [0,0,0,0,0,1,0,0,0,0] -> 5 (\"IR 0.014inch\")\n",
        "# [0,0,0,0,0,0,1,0,0,0] -> 6 (\"IR 0.021inch\") \n",
        "# [0,0,0,0,0,0,0,1,0,0] -> 7 (\"OR 0.007inch\") \n",
        "# [0,0,0,0,0,0,0,0,1,0] -> 8 (\"OR 0.014inch\") \n",
        "# [0,0,0,0,0,0,0,0,0,1] -> 9 (\"OR 0.021inch\") \n",
        "\n",
        "labels_test_factorized = [(1*label[0]+2*label[1]+3*label[2]+4*label[3]+5*label[4]+6*label[5]+7*label[6]+8*label[7]+9*label[8]+10*label[9])-1 for label in labels_test_onehot]\n",
        "\n",
        "from sklearn.metrics import classification_report\n",
        "print(classification_report(labels_test_factorized, labels_predicted))"
      ],
      "execution_count": 44,
      "outputs": [
        {
          "output_type": "stream",
          "text": [
            "              precision    recall  f1-score   support\n",
            "\n",
            "           0       0.96      1.00      0.98      1273\n",
            "           1       0.51      0.60      0.55       363\n",
            "           2       0.77      0.67      0.71       365\n",
            "           3       0.51      0.87      0.64       363\n",
            "           4       0.47      0.51      0.49       364\n",
            "           5       0.61      0.93      0.74       363\n",
            "           6       0.22      0.69      0.33       363\n",
            "           7       0.48      0.17      0.25      1092\n",
            "           8       0.62      0.19      0.29       454\n",
            "           9       1.00      0.19      0.32       362\n",
            "\n",
            "    accuracy                           0.59      5362\n",
            "   macro avg       0.62      0.58      0.53      5362\n",
            "weighted avg       0.66      0.59      0.56      5362\n",
            "\n"
          ],
          "name": "stdout"
        }
      ]
    },
    {
      "cell_type": "markdown",
      "metadata": {
        "id": "VzNvQ5tmS8ti"
      },
      "source": [
        "#6. Train-Test loss and accuracy\n",
        "Validation here is part of the test data."
      ]
    },
    {
      "cell_type": "code",
      "metadata": {
        "colab": {
          "base_uri": "https://localhost:8080/",
          "height": 591
        },
        "id": "x-I3WRmv0Eg0",
        "outputId": "0de4d677-5756-4ac4-a484-2d62894c44c2"
      },
      "source": [
        "import matplotlib.pyplot as plt\n",
        "\n",
        "# list all data in history\n",
        "print(history.history.keys())\n",
        "\n",
        "# summarize history for accuracy\n",
        "plt.plot(history.history['categorical_accuracy'])\n",
        "plt.plot(history.history['val_categorical_accuracy'])\n",
        "plt.title('model accuracy')\n",
        "plt.ylabel('accuracy')\n",
        "plt.xlabel('epoch')\n",
        "plt.legend(['train', 'test'], loc='upper left')\n",
        "plt.show()\n",
        "\n",
        "# summarize history for loss\n",
        "plt.plot(history.history['loss'])\n",
        "plt.plot(history.history['val_loss'])\n",
        "plt.title('model loss')\n",
        "plt.ylabel('loss')\n",
        "plt.xlabel('epoch')\n",
        "plt.legend(['train', 'test'], loc='upper left')\n",
        "plt.show()"
      ],
      "execution_count": 45,
      "outputs": [
        {
          "output_type": "stream",
          "text": [
            "dict_keys(['loss', 'categorical_accuracy', 'val_loss', 'val_categorical_accuracy'])\n"
          ],
          "name": "stdout"
        },
        {
          "output_type": "display_data",
          "data": {
            "image/png": "[encoded data removed]",
            "text/plain": [
              "<Figure size 432x288 with 1 Axes>"
            ]
          },
          "metadata": {
            "tags": [],
            "needs_background": "light"
          }
        },
        {
          "output_type": "display_data",
          "data": {
            "image/png": "[encoded data removed]",
            "text/plain": [
              "<Figure size 432x288 with 1 Axes>"
            ]
          },
          "metadata": {
            "tags": [],
            "needs_background": "light"
          }
        }
      ]
    },
    {
      "cell_type": "markdown",
      "metadata": {
        "id": "Io0jDFXIj7j_"
      },
      "source": [
        "# 7.ROC analysis\n",
        "The ROC curves for each class give a complete picture of the classification performance of the CNN. The function below performs this task."
      ]
    },
    {
      "cell_type": "code",
      "metadata": {
        "id": "2XuIJM8EVoiR"
      },
      "source": [
        "def ROC(model, X_test, y_test, n_class):\n",
        "    import seaborn as sns\n",
        "    from sklearn.metrics import roc_curve, roc_auc_score, auc\n",
        "    from sklearn.metrics import confusion_matrix, classification_report\n",
        "    from sklearn.metrics import accuracy_score, balanced_accuracy_score\n",
        "    from sklearn.preprocessing import label_binarize\n",
        "    from itertools import cycle, zip_longest\n",
        "    import matplotlib.pyplot as plt\n",
        "    import pandas as pd\n",
        "    \n",
        "    sns.set_style(\"dark\",{\"axes.facecolor\": \".97\"})\n",
        "    # Predict the labels of the test set: y_pred\n",
        "    #y_pred = model.predict_classes(X_test)\n",
        "    y_pred = np.argmax(model.predict(X_test), axis=-1)\n",
        "\n",
        "    # Compute predicted probabilities: y_pred_prob\n",
        "    #y_pred_prob = model.predict_proba(X_test)\n",
        "    y_pred_prob = model.predict(X_test)\n",
        "    y_test_binary = label_binarize(y_test, classes=range(0, n_class))\n",
        "\n",
        "    #0  \n",
        "    y_test_normal = y_test_binary[:, 0]\n",
        "    y_prob_normal = y_pred_prob[:, 0]\n",
        "\n",
        "    #1,2,3\n",
        "    y_test_ball_007 = y_test_binary[:, 1]\n",
        "    y_prob_ball_007 = y_pred_prob[:, 1]\n",
        "    y_test_ball_014 = y_test_binary[:, 2]\n",
        "    y_prob_ball_014 = y_pred_prob[:, 2]\n",
        "    y_test_ball_021 = y_test_binary[:, 3]\n",
        "    y_prob_ball_021 = y_pred_prob[:, 3]\n",
        "\n",
        "    #4,5,6\n",
        "    y_test_inner_race_007 = y_test_binary[:, 4]\n",
        "    y_prob_inner_race_007 = y_pred_prob[:, 4]\n",
        "    y_test_inner_race_014 = y_test_binary[:, 5]\n",
        "    y_prob_inner_race_014 = y_pred_prob[:, 5]\n",
        "    y_test_inner_race_021 = y_test_binary[:, 6]\n",
        "    y_prob_inner_race_021 = y_pred_prob[:, 6]\n",
        "\n",
        "    #7,8,9\n",
        "    y_test_outer_race_007 = y_test_binary[:, 7]\n",
        "    y_prob_outer_race_007 = y_pred_prob[:, 7]\n",
        "    y_test_outer_race_014 = y_test_binary[:, 8]\n",
        "    y_prob_outer_race_014 = y_pred_prob[:, 8]\n",
        "    y_test_outer_race_021 = y_test_binary[:, 9]\n",
        "    y_prob_outer_race_021 = y_pred_prob[:, 9]\n",
        "    \n",
        "    lw = 1.5\n",
        "    \n",
        "    # Compute and print the confusion matrix and classification report\n",
        "    matrix_c = confusion_matrix(y_test, y_pred)\n",
        "    category_labels = ['N','B 0.007 inch','B 0.014 inch','B 0.021 inch','IR 0.007 inch','IR 0.014 inch','IR 0.021 inch','OR 0.007 inch','OR 0.014 inch','OR 0.021 inch']\n",
        "\n",
        "    matrix = pd.DataFrame(matrix_c)\n",
        "    plt.figure()\n",
        "    sns.heatmap(matrix, annot= True, fmt = \"d\",\n",
        "           xticklabels = category_labels,\n",
        "           yticklabels = category_labels, cmap = \"Blues\", cbar = False)\n",
        "    plt.xticks(rotation = 90)\n",
        "    plt.show()\n",
        "\n",
        "    \n",
        "    # Compute accuracy score\n",
        "    print(\"accuracy score: \", accuracy_score(y_test, y_pred))\n",
        "    print(\"Number of correctly classified samples: \", accuracy_score(y_test, y_pred, normalize=False))\n",
        "    print(\"balanced accuracy score: \", balanced_accuracy_score(y_test, y_pred))\n",
        "\n",
        "\n",
        "    # Compute ROC curve and ROC area for each class\n",
        "    fpr = dict()\n",
        "    tpr = dict()\n",
        "    thresholds = dict()\n",
        "    roc_auc = dict()\n",
        "\n",
        "    fpr[0], tpr[0], thresholds[0] = roc_curve(y_test_normal, y_prob_normal)\n",
        "    fpr[1], tpr[1], thresholds[1] = roc_curve(y_test_ball_007, y_prob_ball_007)\n",
        "    fpr[2], tpr[2], thresholds[2] = roc_curve(y_test_ball_014, y_prob_ball_014)\n",
        "    fpr[3], tpr[3], thresholds[3] = roc_curve(y_test_ball_021, y_prob_ball_021)\n",
        "    fpr[4], tpr[4], thresholds[4] = roc_curve(y_test_inner_race_007, y_prob_inner_race_007)\n",
        "    fpr[5], tpr[5], thresholds[5] = roc_curve(y_test_inner_race_014, y_prob_inner_race_014)\n",
        "    fpr[6], tpr[6], thresholds[6] = roc_curve(y_test_inner_race_021, y_prob_inner_race_021)\n",
        "    fpr[7], tpr[7], thresholds[7] = roc_curve(y_test_outer_race_007, y_prob_outer_race_007)\n",
        "    fpr[8], tpr[8], thresholds[8] = roc_curve(y_test_outer_race_014, y_prob_outer_race_014)\n",
        "    fpr[9], tpr[9], thresholds[9] = roc_curve(y_test_outer_race_021, y_prob_outer_race_021)\n",
        "\n",
        "    for i in range(n_class):\n",
        "        roc_auc[i] = auc(fpr[i], tpr[i])\n",
        "        #display(roc_auc[i])\n",
        "\n",
        "    # Plot all ROC curves\n",
        "    plt.figure(figsize=(4, 4), dpi=150)\n",
        "\n",
        "    colors = ['black','blue','blue','blue','red','red','red','green','green','green']\n",
        "    #for i, color in zip(range(n_class), colors):\n",
        "    for item in list(enumerate(colors)):\n",
        "      plt.plot(fpr[item[0]], tpr[item[0]], color=item[1], lw=lw,\n",
        "                 label='ROC curve of class {0} (area = {1:0.2f})'\n",
        "                       ''.format(category_labels[item[0]], roc_auc[item[0]]))\n",
        "\n",
        "        #plot_label=['N','B 0.007inch','B 0.014inch','B 0.021inch','IR 0.007inch','IR 0.014inch','IR 0.021inch','OR 0.007inch','OR 0.014inch','OR 0.021inch']\n",
        "  \n",
        "    plt.plot([0, 1], [0, 1], 'k--', lw=.7)\n",
        "    plt.xlim([0.0, 1.0])\n",
        "    plt.ylim([0.0, 1.05])\n",
        "    plt.xlabel('False Positive Rate')\n",
        "    plt.ylabel('True Positive Rate')\n",
        "    plt.legend(loc=\"lower right\", prop={'size': 8})\n",
        "    plt.show()"
      ],
      "execution_count": 46,
      "outputs": []
    },
    {
      "cell_type": "markdown",
      "metadata": {
        "id": "zOIZ5wk2L3cl"
      },
      "source": [
        "### 7.1 ROC curve, Confusion matrix and accuracies"
      ]
    },
    {
      "cell_type": "code",
      "metadata": {
        "colab": {
          "base_uri": "https://localhost:8080/",
          "height": 926
        },
        "id": "7eZKquzXVoiT",
        "outputId": "6d355c6c-4f28-4ed3-9924-5561bd17ce1a"
      },
      "source": [
        "ROC(history.model, images_test, labels_test_factorized, 10)"
      ],
      "execution_count": 47,
      "outputs": [
        {
          "output_type": "display_data",
          "data": {
            "image/png": "[encoded data removed]",
            "text/plain": [
              "<Figure size 432x288 with 1 Axes>"
            ]
          },
          "metadata": {
            "tags": []
          }
        },
        {
          "output_type": "stream",
          "text": [
            "accuracy score:  0.5893323386795971\n",
            "Number of correctly classified samples:  3160\n",
            "balanced accuracy score:  0.5814380282537284\n"
          ],
          "name": "stdout"
        },
        {
          "output_type": "display_data",
          "data": {
            "image/png": "[encoded data removed]",
            "text/plain": [
              "<Figure size 600x600 with 1 Axes>"
            ]
          },
          "metadata": {
            "tags": []
          }
        }
      ]
    }
  ]
}
